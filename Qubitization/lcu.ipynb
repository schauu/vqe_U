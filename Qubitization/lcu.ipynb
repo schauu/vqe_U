{
 "cells": [
  {
   "cell_type": "code",
   "id": "6fcb0514-9c2d-42b3-abb4-274a92d00504",
   "metadata": {
    "ExecuteTime": {
     "end_time": "2025-05-26T12:47:04.926528Z",
     "start_time": "2025-05-26T12:47:04.923163Z"
    }
   },
   "source": [
    "import pennylane as qml\n",
    "from pennylane import numpy as np\n",
    "import matplotlib.pyplot as plt\n",
    "import scipy"
   ],
   "outputs": [],
   "execution_count": 120
  },
  {
   "metadata": {
    "ExecuteTime": {
     "end_time": "2025-05-26T13:22:11.201461Z",
     "start_time": "2025-05-26T13:22:11.150260Z"
    }
   },
   "cell_type": "code",
   "source": [
    "import math\n",
    "import pennylane as qml\n",
    "from pennylane import numpy as np\n",
    "from scipy.linalg import expm\n",
    "\n",
    "# Step 1: Construct TFIM matrix H\n",
    "n = 4  # Data qubits (system qubits)\n",
    "coeffs, ops = [], []\n",
    "for i in range(n - 1):\n",
    "    coeffs.append(-1.0)\n",
    "    ops.append(qml.PauliZ(i) @ qml.PauliZ(i + 1))\n",
    "for i in range(n):\n",
    "    coeffs.append(-1.0)\n",
    "    ops.append(qml.PauliX(i))\n",
    "\n",
    "H_tfim = qml.Hamiltonian(coeffs, ops)\n",
    "H_mat = qml.matrix(H_tfim)\n",
    "\n",
    "# Step 2: LCU form of cos^{2m}(H)\n",
    "m = 4\n",
    "k_vals = np.arange(-m, m + 1)\n",
    "alpha_k = 2**(-2 * m) * np.array([math.comb(2 * m, m + k) for k in k_vals])\n",
    "U_k = [expm(2j * k * H_mat) for k in k_vals]\n",
    "U_k_ops = [qml.Hermitian(U.real, wires=range(n)) for U in U_k]  # use Hermitian(real) approximation\n",
    "cos2m_op = qml.dot(alpha_k, U_k_ops)\n",
    "\n",
    "# Step 3: Define Qubitization circuit\n",
    "n_control = int(np.ceil(np.log2(len(alpha_k))))\n",
    "control_wires = [n + i for i in range(n_control)]  # control wires for ancilla qubits\n",
    "aux_wire = n + n_control\n",
    "\n",
    "# Define a device with n + 1 qubits (4 data qubits + 1 ancilla qubit)\n",
    "dev = qml.device(\"default.qubit\", wires=n + n_control)\n",
    "\n",
    "@qml.qnode(dev)\n",
    "def circuit():\n",
    "    # Prepare nontrivial input eigenstate (Hadamard on all qubits)\n",
    "    for i in range(n):\n",
    "        qml.Hadamard(i)\n",
    "\n",
    "    # Apply Qubitization to create the state\n",
    "    qml.Qubitization(cos2m_op, control=control_wires)\n",
    "\n",
    "    # Return the final state vector\n",
    "    return qml.state()\n",
    "\n",
    "# Step 4: Run the circuit and get the state vector\n",
    "state_vector = circuit()[:2**n]\n",
    "state_vector/=np.linalg.norm(state_vector)\n",
    "# Verify the shape of the state vector (should be 16, 1)\n",
    "state_vector.shape\n"
   ],
   "id": "feb2fc42c5b9dc71",
   "outputs": [
    {
     "data": {
      "text/plain": [
       "(16,)"
      ]
     },
     "execution_count": 125,
     "metadata": {},
     "output_type": "execute_result"
    }
   ],
   "execution_count": 125
  },
  {
   "metadata": {
    "ExecuteTime": {
     "end_time": "2025-05-26T13:22:13.476685Z",
     "start_time": "2025-05-26T13:22:13.471409Z"
    }
   },
   "cell_type": "code",
   "source": [
    "##exact\n",
    "a = np.linalg.matrix_power(scipy.linalg.cosm(H_mat), 2*m)\n",
    "b = qml.matrix(cos2m_op)\n",
    "frobenius_norm = np.linalg.norm(a - b, 'fro')\n",
    "\n",
    "print(\"Frobenius norm:\", frobenius_norm)"
   ],
   "id": "ccbc8cc3d9cd447",
   "outputs": [
    {
     "name": "stdout",
     "output_type": "stream",
     "text": [
      "Frobenius norm: 8.973102418582736e-16\n"
     ]
    }
   ],
   "execution_count": 126
  },
  {
   "metadata": {
    "ExecuteTime": {
     "end_time": "2025-05-26T13:23:30.173190Z",
     "start_time": "2025-05-26T13:23:30.169098Z"
    }
   },
   "cell_type": "code",
   "source": "a[:, 1]",
   "id": "b506afe8913175e1",
   "outputs": [
    {
     "data": {
      "text/plain": [
       "tensor([-0.00704315+0.j,  0.15651934+0.j, -0.0714217 +0.j,\n",
       "         0.02527134+0.j, -0.11038127+0.j,  0.0194657 +0.j,\n",
       "         0.03188825+0.j,  0.13580585+0.j,  0.03306978+0.j,\n",
       "        -0.03188825+0.j, -0.00604302+0.j, -0.03246213+0.j,\n",
       "        -0.15469207+0.j, -0.0714217 +0.j,  0.01961893+0.j,\n",
       "        -0.0198022 +0.j], requires_grad=True)"
      ]
     },
     "execution_count": 133,
     "metadata": {},
     "output_type": "execute_result"
    }
   ],
   "execution_count": 133
  },
  {
   "metadata": {
    "ExecuteTime": {
     "end_time": "2025-05-26T13:23:39.594430Z",
     "start_time": "2025-05-26T13:23:39.590478Z"
    }
   },
   "cell_type": "code",
   "source": "b[:, 1]",
   "id": "96e5973f64148bab",
   "outputs": [
    {
     "data": {
      "text/plain": [
       "tensor([-0.00704315,  0.15651934, -0.0714217 ,  0.02527134, -0.11038127,\n",
       "         0.0194657 ,  0.03188825,  0.13580585,  0.03306978, -0.03188825,\n",
       "        -0.00604302, -0.03246213, -0.15469207, -0.0714217 ,  0.01961893,\n",
       "        -0.0198022 ], requires_grad=True)"
      ]
     },
     "execution_count": 134,
     "metadata": {},
     "output_type": "execute_result"
    }
   ],
   "execution_count": 134
  },
  {
   "metadata": {
    "ExecuteTime": {
     "end_time": "2025-05-26T13:23:03.846832Z",
     "start_time": "2025-05-26T13:23:03.843452Z"
    }
   },
   "cell_type": "code",
   "source": "a.shape",
   "id": "fa1eb7cc5358a480",
   "outputs": [
    {
     "data": {
      "text/plain": [
       "(16, 16)"
      ]
     },
     "execution_count": 131,
     "metadata": {},
     "output_type": "execute_result"
    }
   ],
   "execution_count": 131
  },
  {
   "metadata": {
    "ExecuteTime": {
     "end_time": "2025-05-26T13:23:16.014590Z",
     "start_time": "2025-05-26T13:23:16.011580Z"
    }
   },
   "cell_type": "code",
   "source": "b.shape",
   "id": "67f1fa23ed93fc38",
   "outputs": [
    {
     "data": {
      "text/plain": [
       "(16, 16)"
      ]
     },
     "execution_count": 132,
     "metadata": {},
     "output_type": "execute_result"
    }
   ],
   "execution_count": 132
  },
  {
   "metadata": {
    "ExecuteTime": {
     "end_time": "2025-05-26T12:35:33.867058Z",
     "start_time": "2025-05-26T12:35:33.817563Z"
    }
   },
   "cell_type": "code",
   "source": "qml.Hermitian(U_k[0].real, wires=range(n))",
   "id": "990d64213cbfcf57",
   "outputs": [
    {
     "data": {
      "text/plain": [
       "Hermitian(array([[ 0.31141271,  0.2551425 ,  0.05686843,  0.31024903,  0.05686843,\n",
       "         0.120524  , -0.07883951, -0.0140945 ,  0.2551425 ,  0.13016247,\n",
       "         0.120524  ,  0.06365557,  0.31024903,  0.06365557, -0.0140945 ,\n",
       "        -0.41256712],\n",
       "       [ 0.2551425 ,  0.27878278, -0.06920104, -0.0590473 ,  0.13980094,\n",
       "        -0.05686843,  0.14140564,  0.08648983,  0.01268053, -0.14140564,\n",
       "        -0.06365557, -0.27820301, -0.19987877, -0.06920104,  0.22846964,\n",
       "        -0.0140945 ],\n",
       "       [ 0.05686843, -0.06920104,  0.27878278,  0.14140564,  0.08648983,\n",
       "         0.0140945 ,  0.0590473 , -0.27820301,  0.13980094,  0.19987877,\n",
       "        -0.2551425 ,  0.01268053, -0.14140564,  0.22846964, -0.06920104,\n",
       "         0.06365557],\n",
       "       [ 0.31024903, -0.0590473 ,  0.14140564,  0.0453851 , -0.14140564,\n",
       "        -0.07883951, -0.25892607, -0.0590473 , -0.19987877, -0.25892607,\n",
       "         0.13016247,  0.14140564,  0.13026464, -0.14140564, -0.19987877,\n",
       "         0.31024903],\n",
       "       [ 0.05686843,  0.13980094,  0.08648983, -0.14140564,  0.27878278,\n",
       "        -0.2551425 ,  0.0590473 , -0.06920104, -0.06920104,  0.19987877,\n",
       "         0.0140945 ,  0.22846964,  0.14140564,  0.01268053, -0.27820301,\n",
       "         0.06365557],\n",
       "       [ 0.120524  , -0.05686843,  0.0140945 , -0.07883951, -0.2551425 ,\n",
       "         0.31141271,  0.31024903, -0.05686843, -0.06365557,  0.31024903,\n",
       "        -0.41256712,  0.0140945 ,  0.13016247, -0.2551425 , -0.06365557,\n",
       "         0.120524  ],\n",
       "       [-0.07883951,  0.14140564,  0.0590473 , -0.25892607,  0.0590473 ,\n",
       "         0.31024903,  0.0453851 , -0.14140564,  0.14140564,  0.13026464,\n",
       "         0.31024903,  0.19987877, -0.25892607,  0.19987877, -0.14140564,\n",
       "         0.13016247],\n",
       "       [-0.0140945 ,  0.08648983, -0.27820301, -0.0590473 , -0.06920104,\n",
       "        -0.05686843, -0.14140564,  0.27878278,  0.22846964,  0.14140564,\n",
       "        -0.06365557, -0.06920104, -0.19987877,  0.13980094,  0.01268053,\n",
       "         0.2551425 ],\n",
       "       [ 0.2551425 ,  0.01268053,  0.13980094, -0.19987877, -0.06920104,\n",
       "        -0.06365557,  0.14140564,  0.22846964,  0.27878278, -0.14140564,\n",
       "        -0.05686843, -0.06920104, -0.0590473 , -0.27820301,  0.08648983,\n",
       "        -0.0140945 ],\n",
       "       [ 0.13016247, -0.14140564,  0.19987877, -0.25892607,  0.19987877,\n",
       "         0.31024903,  0.13026464,  0.14140564, -0.14140564,  0.0453851 ,\n",
       "         0.31024903,  0.0590473 , -0.25892607,  0.0590473 ,  0.14140564,\n",
       "        -0.07883951],\n",
       "       [ 0.120524  , -0.06365557, -0.2551425 ,  0.13016247,  0.0140945 ,\n",
       "        -0.41256712,  0.31024903, -0.06365557, -0.05686843,  0.31024903,\n",
       "         0.31141271, -0.2551425 , -0.07883951,  0.0140945 , -0.05686843,\n",
       "         0.120524  ],\n",
       "       [ 0.06365557, -0.27820301,  0.01268053,  0.14140564,  0.22846964,\n",
       "         0.0140945 ,  0.19987877, -0.06920104, -0.06920104,  0.0590473 ,\n",
       "        -0.2551425 ,  0.27878278, -0.14140564,  0.08648983,  0.13980094,\n",
       "         0.05686843],\n",
       "       [ 0.31024903, -0.19987877, -0.14140564,  0.13026464,  0.14140564,\n",
       "         0.13016247, -0.25892607, -0.19987877, -0.0590473 , -0.25892607,\n",
       "        -0.07883951, -0.14140564,  0.0453851 ,  0.14140564, -0.0590473 ,\n",
       "         0.31024903],\n",
       "       [ 0.06365557, -0.06920104,  0.22846964, -0.14140564,  0.01268053,\n",
       "        -0.2551425 ,  0.19987877,  0.13980094, -0.27820301,  0.0590473 ,\n",
       "         0.0140945 ,  0.08648983,  0.14140564,  0.27878278, -0.06920104,\n",
       "         0.05686843],\n",
       "       [-0.0140945 ,  0.22846964, -0.06920104, -0.19987877, -0.27820301,\n",
       "        -0.06365557, -0.14140564,  0.01268053,  0.08648983,  0.14140564,\n",
       "        -0.05686843,  0.13980094, -0.0590473 , -0.06920104,  0.27878278,\n",
       "         0.2551425 ],\n",
       "       [-0.41256712, -0.0140945 ,  0.06365557,  0.31024903,  0.06365557,\n",
       "         0.120524  ,  0.13016247,  0.2551425 , -0.0140945 , -0.07883951,\n",
       "         0.120524  ,  0.05686843,  0.31024903,  0.05686843,  0.2551425 ,\n",
       "         0.31141271]]), wires=[0, 1, 2, 3])"
      ]
     },
     "execution_count": 117,
     "metadata": {},
     "output_type": "execute_result"
    }
   ],
   "execution_count": 117
  },
  {
   "metadata": {
    "ExecuteTime": {
     "end_time": "2025-05-26T12:36:24.764279Z",
     "start_time": "2025-05-26T12:36:24.760577Z"
    }
   },
   "cell_type": "code",
   "source": "U_k[0].shape",
   "id": "5fd191d9b9753a64",
   "outputs": [
    {
     "data": {
      "text/plain": [
       "(16, 16)"
      ]
     },
     "execution_count": 119,
     "metadata": {},
     "output_type": "execute_result"
    }
   ],
   "execution_count": 119
  },
  {
   "metadata": {
    "ExecuteTime": {
     "end_time": "2025-05-26T09:59:54.317101Z",
     "start_time": "2025-05-26T09:59:54.308489Z"
    }
   },
   "cell_type": "code",
   "source": "alpha_k.shape",
   "id": "ecff6e81a77de439",
   "outputs": [
    {
     "data": {
      "text/plain": [
       "(21,)"
      ]
     },
     "execution_count": 113,
     "metadata": {},
     "output_type": "execute_result"
    }
   ],
   "execution_count": 113
  },
  {
   "metadata": {
    "ExecuteTime": {
     "end_time": "2025-05-26T10:00:08.918088Z",
     "start_time": "2025-05-26T10:00:08.219705Z"
    }
   },
   "cell_type": "code",
   "source": [
    "circuit_diagram = qml.draw_mpl(circuit, style='pennylane')\n",
    "print(circuit_diagram())"
   ],
   "id": "c220933581d84280",
   "outputs": [
    {
     "name": "stdout",
     "output_type": "stream",
     "text": [
      "(<Figure size 500x1000 with 1 Axes>, <Axes: >)\n"
     ]
    },
    {
     "data": {
      "text/plain": [
       "<Figure size 500x1000 with 1 Axes>"
      ],
      "image/png": "[encoded data removed]"
     },
     "metadata": {},
     "output_type": "display_data"
    }
   ],
   "execution_count": 114
  },
  {
   "metadata": {
    "ExecuteTime": {
     "end_time": "2025-05-26T10:00:14.115904Z",
     "start_time": "2025-05-26T10:00:14.107905Z"
    }
   },
   "cell_type": "code",
   "source": [
    "# Step 5: Exact Ground State Calculation using NumPy's linalg.eig\n",
    "eigenvalues, eigenvectors = np.linalg.eig(H_mat)\n",
    "\n",
    "min_index = np.argmin(eigenvalues)\n",
    "min_eigenvalue = eigenvalues[min_index]\n",
    "min_eigenvector = eigenvectors[:, min_index]\n",
    "# Print results\n",
    "print(\"Exact ground state (via NumPy):\", min_eigenvector)\n",
    "print(\"Qubitization state vector:\", state_vector)"
   ],
   "id": "1ecc4888a0d9fa91",
   "outputs": [
    {
     "name": "stdout",
     "output_type": "stream",
     "text": [
      "Exact ground state (via NumPy): [0.47989754-0.j 0.25534815-0.j 0.16666667-0.j 0.22454939-0.j\n",
      " 0.16666667-0.j 0.10878394-0.j 0.14656421-0.j 0.25534815-0.j\n",
      " 0.25534815-0.j 0.14656421-0.j 0.10878394-0.j 0.16666667-0.j\n",
      " 0.22454939-0.j 0.16666667-0.j 0.25534815-0.j 0.47989754+0.j]\n",
      "Qubitization state vector: [-0.02404359+0.j -0.84424072+0.j  0.18252788+0.j  0.24788153+0.j\n",
      " -0.00397826+0.j -0.01793548+0.j -0.00228911+0.j -0.00596906+0.j\n",
      "  0.26356639+0.j  0.1628789 +0.j  0.11300938+0.j  0.28585344+0.j\n",
      "  0.00665659+0.j  0.0300104 +0.j  0.00383024+0.j  0.00998768+0.j]\n"
     ]
    }
   ],
   "execution_count": 115
  },
  {
   "metadata": {
    "ExecuteTime": {
     "end_time": "2025-05-26T09:55:08.990443Z",
     "start_time": "2025-05-26T09:55:08.931417Z"
    }
   },
   "cell_type": "code",
   "source": "circuit().shape",
   "id": "d8cae92ff80536ca",
   "outputs": [
    {
     "data": {
      "text/plain": [
       "(256,)"
      ]
     },
     "execution_count": 105,
     "metadata": {},
     "output_type": "execute_result"
    }
   ],
   "execution_count": 105
  },
  {
   "metadata": {
    "ExecuteTime": {
     "end_time": "2025-05-26T08:48:26.075179Z",
     "start_time": "2025-05-26T08:48:26.068355Z"
    }
   },
   "cell_type": "code",
   "source": "len(alpha_k)",
   "id": "919ee02a18414783",
   "outputs": [
    {
     "data": {
      "text/plain": [
       "9"
      ]
     },
     "execution_count": 66,
     "metadata": {},
     "output_type": "execute_result"
    }
   ],
   "execution_count": 66
  },
  {
   "metadata": {
    "ExecuteTime": {
     "end_time": "2025-05-26T08:30:59.103801Z",
     "start_time": "2025-05-26T08:30:59.094005Z"
    }
   },
   "cell_type": "code",
   "source": "control_wires",
   "id": "c6e4dbceafc8596d",
   "outputs": [
    {
     "data": {
      "text/plain": [
       "[4, 5, 6, 7]"
      ]
     },
     "execution_count": 64,
     "metadata": {},
     "output_type": "execute_result"
    }
   ],
   "execution_count": 64
  },
  {
   "metadata": {
    "ExecuteTime": {
     "end_time": "2025-05-26T08:19:52.951963Z",
     "start_time": "2025-05-26T08:19:52.946668Z"
    }
   },
   "cell_type": "code",
   "source": "eigenvectors[0].shape",
   "id": "83b7548425889b82",
   "outputs": [
    {
     "data": {
      "text/plain": [
       "(16,)"
      ]
     },
     "execution_count": 59,
     "metadata": {},
     "output_type": "execute_result"
    }
   ],
   "execution_count": 59
  },
  {
   "metadata": {
    "ExecuteTime": {
     "end_time": "2025-05-26T09:42:15.591031Z",
     "start_time": "2025-05-26T09:42:15.568373Z"
    }
   },
   "cell_type": "code",
   "source": [
    "## projector\n",
    "import pennylane as qml\n",
    "import numpy as np\n",
    "\n",
    "# 定义量子设备\n",
    "dev = qml.device('default.qubit', wires=2)\n",
    "\n",
    "# 投影算符示例（Pauli-Z 和 Identity 的线性组合）\n",
    "coeffs = np.array([1/2, 1/2])\n",
    "proj_unitaries = [qml.Identity(0), qml.PauliZ(0)]\n",
    "\n",
    "# 使用 Qubitization 进行投影算符的量子化\n",
    "@qml.qnode(dev)\n",
    "def qubitization_circuit():\n",
    "    # 使用 Qubitization 类来进行 qubitization\n",
    "    qml.Hadamard(0)\n",
    "    qml.RX(np.pi/2,[0])\n",
    "    qml.Qubitization(qml.dot(coeffs,proj_unitaries), [1])  # 使用投影算符\n",
    "\n",
    "    # 返回最终的量子态\n",
    "    return qml.state()\n",
    "\n",
    "# 绘制电路图\n",
    "circuit_diagram = qml.draw_mpl(qubitization_circuit, style='pennylane')\n",
    "\n",
    "# 执行并打印量子态\n",
    "state = qubitization_circuit()[:2**1].real\n",
    "state/=np.linalg.norm(state)\n",
    "print(state)\n",
    "\n",
    "# 打印电路图\n",
    "# print(circuit_diagram())\n",
    "qubitization_circuit().shape\n"
   ],
   "id": "44788c9abfea0cff",
   "outputs": [
    {
     "name": "stdout",
     "output_type": "stream",
     "text": [
      "[1. 0.]\n"
     ]
    },
    {
     "data": {
      "text/plain": [
       "(4,)"
      ]
     },
     "execution_count": 86,
     "metadata": {},
     "output_type": "execute_result"
    }
   ],
   "execution_count": 86
  },
  {
   "metadata": {
    "ExecuteTime": {
     "end_time": "2025-05-26T09:20:32.400822Z",
     "start_time": "2025-05-26T09:20:31.865293Z"
    }
   },
   "cell_type": "code",
   "source": "circuit_diagram()",
   "id": "e5065ef004e28822",
   "outputs": [
    {
     "data": {
      "text/plain": [
       "(<Figure size 500x300 with 1 Axes>, <Axes: >)"
      ]
     },
     "execution_count": 79,
     "metadata": {},
     "output_type": "execute_result"
    },
    {
     "data": {
      "text/plain": [
       "<Figure size 500x300 with 1 Axes>"
      ],
      "image/png": "[encoded data removed]"
     },
     "metadata": {},
     "output_type": "display_data"
    }
   ],
   "execution_count": 79
  },
  {
   "metadata": {
    "ExecuteTime": {
     "end_time": "2025-05-26T05:03:55.578539Z",
     "start_time": "2025-05-26T05:03:55.309967Z"
    }
   },
   "cell_type": "code",
   "source": [
    "dev2 = qml.device(\"default.qubit\", wires=3)\n",
    "a = 0.25\n",
    "b = 0.75\n",
    "\n",
    "# matrix to be decomposed\n",
    "A = np.array(\n",
    "    [[a,  0, 0,  b],\n",
    "     [0, -a, b,  0],\n",
    "     [0,  b, a,  0],\n",
    "     [b,  0, 0, -a]]\n",
    ")\n",
    "\n",
    "LCU = qml.pauli_decompose(A)\n",
    "LCU_coeffs, LCU_ops = LCU.terms()\n",
    "# normalized square roots of coefficients\n",
    "alphas = (np.sqrt(LCU_coeffs) / np.linalg.norm(np.sqrt(LCU_coeffs)))\n",
    "# unitaries\n",
    "ops = LCU_ops\n",
    "# relabeling wires: 0 → 1, and 1 → 2\n",
    "unitaries = [qml.map_wires(op, {0: 1, 1: 2}) for op in ops]\n",
    "@qml.qnode(dev2)\n",
    "def lcu_circuit():  # block_encode\n",
    "    # PREP\n",
    "    qml.StatePrep(alphas, wires=0)\n",
    "\n",
    "    # SEL\n",
    "    qml.Select(unitaries, control=0)\n",
    "\n",
    "    # PREP_dagger\n",
    "    qml.adjoint(qml.StatePrep(alphas, wires=0))\n",
    "    return qml.state()\n",
    "\n",
    "circuit_diagram = qml.draw_mpl(lcu_circuit, style='pennylane')\n",
    "print(circuit_diagram())"
   ],
   "id": "6dca1645b6efc9c7",
   "outputs": [
    {
     "name": "stdout",
     "output_type": "stream",
     "text": [
      "(<Figure size 600x400 with 1 Axes>, <Axes: >)\n"
     ]
    },
    {
     "data": {
      "text/plain": [
       "<Figure size 600x400 with 1 Axes>"
      ],
      "image/png": "[encoded data removed]"
     },
     "metadata": {},
     "output_type": "display_data"
    }
   ],
   "execution_count": 28
  },
  {
   "metadata": {},
   "cell_type": "markdown",
   "source": "projector |0><0|",
   "id": "1f16f802dfdd748"
  },
  {
   "metadata": {
    "ExecuteTime": {
     "end_time": "2025-05-26T09:43:56.127828Z",
     "start_time": "2025-05-26T09:43:56.097717Z"
    }
   },
   "cell_type": "code",
   "source": [
    "## projector\n",
    "import pennylane as qml\n",
    "import numpy as np\n",
    "\n",
    "# 定义量子设备\n",
    "dev = qml.device('default.qubit', wires=2)\n",
    "\n",
    "# 投影算符示例（Pauli-Z 和 Identity 的线性组合）\n",
    "coeffs = np.array([1/2, 1/2])\n",
    "proj_unitaries = [qml.Identity(0), qml.PauliZ(0)]\n",
    "\n",
    "# 使用 Qubitization 进行投影算符的量子化\n",
    "@qml.qnode(dev)\n",
    "def qubitization_circuit():\n",
    "    # 使用 Qubitization 类来进行 qubitization\n",
    "    qml.Hadamard(0)\n",
    "    qml.RX(np.pi/2,[0])\n",
    "    qml.Qubitization(qml.dot(coeffs,proj_unitaries), [1])  # 使用投影算符\n",
    "\n",
    "    # 返回最终的量子态\n",
    "    return qml.state()\n",
    "\n",
    "# 绘制电路图\n",
    "circuit_diagram = qml.draw_mpl(qubitization_circuit, style='pennylane')\n",
    "\n",
    "# 执行并打印量子态\n",
    "state = qubitization_circuit()[:2**1].real\n",
    "state/=np.linalg.norm(state)\n",
    "print(state)\n",
    "\n",
    "\n",
    "qubitization_circuit().shape"
   ],
   "id": "6625c18242c6fc66",
   "outputs": [
    {
     "name": "stdout",
     "output_type": "stream",
     "text": [
      "[1. 0.]\n"
     ]
    },
    {
     "data": {
      "text/plain": [
       "(4,)"
      ]
     },
     "execution_count": 87,
     "metadata": {},
     "output_type": "execute_result"
    }
   ],
   "execution_count": 87
  },
  {
   "metadata": {
    "ExecuteTime": {
     "end_time": "2025-05-26T09:44:38.015299Z",
     "start_time": "2025-05-26T09:44:37.197475Z"
    }
   },
   "cell_type": "code",
   "source": [
    "# 打印电路图\n",
    "print(circuit_diagram())"
   ],
   "id": "1b0d7300f4621f07",
   "outputs": [
    {
     "name": "stdout",
     "output_type": "stream",
     "text": [
      "(<Figure size 600x300 with 1 Axes>, <Axes: >)\n"
     ]
    },
    {
     "data": {
      "text/plain": [
       "<Figure size 600x300 with 1 Axes>"
      ],
      "image/png": "[encoded data removed]"
     },
     "metadata": {},
     "output_type": "display_data"
    }
   ],
   "execution_count": 89
  },
  {
   "metadata": {
    "ExecuteTime": {
     "end_time": "2025-05-26T05:31:49.952700Z",
     "start_time": "2025-05-26T05:31:48.017685Z"
    }
   },
   "cell_type": "code",
   "source": [
    "coeffs = np.array([1/2, 1/2])\n",
    "alphas = np.sqrt(coeffs) / np.linalg.norm(np.sqrt(coeffs))\n",
    "\n",
    "proj_unitaries = [qml.Identity(0), qml.PauliZ(0)]\n",
    "\n",
    "def lcu_circuit():  # block_encode\n",
    "    # PREP\n",
    "    qml.StatePrep(alphas, wires=\"ancilla\")\n",
    "\n",
    "    # SEL\n",
    "    qml.Select(proj_unitaries, control=\"ancilla\")\n",
    "\n",
    "    # PREP_dagger\n",
    "    qml.adjoint(qml.StatePrep(alphas, wires=\"ancilla\"))\n",
    "    return qml.state()\n",
    "circuit_diagram = qml.draw_mpl(lcu_circuit, style='pennylane')\n",
    "print(circuit_diagram())\n"
   ],
   "id": "609a392ffd26570e",
   "outputs": [
    {
     "name": "stdout",
     "output_type": "stream",
     "text": [
      "(<Figure size 600x300 with 1 Axes>, <Axes: >)\n"
     ]
    },
    {
     "data": {
      "text/plain": [
       "<Figure size 600x300 with 1 Axes>"
      ],
      "image/png": "[encoded data removed]"
     },
     "metadata": {},
     "output_type": "display_data"
    }
   ],
   "execution_count": 36
  },
  {
   "metadata": {
    "ExecuteTime": {
     "end_time": "2025-05-26T05:20:51.305876Z",
     "start_time": "2025-05-26T05:20:51.302215Z"
    }
   },
   "cell_type": "code",
   "source": "alphas",
   "id": "95ae23c468768b36",
   "outputs": [
    {
     "data": {
      "text/plain": [
       "tensor([0.70710678, 0.70710678], requires_grad=True)"
      ]
     },
     "execution_count": 32,
     "metadata": {},
     "output_type": "execute_result"
    }
   ],
   "execution_count": 32
  },
  {
   "metadata": {
    "ExecuteTime": {
     "end_time": "2025-05-26T06:50:13.857391Z",
     "start_time": "2025-05-26T06:50:13.183022Z"
    }
   },
   "cell_type": "code",
   "source": [
    "proj_unitaries = [qml.Identity(0), qml.PauliZ(0)]\n",
    "dev = qml.device('default.qubit', wires=1)\n",
    "\n",
    "# 为量子比特准备一个简单的状态\n",
    "coeffs = np.array([1/2, 1/2])\n",
    "alphas = np.sqrt(coeffs) / np.linalg.norm(np.sqrt(coeffs))  # 归一化\n",
    "\n",
    "# 定义 LCU 电路\n",
    "@qml.qnode(dev)\n",
    "def lcu_circuit():  # block_encode\n",
    "    # PREP\n",
    "    qml.StatePrep(alphas, wires=0)\n",
    "\n",
    "    return qml.state()\n",
    "circuit_diagram = qml.draw_mpl(lcu_circuit, style='pennylane')\n",
    "print(circuit_diagram())"
   ],
   "id": "5afd47bb2ee87f76",
   "outputs": [
    {
     "name": "stdout",
     "output_type": "stream",
     "text": [
      "(<Figure size 400x200 with 1 Axes>, <Axes: >)\n"
     ]
    },
    {
     "data": {
      "text/plain": [
       "<Figure size 400x200 with 1 Axes>"
      ],
      "image/png": "[encoded data removed]"
     },
     "metadata": {},
     "output_type": "display_data"
    }
   ],
   "execution_count": 46
  },
  {
   "metadata": {
    "ExecuteTime": {
     "end_time": "2025-05-26T05:35:49.029908Z",
     "start_time": "2025-05-26T05:35:49.023365Z"
    }
   },
   "cell_type": "code",
   "source": [
    "coeffs = np.array([1/2, 1/2])\n",
    "np.linalg.norm(np.sqrt(coeffs))"
   ],
   "id": "b4abf56e57c6aaee",
   "outputs": [
    {
     "data": {
      "text/plain": [
       "np.float64(1.0)"
      ]
     },
     "execution_count": 45,
     "metadata": {},
     "output_type": "execute_result"
    }
   ],
   "execution_count": 45
  },
  {
   "metadata": {
    "ExecuteTime": {
     "end_time": "2025-05-26T05:35:14.354131Z",
     "start_time": "2025-05-26T05:35:14.336901Z"
    }
   },
   "cell_type": "code",
   "source": [
    "state = lcu_circuit()\n",
    "state"
   ],
   "id": "8505c461f34e43a9",
   "outputs": [
    {
     "data": {
      "text/plain": [
       "tensor([0.70710678+0.j, 0.70710678+0.j], requires_grad=True)"
      ]
     },
     "execution_count": 43,
     "metadata": {},
     "output_type": "execute_result"
    }
   ],
   "execution_count": 43
  },
  {
   "cell_type": "code",
   "id": "0740d532-4a18-4178-9279-ecc2847b7083",
   "metadata": {
    "ExecuteTime": {
     "end_time": "2025-05-26T03:56:12.751732Z",
     "start_time": "2025-05-26T03:56:12.733513Z"
    }
   },
   "source": [
    "import pennylane as qml\n",
    "\n",
    "H = -0.4 * qml.Z(0) + 0.3 * qml.Z(1) + 0.4 * qml.Z(0) @ qml.Z(1)\n",
    "\n",
    "#print(np.linalg.eigvalsh(qml.matrix(H).real)[0])\n",
    "control_wires = [2, 3]\n",
    "estimation_wires = [4, 5, 6, 7, 8, 9]\n",
    "\n",
    "dev = qml.device(\"default.qubit\")\n",
    "\n",
    "\n",
    "@qml.qnode(dev)\n",
    "def circuit():\n",
    "    # Initialize the eigenstate |11⟩\n",
    "    # for wire in [0, 1]:\n",
    "    #     qml.X(wire)\n",
    "\n",
    "    # Apply QPE with the qubitization operator\n",
    "    qml.QuantumPhaseEstimation(\n",
    "        qml.Qubitization(H, control_wires), estimation_wires=estimation_wires\n",
    "    )\n",
    "\n",
    "    return qml.probs(wires=estimation_wires)"
   ],
   "outputs": [],
   "execution_count": 3
  },
  {
   "metadata": {},
   "cell_type": "markdown",
   "source": "### QSVT",
   "id": "8b07896fcf78ac45"
  },
  {
   "cell_type": "code",
   "execution_count": 2,
   "id": "d0a646d68789f643",
   "metadata": {},
   "outputs": [
    {
     "data": {
      "text/plain": [
       "[2.5, 0, -1.5, 0]"
      ]
     },
     "execution_count": 2,
     "metadata": {},
     "output_type": "execute_result"
    }
   ],
   "source": [
    "target_poly = [0, -3 * 0.5, 0, 5 * 0.5]\n",
    "target_poly[::-1]"
   ]
  },
  {
   "cell_type": "code",
   "execution_count": 8,
   "id": "90312e32-965e-46e5-b3fb-bc251caf8f21",
   "metadata": {},
   "outputs": [
    {
     "data": {
      "image/png": "[encoded data removed]",
      "text/plain": [
       "<Figure size 640x480 with 1 Axes>"
      ]
     },
     "metadata": {},
     "output_type": "display_data"
    }
   ],
   "source": [
    "## qsvt\n",
    "import matplotlib.pyplot as plt\n",
    "def qsvt_circuit(a):\n",
    "    qc = qml.qsvt(a, target_poly, encoding_wires=[0], block_encoding='embedding')\n",
    "    return qc\n",
    "\n",
    "def qsvt_out(a):\n",
    "    qc = qsvt_circuit(a)\n",
    "    out = qml.matrix(qc)\n",
    "    return out[0,0]\n",
    "\n",
    "a_vals = np.linspace(-1, 1, 50)\n",
    "qsvt = [np.real(qsvt_out(a)) for a in a_vals]\n",
    "target = [np.polyval(target_poly[::-1], a) for a in a_vals]\n",
    "\n",
    "plt.plot(a_vals, target, label='target')\n",
    "plt.plot(a_vals, qsvt, '*', label='qsvt')\n",
    "\n",
    "plt.legend()\n",
    "plt.show()\n"
   ]
  },
  {
   "cell_type": "code",
   "execution_count": null,
   "id": "709d2780-42db-4650-b362-b4dd206073f0",
   "metadata": {},
   "outputs": [],
   "source": []
  },
  {
   "metadata": {},
   "cell_type": "code",
   "outputs": [],
   "execution_count": null,
   "source": "",
   "id": "da0656be20552c84"
  },
  {
   "metadata": {},
   "cell_type": "code",
   "outputs": [],
   "execution_count": null,
   "source": "",
   "id": "407cbca7f1ef0ab0"
  },
  {
   "metadata": {},
   "cell_type": "code",
   "outputs": [],
   "execution_count": null,
   "source": "",
   "id": "796814cfa0074d4c"
  }
 ],
 "metadata": {
  "kernelspec": {
   "display_name": "Python 3 (ipykernel)",
   "language": "python",
   "name": "python3"
  },
  "language_info": {
   "codemirror_mode": {
    "name": "ipython",
    "version": 3
   },
   "file_extension": ".py",
   "mimetype": "text/x-python",
   "name": "python",
   "nbconvert_exporter": "python",
   "pygments_lexer": "ipython3",
   "version": "3.11.7"
  }
 },
 "nbformat": 4,
 "nbformat_minor": 5
}
