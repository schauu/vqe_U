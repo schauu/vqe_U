{
 "cells": [
  {
   "cell_type": "code",
   "execution_count": 76,
   "id": "1bb2ca26-343e-4d69-9967-bb80c32ecc15",
   "metadata": {},
   "outputs": [
    {
     "name": "stdout",
     "output_type": "stream",
     "text": [
      "✅ 理论成功率: 1.0000\n",
      "✅ 实验成功率: 0.6199\n"
     ]
    }
   ],
   "source": [
    "from qiskit import QuantumCircuit, transpile\n",
    "from qiskit.primitives import Sampler\n",
    "import numpy as np\n",
    "\n",
    "# 参数\n",
    "alpha0 = 0.25\n",
    "alpha1 = 0.75\n",
    "s = alpha0 + alpha1\n",
    "theta = 2 * np.arccos(np.sqrt(alpha0 / s))\n",
    "\n",
    "# 电路构建\n",
    "qc = QuantumCircuit(2,1)\n",
    "\n",
    "# Step 1: Prepare\n",
    "qc.ry(theta, 0)\n",
    "\n",
    "# Step 2: Select (ancilla=0 → X, ancilla=1 → Z)\n",
    "qc.x(0)\n",
    "qc.cx(0, 1)\n",
    "qc.x(0)\n",
    "qc.cz(0, 1)\n",
    "\n",
    "# Step 3: Unprepare\n",
    "qc.ry(-theta, 0)\n",
    "\n",
    "# Step 4: 测量 ancilla\n",
    "qc.measure(0,0)\n",
    "\n",
    "# Run Sampler\n",
    "sampler = Sampler()\n",
    "job = sampler.run([qc], shots=10000)\n",
    "result = job.result()\n",
    "quasi_dist = result.quasi_dists[0]\n",
    "\n",
    "# 成功率（ancilla = 0）\n",
    "success_prob = quasi_dist.get(0, 0.0)\n",
    "\n",
    "# 理论值\n",
    "s = alpha0 + alpha1\n",
    "theory_success = 1 / (s ** 2)\n",
    "\n",
    "print(f\"✅ 理论成功率: {theory_success:.4f}\")\n",
    "print(f\"✅ 实验成功率: {success_prob:.4f}\")\n",
    "\n",
    "\n"
   ]
  },
  {
   "cell_type": "code",
   "execution_count": 70,
   "id": "7df81f49-dfb7-414e-a6b0-30dee6f982af",
   "metadata": {},
   "outputs": [
    {
     "data": {
      "image/png": "[encoded data removed]",
      "text/plain": [
       "<Figure size 705.35x284.278 with 1 Axes>"
      ]
     },
     "execution_count": 70,
     "metadata": {},
     "output_type": "execute_result"
    }
   ],
   "source": [
    "qc.draw('mpl')"
   ]
  },
  {
   "cell_type": "code",
   "execution_count": 77,
   "id": "ef101820-4db2-4f68-a2fd-6d9940b6ce07",
   "metadata": {},
   "outputs": [
    {
     "name": "stdout",
     "output_type": "stream",
     "text": [
      "✅ 实验成功概率: 0.7500\n",
      "✅ 理论成功概率 (非归一化): 1.0\n",
      "⚠️ 理论 1/s^2 成立的前提是：你归一化了 U_i，这里没有，因此不要用它\n"
     ]
    }
   ],
   "source": [
    "from qiskit import QuantumCircuit\n",
    "from qiskit.quantum_info import Statevector\n",
    "import numpy as np\n",
    "\n",
    "# 参数\n",
    "alpha0 = 0.25\n",
    "alpha1 = 0.75\n",
    "s = alpha0 + alpha1\n",
    "theta = 2 * np.arccos(np.sqrt(alpha0 / s))\n",
    "\n",
    "qc = QuantumCircuit(2)\n",
    "\n",
    "# prepare\n",
    "qc.ry(theta, 0)\n",
    "\n",
    "# select block (U0=X, U1=Z)\n",
    "qc.x(0)\n",
    "qc.cx(0, 1)\n",
    "qc.x(0)\n",
    "qc.cz(0, 1)\n",
    "\n",
    "# unprepare\n",
    "qc.ry(-theta, 0)\n",
    "\n",
    "# 初始态 |00⟩\n",
    "sv = Statevector.from_label('00')\n",
    "final_sv = sv.evolve(qc)\n",
    "\n",
    "# 提取 ancilla = 0 部分（index 0,1）\n",
    "v = final_sv.data\n",
    "v_success = np.array([v[0], v[1]])\n",
    "p_success = np.vdot(v_success, v_success).real\n",
    "\n",
    "print(f\"✅ 实验成功概率: {p_success:.4f}\")\n",
    "print(f\"✅ 理论成功概率 (非归一化):\", 1/s**2)\n",
    "print(f\"⚠️ 理论 1/s^2 成立的前提是：你归一化了 U_i，这里没有，因此不要用它\")\n"
   ]
  },
  {
   "cell_type": "code",
   "execution_count": 68,
   "id": "d0d8412d-34be-4ff3-9b5f-a1dc637d7f7e",
   "metadata": {},
   "outputs": [
    {
     "data": {
      "image/png": "[encoded data removed]",
      "text/plain": [
       "<Figure size 621.739x200.667 with 1 Axes>"
      ]
     },
     "execution_count": 68,
     "metadata": {},
     "output_type": "execute_result"
    }
   ],
   "source": [
    "qc.draw('mpl')"
   ]
  },
  {
   "cell_type": "code",
   "execution_count": 64,
   "id": "6e5b65e8-f88c-4bde-b2c1-f881d11dc464",
   "metadata": {},
   "outputs": [
    {
     "data": {
      "text/plain": [
       "array([ 0.57142857+0.j,  0.49487166+0.j,  0.42857143+0.j, -0.49487166+0.j])"
      ]
     },
     "execution_count": 64,
     "metadata": {},
     "output_type": "execute_result"
    }
   ],
   "source": [
    "v"
   ]
  },
  {
   "cell_type": "code",
   "execution_count": 66,
   "id": "52c63ce5-527e-4736-85ff-5f882fbeccec",
   "metadata": {},
   "outputs": [
    {
     "data": {
      "text/plain": [
       "(0.5714285714285713+0j)"
      ]
     },
     "execution_count": 66,
     "metadata": {},
     "output_type": "execute_result"
    }
   ],
   "source": [
    "v[0]**2+v[1]**2"
   ]
  },
  {
   "cell_type": "code",
   "execution_count": 35,
   "id": "e80edff3-22b7-472c-a5d4-aa1df7823088",
   "metadata": {},
   "outputs": [
    {
     "name": "stdout",
     "output_type": "stream",
     "text": [
      "LCU decomposition:\n",
      "   (0.25) [I0 Z1]\n",
      "+ (0.75) [X0 X1]\n",
      "Coefficients:\n",
      " [0.25, 0.75]\n",
      "Unitaries:\n",
      " [I(0) @ Z(1), X(0) @ X(1)]\n"
     ]
    }
   ],
   "source": [
    "import numpy as np\n",
    "import pennylane as qml\n",
    "\n",
    "a = 0.25\n",
    "b = 0.75\n",
    "\n",
    "# matrix to be decomposed\n",
    "A = np.array(\n",
    "    [[a,  0, 0,  b],\n",
    "     [0, -a, b,  0],\n",
    "     [0,  b, a,  0],\n",
    "     [b,  0, 0, -a]]\n",
    ")\n",
    "\n",
    "LCU = qml.pauli_decompose(A)\n",
    "LCU_coeffs, LCU_ops = LCU.terms()\n",
    "\n",
    "print(f\"LCU decomposition:\\n {LCU}\")\n",
    "print(f\"Coefficients:\\n {LCU_coeffs}\")\n",
    "print(f\"Unitaries:\\n {LCU_ops}\")"
   ]
  },
  {
   "cell_type": "code",
   "execution_count": 36,
   "id": "31f9f688-76de-49b3-b12f-456211e1eb16",
   "metadata": {},
   "outputs": [
    {
     "data": {
      "text/plain": [
       "array([0.5      , 0.8660254])"
      ]
     },
     "execution_count": 36,
     "metadata": {},
     "output_type": "execute_result"
    }
   ],
   "source": [
    "np.sqrt(LCU_coeffs)"
   ]
  },
  {
   "cell_type": "code",
   "execution_count": 37,
   "id": "e70a3c93-35d9-419e-938e-c21fec6479d0",
   "metadata": {},
   "outputs": [
    {
     "data": {
      "text/plain": [
       "0.9999999999999999"
      ]
     },
     "execution_count": 37,
     "metadata": {},
     "output_type": "execute_result"
    }
   ],
   "source": [
    "np.linalg.norm(np.sqrt(LCU_coeffs))"
   ]
  },
  {
   "cell_type": "code",
   "execution_count": 18,
   "id": "d542d3b1-40f8-40f9-9b9a-652451e10093",
   "metadata": {},
   "outputs": [
    {
     "name": "stdout",
     "output_type": "stream",
     "text": [
      "Target state:  [0.5       0.8660254]\n",
      "Output state:  [0.5       0.8660254]\n"
     ]
    }
   ],
   "source": [
    "dev1 = qml.device(\"default.qubit\", wires=1)\n",
    "\n",
    "# normalized square roots of coefficients\n",
    "alphas = (np.sqrt(LCU_coeffs) / np.linalg.norm(np.sqrt(LCU_coeffs)))\n",
    "\n",
    "\n",
    "@qml.qnode(dev1)\n",
    "def prep_circuit():\n",
    "    qml.StatePrep(alphas, wires=0)\n",
    "    return qml.state()\n",
    "\n",
    "\n",
    "print(\"Target state: \", alphas)\n",
    "print(\"Output state: \", np.real(prep_circuit()))"
   ]
  },
  {
   "cell_type": "code",
   "execution_count": 19,
   "id": "7ec7ff4f-38f1-4648-b349-f0322eacb52b",
   "metadata": {},
   "outputs": [
    {
     "data": {
      "image/png": "[encoded data removed]",
      "text/plain": [
       "<Figure size 500x400 with 1 Axes>"
      ]
     },
     "metadata": {},
     "output_type": "display_data"
    }
   ],
   "source": [
    "import matplotlib.pyplot as plt\n",
    "\n",
    "dev2 = qml.device(\"default.qubit\", wires=3)\n",
    "\n",
    "# unitaries\n",
    "ops = LCU_ops\n",
    "# relabeling wires: 0 → 1, and 1 → 2\n",
    "unitaries = [qml.map_wires(op, {0: 1, 1: 2}) for op in ops]\n",
    "\n",
    "\n",
    "@qml.qnode(dev2)\n",
    "def sel_circuit(qubit_value):\n",
    "    qml.BasisState(qubit_value, wires=0)\n",
    "    qml.Select(unitaries, control=0)\n",
    "    return qml.expval(qml.PauliZ(2))\n",
    "\n",
    "qml.draw_mpl(sel_circuit, style='pennylane')([0])\n",
    "plt.show()"
   ]
  },
  {
   "cell_type": "code",
   "execution_count": null,
   "id": "b3bc1afa-76dc-41b7-9fde-7e88d4e73c9b",
   "metadata": {},
   "outputs": [],
   "source": []
  },
  {
   "cell_type": "code",
   "execution_count": 38,
   "id": "e4c26b93-bdcf-48fb-9d68-147dc976c7ac",
   "metadata": {},
   "outputs": [
    {
     "name": "stdout",
     "output_type": "stream",
     "text": [
      "映射后的 op[0]: I(1) @ Z(2)\n",
      "映射后的 op[1]: X(1) @ X(2)\n"
     ]
    }
   ],
   "source": [
    "for i, u in enumerate(unitaries):\n",
    "    print(f\"映射后的 op[{i}]:\", u)"
   ]
  },
  {
   "cell_type": "code",
   "execution_count": 20,
   "id": "28945100-014e-4921-ace7-b99787e31fb4",
   "metadata": {},
   "outputs": [
    {
     "name": "stdout",
     "output_type": "stream",
     "text": [
      "Expectation value for input |0>: 1.0\n",
      "Expectation value for input |1>: -1.0\n"
     ]
    }
   ],
   "source": [
    "print('Expectation value for input |0>:', sel_circuit([0]))\n",
    "print('Expectation value for input |1>:', sel_circuit([1]))"
   ]
  },
  {
   "cell_type": "code",
   "execution_count": 21,
   "id": "bbd22b23-8465-407c-ae76-a4a82a42e8b1",
   "metadata": {},
   "outputs": [
    {
     "name": "stdout",
     "output_type": "stream",
     "text": [
      "A:\n",
      " [[ 0.25  0.    0.    0.75]\n",
      " [ 0.   -0.25  0.75  0.  ]\n",
      " [ 0.    0.75  0.25  0.  ]\n",
      " [ 0.75  0.    0.   -0.25]] \n",
      "\n",
      "Block-encoded A:\n",
      "\n",
      "[[ 0.25  0.    0.    0.75 -0.43  0.    0.    0.43]\n",
      " [ 0.   -0.25  0.75  0.    0.    0.43  0.43  0.  ]\n",
      " [ 0.    0.75  0.25  0.    0.    0.43 -0.43  0.  ]\n",
      " [ 0.75  0.    0.   -0.25  0.43  0.    0.    0.43]\n",
      " [-0.43  0.    0.    0.43  0.75  0.    0.    0.25]\n",
      " [ 0.    0.43  0.43  0.    0.   -0.75  0.25  0.  ]\n",
      " [ 0.    0.43 -0.43  0.    0.    0.25  0.75  0.  ]\n",
      " [ 0.43  0.    0.    0.43  0.25  0.    0.   -0.75]]\n"
     ]
    }
   ],
   "source": [
    "@qml.qnode(dev2)\n",
    "def lcu_circuit():  # block_encode\n",
    "    # PREP\n",
    "    qml.StatePrep(alphas, wires=0)\n",
    "\n",
    "    # SEL\n",
    "    qml.Select(unitaries, control=0)\n",
    "\n",
    "    # PREP_dagger\n",
    "    qml.adjoint(qml.StatePrep(alphas, wires=0))\n",
    "    return qml.state()\n",
    "\n",
    "\n",
    "output_matrix = qml.matrix(lcu_circuit)()\n",
    "print(\"A:\\n\", A, \"\\n\")\n",
    "print(\"Block-encoded A:\\n\")\n",
    "print(np.real(np.round(output_matrix,2)))"
   ]
  },
  {
   "cell_type": "code",
   "execution_count": 82,
   "id": "b67bf5ed-9572-40b2-beea-c80346e22630",
   "metadata": {},
   "outputs": [
    {
     "name": "stdout",
     "output_type": "stream",
     "text": [
      "Block-encoded projector:\n",
      "\n",
      "[[ 1.  0. -0.  0.]\n",
      " [ 0. -0.  0. -1.]\n",
      " [-0.  0.  1.  0.]\n",
      " [ 0. -1.  0.  0.]]\n"
     ]
    }
   ],
   "source": [
    "coeffs = np.array([1/2, 1/2])\n",
    "alphas = np.sqrt(coeffs) / np.linalg.norm(np.sqrt(coeffs))\n",
    "\n",
    "proj_unitaries = [qml.Identity(0), qml.PauliZ(0)]\n",
    "\n",
    "def lcu_circuit():  # block_encode\n",
    "    # PREP\n",
    "    qml.StatePrep(alphas, wires=\"ancilla\")\n",
    "\n",
    "    # SEL\n",
    "    qml.Select(proj_unitaries, control=\"ancilla\")\n",
    "\n",
    "    # PREP_dagger\n",
    "    qml.adjoint(qml.StatePrep(alphas, wires=\"ancilla\"))\n",
    "    return qml.state()\n",
    "\n",
    "\n",
    "output_matrix = qml.matrix(lcu_circuit, wire_order=[\"ancilla\", 0])()\n",
    "print(\"Block-encoded projector:\\n\")\n",
    "print(np.real(np.round(output_matrix,2)))"
   ]
  },
  {
   "cell_type": "code",
   "execution_count": 83,
   "id": "04e9a229-6d80-4983-a6ab-7a5527863509",
   "metadata": {},
   "outputs": [
    {
     "name": "stdout",
     "output_type": "stream",
     "text": [
      "Projected system state (given ancilla=0):\n",
      "[ 1.+0.j -0.+0.j]\n"
     ]
    }
   ],
   "source": [
    "U = output_matrix\n",
    "P = U[:2, :2]\n",
    "plus = np.array([1, 1]) / np.sqrt(2)\n",
    "projected = P @ plus\n",
    "projected /= np.linalg.norm(projected)  # 归一化\n",
    "print(\"Projected system state (given ancilla=0):\")\n",
    "print(np.round(projected, 3))\n"
   ]
  },
  {
   "cell_type": "code",
   "execution_count": 78,
   "id": "ff0a1255-0ff2-46ca-87ad-14f5e5d278b9",
   "metadata": {},
   "outputs": [
    {
     "data": {
      "text/plain": [
       "[I(0), Z(0)]"
      ]
     },
     "execution_count": 78,
     "metadata": {},
     "output_type": "execute_result"
    }
   ],
   "source": [
    "proj_unitaries = [qml.Identity(0), qml.PauliZ(0)]\n",
    "proj_unitaries"
   ]
  },
  {
   "cell_type": "code",
   "execution_count": 85,
   "id": "749f2be5-728d-483b-8ef8-af8bf2070e6c",
   "metadata": {},
   "outputs": [
    {
     "name": "stdout",
     "output_type": "stream",
     "text": [
      "✅ 系统态 (projected to |0⟩): [1.+0.j 0.+0.j]\n"
     ]
    }
   ],
   "source": [
    "from qiskit import QuantumCircuit\n",
    "from qiskit.quantum_info import Statevector\n",
    "import numpy as np\n",
    "\n",
    "# 系数与 prepare 角度\n",
    "coeffs = np.array([0.5, 0.5])\n",
    "sqrt_coeffs = np.sqrt(coeffs)\n",
    "alphas = sqrt_coeffs / np.linalg.norm(sqrt_coeffs)  # = [1/√2, 1/√2]\n",
    "theta = 2 * np.arccos(alphas[0])  # prepare RY(theta) for ancilla\n",
    "\n",
    "# 构造 LCU 电路\n",
    "qc = QuantumCircuit(2)\n",
    "\n",
    "# Step 1: prepare ancilla\n",
    "qc.ry(theta, 0)\n",
    "\n",
    "# Step 2: SELECT block (0→I, 1→Z)\n",
    "# qc.x(0)\n",
    "# qc.cx(0, 1)\n",
    "qc.cz(0, 1)\n",
    "\n",
    "# Step 3: unprepare\n",
    "qc.ry(-theta, 0)\n",
    "\n",
    "# 初始态 |00⟩\n",
    "sv = Statevector.from_label('00')\n",
    "final_sv = sv.evolve(qc)\n",
    "\n",
    "# 提取 ancilla=0 部分（block-encoded projector作用后的 system 态）\n",
    "v = final_sv.data\n",
    "v_success = np.array([v[0], v[1]])  # ancilla=0 ⇒ indices 0,1\n",
    "v_success /= np.linalg.norm(v_success)\n",
    "\n",
    "print(f\"✅ 系统态 (projected to |0⟩): {v_success}\")\n"
   ]
  },
  {
   "cell_type": "code",
   "execution_count": 80,
   "id": "72554cb1-f968-47a8-ba5e-3fb6827b036d",
   "metadata": {},
   "outputs": [
    {
     "data": {
      "text/plain": [
       "array([0.5+0.j, 0.5+0.j])"
      ]
     },
     "execution_count": 80,
     "metadata": {},
     "output_type": "execute_result"
    }
   ],
   "source": [
    "np.array([v[0], v[1]]) "
   ]
  },
  {
   "cell_type": "code",
   "execution_count": 81,
   "id": "47ef0935-5a35-4ed9-906b-4079e89cedba",
   "metadata": {},
   "outputs": [
    {
     "name": "stdout",
     "output_type": "stream",
     "text": [
      "✅ Qiskit Statevector: [0.77459667+0.j 0.63245553+0.j]\n",
      "✅ PennyLane Statevector: [0.77459667+0.j 0.63245553+0.j]\n"
     ]
    }
   ],
   "source": [
    "from qiskit import QuantumCircuit\n",
    "from qiskit.quantum_info import Statevector\n",
    "import numpy as np\n",
    "\n",
    "# Qiskit 计算 θ\n",
    "theta = 2 * np.arccos(np.sqrt(0.6))  # ≈ 1.682\n",
    "\n",
    "# 构建电路\n",
    "qc = QuantumCircuit(1)\n",
    "qc.ry(theta, 0)\n",
    "\n",
    "# 提取 Qiskit 的 statevector\n",
    "qiskit_sv = Statevector.from_instruction(qc).data\n",
    "print(\"✅ Qiskit Statevector:\", qiskit_sv)\n",
    "\n",
    "\n",
    "import pennylane as qml\n",
    "\n",
    "# 创建 PennyLane QNode\n",
    "dev = qml.device(\"default.qubit\", wires=1)\n",
    "\n",
    "@qml.qnode(dev)\n",
    "def prep_pl():\n",
    "    qml.StatePrep([np.sqrt(0.6), np.sqrt(0.4)], wires=0)\n",
    "    return qml.state()\n",
    "\n",
    "# 得到 PennyLane 的 statevector\n",
    "pl_sv = prep_pl()\n",
    "print(\"✅ PennyLane Statevector:\", pl_sv)\n"
   ]
  },
  {
   "cell_type": "code",
   "execution_count": null,
   "id": "e46a5a50-2469-49d3-90ec-8716aaeeba16",
   "metadata": {},
   "outputs": [],
   "source": []
  }
 ],
 "metadata": {
  "kernelspec": {
   "display_name": "Python 3 (ipykernel)",
   "language": "python",
   "name": "python3"
  },
  "language_info": {
   "codemirror_mode": {
    "name": "ipython",
    "version": 3
   },
   "file_extension": ".py",
   "mimetype": "text/x-python",
   "name": "python",
   "nbconvert_exporter": "python",
   "pygments_lexer": "ipython3",
   "version": "3.11.7"
  }
 },
 "nbformat": 4,
 "nbformat_minor": 5
}
