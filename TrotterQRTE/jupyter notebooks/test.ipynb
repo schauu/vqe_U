{
 "cells": [
  {
   "cell_type": "code",
   "execution_count": 1,
   "id": "560194cc-06ca-4915-b1d1-dfd76a94d95e",
   "metadata": {},
   "outputs": [],
   "source": [
    "import numpy as np"
   ]
  },
  {
   "cell_type": "code",
   "execution_count": 5,
   "id": "c04e31d0-a20f-4c22-9d49-4a2f2c63c219",
   "metadata": {},
   "outputs": [
    {
     "data": {
      "text/plain": [
       "15184.0"
      ]
     },
     "execution_count": 5,
     "metadata": {},
     "output_type": "execute_result"
    }
   ],
   "source": [
    "(3**12-1)/35"
   ]
  },
  {
   "cell_type": "code",
   "execution_count": null,
   "id": "1fc6d8b5-61f4-4a7c-bdbf-9cfc2c7da590",
   "metadata": {},
   "outputs": [],
   "source": []
  }
 ],
 "metadata": {
  "kernelspec": {
   "display_name": "vqe_U",
   "language": "python",
   "name": "vqe_u"
  },
  "language_info": {
   "codemirror_mode": {
    "name": "ipython",
    "version": 3
   },
   "file_extension": ".py",
   "mimetype": "text/x-python",
   "name": "python",
   "nbconvert_exporter": "python",
   "pygments_lexer": "ipython3",
   "version": "3.12.1"
  }
 },
 "nbformat": 4,
 "nbformat_minor": 5
}
