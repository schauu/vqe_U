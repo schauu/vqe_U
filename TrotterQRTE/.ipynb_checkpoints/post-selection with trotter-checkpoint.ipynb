{
 "cells": [
  {
   "metadata": {},
   "cell_type": "markdown",
   "source": "Here we implement the whole process where U is applied multiple times. We use TrotterQRTE to provide Quantum Circuit and run the QC in simulator and collect the evolved state to proceed.",
   "id": "debd41d3c0be7ab3"
  },
  {
   "cell_type": "code",
   "id": "d7b0ce59-1ae0-4f92-95d6-0dced2b777e9",
   "metadata": {
    "ExecuteTime": {
     "end_time": "2024-11-25T09:55:25.307099Z",
     "start_time": "2024-11-25T09:55:25.293675Z"
    }
   },
   "source": [
    "import numpy as np\n",
    "import scipy\n",
    "from qiskit import QuantumCircuit, transpile\n",
    "from qiskit.quantum_info import SparsePauliOp, Statevector, state_fidelity, Operator\n",
    "from qiskit.synthesis import SuzukiTrotter, LieTrotter\n",
    "from qiskit_aer import AerSimulator\n",
    "from qiskit_algorithms import TimeEvolutionProblem, TrotterQRTE\n",
    "from qiskit_aer.noise import NoiseModel, depolarizing_error\n",
    "from qiskit.primitives import Estimator\n",
    "from qiskit.circuit.library import PauliEvolutionGate\n",
    "import matplotlib.pyplot as plt\n",
    "from scipy.linalg import expm, cosm\n",
    "import warnings\n",
    "import sys\n",
    "import functools\n",
    "import scipy as sc\n",
    "from qiskit.visualization import plot_histogram"
   ],
   "outputs": [
    {
     "ename": "ModuleNotFoundError",
     "evalue": "No module named 'qiskit_aer'",
     "output_type": "error",
     "traceback": [
      "\u001B[1;31m---------------------------------------------------------------------------\u001B[0m",
      "\u001B[1;31mModuleNotFoundError\u001B[0m                       Traceback (most recent call last)",
      "Cell \u001B[1;32mIn[4], line 6\u001B[0m\n\u001B[0;32m      4\u001B[0m \u001B[38;5;28;01mfrom\u001B[39;00m \u001B[38;5;21;01mqiskit\u001B[39;00m\u001B[38;5;21;01m.\u001B[39;00m\u001B[38;5;21;01mquantum_info\u001B[39;00m \u001B[38;5;28;01mimport\u001B[39;00m SparsePauliOp, Statevector, state_fidelity, Operator\n\u001B[0;32m      5\u001B[0m \u001B[38;5;28;01mfrom\u001B[39;00m \u001B[38;5;21;01mqiskit\u001B[39;00m\u001B[38;5;21;01m.\u001B[39;00m\u001B[38;5;21;01msynthesis\u001B[39;00m \u001B[38;5;28;01mimport\u001B[39;00m SuzukiTrotter, LieTrotter\n\u001B[1;32m----> 6\u001B[0m \u001B[38;5;28;01mfrom\u001B[39;00m \u001B[38;5;21;01mqiskit_aer\u001B[39;00m \u001B[38;5;28;01mimport\u001B[39;00m AerSimulator\n\u001B[0;32m      7\u001B[0m \u001B[38;5;28;01mfrom\u001B[39;00m \u001B[38;5;21;01mqiskit_algorithms\u001B[39;00m \u001B[38;5;28;01mimport\u001B[39;00m TimeEvolutionProblem, TrotterQRTE\n\u001B[0;32m      8\u001B[0m \u001B[38;5;28;01mfrom\u001B[39;00m \u001B[38;5;21;01mqiskit_aer\u001B[39;00m\u001B[38;5;21;01m.\u001B[39;00m\u001B[38;5;21;01mnoise\u001B[39;00m \u001B[38;5;28;01mimport\u001B[39;00m NoiseModel, depolarizing_error\n",
      "\u001B[1;31mModuleNotFoundError\u001B[0m: No module named 'qiskit_aer'"
     ]
    }
   ],
   "execution_count": 4
  },
  {
   "cell_type": "code",
   "id": "960571e0-0b11-4f58-895d-e9291fd7e983",
   "metadata": {
    "ExecuteTime": {
     "end_time": "2024-11-25T06:23:10.357633Z",
     "start_time": "2024-11-25T06:23:10.337234Z"
    }
   },
   "source": [
    "initial_state = Statevector.from_label('00000')\n",
    "step = 10\n",
    "time = 1\n",
    "time_step = 20\n",
    "nqubits = 4\n",
    "periodic = True\n",
    "J = 1/np.sqrt(2)\n",
    "def get_hamiltonian_y(nqubits, J, periodic):\n",
    "    nqubits = nqubits - 1\n",
    "    if periodic==False:\n",
    "        ZZ_tuples = [('ZZY', [i, i+1, 0], J) for i in range(1, nqubits)]\n",
    "        X_tuples = [(\"XY\", [i, 0], J) for i in range(1, nqubits+1)]\n",
    "        hamiltonian = SparsePauliOp.from_sparse_list([*ZZ_tuples, *X_tuples], num_qubits=nqubits+1)\n",
    "    else:\n",
    "        ZZ_tuples = [('ZZY', [i, i+1, 0], J) for i in range(1, nqubits)]\n",
    "        ZZ_tuples += [('ZZY', [nqubits, 1, 0], J)]\n",
    "        X_tuples = [(\"XY\", [i, 0], J) for i in range(1, nqubits+1)]\n",
    "        hamiltonian = SparsePauliOp.from_sparse_list([*ZZ_tuples, *X_tuples], num_qubits=nqubits+1)\n",
    "    return hamiltonian.simplify()\n",
    "\n",
    "\n",
    "def get_hamiltonian_i(nqubits, J, periodic):\n",
    "    nqubits = nqubits - 1\n",
    "    if periodic==False:\n",
    "        ZZ_tuples = [('ZZI', [i, i+1, 0], J) for i in range(1, nqubits)]\n",
    "        X_tuples = [(\"XI\", [i, 0], J) for i in range(1, nqubits+1)]\n",
    "        hamiltonian = SparsePauliOp.from_sparse_list([*ZZ_tuples, *X_tuples], num_qubits=nqubits+1)\n",
    "    else:\n",
    "        ZZ_tuples = [('ZZI', [i, i+1, 0], J) for i in range(1, nqubits)]\n",
    "        ZZ_tuples += [('ZZI', [nqubits, 1, 0], J)]\n",
    "        X_tuples = [(\"XI\", [i, 0], J) for i in range(1, nqubits+1)]\n",
    "        hamiltonian = SparsePauliOp.from_sparse_list([*ZZ_tuples, *X_tuples], num_qubits=nqubits+1)\n",
    "    return hamiltonian.simplify()\n",
    "\n",
    "def get_hamiltonian(nqubits, J):\n",
    "    ZZ_tuples = [('ZZ', [i, i+1], J) for i in range(nqubits-1)]\n",
    "    ZZ_tuples += [('ZZ', [nqubits-1, 0], J)]\n",
    "    X_tuples = [(\"X\", [i], J) for i in range(nqubits)]\n",
    "    hamiltonian = SparsePauliOp.from_sparse_list([*ZZ_tuples, *X_tuples], num_qubits=nqubits)\n",
    "    return hamiltonian.simplify()"
   ],
   "outputs": [],
   "execution_count": 3
  },
  {
   "cell_type": "code",
   "id": "ce3846b1-b98b-44dc-a8f0-cbae70754a70",
   "metadata": {
    "ExecuteTime": {
     "end_time": "2024-11-25T06:33:22.129453Z",
     "start_time": "2024-11-25T06:33:21.620689Z"
    }
   },
   "source": [
    "## calculate exp based on un-scaled hamiltonian\n",
    "hamiltonian = get_hamiltonian(4, 1/np.sqrt(2))\n",
    "H_array = hamiltonian.to_matrix()\n",
    "eval, _ = np.linalg.eigh(H_array)\n",
    "# print(eval)\n",
    "emin = eval[0]\n",
    "emax = eval[-1]\n",
    "H_array = (H_array - emin * np.eye(2**4)) / (emax - emin) ## scale H\n",
    "\n",
    "#H = get_hamiltonian_y(5, 1/np.sqrt(2), True)\n",
    "projector = np.array([[0, -1.0j],\n",
    "                     [1.0j, 0]])\n",
    "H = Operator(np.kron(projector, H_array))\n",
    "H = SparsePauliOp.from_operator(H)\n",
    "projector2 = np.array([[1, 0],\n",
    "                     [0, 0]]) ## for expectation\n",
    "hamiltonian = np.kron(projector2, get_hamiltonian(4, 1/np.sqrt(2)).to_matrix())\n",
    "hamiltonian = Operator(hamiltonian)\n",
    "hamiltonian = SparsePauliOp.from_operator(hamiltonian)\n",
    "initial_state = Statevector.from_label(\"00000\")\n",
    "final_time = np.pi/2 #time\n",
    "time_step = 10 #time_step\n",
    "normalization_factor = SparsePauliOp.from_operator(Operator(np.kron(projector2, np.eye(2**nqubits))))\n",
    "\n",
    "# Exact parts\n",
    "exact_times = np.linspace(0, final_time, 101)\n",
    "# We compute the exact evolution using the exp\n",
    "exact_evolution = [initial_state.evolve(sc.linalg.expm(-1j * time * np.kron(projector, H_array))) for time in exact_times]\n",
    "exact_energy = np.real([sv.expectation_value(hamiltonian)/(sv.data.conj().dot(normalization_factor.to_matrix()).dot(sv.data)) for sv in exact_evolution])\n",
    "\n",
    "##Trotter parts\n",
    "problem = TimeEvolutionProblem(H, initial_state=initial_state, time=final_time, aux_operators=[hamiltonian, normalization_factor],)\n",
    "trotter= TrotterQRTE(SuzukiTrotter(order=2), num_timesteps=time_step, estimator=Estimator())\n",
    "result = trotter.evolve(problem)\n",
    "\n",
    "print(exact_evolution[-1])\n",
    "print(Statevector(result.evolved_state).data[:2**4])"
   ],
   "outputs": [
    {
     "name": "stdout",
     "output_type": "stream",
     "text": [
      "Statevector([ 1.66883523e-01+0.j, -1.26455172e-01+0.j, -1.26455172e-01+0.j,\n",
      "             -1.19416557e-02+0.j, -1.26455172e-01+0.j, -1.50275560e-02+0.j,\n",
      "             -1.19416557e-02+0.j,  2.53688041e-03+0.j, -1.26455172e-01+0.j,\n",
      "             -1.19416557e-02+0.j, -1.50275560e-02+0.j,  2.53688041e-03+0.j,\n",
      "             -1.19416557e-02+0.j,  2.53688041e-03+0.j,  2.53688041e-03+0.j,\n",
      "              2.73740019e-04+0.j,  9.42335810e-01+0.j,  6.58790795e-02+0.j,\n",
      "              6.58790795e-02+0.j, -1.81134563e-02+0.j,  6.58790795e-02+0.j,\n",
      "             -1.50275560e-02+0.j, -1.81134563e-02+0.j, -2.07101193e-03+0.j,\n",
      "              6.58790795e-02+0.j, -1.81134563e-02+0.j, -1.50275560e-02+0.j,\n",
      "             -2.07101193e-03+0.j, -1.81134563e-02+0.j, -2.07101193e-03+0.j,\n",
      "             -2.07101193e-03+0.j,  4.14091845e-04+0.j],\n",
      "            dims=(2, 2, 2, 2, 2))\n",
      "[ 0.1668503 +3.06246575e-16j -0.12641993+1.17082431e-16j\n",
      " -0.12641993+5.46247541e-17j -0.01194745-4.69742754e-19j\n",
      " -0.12641993-6.05010675e-17j -0.01501857-1.40396208e-17j\n",
      " -0.01194745+2.57908134e-17j  0.00253387-2.38406068e-18j\n",
      " -0.12641993-5.04786839e-17j -0.01194745+2.68715642e-18j\n",
      " -0.01501857+9.06291258e-18j  0.00253387+4.20658082e-19j\n",
      " -0.01194745+2.39594087e-17j  0.00253387+8.21997593e-19j\n",
      "  0.00253387-2.24110639e-18j  0.00027439+3.28237973e-20j]\n"
     ]
    }
   ],
   "execution_count": 5
  },
  {
   "metadata": {
    "ExecuteTime": {
     "end_time": "2024-11-25T09:23:18.486851Z",
     "start_time": "2024-11-25T09:23:17.461276Z"
    }
   },
   "cell_type": "code",
   "source": [
    "nqubits = 4\n",
    "J = 1/np.sqrt(2)\n",
    "hamiltonian = get_hamiltonian(nqubits, J)\n",
    "H_array = hamiltonian.to_matrix()\n",
    "eval, _ = np.linalg.eigh(H_array)\n",
    "# print(eval)\n",
    "emin = eval[0]\n",
    "emax = eval[-1]\n",
    "H_array = (H_array - emin * np.eye(2**nqubits)) / (emax - emin) ## scale H\n",
    "final_time = np.pi/2 #time\n",
    "time = final_time\n",
    "time_step = 10 #time_step\n",
    "#H = get_hamiltonian_y(5, 1/np.sqrt(2), True)\n",
    "projector = np.array([[0, -1.0j],\n",
    "                     [1.0j, 0]])\n",
    "H = Operator(np.kron(projector, H_array))\n",
    "H = SparsePauliOp.from_operator(H)\n",
    "projector2 = np.array([[1, 0],\n",
    "                     [0, 0]]) ## for expectation\n",
    "hamiltonian1 = np.kron(projector2, get_hamiltonian(4, 1/np.sqrt(2)).to_matrix())\n",
    "hamiltonian1 = Operator(hamiltonian1)\n",
    "hamiltonian1 = SparsePauliOp.from_operator(hamiltonian1)\n",
    "hamiltonian2 = np.kron(projector2, np.eye(2**nqubits))\n",
    "error_rate = 0\n",
    "order = 1\n",
    "step = 10\n",
    "## 1st order\n",
    "def construct_trotter_circuit(H, time, nqubits, order, time_step):\n",
    "    if order == 1:\n",
    "        formular = LieTrotter(reps=time_step)\n",
    "    else:\n",
    "        formular = SuzukiTrotter(order=order, reps=time_step)\n",
    "    trotter_step_first_order = PauliEvolutionGate(H, time, synthesis=formular)\n",
    "    circuit = QuantumCircuit(nqubits+1)\n",
    "    circuit.append(trotter_step_first_order, range(nqubits+1))\n",
    "    #circuit = circuit.decompose(reps=2)\n",
    "    return circuit\n",
    "\n",
    "def select_sim(error_rate):\n",
    "    noise_model = NoiseModel()\n",
    "    error = depolarizing_error(error_rate, 1)\n",
    "    noise_model.add_all_qubit_quantum_error(error, ['u1', 'u2', 'u3'])\n",
    "    error1 = depolarizing_error(error_rate*10, 2)\n",
    "    noise_model.add_all_qubit_quantum_error(error1,'cx')\n",
    "    sim_d = AerSimulator(noise_model=noise_model)\n",
    "    if error_rate==0:\n",
    "        simulator = AerSimulator()\n",
    "    else:\n",
    "        simulator = sim_d\n",
    "    return simulator\n",
    "\n",
    "def unitary_trotter(H, time, nqubits, order, time_step, error_rate, step):\n",
    "    simulator = AerSimulator()\n",
    "    expectation_list = []\n",
    "    circuit = construct_trotter_circuit(H, time, nqubits, order, time_step)\n",
    "    circuit = circuit.decompose(reps=2)\n",
    "    circuit.save_statevector()\n",
    "    for i in range(step):\n",
    "        #circuit1 = circuit\n",
    "        circuit = transpile(circuit, simulator)\n",
    "        result = simulator.run(circuit).result().data(0)['statevector']\n",
    "        statevector = result.data#[:2**nqubits]\n",
    "        expectation = (statevector.conj().T.dot(hamiltonian1.to_matrix())).dot(statevector)/(statevector.conj().T.dot(hamiltonian2).dot(statevector))\n",
    "        expectation_list.append(expectation)\n",
    "        new_state = statevector[:2**nqubits]/np.linalg.norm(statevector[:2**nqubits])\n",
    "        qc = QuantumCircuit(nqubits)\n",
    "        qc.initialize(new_state, range(nqubits))\n",
    "        circuit1 = construct_trotter_circuit(H, time, nqubits, order, time_step)\n",
    "        #qc = qc.decompose(reps=2)\n",
    "        circuit1.compose(qc, range(nqubits), inplace=True)\n",
    "        circuit1 = circuit1.decompose(reps=2)\n",
    "        circuit1.save_statevector()\n",
    "    return expectation_list\n",
    "\n",
    "\n",
    "expectation_1 = unitary_trotter(H, time, nqubits, order, time_step, error_rate, step)\n",
    "print(expectation_1)\n",
    "\n",
    "\n",
    "\n"
   ],
   "id": "41c1328e452a956e",
   "outputs": [
    {
     "name": "stdout",
     "output_type": "stream",
     "text": [
      "[(-0.1311875556086429+3.7111660570077607e-31j), (-0.1311875556086429+3.7111660570077607e-31j), (-0.1311875556086429+3.7111660570077607e-31j), (-0.1311875556086429+3.7111660570077607e-31j), (-0.1311875556086429+3.7111660570077607e-31j), (-0.1311875556086429+3.7111660570077607e-31j), (-0.1311875556086429+3.7111660570077607e-31j), (-0.1311875556086429+3.7111660570077607e-31j), (-0.1311875556086429+3.7111660570077607e-31j), (-0.1311875556086429+3.7111660570077607e-31j)]\n"
     ]
    }
   ],
   "execution_count": 123
  },
  {
   "metadata": {},
   "cell_type": "code",
   "outputs": [],
   "execution_count": null,
   "source": "",
   "id": "3cd9415158632b39"
  }
 ],
 "metadata": {
  "kernelspec": {
   "display_name": "Python 3 (ipykernel)",
   "language": "python",
   "name": "python3"
  },
  "language_info": {
   "codemirror_mode": {
    "name": "ipython",
    "version": 3
   },
   "file_extension": ".py",
   "mimetype": "text/x-python",
   "name": "python",
   "nbconvert_exporter": "python",
   "pygments_lexer": "ipython3",
   "version": "3.10.12"
  }
 },
 "nbformat": 4,
 "nbformat_minor": 5
}
