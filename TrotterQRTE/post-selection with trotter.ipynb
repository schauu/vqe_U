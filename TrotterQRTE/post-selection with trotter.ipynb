{
 "cells": [
  {
   "cell_type": "markdown",
   "id": "debd41d3c0be7ab3",
   "metadata": {},
   "source": [
    "Here we implement the whole process where U is applied multiple times. We use TrotterQRTE to provide Quantum Circuit and run the QC in simulator and collect the evolved state to proceed."
   ]
  },
  {
   "cell_type": "code",
   "execution_count": 1,
   "id": "9a71da57-0ff1-450b-8d1b-a4a993adc1ca",
   "metadata": {
    "ExecuteTime": {
     "end_time": "2025-01-06T02:38:14.756890Z",
     "start_time": "2025-01-06T02:38:14.752871Z"
    }
   },
   "outputs": [
    {
     "name": "stdout",
     "output_type": "stream",
     "text": [
      "C:\\Users\\schauue\\Anaconda3\\python.exe\n"
     ]
    }
   ],
   "source": [
    "import sys\n",
    "print(sys.executable)"
   ]
  },
  {
   "cell_type": "code",
   "execution_count": 2,
   "id": "d7b0ce59-1ae0-4f92-95d6-0dced2b777e9",
   "metadata": {
    "ExecuteTime": {
     "end_time": "2025-01-06T02:38:20.163294Z",
     "start_time": "2025-01-06T02:38:17.451352Z"
    }
   },
   "outputs": [],
   "source": [
    "import numpy as np\n",
    "import scipy\n",
    "from qiskit import QuantumCircuit, transpile\n",
    "from qiskit.quantum_info import SparsePauliOp, Statevector, state_fidelity, Operator\n",
    "from qiskit.synthesis import SuzukiTrotter, LieTrotter\n",
    "from qiskit_aer import AerSimulator\n",
    "from qiskit_algorithms import TimeEvolutionProblem, TrotterQRTE\n",
    "from qiskit_aer.noise import NoiseModel, depolarizing_error\n",
    "from qiskit.primitives import Estimator\n",
    "from qiskit.circuit.library import PauliEvolutionGate\n",
    "import matplotlib.pyplot as plt\n",
    "from scipy.linalg import expm, cosm\n",
    "import warnings\n",
    "import sys\n",
    "import functools\n",
    "import scipy as sc\n",
    "from qiskit.visualization import plot_histogram"
   ]
  },
  {
   "cell_type": "code",
   "execution_count": 3,
   "id": "960571e0-0b11-4f58-895d-e9291fd7e983",
   "metadata": {
    "ExecuteTime": {
     "end_time": "2025-01-06T02:38:28.601136Z",
     "start_time": "2025-01-06T02:38:28.591497Z"
    }
   },
   "outputs": [],
   "source": [
    "initial_state = Statevector.from_label('00000')\n",
    "step = 10\n",
    "time = 1\n",
    "time_step = 20\n",
    "nqubits = 4\n",
    "periodic = True\n",
    "J = 1/np.sqrt(2)\n",
    "def get_hamiltonian_y(nqubits, J, periodic):\n",
    "    nqubits = nqubits - 1\n",
    "    if periodic==False:\n",
    "        ZZ_tuples = [('ZZY', [i, i+1, 0], J) for i in range(1, nqubits)]\n",
    "        X_tuples = [(\"XY\", [i, 0], J) for i in range(1, nqubits+1)]\n",
    "        hamiltonian = SparsePauliOp.from_sparse_list([*ZZ_tuples, *X_tuples], num_qubits=nqubits+1)\n",
    "    else:\n",
    "        ZZ_tuples = [('ZZY', [i, i+1, 0], J) for i in range(1, nqubits)]\n",
    "        ZZ_tuples += [('ZZY', [nqubits, 1, 0], J)]\n",
    "        X_tuples = [(\"XY\", [i, 0], J) for i in range(1, nqubits+1)]\n",
    "        hamiltonian = SparsePauliOp.from_sparse_list([*ZZ_tuples, *X_tuples], num_qubits=nqubits+1)\n",
    "    return hamiltonian.simplify()\n",
    "\n",
    "\n",
    "def get_hamiltonian_i(nqubits, J, periodic):\n",
    "    nqubits = nqubits - 1\n",
    "    if periodic==False:\n",
    "        ZZ_tuples = [('ZZI', [i, i+1, 0], J) for i in range(1, nqubits)]\n",
    "        X_tuples = [(\"XI\", [i, 0], J) for i in range(1, nqubits+1)]\n",
    "        hamiltonian = SparsePauliOp.from_sparse_list([*ZZ_tuples, *X_tuples], num_qubits=nqubits+1)\n",
    "    else:\n",
    "        ZZ_tuples = [('ZZI', [i, i+1, 0], J) for i in range(1, nqubits)]\n",
    "        ZZ_tuples += [('ZZI', [nqubits, 1, 0], J)]\n",
    "        X_tuples = [(\"XI\", [i, 0], J) for i in range(1, nqubits+1)]\n",
    "        hamiltonian = SparsePauliOp.from_sparse_list([*ZZ_tuples, *X_tuples], num_qubits=nqubits+1)\n",
    "    return hamiltonian.simplify()\n",
    "\n",
    "def get_hamiltonian(nqubits, J):\n",
    "    ZZ_tuples = [('ZZ', [i, i+1], J) for i in range(nqubits-1)]\n",
    "    ZZ_tuples += [('ZZ', [nqubits-1, 0], J)]\n",
    "    X_tuples = [(\"X\", [i], J) for i in range(nqubits)]\n",
    "    hamiltonian = SparsePauliOp.from_sparse_list([*ZZ_tuples, *X_tuples], num_qubits=nqubits)\n",
    "    return hamiltonian.simplify()"
   ]
  },
  {
   "cell_type": "code",
   "execution_count": 4,
   "id": "ce3846b1-b98b-44dc-a8f0-cbae70754a70",
   "metadata": {
    "ExecuteTime": {
     "end_time": "2025-01-06T02:38:35.798247Z",
     "start_time": "2025-01-06T02:38:35.153506Z"
    }
   },
   "outputs": [
    {
     "name": "stdout",
     "output_type": "stream",
     "text": [
      "Statevector([ 1.66883523e-01+0.j, -1.26455172e-01+0.j, -1.26455172e-01+0.j,\n",
      "             -1.19416557e-02+0.j, -1.26455172e-01+0.j, -1.50275560e-02+0.j,\n",
      "             -1.19416557e-02+0.j,  2.53688041e-03+0.j, -1.26455172e-01+0.j,\n",
      "             -1.19416557e-02+0.j, -1.50275560e-02+0.j,  2.53688041e-03+0.j,\n",
      "             -1.19416557e-02+0.j,  2.53688041e-03+0.j,  2.53688041e-03+0.j,\n",
      "              2.73740019e-04+0.j,  9.42335810e-01+0.j,  6.58790795e-02+0.j,\n",
      "              6.58790795e-02+0.j, -1.81134563e-02+0.j,  6.58790795e-02+0.j,\n",
      "             -1.50275560e-02+0.j, -1.81134563e-02+0.j, -2.07101193e-03+0.j,\n",
      "              6.58790795e-02+0.j, -1.81134563e-02+0.j, -1.50275560e-02+0.j,\n",
      "             -2.07101193e-03+0.j, -1.81134563e-02+0.j, -2.07101193e-03+0.j,\n",
      "             -2.07101193e-03+0.j,  4.14091845e-04+0.j],\n",
      "            dims=(2, 2, 2, 2, 2))\n",
      "[ 0.1668503 -1.74677948e-16j -0.12641993+1.74113532e-16j\n",
      " -0.12641993-3.21912645e-17j -0.01194745-3.03918961e-17j\n",
      " -0.12641993-7.37842891e-17j -0.01501857+1.12224822e-17j\n",
      " -0.01194745-1.23472174e-17j  0.00253387-2.34160726e-18j\n",
      " -0.12641993+1.52352362e-17j -0.01194745-2.40170163e-19j\n",
      " -0.01501857+1.47430319e-17j  0.00253387-3.10139287e-18j\n",
      " -0.01194745+1.76497356e-17j  0.00253387-8.52381502e-19j\n",
      "  0.00253387+3.29402766e-19j  0.00027439-1.18133841e-19j]\n"
     ]
    }
   ],
   "source": [
    "## calculate exp based on un-scaled hamiltonian\n",
    "hamiltonian = get_hamiltonian(4, 1/np.sqrt(2))\n",
    "H_array = hamiltonian.to_matrix()\n",
    "eval, _ = np.linalg.eigh(H_array)\n",
    "# print(eval)\n",
    "emin = eval[0]\n",
    "emax = eval[-1]\n",
    "H_array = (H_array - emin * np.eye(2**4)) / (emax - emin) ## scale H\n",
    "\n",
    "#H = get_hamiltonian_y(5, 1/np.sqrt(2), True)\n",
    "projector = np.array([[0, -1.0j],\n",
    "                     [1.0j, 0]])\n",
    "H = Operator(np.kron(projector, H_array))\n",
    "H = SparsePauliOp.from_operator(H)\n",
    "projector2 = np.array([[1, 0],\n",
    "                     [0, 0]]) ## for expectation\n",
    "hamiltonian = np.kron(projector2, get_hamiltonian(4, 1/np.sqrt(2)).to_matrix())\n",
    "hamiltonian = Operator(hamiltonian)\n",
    "hamiltonian = SparsePauliOp.from_operator(hamiltonian)\n",
    "initial_state = Statevector.from_label(\"00000\")\n",
    "final_time = np.pi/2 #time\n",
    "time_step = 10 #time_step\n",
    "normalization_factor = SparsePauliOp.from_operator(Operator(np.kron(projector2, np.eye(2**nqubits))))\n",
    "\n",
    "# Exact parts\n",
    "exact_times = np.linspace(0, final_time, 101)\n",
    "# We compute the exact evolution using the exp\n",
    "exact_evolution = [initial_state.evolve(sc.linalg.expm(-1j * time * np.kron(projector, H_array))) for time in exact_times]\n",
    "exact_energy = np.real([sv.expectation_value(hamiltonian)/(sv.data.conj().dot(normalization_factor.to_matrix()).dot(sv.data)) for sv in exact_evolution])\n",
    "\n",
    "##Trotter parts\n",
    "problem = TimeEvolutionProblem(H, initial_state=initial_state, time=final_time, aux_operators=[hamiltonian, normalization_factor],)\n",
    "trotter= TrotterQRTE(SuzukiTrotter(order=2), num_timesteps=time_step, estimator=Estimator())\n",
    "result = trotter.evolve(problem)\n",
    "\n",
    "print(exact_evolution[-1])\n",
    "print(Statevector(result.evolved_state).data[:2**4])"
   ]
  },
  {
   "cell_type": "code",
   "execution_count": 8,
   "id": "fa84c4cd9c0edaf7",
   "metadata": {
    "ExecuteTime": {
     "end_time": "2024-11-27T08:26:21.966576Z",
     "start_time": "2024-11-27T08:26:21.952143Z"
    }
   },
   "outputs": [],
   "source": [
    "def count_gate(time, time_step):\n",
    "    nqubits = 4\n",
    "    result = []\n",
    "    for i in [0, 1, 2, 4]:\n",
    "        print(i)\n",
    "        if i==0:\n",
    "            circuit = QuantumCircuit(nqubits+1)\n",
    "            hamiltonian = get_hamiltonian_y(nqubits+1, 1/np.sqrt(2), True)\n",
    "            U = expm(-1.0j * time * hamiltonian.to_matrix())\n",
    "            circuit.unitary(U, range(nqubits+1))\n",
    "            circuit = circuit.decompose(reps=2)\n",
    "            result.append(circuit.depth()) #depth, total gate, nonlocal gates\n",
    "            result.append(len(circuit))\n",
    "            result.append(circuit.num_nonlocal_gates())\n",
    "        elif i==1:\n",
    "            hamiltonian = get_hamiltonian_y(nqubits+1, 1/np.sqrt(2), True)\n",
    "            trotter_step_first_order = PauliEvolutionGate(hamiltonian, time/time_step)\n",
    "            circuit = QuantumCircuit(hamiltonian.num_qubits)\n",
    "            for _ in range(time_step):\n",
    "                circuit.append(trotter_step_first_order, range(hamiltonian.num_qubits))\n",
    "            circuit = circuit.decompose(reps=2)\n",
    "            result.append(circuit.depth()) #depth, total gate, nonlocal gates\n",
    "            result.append(len(circuit))\n",
    "            result.append(circuit.num_nonlocal_gates())\n",
    "        else:\n",
    "            hamiltonian = get_hamiltonian_y(nqubits+1, 1/np.sqrt(2), True)\n",
    "            second_order_formula = SuzukiTrotter(i)  # if not passed, order defaults to 2\n",
    "            trotter_step_second_order = PauliEvolutionGate(hamiltonian, time/time_step, synthesis=second_order_formula)\n",
    "            circuit = QuantumCircuit(hamiltonian.num_qubits)\n",
    "            for _ in range(time_step):\n",
    "              circuit.append(trotter_step_second_order, range(hamiltonian.num_qubits))\n",
    "            circuit = circuit.decompose(reps=2)\n",
    "            result.append(circuit.depth()) #depth, total gate, nonlocal gates\n",
    "            result.append(len(circuit))\n",
    "            result.append(circuit.num_nonlocal_gates())\n",
    "    return result"
   ]
  },
  {
   "cell_type": "code",
   "execution_count": 9,
   "id": "3830f0c86a65b7bc",
   "metadata": {
    "ExecuteTime": {
     "end_time": "2024-11-27T08:26:32.108621Z",
     "start_time": "2024-11-27T08:26:31.530661Z"
    }
   },
   "outputs": [
    {
     "name": "stdout",
     "output_type": "stream",
     "text": [
      "0\n",
      "1\n",
      "2\n",
      "4\n"
     ]
    },
    {
     "data": {
      "text/plain": [
       "[945, 1273, 444, 112, 144, 48, 210, 270, 92, 1050, 1350, 460]"
      ]
     },
     "execution_count": 9,
     "metadata": {},
     "output_type": "execute_result"
    }
   ],
   "source": [
    "count_gate(10,2)"
   ]
  },
  {
   "cell_type": "code",
   "execution_count": 30,
   "id": "d54d20555e60992d",
   "metadata": {
    "ExecuteTime": {
     "end_time": "2024-11-27T08:34:45.887467Z",
     "start_time": "2024-11-27T08:34:45.322494Z"
    }
   },
   "outputs": [
    {
     "name": "stdout",
     "output_type": "stream",
     "text": [
      "0\n",
      "1\n",
      "2\n",
      "4\n"
     ]
    },
    {
     "data": {
      "text/plain": [
       "[945, 1273, 444, 168, 216, 72, 315, 405, 138, 1575, 2025, 690]"
      ]
     },
     "execution_count": 30,
     "metadata": {},
     "output_type": "execute_result"
    }
   ],
   "source": [
    "count_gate(10,3)"
   ]
  },
  {
   "cell_type": "code",
   "execution_count": 10,
   "id": "4d9f71b065cc6616",
   "metadata": {
    "ExecuteTime": {
     "end_time": "2024-11-27T08:26:49.607021Z",
     "start_time": "2024-11-27T08:26:48.557742Z"
    }
   },
   "outputs": [
    {
     "name": "stdout",
     "output_type": "stream",
     "text": [
      "0\n",
      "1\n",
      "2\n",
      "4\n"
     ]
    },
    {
     "data": {
      "text/plain": [
       "[945, 1273, 444, 560, 720, 240, 1050, 1350, 460, 5250, 6750, 2300]"
      ]
     },
     "execution_count": 10,
     "metadata": {},
     "output_type": "execute_result"
    }
   ],
   "source": [
    "count_gate(10,10)"
   ]
  },
  {
   "cell_type": "code",
   "execution_count": 18,
   "id": "41c1328e452a956e",
   "metadata": {
    "ExecuteTime": {
     "end_time": "2025-01-06T03:28:53.795409Z",
     "start_time": "2025-01-06T03:28:52.321399Z"
    }
   },
   "outputs": [
    {
     "name": "stdout",
     "output_type": "stream",
     "text": [
      "[(-0.06708079041848723-1.4240929622166598e-31j), (-0.7559843796453788-3.9240156313872786e-31j), (-1.1233537586121067+0j), (-1.3672140931191568+0j), (-1.576629658075213+2.157424872703293e-30j), (-1.7796560014046938+0j), (-1.9784826803204338+0j), (-2.1678131044479625-7.75206923650268e-30j), (-2.342154448962445+7.532551085059329e-30j), (-2.498226683218955+0j), (-2.6351885556721237+0j), (-2.753984052951846-1.413287259435288e-29j), (-2.856525258626431+0j), (-2.945044513214867+0j), (-3.0216974504551217+0j), (-3.088375591855155+0j), (-3.146654261047489+1.3413133062793783e-29j), (-3.19781161809154-2.66644653673885e-29j), (-3.2428761679449125-2.6526044726938935e-29j), (-3.28267909115766+0j), (-3.317900562884367-2.6302924234574873e-29j), (-3.349106575687103+0j), (-3.376776409806693+0j), (-3.4013223394619567+0j), (-3.4231034754892655+0j), (-3.4424354502045937+0j), (-3.4595972874300105+0j), (-3.4748364317215548+0j), (-3.4883726013584586+0j), (-3.500400895630442+2.578611330605501e-29j), (-3.511094422229484+0j), (-3.5206066011736925+0j), (-3.5290732329189463+0j), (-3.5366143774998546+0j), (-3.5433360689450133+0j), (-3.549331877852784-5.130261751474626e-29j), (-3.554684330167877+0j), (-3.559466188827613+0j), (-3.56374160519764-5.12236847972139e-29j), (-3.5675671480300495-1.0240553658022671e-28j)]\n",
      "[(0.08655299879364936+0j), (0.04350025802127895+0j), (0.027360459999594938+0j), (0.01896364624167355+0j), (0.013868088135790223+0j), (0.010555148763567621+0j), (0.008321475544910462+0j), (0.00677443560511245+0j), (0.00567572642358614+0j), (0.004875524413925625+0j), (0.00427788200528775+0j), (0.00382048741877814+0j), (0.0034623044249092716+0j), (0.0031758885010063982+0j), (0.0029425651156916354+0j), (0.0027493825125450124+0j), (0.0025871722795757644+0j), (0.0024493050667199427+0j), (0.0023308847219220665+0j), (0.0022282204963744562+0j), (0.002138476798550229+0j), (0.0020594372294132617+0j), (0.001989342890878446+0j), (0.0019267795244979485+0j), (0.0018705971878976064+0j), (0.0018198519481697245+0j), (0.0017737627295099125+0j), (0.0017316787846756712+0j), (0.0016930547577219967+0j), (0.0016574312760215134+0j), (0.001624419645164403+0j), (0.001593689641795559+0j), (0.001564959682961121+0j), (0.0015379888443400862+0j), (0.0015125703345405263+0j), (0.0014885261281313658+0j), (0.0014657025289854142+0j), (0.001443966486136079+0j), (0.0014232025221883348+0j), (0.0014033101630506629+0j)]\n"
     ]
    }
   ],
   "source": [
    "nqubits = 4\n",
    "J = 1/np.sqrt(2)\n",
    "hamiltonian = get_hamiltonian(nqubits, J)\n",
    "H_array = hamiltonian.to_matrix()\n",
    "eval, _ = np.linalg.eigh(H_array)\n",
    "# print(eval)\n",
    "emin = eval[0]\n",
    "emax = eval[-1]\n",
    "H_array = (H_array - emin * np.eye(2**nqubits)) / (emax - emin) ## scale H\n",
    "final_time = np.pi/2 #time\n",
    "time = final_time\n",
    "time_step = 3 #time_step\n",
    "initial_state = Statevector.from_label(\"0000\")\n",
    "#H = get_hamiltonian_y(5, 1/np.sqrt(2), True)\n",
    "projector = np.array([[0, -1.0j],\n",
    "                     [1.0j, 0]])\n",
    "H = Operator(np.kron(projector, H_array))\n",
    "H = SparsePauliOp.from_operator(H)\n",
    "projector2 = np.array([[1, 0],\n",
    "                     [0, 0]]) ## for expectation\n",
    "hamiltonian1 = np.kron(projector2, get_hamiltonian(4, 1/np.sqrt(2)).to_matrix())\n",
    "hamiltonian1 = Operator(hamiltonian1)\n",
    "hamiltonian1 = SparsePauliOp.from_operator(hamiltonian1)\n",
    "hamiltonian2 = np.kron(projector2, np.eye(2**nqubits))\n",
    "error_rate = 0\n",
    "order = 1\n",
    "step = 40\n",
    "## 1st order\n",
    "def construct_trotter_circuit(H, time, nqubits, order, time_step):\n",
    "    if order == 1:\n",
    "        formular = LieTrotter(reps=time_step)\n",
    "    else:\n",
    "        formular = SuzukiTrotter(order=order, reps=time_step)\n",
    "    trotter_step_first_order = PauliEvolutionGate(H, time, synthesis=formular)\n",
    "    circuit = QuantumCircuit(nqubits+1)\n",
    "    circuit.append(trotter_step_first_order, range(nqubits+1))\n",
    "    #circuit = circuit.decompose(reps=2)\n",
    "    return circuit\n",
    "\n",
    "def select_sim(error_rate):\n",
    "    noise_model = NoiseModel()\n",
    "    error = depolarizing_error(error_rate, 1)\n",
    "    noise_model.add_all_qubit_quantum_error(error, ['u1', 'u2', 'u3'])\n",
    "    error1 = depolarizing_error(error_rate*10, 2)\n",
    "    noise_model.add_all_qubit_quantum_error(error1,'cx')\n",
    "    sim_d = AerSimulator(noise_model=noise_model)\n",
    "    if error_rate==0:\n",
    "        simulator = AerSimulator()\n",
    "    else:\n",
    "        simulator = sim_d\n",
    "    return simulator\n",
    "\n",
    "def unitary_trotter(H, time, nqubits, order, time_step, error_rate, step):\n",
    "    simulator = select_sim(error_rate)\n",
    "    expectation_list = []\n",
    "    probability_list = []\n",
    "    statevector = initial_state.data\n",
    "    for i in range(step):\n",
    "        qc = QuantumCircuit(nqubits+1)\n",
    "        qc.initialize(statevector, range(nqubits))\n",
    "        circuit_temp = construct_trotter_circuit(H, time, nqubits, order, time_step)\n",
    "        qc = qc.compose(circuit_temp, range(nqubits+1))\n",
    "        #qc = qc.decompose(reps=2)\n",
    "        qc.save_statevector()\n",
    "        circuit = transpile(qc, simulator)\n",
    "        result = simulator.run(circuit).result().data(0)['statevector']\n",
    "        new_state = result.data#\n",
    "        new_state_0= new_state[:2**nqubits]\n",
    "        # Print the statevector at each step for debugging\n",
    "        #print(f\"Step {i}: Statevector = {statevector}\")\n",
    "        expectation = (new_state.conj().T.dot(hamiltonian1.to_matrix())).dot(new_state)/(new_state.conj().T.dot(hamiltonian2).dot(new_state))\n",
    "        if i ==0:\n",
    "            probability = new_state_0.conj().T.dot(new_state_0)\n",
    "        else:\n",
    "            probability = new_state_0.conj().T.dot(new_state_0)\n",
    "            probability *= probability_list[-1]\n",
    "        expectation_list.append(expectation)\n",
    "        probability_list.append(probability)\n",
    "        # Print the expectation value at each step for debugging\n",
    "        #print(f\"Step {i}: Expectation = {expectation}\")\n",
    "        statevector = new_state[:2**nqubits]/np.linalg.norm(new_state[:2**nqubits])\n",
    "    return expectation_list, probability_list\n",
    "\n",
    "result = unitary_trotter(H, time, nqubits, order, time_step, error_rate, step)\n",
    "expectation_1 = result[0]\n",
    "probability_1 = result[1]\n",
    "print(expectation_1)\n",
    "print(probability_1)\n",
    "\n",
    "\n"
   ]
  },
  {
   "cell_type": "code",
   "execution_count": 19,
   "id": "a3a933c63e7b11c6",
   "metadata": {
    "ExecuteTime": {
     "end_time": "2025-01-06T03:28:58.706076Z",
     "start_time": "2025-01-06T03:28:56.778023Z"
    }
   },
   "outputs": [
    {
     "name": "stdout",
     "output_type": "stream",
     "text": [
      "[(-0.15549458140967637-2.66963200468506e-31j), (-0.8741998594466718+0j), (-1.2919826948656319+0j), (-1.6006171544873793+0j), (-1.8836261433420478+0j), (-2.1607153504362553+3.961997657554659e-30j), (-2.425367924829929+0j), (-2.665808680256136-7.320275159709556e-30j), (-2.8737299795711904+1.4179107349545628e-29j), (-3.0464277810291382-1.3810930989420253e-29j), (-3.185718870306147+0j), (-3.2959249810660514+0j), (-3.382165322976085+0j), (-3.4493216329179854+0j), (-3.5015773594979898+0j), (-3.5423114660455526+0j), (-3.574164359393808+0j), (-3.5991642319929835+2.5536615925821793e-29j), (-3.61885804201401+2.547440425016549e-29j), (-3.634424861733189+0j), (-3.6467661676992598-2.5388379958589936e-29j), (-3.6565747709089313+5.071749937032467e-29j), (-3.664386334334206+0j), (-3.6706175479859855+0j), (-3.6755944000462186+0j), (-3.6795732055752906-5.058090892298951e-29j), (-3.6827563629022038-5.056223313169889e-29j), (-3.685304263150939-5.05473127765858e-29j), (-3.687344374303583+5.053537865419053e-29j), (-3.6889782308371513+0j), (-3.6902868545958163+0j), (-3.691334988115693+0j), (-3.692174419880327-1.0101422738853296e-28j), (-3.692846608856624-5.050316659535497e-29j), (-3.6933847640096564+0j), (-3.693815497052048+5.049745781933722e-29j), (-3.6941601391782397+5.049541773498026e-29j), (-3.694435792056289+1.0098756017333193e-28j), (-3.694656167909237+5.049246537958679e-29j), (-3.694832261740016+5.049140986433478e-29j)]\n"
     ]
    }
   ],
   "source": [
    "order = 2\n",
    "result = unitary_trotter(H, time, nqubits, order, time_step, error_rate, step)\n",
    "expectation_2 = result[0]\n",
    "probability_2 = result[1]\n",
    "print(expectation_2)"
   ]
  },
  {
   "cell_type": "code",
   "execution_count": 20,
   "id": "c5c560ff0263d04e",
   "metadata": {
    "ExecuteTime": {
     "end_time": "2025-01-06T03:29:07.679040Z",
     "start_time": "2025-01-06T03:29:00.191574Z"
    }
   },
   "outputs": [
    {
     "name": "stdout",
     "output_type": "stream",
     "text": [
      "[(-0.15726323976811843+1.0618743415491535e-30j), (-0.8749593904605824+6.033037944028765e-30j), (-1.2924803134511949+0j), (-1.601113505749036+0j), (-1.8841479272429384+0j), (-2.1612101134236514+0j), (-2.4257929957350495+0j), (-2.666148632724222+2.9273823259227063e-29j), (-2.8739876929763146-5.67047684873649e-29j), (-3.0466124870110343+0j), (-3.1858393402124743+5.409420014029898e-29j), (-3.295987790421524+0j), (-3.3821755970052356+0j), (-3.449284219803112+0j), (-3.50149755790645+0j), (-3.5421952041539146+0j), (-3.574018013093431+0j), (-3.59899429400788+1.0214076146902386e-28j), (-3.618670787111666+1.0189275605405325e-28j), (-3.6342260813441047+0j), (-3.6465609967155355+0j), (-3.6563676012763837+1.0143207222901408e-28j), (-3.6641807979042973+2.0267808429549114e-28j), (-3.670416548383049+0j), (-3.6754001752798486+2.024138678199598e-28j), (-3.6793874068800445+0j), (-3.682580139256555+0j), (-3.6851383444007864+0j), (-3.6871891485558055+0j), (-3.688833813800066+2.0210195284510407e-28j), (-3.6901531499327516+4.041431303353756e-28j), (-3.6912117387805683+0j), (-3.692061250948455+2.020276879448447e-28j), (-3.692743062657077+0j), (-3.6932903284905354+2.019994674886002e-28j), (-3.6937296283281484+0j), (-3.694082279164964+0j), (-3.6943653820137468+0j), (-3.6945926586254356+0j), (-3.694775120983945+0j)]\n"
     ]
    }
   ],
   "source": [
    "order = 4\n",
    "result = unitary_trotter(H, time, nqubits, order, time_step, error_rate, step)\n",
    "expectation_4 = result[0]\n",
    "probability_4 = result[1]\n",
    "print(expectation_4)"
   ]
  },
  {
   "cell_type": "code",
   "execution_count": 55,
   "id": "46c3cff6baee83ca",
   "metadata": {
    "ExecuteTime": {
     "end_time": "2024-11-27T08:46:05.097638Z",
     "start_time": "2024-11-27T08:46:05.091696Z"
    }
   },
   "outputs": [
    {
     "data": {
      "text/plain": [
       "40"
      ]
     },
     "execution_count": 55,
     "metadata": {},
     "output_type": "execute_result"
    }
   ],
   "source": [
    "len(expectation_4)"
   ]
  },
  {
   "cell_type": "markdown",
   "id": "1d6418914f75b78d",
   "metadata": {},
   "source": [
    "## Exact matrix exponential outside circuits"
   ]
  },
  {
   "cell_type": "code",
   "execution_count": 12,
   "id": "64061d0636e0460f",
   "metadata": {
    "ExecuteTime": {
     "end_time": "2024-12-29T06:55:24.938886Z",
     "start_time": "2024-12-29T06:55:24.932063Z"
    }
   },
   "outputs": [],
   "source": [
    "def num_exact(time, nqubits, error_rate, step):\n",
    "    projector = np.array([[0, -1.0j],\n",
    "                     [1.0j, 0]])\n",
    "    J = 1/np.sqrt(2)\n",
    "    hamiltonian = get_hamiltonian(nqubits, J)\n",
    "    H_array = hamiltonian.to_matrix()\n",
    "    eval, _ = np.linalg.eigh(H_array)\n",
    "# print(eval)\n",
    "    emin = eval[0]\n",
    "    emax = eval[-1]\n",
    "    H_array = (H_array - emin * np.eye(2**nqubits)) / (emax - emin)\n",
    "    initial_state = Statevector.from_label(\"0\"*nqubits)\n",
    "    expectation_exact = []\n",
    "    #simulator = select_sim(error_rate)\n",
    "    statevector = initial_state.data\n",
    "    density_matrix = np.outer(statevector, statevector.conj())\n",
    "    for i in range(step):\n",
    "        U = cosm(time * H_array)\n",
    "        rho = U.dot(density_matrix).dot(U.T.conj())\n",
    "        rho /= np.trace(rho)\n",
    "        # qc = QuantumCircuit(nqubits+1)\n",
    "        # qc.initialize(statevector, range(nqubits))\n",
    "        # qc.unitary(U, range(nqubits+1))\n",
    "        # qc.decompose(reps=2)\n",
    "        # qc.save_statevector()\n",
    "        # result = simulator.run(qc).result().data(0)['statevector']\n",
    "        # new_state = result.data#[:2**nqubits]\n",
    "        expectation = np.trace(rho.dot(hamiltonian.to_matrix()))#(new_state.conj().dot(hamiltonian1.to_matrix())).dot(new_state)/(new_state.conj().T.dot(hamiltonian2).dot(new_state))\n",
    "        expectation_exact.append(expectation)\n",
    "        density_matrix = rho\n",
    "        #statevector = new_state[:2**nqubits]/np.linalg.norm(new_state[:2**nqubits])\n",
    "    return expectation_exact"
   ]
  },
  {
   "cell_type": "code",
   "execution_count": 13,
   "id": "2b0037f25e2c9b99",
   "metadata": {
    "ExecuteTime": {
     "end_time": "2024-12-29T06:55:26.739273Z",
     "start_time": "2024-12-29T06:55:26.699243Z"
    }
   },
   "outputs": [
    {
     "data": {
      "text/plain": [
       "[(-0.1572607475401091+0j),\n",
       " (-0.8749572744784662+0j),\n",
       " (-1.292478454983243+0j),\n",
       " (-1.6011117167037436+0j),\n",
       " (-1.8841462228970873+0j),\n",
       " (-2.1612086115559217+0j),\n",
       " (-2.4257917971505307+0j),\n",
       " (-2.666147772451855+0j),\n",
       " (-2.873987143809993+0j),\n",
       " (-3.0466121863911653+0j),\n",
       " (-3.1858392172251655+0j),\n",
       " (-3.295987782528562+0j),\n",
       " (-3.3821756564172407+0j),\n",
       " (-3.4492843134085867+0j),\n",
       " (-3.5014976644674847+0j),\n",
       " (-3.5421953110014246+0j),\n",
       " (-3.574018113294421+0j),\n",
       " (-3.5989943842559833+0j),\n",
       " (-3.6186708662785936+0j),\n",
       " (-3.6342261495372314+0j),\n",
       " (-3.646561054689411+0j),\n",
       " (-3.65636765007834+0j),\n",
       " (-3.664180838669151+0j),\n",
       " (-3.6704165822200134+0j),\n",
       " (-3.675400203215073+0j),\n",
       " (-3.6793874298317917+0j),\n",
       " (-3.6825801580289426+0j),\n",
       " (-3.6851383596875618+0j),\n",
       " (-3.6871891609491163+0j),\n",
       " (-3.688833823801305+0j),\n",
       " (-3.6901531579638336+0j),\n",
       " (-3.6912117451947477+0j),\n",
       " (-3.692061256040254+0j),\n",
       " (-3.692743066671156+0j),\n",
       " (-3.69329033162946+0j),\n",
       " (-3.693729630759127+0j),\n",
       " (-3.694082281025608+0j),\n",
       " (-3.6943653834169874+0j),\n",
       " (-3.694592659663682+0j),\n",
       " (-3.694775121732591+0j)]"
      ]
     },
     "execution_count": 13,
     "metadata": {},
     "output_type": "execute_result"
    }
   ],
   "source": [
    "num_exact(np.pi/2, 4, 0, 40)"
   ]
  },
  {
   "cell_type": "code",
   "execution_count": null,
   "id": "f6030f5f0daf4c04",
   "metadata": {},
   "outputs": [],
   "source": []
  },
  {
   "cell_type": "markdown",
   "id": "b205b57b2bd9ba14",
   "metadata": {},
   "source": [
    "## With circuit"
   ]
  },
  {
   "cell_type": "code",
   "execution_count": 22,
   "id": "50aa8b17bb4ea62d",
   "metadata": {
    "ExecuteTime": {
     "end_time": "2025-01-06T03:30:01.151541Z",
     "start_time": "2025-01-06T03:29:46.610310Z"
    }
   },
   "outputs": [
    {
     "name": "stdout",
     "output_type": "stream",
     "text": [
      "[(-0.15726074754010833+0j), (-0.8749572744784655+0j), (-1.2924784549832422+0j), (-1.6011117167037432+0j), (-1.8841462228970876+0j), (-2.1612086115559213+0j), (-2.4257917971505303+0j), (-2.6661477724518554+0j), (-2.8739871438099933+0j), (-3.0466121863911635+0j), (-3.185839217225165+0j), (-3.2959877825285626+0j), (-3.3821756564172407+0j), (-3.4492843134085867+0j), (-3.501497664467486+0j), (-3.542195311001425+0j), (-3.574018113294422+0j), (-3.598994384255984+0j), (-3.618670866278594+0j), (-3.6342261495372314+0j), (-3.64656105468941+0j), (-3.656367650078341+0j), (-3.6641808386691506+0j), (-3.670416582220014+0j), (-3.6754002032150725+0j), (-3.6793874298317912+0j), (-3.682580158028943+0j), (-3.685138359687562+0j), (-3.6871891609491168+0j), (-3.6888338238013048+0j), (-3.690153157963833+0j), (-3.6912117451947473+0j), (-3.6920612560402546+0j), (-3.692743066671154+0j), (-3.693290331629461+0j), (-3.6937296307591265+0j), (-3.6940822810256075+0j), (-3.6943653834169874+0j), (-3.694592659663681+0j), (-3.6947751217325893+0j)] [(0.09286163764623448+0j), (0.04856910451536395+0j), (0.0315435887165874+0j), (0.02260987049234423+0j), (0.017190283963067057+0j), (0.013695861889820313+0j), (0.011377799934175406+0j), (0.009811358615850845+0j), (0.008735542877274289+0j), (0.007984769339387623+0j), (0.007452329499507078+0j), (0.0070686698743165+0j), (0.006787948800729038+0j), (0.006579585106022556+0j), (0.006422903071953892+0j), (0.006303718660201256+0j), (0.006212149495067208+0j), (0.006141199607785303+0j), (0.006085836916349977+0j), (0.0060423857632981555+0j), (0.006008122214417073+0j), (0.005981000870512029+0j), (0.0059594677746175285+0j), (0.005942330294677924+0j), (0.005928665179286908+0j), (0.005917752543134401+0j), (0.005909027730090856+0j), (0.0059020456970883565+0j), (0.005896454308432167+0j), (0.005891974072209599+0j), (0.00588838260523214+0j), (0.00588550261788258+0j), (0.0058831925526630175+0j), (0.005881339245915095+0j), (0.005879852146941095+0j), (0.00587865874578962+0j), (0.00587770094543278+0j), (0.005876932175954097+0j), (0.005876315094367362+0j), (0.005875819748319545+0j)]\n"
     ]
    }
   ],
   "source": [
    "def unitary_exact(time, nqubits, error_rate, step):\n",
    "    projector = np.array([[0, -1.0j],\n",
    "                     [1.0j, 0]])\n",
    "    J = 1/np.sqrt(2)\n",
    "    hamiltonian = get_hamiltonian(nqubits, J)\n",
    "    H_array = hamiltonian.to_matrix()\n",
    "    eval, _ = np.linalg.eigh(H_array)\n",
    "# print(eval)\n",
    "    emin = eval[0]\n",
    "    emax = eval[-1]\n",
    "    H_array = (H_array - emin * np.eye(2**nqubits)) / (emax - emin)\n",
    "    initial_state = Statevector.from_label(\"0\"*nqubits)\n",
    "    expectation_exact = []\n",
    "    probability_exact = []\n",
    "    simulator = select_sim(error_rate)\n",
    "    statevector = initial_state.data\n",
    "    for i in range(step):\n",
    "        U = expm(-1.0j * time * np.kron(projector, H_array))\n",
    "        qc = QuantumCircuit(nqubits+1)\n",
    "        qc.initialize(statevector, range(nqubits))\n",
    "        qc.unitary(U, range(nqubits+1))\n",
    "        qc.decompose(reps=2)\n",
    "        qc.save_statevector()\n",
    "        result = simulator.run(qc).result().data(0)['statevector']\n",
    "        new_state = result.data#\n",
    "        new_state_0 = new_state[:2**nqubits]\n",
    "        expectation = (new_state.conj().dot(hamiltonian1.to_matrix())).dot(new_state)/(new_state.conj().T.dot(hamiltonian2).dot(new_state))\n",
    "        expectation_exact.append(expectation)\n",
    "        if i ==0:\n",
    "            probability = new_state_0.conj().T.dot(new_state_0)\n",
    "        else:\n",
    "            probability = new_state_0.conj().T.dot(new_state_0)\n",
    "            probability *= probability_exact[-1]\n",
    "        probability_exact.append(probability)\n",
    "        statevector = new_state[:2**nqubits]/np.linalg.norm(new_state[:2**nqubits])\n",
    "    return expectation_exact, probability_exact\n",
    "\n",
    "result = (unitary_exact(np.pi/2, 4, 0, 40))\n",
    "expectation_exact = result[0]\n",
    "probability_exact = result[1]\n",
    "print(expectation_exact, probability_exact)"
   ]
  },
  {
   "cell_type": "code",
   "execution_count": 36,
   "id": "e010dda420415197",
   "metadata": {
    "ExecuteTime": {
     "end_time": "2024-11-27T08:38:21.229042Z",
     "start_time": "2024-11-27T08:38:21.209947Z"
    }
   },
   "outputs": [
    {
     "data": {
      "text/plain": [
       "-3.69551813004515"
      ]
     },
     "execution_count": 36,
     "metadata": {},
     "output_type": "execute_result"
    }
   ],
   "source": [
    "emin"
   ]
  },
  {
   "cell_type": "code",
   "execution_count": 57,
   "id": "c0608cd1c411813f",
   "metadata": {
    "ExecuteTime": {
     "end_time": "2024-11-27T08:46:25.921798Z",
     "start_time": "2024-11-27T08:46:25.904146Z"
    }
   },
   "outputs": [
    {
     "data": {
      "text/plain": [
       "0.0002010566005666951"
      ]
     },
     "execution_count": 57,
     "metadata": {},
     "output_type": "execute_result"
    }
   ],
   "source": [
    "np.abs(expectation_exact[-1]-emin)/np.abs(emin)"
   ]
  },
  {
   "cell_type": "code",
   "execution_count": 25,
   "id": "f89b6337fbcc4f50",
   "metadata": {
    "ExecuteTime": {
     "end_time": "2025-01-06T03:32:00.363844Z",
     "start_time": "2025-01-06T03:32:00.163752Z"
    }
   },
   "outputs": [
    {
     "data": {
      "image/png": "[encoded data removed]",
      "text/plain": [
       "<Figure size 640x480 with 2 Axes>"
      ]
     },
     "metadata": {},
     "output_type": "display_data"
    }
   ],
   "source": [
    "fig, axes = plt.subplots()\n",
    "x = list(range(1, step+1))  # includes initial state\n",
    "axes.plot(\n",
    "    x, expectation_1, label=\"First order\", marker=\"x\", c=\"darkmagenta\", ls=\"-\", lw=0.8\n",
    ")\n",
    "axes.plot(\n",
    "    x, expectation_2, label=\"Second order\", marker=\"v\", c=\"limegreen\", ls=\"-\", lw=0.8\n",
    ")\n",
    "#axes.plot(\n",
    "#    x, expectation_4, label=\"Fourth order\", marker=\"v\", c=\"r\", ls=\"-\", lw=0.8\n",
    "#)\n",
    "axes.plot(x, expectation_exact, c=\"k\", ls=\":\", label=\"Exact matrix exponential\")\n",
    "horizontal_line_value = emin\n",
    "axes.axhline(y=horizontal_line_value, color='r', linestyle='--', label='minimum eigenvalue')\n",
    "legend = fig.legend(\n",
    "    *axes.get_legend_handles_labels(),\n",
    "    bbox_to_anchor=(1.0, 0.5),\n",
    "    loc=\"center left\",\n",
    "    framealpha=0.5,\n",
    ")\n",
    "\n",
    "axes.set_xticks(np.arange(0, max(x) + 1, 5))\n",
    "axes.set_xlabel('Step')\n",
    "axes.set_ylabel('Energy')\n",
    "axes.set_title('Trotter step is 3')\n",
    "\n",
    "ax2 = axes.twinx()\n",
    "ax2.plot(x, probability_1, label=\"First order\", marker=\"x\", c=\"darkmagenta\", ls=\"-\", lw=0.8)\n",
    "ax2.plot(x, probability_2, label=\"Second order\", marker=\"v\", c=\"limegreen\", ls=\"-\", lw=0.8)\n",
    "#ax2.plot(x, probability_4, label=\"Fourth order\", marker=\"v\", c=\"r\", ls=\"-\", lw=0.8)\n",
    "ax2.plot(x, probability_exact, c=\"k\", ls=\"-\", lw=0.8, label=\"Exact matrix exponential\")\n",
    "ax2.set_ylabel('Probability')\n",
    "fig.tight_layout()"
   ]
  },
  {
   "cell_type": "markdown",
   "id": "d7e1389a7a1774c6",
   "metadata": {},
   "source": [
    "8 qubits"
   ]
  },
  {
   "cell_type": "markdown",
   "id": "d2b29f0f3caed418",
   "metadata": {},
   "source": [
    "Nqubits=6 and use trotter to construct circuit and see whether it speeds up than qc.unitary(U)"
   ]
  },
  {
   "cell_type": "code",
   "execution_count": null,
   "id": "3ea1e4ab-9776-4c1a-b1fc-0e73097fa2ea",
   "metadata": {},
   "outputs": [],
   "source": [
    "nqubits = 8\n",
    "final_time = np.pi/2 #time\n",
    "time = final_time\n",
    "time_step = 10 #time_step\n",
    "step = 20\n",
    "#H = get_hamiltonian_y(5, 1/np.sqrt(2), True)\n",
    "projector = np.array([[0, -1.0j],\n",
    "                     [1.0j, 0]])\n",
    "initial_state = Statevector.from_label(\"00000000\")\n",
    "expectation_exact = []\n",
    "simulator = AerSimulator()\n",
    "statevector = initial_state.data\n",
    "for i in range(step):\n",
    "    U = expm(-1.0j * time * np.kron(projector, H_array))\n",
    "    qc = QuantumCircuit(nqubits+1)\n",
    "    qc.initialize(statevector, range(nqubits))\n",
    "    qc.unitary(U, range(nqubits+1))\n",
    "    qc.decompose(reps=2)\n",
    "    qc.save_statevector()\n",
    "    result = simulator.run(qc).result().data(0)['statevector']\n",
    "    new_state = result.data#[:2**nqubits]\n",
    "    expectation = (new_state.conj().dot(hamiltonian1.to_matrix())).dot(new_state)/(new_state.conj().T.dot(hamiltonian2).dot(new_state))\n",
    "    expectation_exact.append(expectation)\n",
    "    statevector = new_state[:2**nqubits]/np.linalg.norm(new_state[:2**nqubits])\n",
    "\n",
    "    print(expectation)"
   ]
  },
  {
   "cell_type": "code",
   "execution_count": 14,
   "id": "bde036fb1c67882c",
   "metadata": {
    "ExecuteTime": {
     "end_time": "2024-12-05T12:45:38.192174Z",
     "start_time": "2024-12-05T12:45:38.167890Z"
    }
   },
   "outputs": [
    {
     "data": {
      "text/plain": [
       "Result(backend_name='aer_simulator', backend_version='0.13.3', qobj_id='', job_id='6fb5afa0-4f54-4139-9780-cba495e8f0b6', success=True, results=[ExperimentResult(shots=1024, success=True, meas_level=2, data=ExperimentResultData(statevector=Statevector([ 1.66883523e-01+0.j, -1.26455172e-01+0.j, -1.26455172e-01+0.j,\n",
       "             -1.19416557e-02+0.j, -1.26455172e-01+0.j, -1.50275560e-02+0.j,\n",
       "             -1.19416557e-02+0.j,  2.53688041e-03+0.j, -1.26455172e-01+0.j,\n",
       "             -1.19416557e-02+0.j, -1.50275560e-02+0.j,  2.53688041e-03+0.j,\n",
       "             -1.19416557e-02+0.j,  2.53688041e-03+0.j,  2.53688041e-03+0.j,\n",
       "              2.73740019e-04+0.j,  9.42335810e-01+0.j,  6.58790795e-02+0.j,\n",
       "              6.58790795e-02+0.j, -1.81134563e-02+0.j,  6.58790795e-02+0.j,\n",
       "             -1.50275560e-02+0.j, -1.81134563e-02+0.j, -2.07101193e-03+0.j,\n",
       "              6.58790795e-02+0.j, -1.81134563e-02+0.j, -1.50275560e-02+0.j,\n",
       "             -2.07101193e-03+0.j, -1.81134563e-02+0.j, -2.07101193e-03+0.j,\n",
       "             -2.07101193e-03+0.j,  4.14091845e-04+0.j],\n",
       "            dims=(2, 2, 2, 2, 2))), header=QobjExperimentHeader(creg_sizes=[], global_phase=0.0, memory_slots=0, n_qubits=5, name='circuit-166', qreg_sizes=[['q', 5]], metadata={}), status=DONE, seed_simulator=950956795, metadata={'batched_shots_optimization': False, 'required_memory_mb': 1, 'method': 'statevector', 'active_input_qubits': [0, 1, 2, 3, 4], 'device': 'CPU', 'remapped_qubits': False, 'num_qubits': 5, 'num_clbits': 0, 'time_taken': 0.0022221, 'input_qubit_map': [[0, 0], [1, 1], [2, 2], [3, 3], [4, 4]], 'max_memory_mb': 16226, 'measure_sampling': True, 'noise': 'ideal', 'parallel_shots': 1, 'parallel_state_update': 12, 'runtime_parameter_bind': False, 'num_bind_params': 1, 'fusion': {'enabled': True, 'threshold': 14, 'max_fused_qubits': 5, 'applied': False}, 'result_subtypes': {'statevector': 'single'}, 'result_types': {'statevector': 'save_statevector'}}, time_taken=0.0022221)], date=2024-12-05T20:45:38.187274, status=COMPLETED, header=None, metadata={'omp_enabled': True, 'parallel_experiments': 1, 'max_memory_mb': 16226, 'max_gpu_memory_mb': 0, 'time_taken_execute': 0.0030974, 'time_taken_parameter_binding': 0.0002761}, time_taken=0.008012056350708008)"
      ]
     },
     "execution_count": 14,
     "metadata": {},
     "output_type": "execute_result"
    }
   ],
   "source": [
    "\n",
    "\n",
    "nqubits = 8\n",
    "J = 1/np.sqrt(2)\n",
    "hamiltonian = get_hamiltonian(nqubits, J)\n",
    "H_array = hamiltonian.to_matrix()\n",
    "eval, _ = np.linalg.eigh(H_array)\n",
    "# print(eval)\n",
    "emin = eval[0]\n",
    "emax = eval[-1]\n",
    "H_array = (H_array - emin * np.eye(2**nqubits)) / (emax - emin) ## scale H\n",
    "final_time = np.pi/2 #time\n",
    "time = final_time\n",
    "time_step = 10 #time_step\n",
    "initial_state = Statevector.from_label(\"0000\")\n",
    "#H = get_hamiltonian_y(5, 1/np.sqrt(2), True)\n",
    "projector = np.array([[0, -1.0j],\n",
    "                     [1.0j, 0]])\n",
    "H = Operator(np.kron(projector, H_array))\n",
    "H = SparsePauliOp.from_operator(H)\n",
    "projector2 = np.array([[1, 0],\n",
    "                     [0, 0]]) ## for expectation\n",
    "hamiltonian1 = get_hamiltonian_y(nqubits+1, J, True)\n",
    "#hamiltonian1 = Operator(hamiltonian1)\n",
    "#hamiltonian1 = SparsePauliOp.from_operator(hamiltonian1)\n",
    "hamiltonian2 = np.kron(projector2, np.eye(2**nqubits))\n",
    "error_rate = 0\n",
    "order = 1\n",
    "step = 20\n",
    "\n",
    "circ = QuantumCircuit(nqubits+1)\n",
    "U = expm(-1.0j * time * np.kron(projector, H_array))\n",
    "circ.unitary(U, range(nqubits+1))\n",
    "circ.save_statevector()\n",
    "simulator.run(qc).result()"
   ]
  },
  {
   "cell_type": "code",
   "execution_count": 2,
   "id": "81aca12d5768536f",
   "metadata": {
    "ExecuteTime": {
     "end_time": "2024-12-01T09:21:09.078427Z",
     "start_time": "2024-12-01T09:21:09.057673Z"
    }
   },
   "outputs": [
    {
     "data": {
      "text/plain": [
       "'0000'"
      ]
     },
     "execution_count": 2,
     "metadata": {},
     "output_type": "execute_result"
    }
   ],
   "source": [
    "\"0\"*4"
   ]
  },
  {
   "cell_type": "code",
   "execution_count": 4,
   "id": "3248bd23d77d3bdc",
   "metadata": {
    "ExecuteTime": {
     "end_time": "2024-12-05T12:31:05.690409Z",
     "start_time": "2024-12-05T12:31:05.673632Z"
    }
   },
   "outputs": [
    {
     "data": {
      "text/plain": [
       "SparsePauliOp(['IZZY', 'ZZIY', 'ZIZY', 'IIXY', 'IXIY', 'XIIY'],\n",
       "              coeffs=[0.70710678+0.j, 0.70710678+0.j, 0.70710678+0.j, 0.70710678+0.j,\n",
       " 0.70710678+0.j, 0.70710678+0.j])"
      ]
     },
     "execution_count": 4,
     "metadata": {},
     "output_type": "execute_result"
    }
   ],
   "source": []
  },
  {
   "cell_type": "code",
   "execution_count": 15,
   "id": "4f492762fffee4d6",
   "metadata": {
    "ExecuteTime": {
     "end_time": "2024-12-05T12:48:14.316451Z",
     "start_time": "2024-12-05T12:48:11.622476Z"
    }
   },
   "outputs": [
    {
     "name": "stdout",
     "output_type": "stream",
     "text": [
      "[(9.005404859831573e-15-1.4430475201454763e-15j), (1.4539650026662926e-16+5.522561042284922e-17j), (-6.826082564169909e-16+4.412845035598272e-17j), (-5.041989619490209e-16-8.009064361560561e-17j), (-1.3659113863509962e-15-3.7953819737446835e-17j), (-1.1342794641244755e-15+7.364493307713694e-45j), (-2.5276920295950606e-15-5.280870466907658e-17j), (-2.3168710507807344e-15+0j), (-2.0394778470853717e-15+4.9692765029036745e-17j), (-4.099512070213887e-16+1.9575461540708935e-44j), (-3.659557870011029e-15-4.7449761249593563e-17j), (-2.0256534675930724e-15+3.107851550273551e-17j), (-2.3277295373680273e-15+3.0626950847406875e-17j), (-7.621818712453491e-16+7.564674597316906e-17j), (-3.4955668209809397e-17+1.4978192490358968e-17j), (-1.2728831877999134e-15-2.227934496195914e-17j), (3.945586938674694e-16+2.2121843651172717e-17j), (-4.471060143095382e-16+4.397683457981116e-17j), (6.661399351374478e-16+7.291423654043902e-18j), (-2.5749349334301436e-15-2.1775800663316617e-17j), (-8.820087217798156e-16-1.446018552021311e-17j), (-2.854353288467738e-15-7.205203154132935e-18j), (-1.2363101709866987e-15-2.1550155836149077e-17j), (-4.578911504077902e-16+2.3148787726336885e-44j), (-5.590289332954613e-16-7.147299687613943e-18j), (8.894684938438006e-16-4.279427929339942e-17j), (-6.017669630372958e-16+3.559596607562507e-17j), (-5.384042616269549e-16-1.4215051312855753e-17j), (-2.5968616877419506e-15-7.097192401903716e-18j), (-1.3948004012295411e-15+3.544016426894615e-17j), (-1.4197507615351627e-15-2.1239720557861576e-17j), (-1.3592506251672616e-15-7.072691744748359e-18j), (-1.2955909483790692e-15+1.4132560040462117e-17j), (-3.8091462584471485e-15-2.1181732059868517e-17j), (-2.5120194467720082e-15-2.82220037576251e-17j), (-2.3074265247157907e-15+0j), (-2.129020284333113e-15+4.553981367887467e-44j), (-2.1801778925701544e-15+0j), (-2.3429198757518864e-15-2.81605185260347e-17j), (-7.839654351322817e-16-7.037254888662487e-18j)]\n"
     ]
    }
   ],
   "source": [
    "def get_hamiltonian_y(nqubits, J, periodic):\n",
    "    nqubits = nqubits - 1\n",
    "    if periodic==False:\n",
    "        ZZ_tuples = [('YZZ', [nqubits, i, i+1], J) for i in range(0, nqubits-1)]\n",
    "        X_tuples = [(\"YX\", [nqubits, i], J) for i in range(0, nqubits)]\n",
    "        hamiltonian = SparsePauliOp.from_sparse_list([*ZZ_tuples, *X_tuples], num_qubits=nqubits+1)\n",
    "    else:\n",
    "        ZZ_tuples = [('YZZ', [nqubits, i, i+1], J) for i in range(0, nqubits-1)]\n",
    "        ZZ_tuples += [('YZZ', [nqubits, 0, nqubits-1], J)]\n",
    "        X_tuples = [(\"YX\", [nqubits, i], J) for i in range(0, nqubits)]\n",
    "        hamiltonian = SparsePauliOp.from_sparse_list([*ZZ_tuples, *X_tuples], num_qubits=nqubits+1)\n",
    "    return hamiltonian.simplify()\n",
    "\n",
    "get_hamiltonian_y(5, J,periodic=True)\n",
    "\n",
    "nqubits = 4\n",
    "J = 1/np.sqrt(2)\n",
    "hamiltonian = get_hamiltonian(nqubits, J)\n",
    "H_array = hamiltonian.to_matrix()\n",
    "eval, _ = np.linalg.eigh(H_array)\n",
    "# print(eval)\n",
    "emin = eval[0]\n",
    "emax = eval[-1]\n",
    "H_array = (H_array - emin * np.eye(2**nqubits)) / (emax - emin) ## scale H\n",
    "final_time = np.pi/2 #time\n",
    "time = final_time\n",
    "time_step = 3 #time_step\n",
    "initial_state = Statevector.from_label(\"0000\")\n",
    "#H = get_hamiltonian_y(5, 1/np.sqrt(2), True)\n",
    "projector = np.array([[0, -1.0j],\n",
    "                     [1.0j, 0]])\n",
    "H = Operator(np.kron(projector, H_array))\n",
    "H = SparsePauliOp.from_operator(H)\n",
    "projector2 = np.array([[1, 0],\n",
    "                     [0, 0]]) ## for expectation\n",
    "hamiltonian1 = get_hamiltonian_y(nqubits+1, J, True)\n",
    "#hamiltonian1 = Operator(hamiltonian1)\n",
    "#hamiltonian1 = SparsePauliOp.from_operator(hamiltonian1)\n",
    "hamiltonian2 = np.kron(projector2, np.eye(2**nqubits))\n",
    "error_rate = 0\n",
    "order = 1\n",
    "step = 40\n",
    "## 1st order\n",
    "def construct_trotter_circuit(H, time, nqubits, order, time_step):\n",
    "    if order == 1:\n",
    "        formular = LieTrotter(reps=time_step)\n",
    "    else:\n",
    "        formular = SuzukiTrotter(order=order, reps=time_step)\n",
    "    trotter_step_first_order = PauliEvolutionGate(H, time, synthesis=formular)\n",
    "    circuit = QuantumCircuit(nqubits+1)\n",
    "    circuit.append(trotter_step_first_order, range(nqubits+1))\n",
    "    #circuit = circuit.decompose(reps=2)\n",
    "    return circuit\n",
    "\n",
    "def select_sim(error_rate):\n",
    "    noise_model = NoiseModel()\n",
    "    error = depolarizing_error(error_rate, 1)\n",
    "    noise_model.add_all_qubit_quantum_error(error, ['u1', 'u2', 'u3'])\n",
    "    error1 = depolarizing_error(error_rate*10, 2)\n",
    "    noise_model.add_all_qubit_quantum_error(error1,'cx')\n",
    "    sim_d = AerSimulator(noise_model=noise_model)\n",
    "    if error_rate==0:\n",
    "        simulator = AerSimulator()\n",
    "    else:\n",
    "        simulator = sim_d\n",
    "    return simulator\n",
    "\n",
    "def unitary_trotter(H, time, nqubits, order, time_step, error_rate, step):\n",
    "    simulator = select_sim(error_rate)\n",
    "    expectation_list = []\n",
    "    statevector = initial_state.data\n",
    "    for i in range(step):\n",
    "        qc = QuantumCircuit(nqubits+1)\n",
    "        qc.initialize(statevector, range(nqubits))\n",
    "        circuit_temp = construct_trotter_circuit(H, time, nqubits, order, time_step)\n",
    "        qc = qc.compose(circuit_temp, range(nqubits+1))\n",
    "        #qc = qc.decompose(reps=2)\n",
    "        qc.save_statevector()\n",
    "        circuit = transpile(qc, simulator)\n",
    "        result = simulator.run(circuit).result().data(0)['statevector']\n",
    "        new_state = result.data#[:2**nqubits]\n",
    "        # Print the statevector at each step for debugging\n",
    "        #print(f\"Step {i}: Statevector = {statevector}\")\n",
    "        expectation = (new_state.conj().T.dot(hamiltonian1.to_matrix())).dot(new_state)/(new_state.conj().T.dot(hamiltonian2).dot(new_state))\n",
    "        expectation_list.append(expectation)\n",
    "        # Print the expectation value at each step for debugging\n",
    "        #print(f\"Step {i}: Expectation = {expectation}\")\n",
    "        statevector = new_state[:2**nqubits]/np.linalg.norm(new_state[:2**nqubits])\n",
    "    return expectation_list\n",
    "\n",
    "expectation_1 = unitary_trotter(H, time, nqubits, order, time_step, error_rate, step)\n",
    "print(expectation_1)\n",
    "\n"
   ]
  },
  {
   "cell_type": "code",
   "execution_count": 16,
   "id": "6b1ebccf703d1573",
   "metadata": {
    "ExecuteTime": {
     "end_time": "2024-12-05T12:50:01.767289Z",
     "start_time": "2024-12-05T12:50:01.760015Z"
    }
   },
   "outputs": [
    {
     "data": {
      "text/plain": [
       "array([[0.+0.j, 0.+0.j, 0.+0.j, ..., 0.+0.j, 0.+0.j, 0.+0.j],\n",
       "       [0.+0.j, 0.+0.j, 0.+0.j, ..., 0.+0.j, 0.+0.j, 0.+0.j],\n",
       "       [0.+0.j, 0.+0.j, 0.+0.j, ..., 0.+0.j, 0.+0.j, 0.+0.j],\n",
       "       ...,\n",
       "       [0.+0.j, 0.+0.j, 0.+0.j, ..., 0.+0.j, 0.+0.j, 0.+0.j],\n",
       "       [0.+0.j, 0.+0.j, 0.+0.j, ..., 0.+0.j, 0.+0.j, 0.+0.j],\n",
       "       [0.+0.j, 0.+0.j, 0.+0.j, ..., 0.+0.j, 0.+0.j, 0.+0.j]])"
      ]
     },
     "execution_count": 16,
     "metadata": {},
     "output_type": "execute_result"
    }
   ],
   "source": [
    "temp_matrix1 = get_hamiltonian_y(5, J,periodic=True).to_matrix()\n"
   ]
  },
  {
   "cell_type": "code",
   "execution_count": 17,
   "id": "9534c9a344a856d7",
   "metadata": {
    "ExecuteTime": {
     "end_time": "2024-12-05T12:51:36.506508Z",
     "start_time": "2024-12-05T12:51:36.487639Z"
    }
   },
   "outputs": [],
   "source": [
    "hamiltonian1 = np.kron(projector2, get_hamiltonian(8, 1/np.sqrt(2)).to_matrix())\n",
    "hamiltonian1 = Operator(hamiltonian1)\n",
    "hamiltonian1 = SparsePauliOp.from_operator(hamiltonian1)"
   ]
  },
  {
   "cell_type": "code",
   "execution_count": 18,
   "id": "5c7e72de976e834f",
   "metadata": {
    "ExecuteTime": {
     "end_time": "2024-12-05T12:53:12.883862Z",
     "start_time": "2024-12-05T12:53:12.862209Z"
    }
   },
   "outputs": [
    {
     "name": "stdout",
     "output_type": "stream",
     "text": [
      "before sparsepauliop\n",
      "sprse pauliop done\n"
     ]
    }
   ],
   "source": [
    "def get_hamiltonian(nqubits):\n",
    "    J = 1 / np.sqrt(2)\n",
    "    ZZ_tuples = [('ZZ', [i, i + 1], J) for i in range(nqubits - 1)]\n",
    "    ZZ_tuples += [('ZZ', [nqubits - 1, 0], J)]\n",
    "    X_tuples = [(\"X\", [i], J) for i in range(nqubits)]\n",
    "    hamiltonian = SparsePauliOp.from_sparse_list([*ZZ_tuples, *X_tuples], num_qubits=nqubits)\n",
    "    return hamiltonian.simplify()\n",
    "\n",
    "\n",
    "def main():\n",
    "    H_array = get_hamiltonian(8).to_matrix()\n",
    "    operator = Operator(np.kron(np.array([[0, -1.0j],\n",
    "        [1.0j, 0]]),H_array))\n",
    "    print('before sparsepauliop', flush=True)\n",
    "    H = SparsePauliOp.from_operator(operator)\n",
    "    print('sprse pauliop done', flush=True)\n",
    "\n",
    "main()"
   ]
  },
  {
   "cell_type": "code",
   "execution_count": 22,
   "id": "72a4133759428cb3",
   "metadata": {
    "ExecuteTime": {
     "end_time": "2024-12-05T13:19:42.587979Z",
     "start_time": "2024-12-05T13:19:42.583469Z"
    }
   },
   "outputs": [
    {
     "name": "stdout",
     "output_type": "stream",
     "text": [
      "1.0.0\n"
     ]
    }
   ],
   "source": [
    "import qiskit\n",
    "print(qiskit.__version__)"
   ]
  },
  {
   "cell_type": "code",
   "execution_count": null,
   "id": "6cb369d3e25fa9f9",
   "metadata": {},
   "outputs": [],
   "source": []
  }
 ],
 "metadata": {
  "kernelspec": {
   "display_name": "Python 3 (ipykernel)",
   "language": "python",
   "name": "python3"
  },
  "language_info": {
   "codemirror_mode": {
    "name": "ipython",
    "version": 3
   },
   "file_extension": ".py",
   "mimetype": "text/x-python",
   "name": "python",
   "nbconvert_exporter": "python",
   "pygments_lexer": "ipython3",
   "version": "3.12.1"
  }
 },
 "nbformat": 4,
 "nbformat_minor": 5
}
