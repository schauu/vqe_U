{
 "cells": [
  {
   "cell_type": "markdown",
   "id": "debd41d3c0be7ab3",
   "metadata": {},
   "source": [
    "Here we implement the whole process where U is applied multiple times. We use TrotterQRTE to provide Quantum Circuit and run the QC in simulator and collect the evolved state to proceed."
   ]
  },
  {
   "cell_type": "code",
   "id": "9a71da57-0ff1-450b-8d1b-a4a993adc1ca",
   "metadata": {
    "ExecuteTime": {
     "end_time": "2024-11-25T10:06:55.036444Z",
     "start_time": "2024-11-25T10:06:55.030448Z"
    }
   },
   "source": [
    "import sys\n",
    "print(sys.executable)"
   ],
   "outputs": [
    {
     "name": "stdout",
     "output_type": "stream",
     "text": [
      "C:\\Users\\schauue\\Anaconda3\\python.exe\n"
     ]
    }
   ],
   "execution_count": 1
  },
  {
   "cell_type": "code",
   "id": "d7b0ce59-1ae0-4f92-95d6-0dced2b777e9",
   "metadata": {
    "ExecuteTime": {
     "end_time": "2024-11-25T10:07:33.415574Z",
     "start_time": "2024-11-25T10:07:31.899284Z"
    }
   },
   "source": [
    "import numpy as np\n",
    "import scipy\n",
    "from qiskit import QuantumCircuit, transpile\n",
    "from qiskit.quantum_info import SparsePauliOp, Statevector, state_fidelity, Operator\n",
    "from qiskit.synthesis import SuzukiTrotter, LieTrotter\n",
    "from qiskit_aer import AerSimulator\n",
    "from qiskit_algorithms import TimeEvolutionProblem, TrotterQRTE\n",
    "from qiskit_aer.noise import NoiseModel, depolarizing_error\n",
    "from qiskit.primitives import Estimator\n",
    "from qiskit.circuit.library import PauliEvolutionGate\n",
    "import matplotlib.pyplot as plt\n",
    "from scipy.linalg import expm, cosm\n",
    "import warnings\n",
    "import sys\n",
    "import functools\n",
    "import scipy as sc\n",
    "from qiskit.visualization import plot_histogram"
   ],
   "outputs": [],
   "execution_count": 2
  },
  {
   "cell_type": "code",
   "id": "960571e0-0b11-4f58-895d-e9291fd7e983",
   "metadata": {
    "ExecuteTime": {
     "end_time": "2024-11-25T10:07:41.324033Z",
     "start_time": "2024-11-25T10:07:41.312655Z"
    }
   },
   "source": [
    "initial_state = Statevector.from_label('00000')\n",
    "step = 10\n",
    "time = 1\n",
    "time_step = 20\n",
    "nqubits = 4\n",
    "periodic = True\n",
    "J = 1/np.sqrt(2)\n",
    "def get_hamiltonian_y(nqubits, J, periodic):\n",
    "    nqubits = nqubits - 1\n",
    "    if periodic==False:\n",
    "        ZZ_tuples = [('ZZY', [i, i+1, 0], J) for i in range(1, nqubits)]\n",
    "        X_tuples = [(\"XY\", [i, 0], J) for i in range(1, nqubits+1)]\n",
    "        hamiltonian = SparsePauliOp.from_sparse_list([*ZZ_tuples, *X_tuples], num_qubits=nqubits+1)\n",
    "    else:\n",
    "        ZZ_tuples = [('ZZY', [i, i+1, 0], J) for i in range(1, nqubits)]\n",
    "        ZZ_tuples += [('ZZY', [nqubits, 1, 0], J)]\n",
    "        X_tuples = [(\"XY\", [i, 0], J) for i in range(1, nqubits+1)]\n",
    "        hamiltonian = SparsePauliOp.from_sparse_list([*ZZ_tuples, *X_tuples], num_qubits=nqubits+1)\n",
    "    return hamiltonian.simplify()\n",
    "\n",
    "\n",
    "def get_hamiltonian_i(nqubits, J, periodic):\n",
    "    nqubits = nqubits - 1\n",
    "    if periodic==False:\n",
    "        ZZ_tuples = [('ZZI', [i, i+1, 0], J) for i in range(1, nqubits)]\n",
    "        X_tuples = [(\"XI\", [i, 0], J) for i in range(1, nqubits+1)]\n",
    "        hamiltonian = SparsePauliOp.from_sparse_list([*ZZ_tuples, *X_tuples], num_qubits=nqubits+1)\n",
    "    else:\n",
    "        ZZ_tuples = [('ZZI', [i, i+1, 0], J) for i in range(1, nqubits)]\n",
    "        ZZ_tuples += [('ZZI', [nqubits, 1, 0], J)]\n",
    "        X_tuples = [(\"XI\", [i, 0], J) for i in range(1, nqubits+1)]\n",
    "        hamiltonian = SparsePauliOp.from_sparse_list([*ZZ_tuples, *X_tuples], num_qubits=nqubits+1)\n",
    "    return hamiltonian.simplify()\n",
    "\n",
    "def get_hamiltonian(nqubits, J):\n",
    "    ZZ_tuples = [('ZZ', [i, i+1], J) for i in range(nqubits-1)]\n",
    "    ZZ_tuples += [('ZZ', [nqubits-1, 0], J)]\n",
    "    X_tuples = [(\"X\", [i], J) for i in range(nqubits)]\n",
    "    hamiltonian = SparsePauliOp.from_sparse_list([*ZZ_tuples, *X_tuples], num_qubits=nqubits)\n",
    "    return hamiltonian.simplify()"
   ],
   "outputs": [],
   "execution_count": 3
  },
  {
   "cell_type": "code",
   "id": "ce3846b1-b98b-44dc-a8f0-cbae70754a70",
   "metadata": {
    "ExecuteTime": {
     "end_time": "2024-11-25T10:07:44.137755Z",
     "start_time": "2024-11-25T10:07:43.289890Z"
    }
   },
   "source": [
    "## calculate exp based on un-scaled hamiltonian\n",
    "hamiltonian = get_hamiltonian(4, 1/np.sqrt(2))\n",
    "H_array = hamiltonian.to_matrix()\n",
    "eval, _ = np.linalg.eigh(H_array)\n",
    "# print(eval)\n",
    "emin = eval[0]\n",
    "emax = eval[-1]\n",
    "H_array = (H_array - emin * np.eye(2**4)) / (emax - emin) ## scale H\n",
    "\n",
    "#H = get_hamiltonian_y(5, 1/np.sqrt(2), True)\n",
    "projector = np.array([[0, -1.0j],\n",
    "                     [1.0j, 0]])\n",
    "H = Operator(np.kron(projector, H_array))\n",
    "H = SparsePauliOp.from_operator(H)\n",
    "projector2 = np.array([[1, 0],\n",
    "                     [0, 0]]) ## for expectation\n",
    "hamiltonian = np.kron(projector2, get_hamiltonian(4, 1/np.sqrt(2)).to_matrix())\n",
    "hamiltonian = Operator(hamiltonian)\n",
    "hamiltonian = SparsePauliOp.from_operator(hamiltonian)\n",
    "initial_state = Statevector.from_label(\"00000\")\n",
    "final_time = np.pi/2 #time\n",
    "time_step = 10 #time_step\n",
    "normalization_factor = SparsePauliOp.from_operator(Operator(np.kron(projector2, np.eye(2**nqubits))))\n",
    "\n",
    "# Exact parts\n",
    "exact_times = np.linspace(0, final_time, 101)\n",
    "# We compute the exact evolution using the exp\n",
    "exact_evolution = [initial_state.evolve(sc.linalg.expm(-1j * time * np.kron(projector, H_array))) for time in exact_times]\n",
    "exact_energy = np.real([sv.expectation_value(hamiltonian)/(sv.data.conj().dot(normalization_factor.to_matrix()).dot(sv.data)) for sv in exact_evolution])\n",
    "\n",
    "##Trotter parts\n",
    "problem = TimeEvolutionProblem(H, initial_state=initial_state, time=final_time, aux_operators=[hamiltonian, normalization_factor],)\n",
    "trotter= TrotterQRTE(SuzukiTrotter(order=2), num_timesteps=time_step, estimator=Estimator())\n",
    "result = trotter.evolve(problem)\n",
    "\n",
    "print(exact_evolution[-1])\n",
    "print(Statevector(result.evolved_state).data[:2**4])"
   ],
   "outputs": [
    {
     "name": "stdout",
     "output_type": "stream",
     "text": [
      "Statevector([ 1.66883523e-01+0.j, -1.26455172e-01+0.j, -1.26455172e-01+0.j,\n",
      "             -1.19416557e-02+0.j, -1.26455172e-01+0.j, -1.50275560e-02+0.j,\n",
      "             -1.19416557e-02+0.j,  2.53688041e-03+0.j, -1.26455172e-01+0.j,\n",
      "             -1.19416557e-02+0.j, -1.50275560e-02+0.j,  2.53688041e-03+0.j,\n",
      "             -1.19416557e-02+0.j,  2.53688041e-03+0.j,  2.53688041e-03+0.j,\n",
      "              2.73740019e-04+0.j,  9.42335810e-01+0.j,  6.58790795e-02+0.j,\n",
      "              6.58790795e-02+0.j, -1.81134563e-02+0.j,  6.58790795e-02+0.j,\n",
      "             -1.50275560e-02+0.j, -1.81134563e-02+0.j, -2.07101193e-03+0.j,\n",
      "              6.58790795e-02+0.j, -1.81134563e-02+0.j, -1.50275560e-02+0.j,\n",
      "             -2.07101193e-03+0.j, -1.81134563e-02+0.j, -2.07101193e-03+0.j,\n",
      "             -2.07101193e-03+0.j,  4.14091845e-04+0.j],\n",
      "            dims=(2, 2, 2, 2, 2))\n",
      "[ 0.1668503 -1.74677948e-16j -0.12641993+1.74113532e-16j\n",
      " -0.12641993-3.21912645e-17j -0.01194745-3.03918961e-17j\n",
      " -0.12641993-7.37842891e-17j -0.01501857+1.12224822e-17j\n",
      " -0.01194745-1.23472174e-17j  0.00253387-2.34160726e-18j\n",
      " -0.12641993+1.52352362e-17j -0.01194745-2.40170163e-19j\n",
      " -0.01501857+1.47430319e-17j  0.00253387-3.10139287e-18j\n",
      " -0.01194745+1.76497356e-17j  0.00253387-8.52381502e-19j\n",
      "  0.00253387+3.29402766e-19j  0.00027439-1.18133841e-19j]\n"
     ]
    }
   ],
   "execution_count": 4
  },
  {
   "cell_type": "code",
   "id": "41c1328e452a956e",
   "metadata": {
    "ExecuteTime": {
     "end_time": "2024-11-25T12:26:02.326876Z",
     "start_time": "2024-11-25T12:26:00.348525Z"
    }
   },
   "source": [
    "nqubits = 4\n",
    "J = 1/np.sqrt(2)\n",
    "hamiltonian = get_hamiltonian(nqubits, J)\n",
    "H_array = hamiltonian.to_matrix()\n",
    "eval, _ = np.linalg.eigh(H_array)\n",
    "# print(eval)\n",
    "emin = eval[0]\n",
    "emax = eval[-1]\n",
    "H_array = (H_array - emin * np.eye(2**nqubits)) / (emax - emin) ## scale H\n",
    "final_time = np.pi/2 #time\n",
    "time = final_time\n",
    "time_step = 10 #time_step\n",
    "initial_state = Statevector.from_label(\"0000\")\n",
    "#H = get_hamiltonian_y(5, 1/np.sqrt(2), True)\n",
    "projector = np.array([[0, -1.0j],\n",
    "                     [1.0j, 0]])\n",
    "H = Operator(np.kron(projector, H_array))\n",
    "H = SparsePauliOp.from_operator(H)\n",
    "projector2 = np.array([[1, 0],\n",
    "                     [0, 0]]) ## for expectation\n",
    "hamiltonian1 = np.kron(projector2, get_hamiltonian(4, 1/np.sqrt(2)).to_matrix())\n",
    "hamiltonian1 = Operator(hamiltonian1)\n",
    "hamiltonian1 = SparsePauliOp.from_operator(hamiltonian1)\n",
    "hamiltonian2 = np.kron(projector2, np.eye(2**nqubits))\n",
    "error_rate = 0\n",
    "order = 1\n",
    "step = 20\n",
    "## 1st order\n",
    "def construct_trotter_circuit(H, time, nqubits, order, time_step):\n",
    "    if order == 1:\n",
    "        formular = LieTrotter(reps=time_step)\n",
    "    else:\n",
    "        formular = SuzukiTrotter(order=order, reps=time_step)\n",
    "    trotter_step_first_order = PauliEvolutionGate(H, time, synthesis=formular)\n",
    "    circuit = QuantumCircuit(nqubits+1)\n",
    "    circuit.append(trotter_step_first_order, range(nqubits+1))\n",
    "    #circuit = circuit.decompose(reps=2)\n",
    "    return circuit\n",
    "\n",
    "def select_sim(error_rate):\n",
    "    noise_model = NoiseModel()\n",
    "    error = depolarizing_error(error_rate, 1)\n",
    "    noise_model.add_all_qubit_quantum_error(error, ['u1', 'u2', 'u3'])\n",
    "    error1 = depolarizing_error(error_rate*10, 2)\n",
    "    noise_model.add_all_qubit_quantum_error(error1,'cx')\n",
    "    sim_d = AerSimulator(noise_model=noise_model)\n",
    "    if error_rate==0:\n",
    "        simulator = AerSimulator()\n",
    "    else:\n",
    "        simulator = sim_d\n",
    "    return simulator\n",
    "\n",
    "def unitary_trotter(H, time, nqubits, order, time_step, error_rate, step):\n",
    "    simulator = select_sim(error_rate)\n",
    "    expectation_list = []\n",
    "    statevector = initial_state.data\n",
    "    for i in range(step):\n",
    "        qc = QuantumCircuit(nqubits+1)\n",
    "        qc.initialize(statevector, range(nqubits))\n",
    "        circuit_temp = construct_trotter_circuit(H, time, nqubits, order, time_step)\n",
    "        qc = qc.compose(circuit_temp, range(nqubits+1))\n",
    "        #qc = qc.decompose(reps=2)\n",
    "        qc.save_statevector()\n",
    "        circuit = transpile(qc, simulator)\n",
    "        result = simulator.run(circuit).result().data(0)['statevector']\n",
    "        new_state = result.data#[:2**nqubits]\n",
    "        # Print the statevector at each step for debugging\n",
    "        #print(f\"Step {i}: Statevector = {statevector}\")\n",
    "        expectation = (new_state.conj().T.dot(hamiltonian1.to_matrix())).dot(new_state)/(new_state.conj().T.dot(hamiltonian2).dot(new_state))\n",
    "        expectation_list.append(expectation)\n",
    "        # Print the expectation value at each step for debugging\n",
    "        #print(f\"Step {i}: Expectation = {expectation}\")\n",
    "        statevector = new_state[:2**nqubits]/np.linalg.norm(new_state[:2**nqubits])\n",
    "    return expectation_list\n",
    "\n",
    "expectation_1 = unitary_trotter(H, time, nqubits, order, time_step, error_rate, step)\n",
    "print(expectation_1)\n",
    "\n",
    "\n",
    "\n"
   ],
   "outputs": [
    {
     "name": "stdout",
     "output_type": "stream",
     "text": [
      "[(-0.1311875556086449-4.065097352469494e-31j), (-0.8385795032783061-3.050068550797252e-30j), (-1.240231235697268+0j), (-1.5292773514361944+0j), (-1.7911991870179411+8.396710584379985e-30j), (-2.0485926828653818+0j), (-2.2977007411580317+0j), (-2.5283970056240377+0j), (-2.732575039559521+0j), (-2.9066308708380126+0j), (-3.0510001482217626+0j), (-3.1686416619069107-5.399769263682191e-29j), (-3.2635766996250357+0j), (-3.339904899228537+0j), (-3.4012982491036388+0j), (-3.4508241087272147-1.0391970884193142e-28j), (-3.4909473691181883+0j), (-3.523609139179171+5.149157996743898e-29j), (-3.5503251312873054+0j), (-3.5722776500485662+0j)]\n"
     ]
    }
   ],
   "execution_count": 63
  },
  {
   "metadata": {
    "ExecuteTime": {
     "end_time": "2024-11-25T12:22:01.940795Z",
     "start_time": "2024-11-25T12:21:57.116596Z"
    }
   },
   "cell_type": "code",
   "source": [
    "order = 2\n",
    "expectation_2 = unitary_trotter(H, time, nqubits, order, time_step, error_rate, step)\n",
    "print(expectation_2)"
   ],
   "id": "a3a933c63e7b11c6",
   "outputs": [
    {
     "name": "stdout",
     "output_type": "stream",
     "text": [
      "[(-0.15710361697988287+0j), (-0.8748908196004918+0j), (-1.2924354031153027+0j), (-1.6010687168158888+8.80493611774758e-30j), (-1.8841008923702443+1.6601716796859973e-29j), (-2.161165613784872+0j), (-2.4257549129470846+0j), (-2.6661183623895854+0j), (-2.8739649541056664+0j), (-3.0465964118274673+0j), (-3.185829100642089-5.409491932699456e-29j), (-3.2959827623706466+0j), (-3.3821752960828744+0j), (-3.4492881952620045+0j), (-3.5015053253207657-1.0343818572495767e-28j), (-3.5422062272523274+0j), (-3.574031718374456+0j), (-3.5990100992175975+0j), (-3.6186881304817695+0j), (-3.6342444449022335+0j)]\n"
     ]
    }
   ],
   "execution_count": 55
  },
  {
   "metadata": {
    "ExecuteTime": {
     "end_time": "2024-11-25T12:22:21.719559Z",
     "start_time": "2024-11-25T12:22:04.704363Z"
    }
   },
   "cell_type": "code",
   "source": [
    "order = 4\n",
    "expectation_4 = unitary_trotter(H, time, nqubits, order, time_step, error_rate, step)\n",
    "print(expectation_4)"
   ],
   "id": "c5c560ff0263d04e",
   "outputs": [
    {
     "name": "stdout",
     "output_type": "stream",
     "text": [
      "[(-0.15726076768353137-4.2475068867122824e-30j), (-0.8749572915538519+0j), (-1.2924784699554444+0j), (-1.601111731096789-3.521789841771068e-29j), (-1.8841462365940402+0j), (-2.161208623612038+0j), (-2.4257918067577693+0j), (-2.6661477793321477+0j), (-2.873987148185999+0j), (-3.04661218876919+2.2093673071849273e-28j), (-3.185839218177621-2.163768155556817e-28j), (-3.2959877825594566+0j), (-3.382175655911205-2.103001296168825e-28j), (-3.4492843126317485+0j), (-3.5014976635902486+0j), (-3.542195310125195+4.11533260169867e-28j), (-3.5740181124744703+0j), (-3.5989943835184603+0j), (-3.618670865632182+0j), (-3.634226148980739-4.068012291292712e-28j)]\n"
     ]
    }
   ],
   "execution_count": 56
  },
  {
   "metadata": {},
   "cell_type": "markdown",
   "source": "## Exact matrix exponential",
   "id": "1d6418914f75b78d"
  },
  {
   "metadata": {
    "ExecuteTime": {
     "end_time": "2024-11-25T12:34:53.338302Z",
     "start_time": "2024-11-25T12:34:46.370793Z"
    }
   },
   "cell_type": "code",
   "source": [
    "nqubits = 4\n",
    "final_time = np.pi/2 #time\n",
    "time = final_time\n",
    "time_step = 10 #time_step\n",
    "step = 20\n",
    "#H = get_hamiltonian_y(5, 1/np.sqrt(2), True)\n",
    "projector = np.array([[0, -1.0j],\n",
    "                     [1.0j, 0]])\n",
    "initial_state = Statevector.from_label(\"0000\")\n",
    "expectation_exact = []\n",
    "simulator = AerSimulator()\n",
    "statevector = initial_state.data\n",
    "for i in range(step):\n",
    "    U = expm(-1.0j * time * np.kron(projector, H_array))\n",
    "    qc = QuantumCircuit(nqubits+1)\n",
    "    qc.initialize(statevector, range(nqubits))\n",
    "    qc.unitary(U, range(nqubits+1))\n",
    "    qc.decompose(reps=2)\n",
    "    qc.save_statevector()\n",
    "    result = simulator.run(qc).result().data(0)['statevector']\n",
    "    new_state = result.data#[:2**nqubits]\n",
    "    expectation = (new_state.conj().dot(hamiltonian1.to_matrix())).dot(new_state)/(new_state.conj().T.dot(hamiltonian2).dot(new_state))\n",
    "    expectation_exact.append(expectation)\n",
    "    statevector = new_state[:2**nqubits]/np.linalg.norm(new_state[:2**nqubits])\n",
    "\n",
    "    print(expectation)\n",
    "\n",
    "\n",
    "\n",
    "\n"
   ],
   "id": "a3f323d383e10cea",
   "outputs": [
    {
     "name": "stdout",
     "output_type": "stream",
     "text": [
      "(-0.15726074754010833+0j)\n",
      "(-0.8749572744784655+0j)\n",
      "(-1.2924784549832422+0j)\n",
      "(-1.6011117167037432+0j)\n",
      "(-1.8841462228970876+0j)\n",
      "(-2.1612086115559213+0j)\n",
      "(-2.4257917971505303+0j)\n",
      "(-2.6661477724518554+0j)\n",
      "(-2.8739871438099933+0j)\n",
      "(-3.0466121863911635+0j)\n",
      "(-3.185839217225165+0j)\n",
      "(-3.2959877825285626+0j)\n",
      "(-3.3821756564172407+0j)\n",
      "(-3.4492843134085867+0j)\n",
      "(-3.501497664467486+0j)\n",
      "(-3.542195311001425+0j)\n",
      "(-3.574018113294422+0j)\n",
      "(-3.598994384255984+0j)\n",
      "(-3.618670866278594+0j)\n",
      "(-3.6342261495372314+0j)\n"
     ]
    }
   ],
   "execution_count": 65
  },
  {
   "metadata": {
    "ExecuteTime": {
     "end_time": "2024-11-25T12:42:24.228105Z",
     "start_time": "2024-11-25T12:42:24.087601Z"
    }
   },
   "cell_type": "code",
   "source": [
    "fig, axes = plt.subplots()\n",
    "x = list(range(1, step+1))  # includes initial state\n",
    "axes.plot(\n",
    "    x, expectation_1, label=\"First order\", marker=\"x\", c=\"darkmagenta\", ls=\"-\", lw=0.8\n",
    ")\n",
    "axes.plot(\n",
    "    x, expectation_2, label=\"Second order\", marker=\"o\", c=\"limegreen\", ls=\"-\", lw=0.8\n",
    ")\n",
    "axes.plot(\n",
    "    x, expectation_4, label=\"Fourth order\", marker=\"v\", c=\"r\", ls=\"-\", lw=0.8\n",
    ")\n",
    "axes.plot(x, expectation_exact, c=\"k\", ls=\":\", label=\"Exact\")\n",
    "legend = fig.legend(\n",
    "    *axes.get_legend_handles_labels(),\n",
    "    bbox_to_anchor=(1.0, 0.5),\n",
    "    loc=\"center left\",\n",
    "    framealpha=0.5,\n",
    ")\n",
    "axes.set_xticks(np.arange(min(x), max(x) + 1, 1))\n",
    "axes.set_xlabel('Step')\n",
    "axes.set_ylabel('Energy')\n",
    "fig.tight_layout()"
   ],
   "id": "f89b6337fbcc4f50",
   "outputs": [
    {
     "data": {
      "text/plain": [
       "<Figure size 640x480 with 1 Axes>"
      ],
      "image/png": "[encoded data removed]"
     },
     "metadata": {},
     "output_type": "display_data"
    }
   ],
   "execution_count": 71
  },
  {
   "metadata": {},
   "cell_type": "markdown",
   "source": "8 qubits",
   "id": "d7e1389a7a1774c6"
  },
  {
   "metadata": {},
   "cell_type": "markdown",
   "source": "Nqubits=6 and use trotter to construct circuit and see whether it speeds up than qc.unitary(U)",
   "id": "d2b29f0f3caed418"
  },
  {
   "metadata": {
    "ExecuteTime": {
     "end_time": "2024-11-25T12:51:13.655864Z",
     "start_time": "2024-11-25T12:49:46.559105Z"
    }
   },
   "cell_type": "code",
   "source": [
    "nqubits = 8\n",
    "final_time = np.pi/2 #time\n",
    "time = final_time\n",
    "time_step = 10 #time_step\n",
    "step = 20\n",
    "#H = get_hamiltonian_y(5, 1/np.sqrt(2), True)\n",
    "projector = np.array([[0, -1.0j],\n",
    "                     [1.0j, 0]])\n",
    "initial_state = Statevector.from_label(\"00000000\")\n",
    "expectation_exact = []\n",
    "simulator = AerSimulator()\n",
    "statevector = initial_state.data\n",
    "for i in range(step):\n",
    "    U = expm(-1.0j * time * np.kron(projector, H_array))\n",
    "    qc = QuantumCircuit(nqubits+1)\n",
    "    qc.initialize(statevector, range(nqubits))\n",
    "    qc.unitary(U, range(nqubits+1))\n",
    "    qc.decompose(reps=2)\n",
    "    qc.save_statevector()\n",
    "    result = simulator.run(qc).result().data(0)['statevector']\n",
    "    new_state = result.data#[:2**nqubits]\n",
    "    expectation = (new_state.conj().dot(hamiltonian1.to_matrix())).dot(new_state)/(new_state.conj().T.dot(hamiltonian2).dot(new_state))\n",
    "    expectation_exact.append(expectation)\n",
    "    statevector = new_state[:2**nqubits]/np.linalg.norm(new_state[:2**nqubits])\n",
    "\n",
    "    print(expectation)"
   ],
   "id": "fed4d61af44bcd19",
   "outputs": [
    {
     "ename": "KeyboardInterrupt",
     "evalue": "",
     "output_type": "error",
     "traceback": [
      "\u001B[1;31m---------------------------------------------------------------------------\u001B[0m",
      "\u001B[1;31mKeyboardInterrupt\u001B[0m                         Traceback (most recent call last)",
      "Cell \u001B[1;32mIn[77], line 18\u001B[0m\n\u001B[0;32m     16\u001B[0m qc\u001B[38;5;241m.\u001B[39minitialize(statevector, \u001B[38;5;28mrange\u001B[39m(nqubits))\n\u001B[0;32m     17\u001B[0m qc\u001B[38;5;241m.\u001B[39munitary(U, \u001B[38;5;28mrange\u001B[39m(nqubits\u001B[38;5;241m+\u001B[39m\u001B[38;5;241m1\u001B[39m))\n\u001B[1;32m---> 18\u001B[0m qc\u001B[38;5;241m.\u001B[39mdecompose(reps\u001B[38;5;241m=\u001B[39m\u001B[38;5;241m2\u001B[39m)\n\u001B[0;32m     19\u001B[0m qc\u001B[38;5;241m.\u001B[39msave_statevector()\n\u001B[0;32m     20\u001B[0m result \u001B[38;5;241m=\u001B[39m simulator\u001B[38;5;241m.\u001B[39mrun(qc)\u001B[38;5;241m.\u001B[39mresult()\u001B[38;5;241m.\u001B[39mdata(\u001B[38;5;241m0\u001B[39m)[\u001B[38;5;124m'\u001B[39m\u001B[38;5;124mstatevector\u001B[39m\u001B[38;5;124m'\u001B[39m]\n",
      "File \u001B[1;32m~\\Anaconda3\\Lib\\site-packages\\qiskit\\circuit\\quantumcircuit.py:1651\u001B[0m, in \u001B[0;36mQuantumCircuit.decompose\u001B[1;34m(self, gates_to_decompose, reps)\u001B[0m\n\u001B[0;32m   1649\u001B[0m pass_ \u001B[38;5;241m=\u001B[39m Decompose(gates_to_decompose)\n\u001B[0;32m   1650\u001B[0m \u001B[38;5;28;01mfor\u001B[39;00m _ \u001B[38;5;129;01min\u001B[39;00m \u001B[38;5;28mrange\u001B[39m(reps):\n\u001B[1;32m-> 1651\u001B[0m     dag \u001B[38;5;241m=\u001B[39m pass_\u001B[38;5;241m.\u001B[39mrun(dag)\n\u001B[0;32m   1652\u001B[0m \u001B[38;5;66;03m# do not copy operations, this is done in the conversion with circuit_to_dag\u001B[39;00m\n\u001B[0;32m   1653\u001B[0m \u001B[38;5;28;01mreturn\u001B[39;00m dag_to_circuit(dag, copy_operations\u001B[38;5;241m=\u001B[39m\u001B[38;5;28;01mFalse\u001B[39;00m)\n",
      "File \u001B[1;32m~\\Anaconda3\\Lib\\site-packages\\qiskit\\transpiler\\passes\\basis\\decompose.py:51\u001B[0m, in \u001B[0;36mDecompose.run\u001B[1;34m(self, dag)\u001B[0m\n\u001B[0;32m     49\u001B[0m \u001B[38;5;28;01mfor\u001B[39;00m node \u001B[38;5;129;01min\u001B[39;00m dag\u001B[38;5;241m.\u001B[39mop_nodes():\n\u001B[0;32m     50\u001B[0m     \u001B[38;5;28;01mif\u001B[39;00m \u001B[38;5;28mself\u001B[39m\u001B[38;5;241m.\u001B[39m_should_decompose(node):\n\u001B[1;32m---> 51\u001B[0m         \u001B[38;5;28;01mif\u001B[39;00m \u001B[38;5;28mgetattr\u001B[39m(node\u001B[38;5;241m.\u001B[39mop, \u001B[38;5;124m\"\u001B[39m\u001B[38;5;124mdefinition\u001B[39m\u001B[38;5;124m\"\u001B[39m, \u001B[38;5;28;01mNone\u001B[39;00m) \u001B[38;5;129;01mis\u001B[39;00m \u001B[38;5;28;01mNone\u001B[39;00m:\n\u001B[0;32m     52\u001B[0m             \u001B[38;5;28;01mcontinue\u001B[39;00m\n\u001B[0;32m     53\u001B[0m         \u001B[38;5;66;03m# TODO: allow choosing among multiple decomposition rules\u001B[39;00m\n",
      "File \u001B[1;32m~\\Anaconda3\\Lib\\site-packages\\qiskit\\circuit\\instruction.py:303\u001B[0m, in \u001B[0;36mInstruction.definition\u001B[1;34m(self)\u001B[0m\n\u001B[0;32m    301\u001B[0m \u001B[38;5;250m\u001B[39m\u001B[38;5;124;03m\"\"\"Return definition in terms of other basic gates.\"\"\"\u001B[39;00m\n\u001B[0;32m    302\u001B[0m \u001B[38;5;28;01mif\u001B[39;00m \u001B[38;5;28mself\u001B[39m\u001B[38;5;241m.\u001B[39m_definition \u001B[38;5;129;01mis\u001B[39;00m \u001B[38;5;28;01mNone\u001B[39;00m:\n\u001B[1;32m--> 303\u001B[0m     \u001B[38;5;28mself\u001B[39m\u001B[38;5;241m.\u001B[39m_define()\n\u001B[0;32m    304\u001B[0m \u001B[38;5;28;01mreturn\u001B[39;00m \u001B[38;5;28mself\u001B[39m\u001B[38;5;241m.\u001B[39m_definition\n",
      "File \u001B[1;32m~\\Anaconda3\\Lib\\site-packages\\qiskit\\circuit\\library\\generalized_gates\\unitary.py:154\u001B[0m, in \u001B[0;36mUnitaryGate._define\u001B[1;34m(self)\u001B[0m\n\u001B[0;32m    149\u001B[0m \u001B[38;5;28;01melse\u001B[39;00m:\n\u001B[0;32m    150\u001B[0m     \u001B[38;5;28;01mfrom\u001B[39;00m \u001B[38;5;21;01mqiskit\u001B[39;00m\u001B[38;5;21;01m.\u001B[39;00m\u001B[38;5;21;01msynthesis\u001B[39;00m\u001B[38;5;21;01m.\u001B[39;00m\u001B[38;5;21;01munitary\u001B[39;00m\u001B[38;5;21;01m.\u001B[39;00m\u001B[38;5;21;01mqsd\u001B[39;00m \u001B[38;5;28;01mimport\u001B[39;00m (  \u001B[38;5;66;03m# pylint: disable=cyclic-import\u001B[39;00m\n\u001B[0;32m    151\u001B[0m         qs_decomposition,\n\u001B[0;32m    152\u001B[0m     )\n\u001B[1;32m--> 154\u001B[0m     \u001B[38;5;28mself\u001B[39m\u001B[38;5;241m.\u001B[39mdefinition \u001B[38;5;241m=\u001B[39m qs_decomposition(\u001B[38;5;28mself\u001B[39m\u001B[38;5;241m.\u001B[39mto_matrix())\n",
      "File \u001B[1;32m~\\Anaconda3\\Lib\\site-packages\\qiskit\\synthesis\\unitary\\qsd.py:146\u001B[0m, in \u001B[0;36mqs_decomposition\u001B[1;34m(mat, opt_a1, opt_a2, decomposer_1q, decomposer_2q, _depth)\u001B[0m\n\u001B[0;32m    143\u001B[0m     circ\u001B[38;5;241m.\u001B[39mappend(right_circ\u001B[38;5;241m.\u001B[39mto_instruction(), qr)\n\u001B[0;32m    145\u001B[0m \u001B[38;5;28;01mif\u001B[39;00m opt_a2 \u001B[38;5;129;01mand\u001B[39;00m _depth \u001B[38;5;241m==\u001B[39m \u001B[38;5;241m0\u001B[39m \u001B[38;5;129;01mand\u001B[39;00m dim \u001B[38;5;241m>\u001B[39m \u001B[38;5;241m4\u001B[39m:\n\u001B[1;32m--> 146\u001B[0m     \u001B[38;5;28;01mreturn\u001B[39;00m _apply_a2(circ)\n\u001B[0;32m    147\u001B[0m \u001B[38;5;28;01mreturn\u001B[39;00m circ\n",
      "File \u001B[1;32m~\\Anaconda3\\Lib\\site-packages\\qiskit\\synthesis\\unitary\\qsd.py:256\u001B[0m, in \u001B[0;36m_apply_a2\u001B[1;34m(circ)\u001B[0m\n\u001B[0;32m    253\u001B[0m \u001B[38;5;28;01mfrom\u001B[39;00m \u001B[38;5;21;01mqiskit\u001B[39;00m\u001B[38;5;21;01m.\u001B[39;00m\u001B[38;5;21;01mcircuit\u001B[39;00m\u001B[38;5;21;01m.\u001B[39;00m\u001B[38;5;21;01mlibrary\u001B[39;00m\u001B[38;5;21;01m.\u001B[39;00m\u001B[38;5;21;01mgeneralized_gates\u001B[39;00m\u001B[38;5;21;01m.\u001B[39;00m\u001B[38;5;21;01munitary\u001B[39;00m \u001B[38;5;28;01mimport\u001B[39;00m UnitaryGate\n\u001B[0;32m    255\u001B[0m decomposer \u001B[38;5;241m=\u001B[39m two_qubit_decompose\u001B[38;5;241m.\u001B[39mTwoQubitDecomposeUpToDiagonal()\n\u001B[1;32m--> 256\u001B[0m ccirc \u001B[38;5;241m=\u001B[39m transpile(circ, basis_gates\u001B[38;5;241m=\u001B[39m[\u001B[38;5;124m\"\u001B[39m\u001B[38;5;124mu\u001B[39m\u001B[38;5;124m\"\u001B[39m, \u001B[38;5;124m\"\u001B[39m\u001B[38;5;124mcx\u001B[39m\u001B[38;5;124m\"\u001B[39m, \u001B[38;5;124m\"\u001B[39m\u001B[38;5;124mqsd2q\u001B[39m\u001B[38;5;124m\"\u001B[39m], optimization_level\u001B[38;5;241m=\u001B[39m\u001B[38;5;241m0\u001B[39m)\n\u001B[0;32m    257\u001B[0m ind2q \u001B[38;5;241m=\u001B[39m []\n\u001B[0;32m    258\u001B[0m \u001B[38;5;66;03m# collect 2q instrs\u001B[39;00m\n",
      "File \u001B[1;32m~\\Anaconda3\\Lib\\site-packages\\qiskit\\compiler\\transpiler.py:425\u001B[0m, in \u001B[0;36mtranspile\u001B[1;34m(circuits, backend, basis_gates, inst_map, coupling_map, backend_properties, initial_layout, layout_method, routing_method, translation_method, scheduling_method, instruction_durations, dt, approximation_degree, timing_constraints, seed_transpiler, optimization_level, callback, output_name, unitary_synthesis_method, unitary_synthesis_plugin_config, target, hls_config, init_method, optimization_method, ignore_backend_supplied_default_methods, num_processes)\u001B[0m\n\u001B[0;32m    397\u001B[0m         instruction_durations \u001B[38;5;241m=\u001B[39m _parse_instruction_durations(\n\u001B[0;32m    398\u001B[0m             backend, instruction_durations, dt, circuits[\u001B[38;5;241m0\u001B[39m]\n\u001B[0;32m    399\u001B[0m         )\n\u001B[0;32m    401\u001B[0m pm \u001B[38;5;241m=\u001B[39m generate_preset_pass_manager(\n\u001B[0;32m    402\u001B[0m     optimization_level,\n\u001B[0;32m    403\u001B[0m     backend\u001B[38;5;241m=\u001B[39mbackend,\n\u001B[1;32m   (...)\u001B[0m\n\u001B[0;32m    423\u001B[0m     _skip_target\u001B[38;5;241m=\u001B[39m_skip_target,\n\u001B[0;32m    424\u001B[0m )\n\u001B[1;32m--> 425\u001B[0m out_circuits \u001B[38;5;241m=\u001B[39m pm\u001B[38;5;241m.\u001B[39mrun(circuits, callback\u001B[38;5;241m=\u001B[39mcallback)\n\u001B[0;32m    426\u001B[0m \u001B[38;5;28;01mfor\u001B[39;00m name, circ \u001B[38;5;129;01min\u001B[39;00m \u001B[38;5;28mzip\u001B[39m(output_name, out_circuits):\n\u001B[0;32m    427\u001B[0m     circ\u001B[38;5;241m.\u001B[39mname \u001B[38;5;241m=\u001B[39m name\n",
      "File \u001B[1;32m~\\Anaconda3\\Lib\\site-packages\\qiskit\\transpiler\\passmanager.py:397\u001B[0m, in \u001B[0;36mStagedPassManager.run\u001B[1;34m(self, circuits, output_name, callback, num_processes)\u001B[0m\n\u001B[0;32m    389\u001B[0m \u001B[38;5;28;01mdef\u001B[39;00m \u001B[38;5;21mrun\u001B[39m(\n\u001B[0;32m    390\u001B[0m     \u001B[38;5;28mself\u001B[39m,\n\u001B[0;32m    391\u001B[0m     circuits: _CircuitsT,\n\u001B[1;32m   (...)\u001B[0m\n\u001B[0;32m    394\u001B[0m     num_processes: \u001B[38;5;28mint\u001B[39m \u001B[38;5;241m=\u001B[39m \u001B[38;5;28;01mNone\u001B[39;00m,\n\u001B[0;32m    395\u001B[0m ) \u001B[38;5;241m-\u001B[39m\u001B[38;5;241m>\u001B[39m _CircuitsT:\n\u001B[0;32m    396\u001B[0m     \u001B[38;5;28mself\u001B[39m\u001B[38;5;241m.\u001B[39m_update_passmanager()\n\u001B[1;32m--> 397\u001B[0m     \u001B[38;5;28;01mreturn\u001B[39;00m \u001B[38;5;28msuper\u001B[39m()\u001B[38;5;241m.\u001B[39mrun(circuits, output_name, callback, num_processes\u001B[38;5;241m=\u001B[39mnum_processes)\n",
      "File \u001B[1;32m~\\Anaconda3\\Lib\\site-packages\\qiskit\\transpiler\\passmanager.py:420\u001B[0m, in \u001B[0;36m_replace_error.<locals>.wrapper\u001B[1;34m(*meth_args, **meth_kwargs)\u001B[0m\n\u001B[0;32m    417\u001B[0m \u001B[38;5;129m@wraps\u001B[39m(meth)\n\u001B[0;32m    418\u001B[0m \u001B[38;5;28;01mdef\u001B[39;00m \u001B[38;5;21mwrapper\u001B[39m(\u001B[38;5;241m*\u001B[39mmeth_args, \u001B[38;5;241m*\u001B[39m\u001B[38;5;241m*\u001B[39mmeth_kwargs):\n\u001B[0;32m    419\u001B[0m     \u001B[38;5;28;01mtry\u001B[39;00m:\n\u001B[1;32m--> 420\u001B[0m         \u001B[38;5;28;01mreturn\u001B[39;00m meth(\u001B[38;5;241m*\u001B[39mmeth_args, \u001B[38;5;241m*\u001B[39m\u001B[38;5;241m*\u001B[39mmeth_kwargs)\n\u001B[0;32m    421\u001B[0m     \u001B[38;5;28;01mexcept\u001B[39;00m PassManagerError \u001B[38;5;28;01mas\u001B[39;00m ex:\n\u001B[0;32m    422\u001B[0m         \u001B[38;5;28;01mraise\u001B[39;00m TranspilerError(ex\u001B[38;5;241m.\u001B[39mmessage) \u001B[38;5;28;01mfrom\u001B[39;00m \u001B[38;5;21;01mex\u001B[39;00m\n",
      "File \u001B[1;32m~\\Anaconda3\\Lib\\site-packages\\qiskit\\transpiler\\passmanager.py:182\u001B[0m, in \u001B[0;36mPassManager.run\u001B[1;34m(self, circuits, output_name, callback, num_processes)\u001B[0m\n\u001B[0;32m    179\u001B[0m \u001B[38;5;28;01mif\u001B[39;00m callback \u001B[38;5;129;01mis\u001B[39;00m \u001B[38;5;129;01mnot\u001B[39;00m \u001B[38;5;28;01mNone\u001B[39;00m:\n\u001B[0;32m    180\u001B[0m     callback \u001B[38;5;241m=\u001B[39m _legacy_style_callback(callback)\n\u001B[1;32m--> 182\u001B[0m \u001B[38;5;28;01mreturn\u001B[39;00m \u001B[38;5;28msuper\u001B[39m()\u001B[38;5;241m.\u001B[39mrun(\n\u001B[0;32m    183\u001B[0m     in_programs\u001B[38;5;241m=\u001B[39mcircuits,\n\u001B[0;32m    184\u001B[0m     callback\u001B[38;5;241m=\u001B[39mcallback,\n\u001B[0;32m    185\u001B[0m     output_name\u001B[38;5;241m=\u001B[39moutput_name,\n\u001B[0;32m    186\u001B[0m     num_processes\u001B[38;5;241m=\u001B[39mnum_processes,\n\u001B[0;32m    187\u001B[0m )\n",
      "File \u001B[1;32m~\\Anaconda3\\Lib\\site-packages\\qiskit\\passmanager\\passmanager.py:227\u001B[0m, in \u001B[0;36mBasePassManager.run\u001B[1;34m(self, in_programs, callback, num_processes, **kwargs)\u001B[0m\n\u001B[0;32m    224\u001B[0m     is_list \u001B[38;5;241m=\u001B[39m \u001B[38;5;28;01mFalse\u001B[39;00m\n\u001B[0;32m    226\u001B[0m \u001B[38;5;28;01mif\u001B[39;00m \u001B[38;5;28mlen\u001B[39m(in_programs) \u001B[38;5;241m==\u001B[39m \u001B[38;5;241m1\u001B[39m:\n\u001B[1;32m--> 227\u001B[0m     out_program \u001B[38;5;241m=\u001B[39m _run_workflow(\n\u001B[0;32m    228\u001B[0m         program\u001B[38;5;241m=\u001B[39min_programs[\u001B[38;5;241m0\u001B[39m],\n\u001B[0;32m    229\u001B[0m         pass_manager\u001B[38;5;241m=\u001B[39m\u001B[38;5;28mself\u001B[39m,\n\u001B[0;32m    230\u001B[0m         callback\u001B[38;5;241m=\u001B[39mcallback,\n\u001B[0;32m    231\u001B[0m         \u001B[38;5;241m*\u001B[39m\u001B[38;5;241m*\u001B[39mkwargs,\n\u001B[0;32m    232\u001B[0m     )\n\u001B[0;32m    233\u001B[0m     \u001B[38;5;28;01mif\u001B[39;00m is_list:\n\u001B[0;32m    234\u001B[0m         \u001B[38;5;28;01mreturn\u001B[39;00m [out_program]\n",
      "File \u001B[1;32m~\\Anaconda3\\Lib\\site-packages\\qiskit\\passmanager\\passmanager.py:286\u001B[0m, in \u001B[0;36m_run_workflow\u001B[1;34m(program, pass_manager, **kwargs)\u001B[0m\n\u001B[0;32m    283\u001B[0m flow_controller \u001B[38;5;241m=\u001B[39m pass_manager\u001B[38;5;241m.\u001B[39mto_flow_controller()\n\u001B[0;32m    284\u001B[0m initial_status \u001B[38;5;241m=\u001B[39m WorkflowStatus()\n\u001B[1;32m--> 286\u001B[0m passmanager_ir \u001B[38;5;241m=\u001B[39m pass_manager\u001B[38;5;241m.\u001B[39m_passmanager_frontend(\n\u001B[0;32m    287\u001B[0m     input_program\u001B[38;5;241m=\u001B[39mprogram,\n\u001B[0;32m    288\u001B[0m     \u001B[38;5;241m*\u001B[39m\u001B[38;5;241m*\u001B[39mkwargs,\n\u001B[0;32m    289\u001B[0m )\n\u001B[0;32m    290\u001B[0m passmanager_ir, _ \u001B[38;5;241m=\u001B[39m flow_controller\u001B[38;5;241m.\u001B[39mexecute(\n\u001B[0;32m    291\u001B[0m     passmanager_ir\u001B[38;5;241m=\u001B[39mpassmanager_ir,\n\u001B[0;32m    292\u001B[0m     state\u001B[38;5;241m=\u001B[39mPassManagerState(\n\u001B[1;32m   (...)\u001B[0m\n\u001B[0;32m    296\u001B[0m     callback\u001B[38;5;241m=\u001B[39mkwargs\u001B[38;5;241m.\u001B[39mget(\u001B[38;5;124m\"\u001B[39m\u001B[38;5;124mcallback\u001B[39m\u001B[38;5;124m\"\u001B[39m, \u001B[38;5;28;01mNone\u001B[39;00m),\n\u001B[0;32m    297\u001B[0m )\n\u001B[0;32m    298\u001B[0m out_program \u001B[38;5;241m=\u001B[39m pass_manager\u001B[38;5;241m.\u001B[39m_passmanager_backend(\n\u001B[0;32m    299\u001B[0m     passmanager_ir\u001B[38;5;241m=\u001B[39mpassmanager_ir,\n\u001B[0;32m    300\u001B[0m     in_program\u001B[38;5;241m=\u001B[39mprogram,\n\u001B[0;32m    301\u001B[0m     \u001B[38;5;241m*\u001B[39m\u001B[38;5;241m*\u001B[39mkwargs,\n\u001B[0;32m    302\u001B[0m )\n",
      "File \u001B[1;32m~\\Anaconda3\\Lib\\site-packages\\qiskit\\transpiler\\passmanager.py:62\u001B[0m, in \u001B[0;36mPassManager._passmanager_frontend\u001B[1;34m(self, input_program, **kwargs)\u001B[0m\n\u001B[0;32m     57\u001B[0m \u001B[38;5;28;01mdef\u001B[39;00m \u001B[38;5;21m_passmanager_frontend\u001B[39m(\n\u001B[0;32m     58\u001B[0m     \u001B[38;5;28mself\u001B[39m,\n\u001B[0;32m     59\u001B[0m     input_program: QuantumCircuit,\n\u001B[0;32m     60\u001B[0m     \u001B[38;5;241m*\u001B[39m\u001B[38;5;241m*\u001B[39mkwargs,\n\u001B[0;32m     61\u001B[0m ) \u001B[38;5;241m-\u001B[39m\u001B[38;5;241m>\u001B[39m DAGCircuit:\n\u001B[1;32m---> 62\u001B[0m     \u001B[38;5;28;01mreturn\u001B[39;00m circuit_to_dag(input_program, copy_operations\u001B[38;5;241m=\u001B[39m\u001B[38;5;28;01mTrue\u001B[39;00m)\n",
      "File \u001B[1;32m~\\Anaconda3\\Lib\\site-packages\\qiskit\\converters\\circuit_to_dag.py:91\u001B[0m, in \u001B[0;36mcircuit_to_dag\u001B[1;34m(circuit, copy_operations, qubit_order, clbit_order)\u001B[0m\n\u001B[0;32m     89\u001B[0m     op \u001B[38;5;241m=\u001B[39m instruction\u001B[38;5;241m.\u001B[39moperation\n\u001B[0;32m     90\u001B[0m     \u001B[38;5;28;01mif\u001B[39;00m copy_operations:\n\u001B[1;32m---> 91\u001B[0m         op \u001B[38;5;241m=\u001B[39m copy\u001B[38;5;241m.\u001B[39mdeepcopy(op)\n\u001B[0;32m     92\u001B[0m     dagcircuit\u001B[38;5;241m.\u001B[39mapply_operation_back(op, instruction\u001B[38;5;241m.\u001B[39mqubits, instruction\u001B[38;5;241m.\u001B[39mclbits, check\u001B[38;5;241m=\u001B[39m\u001B[38;5;28;01mFalse\u001B[39;00m)\n\u001B[0;32m     94\u001B[0m dagcircuit\u001B[38;5;241m.\u001B[39mduration \u001B[38;5;241m=\u001B[39m circuit\u001B[38;5;241m.\u001B[39mduration\n",
      "File \u001B[1;32m~\\Anaconda3\\Lib\\copy.py:153\u001B[0m, in \u001B[0;36mdeepcopy\u001B[1;34m(x, memo, _nil)\u001B[0m\n\u001B[0;32m    151\u001B[0m copier \u001B[38;5;241m=\u001B[39m \u001B[38;5;28mgetattr\u001B[39m(x, \u001B[38;5;124m\"\u001B[39m\u001B[38;5;124m__deepcopy__\u001B[39m\u001B[38;5;124m\"\u001B[39m, \u001B[38;5;28;01mNone\u001B[39;00m)\n\u001B[0;32m    152\u001B[0m \u001B[38;5;28;01mif\u001B[39;00m copier \u001B[38;5;129;01mis\u001B[39;00m \u001B[38;5;129;01mnot\u001B[39;00m \u001B[38;5;28;01mNone\u001B[39;00m:\n\u001B[1;32m--> 153\u001B[0m     y \u001B[38;5;241m=\u001B[39m copier(memo)\n\u001B[0;32m    154\u001B[0m \u001B[38;5;28;01melse\u001B[39;00m:\n\u001B[0;32m    155\u001B[0m     reductor \u001B[38;5;241m=\u001B[39m dispatch_table\u001B[38;5;241m.\u001B[39mget(\u001B[38;5;28mcls\u001B[39m)\n",
      "File \u001B[1;32m~\\Anaconda3\\Lib\\site-packages\\qiskit\\circuit\\instruction.py:520\u001B[0m, in \u001B[0;36mInstruction.__deepcopy__\u001B[1;34m(self, memo)\u001B[0m\n\u001B[0;32m    518\u001B[0m cpy\u001B[38;5;241m.\u001B[39m_params \u001B[38;5;241m=\u001B[39m copy\u001B[38;5;241m.\u001B[39mcopy(\u001B[38;5;28mself\u001B[39m\u001B[38;5;241m.\u001B[39m_params)\n\u001B[0;32m    519\u001B[0m \u001B[38;5;28;01mif\u001B[39;00m \u001B[38;5;28mself\u001B[39m\u001B[38;5;241m.\u001B[39m_definition:\n\u001B[1;32m--> 520\u001B[0m     cpy\u001B[38;5;241m.\u001B[39m_definition \u001B[38;5;241m=\u001B[39m copy\u001B[38;5;241m.\u001B[39mdeepcopy(\u001B[38;5;28mself\u001B[39m\u001B[38;5;241m.\u001B[39m_definition, memo)\n\u001B[0;32m    521\u001B[0m \u001B[38;5;28;01mreturn\u001B[39;00m cpy\n",
      "File \u001B[1;32m~\\Anaconda3\\Lib\\copy.py:153\u001B[0m, in \u001B[0;36mdeepcopy\u001B[1;34m(x, memo, _nil)\u001B[0m\n\u001B[0;32m    151\u001B[0m copier \u001B[38;5;241m=\u001B[39m \u001B[38;5;28mgetattr\u001B[39m(x, \u001B[38;5;124m\"\u001B[39m\u001B[38;5;124m__deepcopy__\u001B[39m\u001B[38;5;124m\"\u001B[39m, \u001B[38;5;28;01mNone\u001B[39;00m)\n\u001B[0;32m    152\u001B[0m \u001B[38;5;28;01mif\u001B[39;00m copier \u001B[38;5;129;01mis\u001B[39;00m \u001B[38;5;129;01mnot\u001B[39;00m \u001B[38;5;28;01mNone\u001B[39;00m:\n\u001B[1;32m--> 153\u001B[0m     y \u001B[38;5;241m=\u001B[39m copier(memo)\n\u001B[0;32m    154\u001B[0m \u001B[38;5;28;01melse\u001B[39;00m:\n\u001B[0;32m    155\u001B[0m     reductor \u001B[38;5;241m=\u001B[39m dispatch_table\u001B[38;5;241m.\u001B[39mget(\u001B[38;5;28mcls\u001B[39m)\n",
      "File \u001B[1;32m~\\Anaconda3\\Lib\\site-packages\\qiskit\\circuit\\quantumcircuit.py:511\u001B[0m, in \u001B[0;36mQuantumCircuit.__deepcopy__\u001B[1;34m(self, memo)\u001B[0m\n\u001B[0;32m    506\u001B[0m result\u001B[38;5;241m.\u001B[39m_data \u001B[38;5;241m=\u001B[39m \u001B[38;5;28mself\u001B[39m\u001B[38;5;241m.\u001B[39m_data\u001B[38;5;241m.\u001B[39mcopy()\n\u001B[0;32m    507\u001B[0m result\u001B[38;5;241m.\u001B[39m_data\u001B[38;5;241m.\u001B[39mreplace_bits(\n\u001B[0;32m    508\u001B[0m     qubits\u001B[38;5;241m=\u001B[39mcopy\u001B[38;5;241m.\u001B[39mdeepcopy(\u001B[38;5;28mself\u001B[39m\u001B[38;5;241m.\u001B[39m_data\u001B[38;5;241m.\u001B[39mqubits, memo),\n\u001B[0;32m    509\u001B[0m     clbits\u001B[38;5;241m=\u001B[39mcopy\u001B[38;5;241m.\u001B[39mdeepcopy(\u001B[38;5;28mself\u001B[39m\u001B[38;5;241m.\u001B[39m_data\u001B[38;5;241m.\u001B[39mclbits, memo),\n\u001B[0;32m    510\u001B[0m )\n\u001B[1;32m--> 511\u001B[0m result\u001B[38;5;241m.\u001B[39m_data\u001B[38;5;241m.\u001B[39mmap_ops(\u001B[38;5;28;01mlambda\u001B[39;00m op: copy\u001B[38;5;241m.\u001B[39mdeepcopy(op, memo))\n\u001B[0;32m    512\u001B[0m \u001B[38;5;28;01mreturn\u001B[39;00m result\n",
      "File \u001B[1;32m~\\Anaconda3\\Lib\\site-packages\\qiskit\\circuit\\quantumcircuit.py:511\u001B[0m, in \u001B[0;36mQuantumCircuit.__deepcopy__.<locals>.<lambda>\u001B[1;34m(op)\u001B[0m\n\u001B[0;32m    506\u001B[0m result\u001B[38;5;241m.\u001B[39m_data \u001B[38;5;241m=\u001B[39m \u001B[38;5;28mself\u001B[39m\u001B[38;5;241m.\u001B[39m_data\u001B[38;5;241m.\u001B[39mcopy()\n\u001B[0;32m    507\u001B[0m result\u001B[38;5;241m.\u001B[39m_data\u001B[38;5;241m.\u001B[39mreplace_bits(\n\u001B[0;32m    508\u001B[0m     qubits\u001B[38;5;241m=\u001B[39mcopy\u001B[38;5;241m.\u001B[39mdeepcopy(\u001B[38;5;28mself\u001B[39m\u001B[38;5;241m.\u001B[39m_data\u001B[38;5;241m.\u001B[39mqubits, memo),\n\u001B[0;32m    509\u001B[0m     clbits\u001B[38;5;241m=\u001B[39mcopy\u001B[38;5;241m.\u001B[39mdeepcopy(\u001B[38;5;28mself\u001B[39m\u001B[38;5;241m.\u001B[39m_data\u001B[38;5;241m.\u001B[39mclbits, memo),\n\u001B[0;32m    510\u001B[0m )\n\u001B[1;32m--> 511\u001B[0m result\u001B[38;5;241m.\u001B[39m_data\u001B[38;5;241m.\u001B[39mmap_ops(\u001B[38;5;28;01mlambda\u001B[39;00m op: copy\u001B[38;5;241m.\u001B[39mdeepcopy(op, memo))\n\u001B[0;32m    512\u001B[0m \u001B[38;5;28;01mreturn\u001B[39;00m result\n",
      "    \u001B[1;31m[... skipping similar frames: deepcopy at line 153 (1 times)]\u001B[0m\n",
      "File \u001B[1;32m~\\Anaconda3\\Lib\\site-packages\\qiskit\\circuit\\instruction.py:520\u001B[0m, in \u001B[0;36mInstruction.__deepcopy__\u001B[1;34m(self, memo)\u001B[0m\n\u001B[0;32m    518\u001B[0m cpy\u001B[38;5;241m.\u001B[39m_params \u001B[38;5;241m=\u001B[39m copy\u001B[38;5;241m.\u001B[39mcopy(\u001B[38;5;28mself\u001B[39m\u001B[38;5;241m.\u001B[39m_params)\n\u001B[0;32m    519\u001B[0m \u001B[38;5;28;01mif\u001B[39;00m \u001B[38;5;28mself\u001B[39m\u001B[38;5;241m.\u001B[39m_definition:\n\u001B[1;32m--> 520\u001B[0m     cpy\u001B[38;5;241m.\u001B[39m_definition \u001B[38;5;241m=\u001B[39m copy\u001B[38;5;241m.\u001B[39mdeepcopy(\u001B[38;5;28mself\u001B[39m\u001B[38;5;241m.\u001B[39m_definition, memo)\n\u001B[0;32m    521\u001B[0m \u001B[38;5;28;01mreturn\u001B[39;00m cpy\n",
      "    \u001B[1;31m[... skipping similar frames: deepcopy at line 153 (1 times)]\u001B[0m\n",
      "File \u001B[1;32m~\\Anaconda3\\Lib\\site-packages\\qiskit\\circuit\\quantumcircuit.py:511\u001B[0m, in \u001B[0;36mQuantumCircuit.__deepcopy__\u001B[1;34m(self, memo)\u001B[0m\n\u001B[0;32m    506\u001B[0m result\u001B[38;5;241m.\u001B[39m_data \u001B[38;5;241m=\u001B[39m \u001B[38;5;28mself\u001B[39m\u001B[38;5;241m.\u001B[39m_data\u001B[38;5;241m.\u001B[39mcopy()\n\u001B[0;32m    507\u001B[0m result\u001B[38;5;241m.\u001B[39m_data\u001B[38;5;241m.\u001B[39mreplace_bits(\n\u001B[0;32m    508\u001B[0m     qubits\u001B[38;5;241m=\u001B[39mcopy\u001B[38;5;241m.\u001B[39mdeepcopy(\u001B[38;5;28mself\u001B[39m\u001B[38;5;241m.\u001B[39m_data\u001B[38;5;241m.\u001B[39mqubits, memo),\n\u001B[0;32m    509\u001B[0m     clbits\u001B[38;5;241m=\u001B[39mcopy\u001B[38;5;241m.\u001B[39mdeepcopy(\u001B[38;5;28mself\u001B[39m\u001B[38;5;241m.\u001B[39m_data\u001B[38;5;241m.\u001B[39mclbits, memo),\n\u001B[0;32m    510\u001B[0m )\n\u001B[1;32m--> 511\u001B[0m result\u001B[38;5;241m.\u001B[39m_data\u001B[38;5;241m.\u001B[39mmap_ops(\u001B[38;5;28;01mlambda\u001B[39;00m op: copy\u001B[38;5;241m.\u001B[39mdeepcopy(op, memo))\n\u001B[0;32m    512\u001B[0m \u001B[38;5;28;01mreturn\u001B[39;00m result\n",
      "File \u001B[1;32m~\\Anaconda3\\Lib\\site-packages\\qiskit\\circuit\\quantumcircuit.py:511\u001B[0m, in \u001B[0;36mQuantumCircuit.__deepcopy__.<locals>.<lambda>\u001B[1;34m(op)\u001B[0m\n\u001B[0;32m    506\u001B[0m result\u001B[38;5;241m.\u001B[39m_data \u001B[38;5;241m=\u001B[39m \u001B[38;5;28mself\u001B[39m\u001B[38;5;241m.\u001B[39m_data\u001B[38;5;241m.\u001B[39mcopy()\n\u001B[0;32m    507\u001B[0m result\u001B[38;5;241m.\u001B[39m_data\u001B[38;5;241m.\u001B[39mreplace_bits(\n\u001B[0;32m    508\u001B[0m     qubits\u001B[38;5;241m=\u001B[39mcopy\u001B[38;5;241m.\u001B[39mdeepcopy(\u001B[38;5;28mself\u001B[39m\u001B[38;5;241m.\u001B[39m_data\u001B[38;5;241m.\u001B[39mqubits, memo),\n\u001B[0;32m    509\u001B[0m     clbits\u001B[38;5;241m=\u001B[39mcopy\u001B[38;5;241m.\u001B[39mdeepcopy(\u001B[38;5;28mself\u001B[39m\u001B[38;5;241m.\u001B[39m_data\u001B[38;5;241m.\u001B[39mclbits, memo),\n\u001B[0;32m    510\u001B[0m )\n\u001B[1;32m--> 511\u001B[0m result\u001B[38;5;241m.\u001B[39m_data\u001B[38;5;241m.\u001B[39mmap_ops(\u001B[38;5;28;01mlambda\u001B[39;00m op: copy\u001B[38;5;241m.\u001B[39mdeepcopy(op, memo))\n\u001B[0;32m    512\u001B[0m \u001B[38;5;28;01mreturn\u001B[39;00m result\n",
      "    \u001B[1;31m[... skipping similar frames: deepcopy at line 153 (20 times), Instruction.__deepcopy__ at line 520 (10 times), QuantumCircuit.__deepcopy__.<locals>.<lambda> at line 511 (9 times), QuantumCircuit.__deepcopy__ at line 511 (9 times)]\u001B[0m\n",
      "File \u001B[1;32m~\\Anaconda3\\Lib\\site-packages\\qiskit\\circuit\\quantumcircuit.py:511\u001B[0m, in \u001B[0;36mQuantumCircuit.__deepcopy__\u001B[1;34m(self, memo)\u001B[0m\n\u001B[0;32m    506\u001B[0m result\u001B[38;5;241m.\u001B[39m_data \u001B[38;5;241m=\u001B[39m \u001B[38;5;28mself\u001B[39m\u001B[38;5;241m.\u001B[39m_data\u001B[38;5;241m.\u001B[39mcopy()\n\u001B[0;32m    507\u001B[0m result\u001B[38;5;241m.\u001B[39m_data\u001B[38;5;241m.\u001B[39mreplace_bits(\n\u001B[0;32m    508\u001B[0m     qubits\u001B[38;5;241m=\u001B[39mcopy\u001B[38;5;241m.\u001B[39mdeepcopy(\u001B[38;5;28mself\u001B[39m\u001B[38;5;241m.\u001B[39m_data\u001B[38;5;241m.\u001B[39mqubits, memo),\n\u001B[0;32m    509\u001B[0m     clbits\u001B[38;5;241m=\u001B[39mcopy\u001B[38;5;241m.\u001B[39mdeepcopy(\u001B[38;5;28mself\u001B[39m\u001B[38;5;241m.\u001B[39m_data\u001B[38;5;241m.\u001B[39mclbits, memo),\n\u001B[0;32m    510\u001B[0m )\n\u001B[1;32m--> 511\u001B[0m result\u001B[38;5;241m.\u001B[39m_data\u001B[38;5;241m.\u001B[39mmap_ops(\u001B[38;5;28;01mlambda\u001B[39;00m op: copy\u001B[38;5;241m.\u001B[39mdeepcopy(op, memo))\n\u001B[0;32m    512\u001B[0m \u001B[38;5;28;01mreturn\u001B[39;00m result\n",
      "File \u001B[1;32m~\\Anaconda3\\Lib\\site-packages\\qiskit\\circuit\\quantumcircuit.py:511\u001B[0m, in \u001B[0;36mQuantumCircuit.__deepcopy__.<locals>.<lambda>\u001B[1;34m(op)\u001B[0m\n\u001B[0;32m    506\u001B[0m result\u001B[38;5;241m.\u001B[39m_data \u001B[38;5;241m=\u001B[39m \u001B[38;5;28mself\u001B[39m\u001B[38;5;241m.\u001B[39m_data\u001B[38;5;241m.\u001B[39mcopy()\n\u001B[0;32m    507\u001B[0m result\u001B[38;5;241m.\u001B[39m_data\u001B[38;5;241m.\u001B[39mreplace_bits(\n\u001B[0;32m    508\u001B[0m     qubits\u001B[38;5;241m=\u001B[39mcopy\u001B[38;5;241m.\u001B[39mdeepcopy(\u001B[38;5;28mself\u001B[39m\u001B[38;5;241m.\u001B[39m_data\u001B[38;5;241m.\u001B[39mqubits, memo),\n\u001B[0;32m    509\u001B[0m     clbits\u001B[38;5;241m=\u001B[39mcopy\u001B[38;5;241m.\u001B[39mdeepcopy(\u001B[38;5;28mself\u001B[39m\u001B[38;5;241m.\u001B[39m_data\u001B[38;5;241m.\u001B[39mclbits, memo),\n\u001B[0;32m    510\u001B[0m )\n\u001B[1;32m--> 511\u001B[0m result\u001B[38;5;241m.\u001B[39m_data\u001B[38;5;241m.\u001B[39mmap_ops(\u001B[38;5;28;01mlambda\u001B[39;00m op: copy\u001B[38;5;241m.\u001B[39mdeepcopy(op, memo))\n\u001B[0;32m    512\u001B[0m \u001B[38;5;28;01mreturn\u001B[39;00m result\n",
      "    \u001B[1;31m[... skipping similar frames: deepcopy at line 153 (1 times)]\u001B[0m\n",
      "File \u001B[1;32m~\\Anaconda3\\Lib\\site-packages\\qiskit\\circuit\\instruction.py:520\u001B[0m, in \u001B[0;36mInstruction.__deepcopy__\u001B[1;34m(self, memo)\u001B[0m\n\u001B[0;32m    518\u001B[0m cpy\u001B[38;5;241m.\u001B[39m_params \u001B[38;5;241m=\u001B[39m copy\u001B[38;5;241m.\u001B[39mcopy(\u001B[38;5;28mself\u001B[39m\u001B[38;5;241m.\u001B[39m_params)\n\u001B[0;32m    519\u001B[0m \u001B[38;5;28;01mif\u001B[39;00m \u001B[38;5;28mself\u001B[39m\u001B[38;5;241m.\u001B[39m_definition:\n\u001B[1;32m--> 520\u001B[0m     cpy\u001B[38;5;241m.\u001B[39m_definition \u001B[38;5;241m=\u001B[39m copy\u001B[38;5;241m.\u001B[39mdeepcopy(\u001B[38;5;28mself\u001B[39m\u001B[38;5;241m.\u001B[39m_definition, memo)\n\u001B[0;32m    521\u001B[0m \u001B[38;5;28;01mreturn\u001B[39;00m cpy\n",
      "File \u001B[1;32m~\\Anaconda3\\Lib\\copy.py:153\u001B[0m, in \u001B[0;36mdeepcopy\u001B[1;34m(x, memo, _nil)\u001B[0m\n\u001B[0;32m    151\u001B[0m copier \u001B[38;5;241m=\u001B[39m \u001B[38;5;28mgetattr\u001B[39m(x, \u001B[38;5;124m\"\u001B[39m\u001B[38;5;124m__deepcopy__\u001B[39m\u001B[38;5;124m\"\u001B[39m, \u001B[38;5;28;01mNone\u001B[39;00m)\n\u001B[0;32m    152\u001B[0m \u001B[38;5;28;01mif\u001B[39;00m copier \u001B[38;5;129;01mis\u001B[39;00m \u001B[38;5;129;01mnot\u001B[39;00m \u001B[38;5;28;01mNone\u001B[39;00m:\n\u001B[1;32m--> 153\u001B[0m     y \u001B[38;5;241m=\u001B[39m copier(memo)\n\u001B[0;32m    154\u001B[0m \u001B[38;5;28;01melse\u001B[39;00m:\n\u001B[0;32m    155\u001B[0m     reductor \u001B[38;5;241m=\u001B[39m dispatch_table\u001B[38;5;241m.\u001B[39mget(\u001B[38;5;28mcls\u001B[39m)\n",
      "File \u001B[1;32m~\\Anaconda3\\Lib\\site-packages\\qiskit\\circuit\\quantumcircuit.py:500\u001B[0m, in \u001B[0;36mQuantumCircuit.__deepcopy__\u001B[1;34m(self, memo)\u001B[0m\n\u001B[0;32m    498\u001B[0m result \u001B[38;5;241m=\u001B[39m \u001B[38;5;28mcls\u001B[39m\u001B[38;5;241m.\u001B[39m\u001B[38;5;21m__new__\u001B[39m(\u001B[38;5;28mcls\u001B[39m)\n\u001B[0;32m    499\u001B[0m \u001B[38;5;28;01mfor\u001B[39;00m k \u001B[38;5;129;01min\u001B[39;00m \u001B[38;5;28mself\u001B[39m\u001B[38;5;241m.\u001B[39m\u001B[38;5;18m__dict__\u001B[39m\u001B[38;5;241m.\u001B[39mkeys() \u001B[38;5;241m-\u001B[39m {\u001B[38;5;124m\"\u001B[39m\u001B[38;5;124m_data\u001B[39m\u001B[38;5;124m\"\u001B[39m, \u001B[38;5;124m\"\u001B[39m\u001B[38;5;124m_builder_api\u001B[39m\u001B[38;5;124m\"\u001B[39m}:\n\u001B[1;32m--> 500\u001B[0m     \u001B[38;5;28msetattr\u001B[39m(result, k, copy\u001B[38;5;241m.\u001B[39mdeepcopy(\u001B[38;5;28mself\u001B[39m\u001B[38;5;241m.\u001B[39m\u001B[38;5;18m__dict__\u001B[39m[k], memo))\n\u001B[0;32m    502\u001B[0m result\u001B[38;5;241m.\u001B[39m_builder_api \u001B[38;5;241m=\u001B[39m _OuterCircuitScopeInterface(result)\n\u001B[0;32m    504\u001B[0m \u001B[38;5;66;03m# Avoids pulling self._data into a Python list\u001B[39;00m\n\u001B[0;32m    505\u001B[0m \u001B[38;5;66;03m# like we would when pickling.\u001B[39;00m\n",
      "File \u001B[1;32m~\\Anaconda3\\Lib\\copy.py:146\u001B[0m, in \u001B[0;36mdeepcopy\u001B[1;34m(x, memo, _nil)\u001B[0m\n\u001B[0;32m    144\u001B[0m copier \u001B[38;5;241m=\u001B[39m _deepcopy_dispatch\u001B[38;5;241m.\u001B[39mget(\u001B[38;5;28mcls\u001B[39m)\n\u001B[0;32m    145\u001B[0m \u001B[38;5;28;01mif\u001B[39;00m copier \u001B[38;5;129;01mis\u001B[39;00m \u001B[38;5;129;01mnot\u001B[39;00m \u001B[38;5;28;01mNone\u001B[39;00m:\n\u001B[1;32m--> 146\u001B[0m     y \u001B[38;5;241m=\u001B[39m copier(x, memo)\n\u001B[0;32m    147\u001B[0m \u001B[38;5;28;01melse\u001B[39;00m:\n\u001B[0;32m    148\u001B[0m     \u001B[38;5;28;01mif\u001B[39;00m \u001B[38;5;28missubclass\u001B[39m(\u001B[38;5;28mcls\u001B[39m, \u001B[38;5;28mtype\u001B[39m):\n",
      "File \u001B[1;32m~\\Anaconda3\\Lib\\copy.py:231\u001B[0m, in \u001B[0;36m_deepcopy_dict\u001B[1;34m(x, memo, deepcopy)\u001B[0m\n\u001B[0;32m    229\u001B[0m memo[\u001B[38;5;28mid\u001B[39m(x)] \u001B[38;5;241m=\u001B[39m y\n\u001B[0;32m    230\u001B[0m \u001B[38;5;28;01mfor\u001B[39;00m key, value \u001B[38;5;129;01min\u001B[39;00m x\u001B[38;5;241m.\u001B[39mitems():\n\u001B[1;32m--> 231\u001B[0m     y[deepcopy(key, memo)] \u001B[38;5;241m=\u001B[39m deepcopy(value, memo)\n\u001B[0;32m    232\u001B[0m \u001B[38;5;28;01mreturn\u001B[39;00m y\n",
      "File \u001B[1;32m~\\Anaconda3\\Lib\\copy.py:172\u001B[0m, in \u001B[0;36mdeepcopy\u001B[1;34m(x, memo, _nil)\u001B[0m\n\u001B[0;32m    170\u001B[0m                 y \u001B[38;5;241m=\u001B[39m x\n\u001B[0;32m    171\u001B[0m             \u001B[38;5;28;01melse\u001B[39;00m:\n\u001B[1;32m--> 172\u001B[0m                 y \u001B[38;5;241m=\u001B[39m _reconstruct(x, memo, \u001B[38;5;241m*\u001B[39mrv)\n\u001B[0;32m    174\u001B[0m \u001B[38;5;66;03m# If is its own copy, don't memoize.\u001B[39;00m\n\u001B[0;32m    175\u001B[0m \u001B[38;5;28;01mif\u001B[39;00m y \u001B[38;5;129;01mis\u001B[39;00m \u001B[38;5;129;01mnot\u001B[39;00m x:\n",
      "File \u001B[1;32m~\\Anaconda3\\Lib\\copy.py:265\u001B[0m, in \u001B[0;36m_reconstruct\u001B[1;34m(x, memo, func, args, state, listiter, dictiter, deepcopy)\u001B[0m\n\u001B[0;32m    263\u001B[0m \u001B[38;5;28;01mif\u001B[39;00m deep \u001B[38;5;129;01mand\u001B[39;00m args:\n\u001B[0;32m    264\u001B[0m     args \u001B[38;5;241m=\u001B[39m (deepcopy(arg, memo) \u001B[38;5;28;01mfor\u001B[39;00m arg \u001B[38;5;129;01min\u001B[39;00m args)\n\u001B[1;32m--> 265\u001B[0m y \u001B[38;5;241m=\u001B[39m func(\u001B[38;5;241m*\u001B[39margs)\n\u001B[0;32m    266\u001B[0m \u001B[38;5;28;01mif\u001B[39;00m deep:\n\u001B[0;32m    267\u001B[0m     memo[\u001B[38;5;28mid\u001B[39m(x)] \u001B[38;5;241m=\u001B[39m y\n",
      "File \u001B[1;32m~\\Anaconda3\\Lib\\copy.py:264\u001B[0m, in \u001B[0;36m<genexpr>\u001B[1;34m(.0)\u001B[0m\n\u001B[0;32m    262\u001B[0m deep \u001B[38;5;241m=\u001B[39m memo \u001B[38;5;129;01mis\u001B[39;00m \u001B[38;5;129;01mnot\u001B[39;00m \u001B[38;5;28;01mNone\u001B[39;00m\n\u001B[0;32m    263\u001B[0m \u001B[38;5;28;01mif\u001B[39;00m deep \u001B[38;5;129;01mand\u001B[39;00m args:\n\u001B[1;32m--> 264\u001B[0m     args \u001B[38;5;241m=\u001B[39m (deepcopy(arg, memo) \u001B[38;5;28;01mfor\u001B[39;00m arg \u001B[38;5;129;01min\u001B[39;00m args)\n\u001B[0;32m    265\u001B[0m y \u001B[38;5;241m=\u001B[39m func(\u001B[38;5;241m*\u001B[39margs)\n\u001B[0;32m    266\u001B[0m \u001B[38;5;28;01mif\u001B[39;00m deep:\n",
      "File \u001B[1;32m~\\Anaconda3\\Lib\\copy.py:146\u001B[0m, in \u001B[0;36mdeepcopy\u001B[1;34m(x, memo, _nil)\u001B[0m\n\u001B[0;32m    144\u001B[0m copier \u001B[38;5;241m=\u001B[39m _deepcopy_dispatch\u001B[38;5;241m.\u001B[39mget(\u001B[38;5;28mcls\u001B[39m)\n\u001B[0;32m    145\u001B[0m \u001B[38;5;28;01mif\u001B[39;00m copier \u001B[38;5;129;01mis\u001B[39;00m \u001B[38;5;129;01mnot\u001B[39;00m \u001B[38;5;28;01mNone\u001B[39;00m:\n\u001B[1;32m--> 146\u001B[0m     y \u001B[38;5;241m=\u001B[39m copier(x, memo)\n\u001B[0;32m    147\u001B[0m \u001B[38;5;28;01melse\u001B[39;00m:\n\u001B[0;32m    148\u001B[0m     \u001B[38;5;28;01mif\u001B[39;00m \u001B[38;5;28missubclass\u001B[39m(\u001B[38;5;28mcls\u001B[39m, \u001B[38;5;28mtype\u001B[39m):\n",
      "File \u001B[1;32m~\\Anaconda3\\Lib\\copy.py:206\u001B[0m, in \u001B[0;36m_deepcopy_list\u001B[1;34m(x, memo, deepcopy)\u001B[0m\n\u001B[0;32m    204\u001B[0m append \u001B[38;5;241m=\u001B[39m y\u001B[38;5;241m.\u001B[39mappend\n\u001B[0;32m    205\u001B[0m \u001B[38;5;28;01mfor\u001B[39;00m a \u001B[38;5;129;01min\u001B[39;00m x:\n\u001B[1;32m--> 206\u001B[0m     append(deepcopy(a, memo))\n\u001B[0;32m    207\u001B[0m \u001B[38;5;28;01mreturn\u001B[39;00m y\n",
      "File \u001B[1;32m~\\Anaconda3\\Lib\\copy.py:137\u001B[0m, in \u001B[0;36mdeepcopy\u001B[1;34m(x, memo, _nil)\u001B[0m\n\u001B[0;32m    134\u001B[0m \u001B[38;5;28;01mif\u001B[39;00m memo \u001B[38;5;129;01mis\u001B[39;00m \u001B[38;5;28;01mNone\u001B[39;00m:\n\u001B[0;32m    135\u001B[0m     memo \u001B[38;5;241m=\u001B[39m {}\n\u001B[1;32m--> 137\u001B[0m d \u001B[38;5;241m=\u001B[39m \u001B[38;5;28mid\u001B[39m(x)\n\u001B[0;32m    138\u001B[0m y \u001B[38;5;241m=\u001B[39m memo\u001B[38;5;241m.\u001B[39mget(d, _nil)\n\u001B[0;32m    139\u001B[0m \u001B[38;5;28;01mif\u001B[39;00m y \u001B[38;5;129;01mis\u001B[39;00m \u001B[38;5;129;01mnot\u001B[39;00m _nil:\n",
      "\u001B[1;31mKeyboardInterrupt\u001B[0m: "
     ]
    }
   ],
   "execution_count": 77
  },
  {
   "metadata": {
    "ExecuteTime": {
     "end_time": "2024-11-25T12:47:39.112910Z",
     "start_time": "2024-11-25T12:47:38.810867Z"
    }
   },
   "cell_type": "code",
   "source": [
    "nqubits = 8\n",
    "J = 1/np.sqrt(2)\n",
    "hamiltonian = get_hamiltonian(nqubits, J)\n",
    "H_array = hamiltonian.to_matrix()\n",
    "eval, _ = np.linalg.eigh(H_array)\n",
    "# print(eval)\n",
    "emin = eval[0]\n",
    "emax = eval[-1]\n",
    "H_array = (H_array - emin * np.eye(2**nqubits)) / (emax - emin) ## scale H\n",
    "final_time = np.pi/2 #time\n",
    "time = final_time\n",
    "time_step = 10 #time_step\n",
    "initial_state = Statevector.from_label(\"0000\")\n",
    "#H = get_hamiltonian_y(5, 1/np.sqrt(2), True)\n",
    "projector = np.array([[0, -1.0j],\n",
    "                     [1.0j, 0]])\n",
    "H = Operator(np.kron(projector, H_array))\n",
    "H = SparsePauliOp.from_operator(H)\n",
    "projector2 = np.array([[1, 0],\n",
    "                     [0, 0]]) ## for expectation\n",
    "hamiltonian1 = np.kron(projector2, get_hamiltonian(4, 1/np.sqrt(2)).to_matrix())\n",
    "hamiltonian1 = Operator(hamiltonian1)\n",
    "hamiltonian1 = SparsePauliOp.from_operator(hamiltonian1)\n",
    "hamiltonian2 = np.kron(projector2, np.eye(2**nqubits))\n",
    "error_rate = 0\n",
    "order = 1\n",
    "step = 20\n",
    "\n",
    "circ = QuantumCircuit(nqubits+1)\n",
    "U = expm(-1.0j * time * np.kron(projector, H_array))\n",
    "circ.unitary(U, range(nqubits+1))\n",
    "circ.save_statevector()\n",
    "simulator.run(qc).result()"
   ],
   "id": "bde036fb1c67882c",
   "outputs": [
    {
     "data": {
      "text/plain": [
       "Result(backend_name='aer_simulator', backend_version='0.13.3', qobj_id='', job_id='ebbc9508-43db-48a3-a9d2-8f4cee468e12', success=True, results=[ExperimentResult(shots=1024, success=True, meas_level=2, data=ExperimentResultData(statevector=Statevector([ 0.10235339+0.j, -0.21260232+0.j, -0.21260232+0.j,\n",
       "              0.18635546+0.j, -0.21260232+0.j,  0.50347622+0.j,\n",
       "              0.18635546+0.j, -0.19257463+0.j, -0.21260232+0.j,\n",
       "              0.18635546+0.j,  0.50347622+0.j, -0.19257463+0.j,\n",
       "              0.18635546+0.j, -0.19257463+0.j, -0.19257463+0.j,\n",
       "              0.0857619 +0.j,  0.01574892+0.j, -0.0221168 +0.j,\n",
       "             -0.0221168 +0.j,  0.02647876+0.j, -0.0221168 +0.j,\n",
       "             -0.03123427+0.j,  0.02647876+0.j, -0.00654422+0.j,\n",
       "             -0.0221168 +0.j,  0.02647876+0.j, -0.03123427+0.j,\n",
       "             -0.00654422+0.j,  0.02647876+0.j, -0.00654422+0.j,\n",
       "             -0.00654422+0.j,  0.00284817+0.j],\n",
       "            dims=(2, 2, 2, 2, 2))), header=QobjExperimentHeader(creg_sizes=[], global_phase=0.0, memory_slots=0, n_qubits=5, name='circuit-244261', qreg_sizes=[['q', 5]], metadata={}), status=DONE, seed_simulator=2581837440, metadata={'batched_shots_optimization': False, 'required_memory_mb': 1, 'method': 'statevector', 'active_input_qubits': [0, 1, 2, 3, 4], 'device': 'CPU', 'remapped_qubits': False, 'num_qubits': 5, 'num_clbits': 0, 'time_taken': 0.0001216, 'input_qubit_map': [[0, 0], [1, 1], [2, 2], [3, 3], [4, 4]], 'max_memory_mb': 16226, 'measure_sampling': True, 'noise': 'ideal', 'parallel_shots': 1, 'parallel_state_update': 12, 'runtime_parameter_bind': False, 'num_bind_params': 1, 'fusion': {'enabled': True, 'threshold': 14, 'max_fused_qubits': 5, 'applied': False}, 'result_subtypes': {'statevector': 'single'}, 'result_types': {'statevector': 'save_statevector'}}, time_taken=0.0001216)], date=2024-11-25T20:47:39.108397, status=COMPLETED, header=None, metadata={'omp_enabled': True, 'parallel_experiments': 1, 'max_memory_mb': 16226, 'max_gpu_memory_mb': 0, 'time_taken_execute': 0.0001884, 'time_taken_parameter_binding': 7.3e-06}, time_taken=0.0)"
      ]
     },
     "execution_count": 75,
     "metadata": {},
     "output_type": "execute_result"
    }
   ],
   "execution_count": 75
  },
  {
   "metadata": {},
   "cell_type": "code",
   "outputs": [],
   "execution_count": null,
   "source": "",
   "id": "81aca12d5768536f"
  }
 ],
 "metadata": {
  "kernelspec": {
   "display_name": "Python 3 (ipykernel)",
   "language": "python",
   "name": "python3"
  },
  "language_info": {
   "codemirror_mode": {
    "name": "ipython",
    "version": 3
   },
   "file_extension": ".py",
   "mimetype": "text/x-python",
   "name": "python",
   "nbconvert_exporter": "python",
   "pygments_lexer": "ipython3",
   "version": "3.12.1"
  }
 },
 "nbformat": 4,
 "nbformat_minor": 5
}
