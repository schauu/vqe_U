{
 "cells": [
  {
   "cell_type": "code",
   "execution_count": 1,
   "id": "d7b0ce59-1ae0-4f92-95d6-0dced2b777e9",
   "metadata": {},
   "outputs": [],
   "source": [
    "import numpy as np\n",
    "import scipy\n",
    "from qiskit import QuantumCircuit, transpile\n",
    "from qiskit.quantum_info import SparsePauliOp, Statevector, state_fidelity, Operator\n",
    "from qiskit.synthesis import SuzukiTrotter\n",
    "from qiskit_aer import AerSimulator\n",
    "from qiskit_algorithms import TimeEvolutionProblem, TrotterQRTE\n",
    "from qiskit_aer.noise import NoiseModel, depolarizing_error\n",
    "from qiskit.primitives import Estimator\n",
    "from qiskit.circuit.library import PauliEvolutionGate\n",
    "import matplotlib.pyplot as plt\n",
    "from scipy.linalg import expm, cosm\n",
    "import warnings\n",
    "import sys\n",
    "import functools\n",
    "import make_circuit\n",
    "import scipy as sc"
   ]
  },
  {
   "cell_type": "code",
   "execution_count": 10,
   "id": "960571e0-0b11-4f58-895d-e9291fd7e983",
   "metadata": {},
   "outputs": [],
   "source": [
    "initial_state = Statevector.from_label('00000')\n",
    "step = 10\n",
    "time = 1\n",
    "time_step = 20\n",
    "nqubits = 4\n",
    "periodic = True\n",
    "J = 1/np.sqrt(2)\n",
    "def get_hamiltonian_y(nqubits, J, periodic):\n",
    "    nqubits = nqubits - 1\n",
    "    if periodic==False:\n",
    "        ZZ_tuples = [('ZZY', [i, i+1, 0], J) for i in range(1, nqubits)]\n",
    "        X_tuples = [(\"XY\", [i, 0], J) for i in range(1, nqubits+1)]\n",
    "        hamiltonian = SparsePauliOp.from_sparse_list([*ZZ_tuples, *X_tuples], num_qubits=nqubits+1)\n",
    "    else:\n",
    "        ZZ_tuples = [('ZZY', [i, i+1, 0], J) for i in range(1, nqubits)]\n",
    "        ZZ_tuples += [('ZZY', [nqubits, 1, 0], J)]\n",
    "        X_tuples = [(\"XY\", [i, 0], J) for i in range(1, nqubits+1)]\n",
    "        hamiltonian = SparsePauliOp.from_sparse_list([*ZZ_tuples, *X_tuples], num_qubits=nqubits+1)\n",
    "    return hamiltonian.simplify()\n",
    "\n",
    "\n",
    "def get_hamiltonian_i(nqubits, J, periodic):\n",
    "    nqubits = nqubits - 1\n",
    "    if periodic==False:\n",
    "        ZZ_tuples = [('ZZI', [i, i+1, 0], J) for i in range(1, nqubits)]\n",
    "        X_tuples = [(\"XI\", [i, 0], J) for i in range(1, nqubits+1)]\n",
    "        hamiltonian = SparsePauliOp.from_sparse_list([*ZZ_tuples, *X_tuples], num_qubits=nqubits+1)\n",
    "    else:\n",
    "        ZZ_tuples = [('ZZI', [i, i+1, 0], J) for i in range(1, nqubits)]\n",
    "        ZZ_tuples += [('ZZI', [nqubits, 1, 0], J)]\n",
    "        X_tuples = [(\"XI\", [i, 0], J) for i in range(1, nqubits+1)]\n",
    "        hamiltonian = SparsePauliOp.from_sparse_list([*ZZ_tuples, *X_tuples], num_qubits=nqubits+1)\n",
    "    return hamiltonian.simplify()\n",
    "\n",
    "def get_hamiltonian(nqubits, J):\n",
    "    ZZ_tuples = [('ZZ', [i, i+1], J) for i in range(nqubits-1)]\n",
    "    ZZ_tuples += [('ZZ', [nqubits-1, 0], J)]\n",
    "    X_tuples = [(\"X\", [i], J) for i in range(nqubits)]\n",
    "    hamiltonian = SparsePauliOp.from_sparse_list([*ZZ_tuples, *X_tuples], num_qubits=nqubits)\n",
    "    return hamiltonian.simplify()"
   ]
  },
  {
   "cell_type": "code",
   "execution_count": null,
   "id": "0dcdfe39-7390-453e-8768-955c30de505a",
   "metadata": {},
   "outputs": [],
   "source": [
    "def unitary_trotter(nqubits, step, time, time_step, order):\n",
    "    expectation_list = []\n",
    "    J = 1/np.sqrt(2)\n",
    "    #hamiltonian1 = make_heis(nqubits, periodic=True)\n",
    "    hamiltonian1 = get_hamiltonian_y(nqubits+1, J, periodic=True)\n",
    "    hamiltonian = get_hamiltonian_i(nqubits+1, J, periodic=True)\n",
    "    hamiltonian2 = get_hamiltonian(nqubits, J) ## hamiltonian to calculate expectation \n",
    "    if order == 1:\n",
    "        trotter= TrotterQRTE(num_timesteps=time_step, estimator=Estimator())\n",
    "    else:\n",
    "        trotter = TrotterQRTE(SuzukiTrotter(order=order), num_timesteps=time_step, estimator=Estimator())\n",
    "    initial_state = Statevector.from_label('00000')\n",
    "    #qc.initialize(initial_state, range(5))\n",
    "    for i in range(step):\n",
    "        problem = TimeEvolutionProblem(\n",
    "            hamiltonian1,\n",
    "            initial_state=initial_state,\n",
    "            time=time,)\n",
    "            #aux_operators=[hamiltonian],)\n",
    "        result = trotter.evolve(problem)\n",
    "        state = Statevector(result.evolved_state).data[:2**nqubits]\n",
    "        state = state/np.linalg.norm(state)\n",
    "        expectation = (state.conj().dot(hamiltonian2.to_matrix())).dot(state)\n",
    "        expectation_list.append(expectation)\n",
    "        #temp = np.kron(np.array([[1, 0]]), state/np.linalg.norm(state))\n",
    "        temp = np.kron(state/np.linalg.norm(state), np.array([[1, 0]]))\n",
    "        initial_state = Statevector(temp.reshape((temp.size,)))\n",
    "    return expectation_list\n",
    "\n",
    "\n",
    "def unitary_exact(nqubits, ):\n",
    "    initial_state = Statevector.from_label('00000')\n",
    "    state = initial_state.evolve(sc.linalg.expm(-1j * time * H_array))\n",
    "    "
   ]
  },
  {
   "cell_type": "code",
   "execution_count": 11,
   "id": "64c9c113-709a-4bdf-92b2-f024f96ed10e",
   "metadata": {},
   "outputs": [
    {
     "data": {
      "text/plain": [
       "SparsePauliOp(['IIZZ', 'IZZI', 'ZZII', 'ZIIZ', 'IIIX', 'IIXI', 'IXII', 'XIII'],\n",
       "              coeffs=[0.70710678+0.j, 0.70710678+0.j, 0.70710678+0.j, 0.70710678+0.j, 0.70710678+0.j, 0.70710678+0.j, 0.70710678+0.j, 0.70710678+0.j])"
      ]
     },
     "execution_count": 11,
     "metadata": {},
     "output_type": "execute_result"
    }
   ],
   "source": [
    "get_hamiltonian(4, 1/np.sqrt(2))"
   ]
  },
  {
   "cell_type": "code",
   "execution_count": null,
   "id": "ce3846b1-b98b-44dc-a8f0-cbae70754a70",
   "metadata": {},
   "outputs": [],
   "source": []
  }
 ],
 "metadata": {
  "kernelspec": {
   "display_name": "Python 3 (ipykernel)",
   "language": "python",
   "name": "python3"
  },
  "language_info": {
   "codemirror_mode": {
    "name": "ipython",
    "version": 3
   },
   "file_extension": ".py",
   "mimetype": "text/x-python",
   "name": "python",
   "nbconvert_exporter": "python",
   "pygments_lexer": "ipython3",
   "version": "3.10.12"
  }
 },
 "nbformat": 4,
 "nbformat_minor": 5
}
