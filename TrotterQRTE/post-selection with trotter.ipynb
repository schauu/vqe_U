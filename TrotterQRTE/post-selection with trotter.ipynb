{
 "cells": [
  {
   "cell_type": "markdown",
   "id": "debd41d3c0be7ab3",
   "metadata": {},
   "source": [
    "Here we implement the whole process where U is applied multiple times. We use TrotterQRTE to provide Quantum Circuit and run the QC in simulator and collect the evolved state to proceed."
   ]
  },
  {
   "cell_type": "code",
   "id": "9a71da57-0ff1-450b-8d1b-a4a993adc1ca",
   "metadata": {
    "ExecuteTime": {
     "end_time": "2024-12-29T06:52:38.300039Z",
     "start_time": "2024-12-29T06:52:38.296764Z"
    }
   },
   "source": [
    "import sys\n",
    "print(sys.executable)"
   ],
   "outputs": [
    {
     "name": "stdout",
     "output_type": "stream",
     "text": [
      "C:\\Users\\schauue\\Anaconda3\\python.exe\n"
     ]
    }
   ],
   "execution_count": 3
  },
  {
   "cell_type": "code",
   "id": "d7b0ce59-1ae0-4f92-95d6-0dced2b777e9",
   "metadata": {
    "ExecuteTime": {
     "end_time": "2024-12-29T06:52:41.642379Z",
     "start_time": "2024-12-29T06:52:39.112546Z"
    }
   },
   "source": [
    "import numpy as np\n",
    "import scipy\n",
    "from qiskit import QuantumCircuit, transpile\n",
    "from qiskit.quantum_info import SparsePauliOp, Statevector, state_fidelity, Operator\n",
    "from qiskit.synthesis import SuzukiTrotter, LieTrotter\n",
    "from qiskit_aer import AerSimulator\n",
    "from qiskit_algorithms import TimeEvolutionProblem, TrotterQRTE\n",
    "from qiskit_aer.noise import NoiseModel, depolarizing_error\n",
    "from qiskit.primitives import Estimator\n",
    "from qiskit.circuit.library import PauliEvolutionGate\n",
    "import matplotlib.pyplot as plt\n",
    "from scipy.linalg import expm, cosm\n",
    "import warnings\n",
    "import sys\n",
    "import functools\n",
    "import scipy as sc\n",
    "from qiskit.visualization import plot_histogram"
   ],
   "outputs": [],
   "execution_count": 4
  },
  {
   "cell_type": "code",
   "id": "960571e0-0b11-4f58-895d-e9291fd7e983",
   "metadata": {
    "ExecuteTime": {
     "end_time": "2024-12-29T06:52:57.297133Z",
     "start_time": "2024-12-29T06:52:57.289575Z"
    }
   },
   "source": [
    "initial_state = Statevector.from_label('00000')\n",
    "step = 10\n",
    "time = 1\n",
    "time_step = 20\n",
    "nqubits = 4\n",
    "periodic = True\n",
    "J = 1/np.sqrt(2)\n",
    "def get_hamiltonian_y(nqubits, J, periodic):\n",
    "    nqubits = nqubits - 1\n",
    "    if periodic==False:\n",
    "        ZZ_tuples = [('ZZY', [i, i+1, 0], J) for i in range(1, nqubits)]\n",
    "        X_tuples = [(\"XY\", [i, 0], J) for i in range(1, nqubits+1)]\n",
    "        hamiltonian = SparsePauliOp.from_sparse_list([*ZZ_tuples, *X_tuples], num_qubits=nqubits+1)\n",
    "    else:\n",
    "        ZZ_tuples = [('ZZY', [i, i+1, 0], J) for i in range(1, nqubits)]\n",
    "        ZZ_tuples += [('ZZY', [nqubits, 1, 0], J)]\n",
    "        X_tuples = [(\"XY\", [i, 0], J) for i in range(1, nqubits+1)]\n",
    "        hamiltonian = SparsePauliOp.from_sparse_list([*ZZ_tuples, *X_tuples], num_qubits=nqubits+1)\n",
    "    return hamiltonian.simplify()\n",
    "\n",
    "\n",
    "def get_hamiltonian_i(nqubits, J, periodic):\n",
    "    nqubits = nqubits - 1\n",
    "    if periodic==False:\n",
    "        ZZ_tuples = [('ZZI', [i, i+1, 0], J) for i in range(1, nqubits)]\n",
    "        X_tuples = [(\"XI\", [i, 0], J) for i in range(1, nqubits+1)]\n",
    "        hamiltonian = SparsePauliOp.from_sparse_list([*ZZ_tuples, *X_tuples], num_qubits=nqubits+1)\n",
    "    else:\n",
    "        ZZ_tuples = [('ZZI', [i, i+1, 0], J) for i in range(1, nqubits)]\n",
    "        ZZ_tuples += [('ZZI', [nqubits, 1, 0], J)]\n",
    "        X_tuples = [(\"XI\", [i, 0], J) for i in range(1, nqubits+1)]\n",
    "        hamiltonian = SparsePauliOp.from_sparse_list([*ZZ_tuples, *X_tuples], num_qubits=nqubits+1)\n",
    "    return hamiltonian.simplify()\n",
    "\n",
    "def get_hamiltonian(nqubits, J):\n",
    "    ZZ_tuples = [('ZZ', [i, i+1], J) for i in range(nqubits-1)]\n",
    "    ZZ_tuples += [('ZZ', [nqubits-1, 0], J)]\n",
    "    X_tuples = [(\"X\", [i], J) for i in range(nqubits)]\n",
    "    hamiltonian = SparsePauliOp.from_sparse_list([*ZZ_tuples, *X_tuples], num_qubits=nqubits)\n",
    "    return hamiltonian.simplify()"
   ],
   "outputs": [],
   "execution_count": 6
  },
  {
   "cell_type": "code",
   "id": "ce3846b1-b98b-44dc-a8f0-cbae70754a70",
   "metadata": {
    "ExecuteTime": {
     "end_time": "2024-12-01T09:41:59.928666Z",
     "start_time": "2024-12-01T09:41:59.352540Z"
    }
   },
   "source": [
    "## calculate exp based on un-scaled hamiltonian\n",
    "hamiltonian = get_hamiltonian(4, 1/np.sqrt(2))\n",
    "H_array = hamiltonian.to_matrix()\n",
    "eval, _ = np.linalg.eigh(H_array)\n",
    "# print(eval)\n",
    "emin = eval[0]\n",
    "emax = eval[-1]\n",
    "H_array = (H_array - emin * np.eye(2**4)) / (emax - emin) ## scale H\n",
    "\n",
    "#H = get_hamiltonian_y(5, 1/np.sqrt(2), True)\n",
    "projector = np.array([[0, -1.0j],\n",
    "                     [1.0j, 0]])\n",
    "H = Operator(np.kron(projector, H_array))\n",
    "H = SparsePauliOp.from_operator(H)\n",
    "projector2 = np.array([[1, 0],\n",
    "                     [0, 0]]) ## for expectation\n",
    "hamiltonian = np.kron(projector2, get_hamiltonian(4, 1/np.sqrt(2)).to_matrix())\n",
    "hamiltonian = Operator(hamiltonian)\n",
    "hamiltonian = SparsePauliOp.from_operator(hamiltonian)\n",
    "initial_state = Statevector.from_label(\"00000\")\n",
    "final_time = np.pi/2 #time\n",
    "time_step = 10 #time_step\n",
    "normalization_factor = SparsePauliOp.from_operator(Operator(np.kron(projector2, np.eye(2**nqubits))))\n",
    "\n",
    "# Exact parts\n",
    "exact_times = np.linspace(0, final_time, 101)\n",
    "# We compute the exact evolution using the exp\n",
    "exact_evolution = [initial_state.evolve(sc.linalg.expm(-1j * time * np.kron(projector, H_array))) for time in exact_times]\n",
    "exact_energy = np.real([sv.expectation_value(hamiltonian)/(sv.data.conj().dot(normalization_factor.to_matrix()).dot(sv.data)) for sv in exact_evolution])\n",
    "\n",
    "##Trotter parts\n",
    "problem = TimeEvolutionProblem(H, initial_state=initial_state, time=final_time, aux_operators=[hamiltonian, normalization_factor],)\n",
    "trotter= TrotterQRTE(SuzukiTrotter(order=2), num_timesteps=time_step, estimator=Estimator())\n",
    "result = trotter.evolve(problem)\n",
    "\n",
    "print(exact_evolution[-1])\n",
    "print(Statevector(result.evolved_state).data[:2**4])"
   ],
   "outputs": [
    {
     "name": "stdout",
     "output_type": "stream",
     "text": [
      "Statevector([ 1.66883523e-01+0.j, -1.26455172e-01+0.j, -1.26455172e-01+0.j,\n",
      "             -1.19416557e-02+0.j, -1.26455172e-01+0.j, -1.50275560e-02+0.j,\n",
      "             -1.19416557e-02+0.j,  2.53688041e-03+0.j, -1.26455172e-01+0.j,\n",
      "             -1.19416557e-02+0.j, -1.50275560e-02+0.j,  2.53688041e-03+0.j,\n",
      "             -1.19416557e-02+0.j,  2.53688041e-03+0.j,  2.53688041e-03+0.j,\n",
      "              2.73740019e-04+0.j,  9.42335810e-01+0.j,  6.58790795e-02+0.j,\n",
      "              6.58790795e-02+0.j, -1.81134563e-02+0.j,  6.58790795e-02+0.j,\n",
      "             -1.50275560e-02+0.j, -1.81134563e-02+0.j, -2.07101193e-03+0.j,\n",
      "              6.58790795e-02+0.j, -1.81134563e-02+0.j, -1.50275560e-02+0.j,\n",
      "             -2.07101193e-03+0.j, -1.81134563e-02+0.j, -2.07101193e-03+0.j,\n",
      "             -2.07101193e-03+0.j,  4.14091845e-04+0.j],\n",
      "            dims=(2, 2, 2, 2, 2))\n",
      "[ 0.1668503 +3.06246575e-16j -0.12641993+1.17082431e-16j\n",
      " -0.12641993+5.46247541e-17j -0.01194745-4.69742754e-19j\n",
      " -0.12641993-6.05010675e-17j -0.01501857-1.40396208e-17j\n",
      " -0.01194745+2.57908134e-17j  0.00253387-2.38406068e-18j\n",
      " -0.12641993-5.04786839e-17j -0.01194745+2.68715642e-18j\n",
      " -0.01501857+9.06291258e-18j  0.00253387+4.20658082e-19j\n",
      " -0.01194745+2.39594087e-17j  0.00253387+8.21997593e-19j\n",
      "  0.00253387-2.24110639e-18j  0.00027439+3.28237973e-20j]\n"
     ]
    }
   ],
   "execution_count": 6
  },
  {
   "metadata": {
    "ExecuteTime": {
     "end_time": "2024-11-27T08:26:21.966576Z",
     "start_time": "2024-11-27T08:26:21.952143Z"
    }
   },
   "cell_type": "code",
   "source": [
    "def count_gate(time, time_step):\n",
    "    nqubits = 4\n",
    "    result = []\n",
    "    for i in [0, 1, 2, 4]:\n",
    "        print(i)\n",
    "        if i==0:\n",
    "            circuit = QuantumCircuit(nqubits+1)\n",
    "            hamiltonian = get_hamiltonian_y(nqubits+1, 1/np.sqrt(2), True)\n",
    "            U = expm(-1.0j * time * hamiltonian.to_matrix())\n",
    "            circuit.unitary(U, range(nqubits+1))\n",
    "            circuit = circuit.decompose(reps=2)\n",
    "            result.append(circuit.depth()) #depth, total gate, nonlocal gates\n",
    "            result.append(len(circuit))\n",
    "            result.append(circuit.num_nonlocal_gates())\n",
    "        elif i==1:\n",
    "            hamiltonian = get_hamiltonian_y(nqubits+1, 1/np.sqrt(2), True)\n",
    "            trotter_step_first_order = PauliEvolutionGate(hamiltonian, time/time_step)\n",
    "            circuit = QuantumCircuit(hamiltonian.num_qubits)\n",
    "            for _ in range(time_step):\n",
    "                circuit.append(trotter_step_first_order, range(hamiltonian.num_qubits))\n",
    "            circuit = circuit.decompose(reps=2)\n",
    "            result.append(circuit.depth()) #depth, total gate, nonlocal gates\n",
    "            result.append(len(circuit))\n",
    "            result.append(circuit.num_nonlocal_gates())\n",
    "        else:\n",
    "            hamiltonian = get_hamiltonian_y(nqubits+1, 1/np.sqrt(2), True)\n",
    "            second_order_formula = SuzukiTrotter(i)  # if not passed, order defaults to 2\n",
    "            trotter_step_second_order = PauliEvolutionGate(hamiltonian, time/time_step, synthesis=second_order_formula)\n",
    "            circuit = QuantumCircuit(hamiltonian.num_qubits)\n",
    "            for _ in range(time_step):\n",
    "              circuit.append(trotter_step_second_order, range(hamiltonian.num_qubits))\n",
    "            circuit = circuit.decompose(reps=2)\n",
    "            result.append(circuit.depth()) #depth, total gate, nonlocal gates\n",
    "            result.append(len(circuit))\n",
    "            result.append(circuit.num_nonlocal_gates())\n",
    "    return result"
   ],
   "id": "fa84c4cd9c0edaf7",
   "outputs": [],
   "execution_count": 8
  },
  {
   "metadata": {
    "ExecuteTime": {
     "end_time": "2024-11-27T08:26:32.108621Z",
     "start_time": "2024-11-27T08:26:31.530661Z"
    }
   },
   "cell_type": "code",
   "source": "count_gate(10,2)",
   "id": "3830f0c86a65b7bc",
   "outputs": [
    {
     "name": "stdout",
     "output_type": "stream",
     "text": [
      "0\n",
      "1\n",
      "2\n",
      "4\n"
     ]
    },
    {
     "data": {
      "text/plain": [
       "[945, 1273, 444, 112, 144, 48, 210, 270, 92, 1050, 1350, 460]"
      ]
     },
     "execution_count": 9,
     "metadata": {},
     "output_type": "execute_result"
    }
   ],
   "execution_count": 9
  },
  {
   "metadata": {
    "ExecuteTime": {
     "end_time": "2024-11-27T08:34:45.887467Z",
     "start_time": "2024-11-27T08:34:45.322494Z"
    }
   },
   "cell_type": "code",
   "source": "count_gate(10,3)",
   "id": "d54d20555e60992d",
   "outputs": [
    {
     "name": "stdout",
     "output_type": "stream",
     "text": [
      "0\n",
      "1\n",
      "2\n",
      "4\n"
     ]
    },
    {
     "data": {
      "text/plain": [
       "[945, 1273, 444, 168, 216, 72, 315, 405, 138, 1575, 2025, 690]"
      ]
     },
     "execution_count": 30,
     "metadata": {},
     "output_type": "execute_result"
    }
   ],
   "execution_count": 30
  },
  {
   "metadata": {
    "ExecuteTime": {
     "end_time": "2024-11-27T08:26:49.607021Z",
     "start_time": "2024-11-27T08:26:48.557742Z"
    }
   },
   "cell_type": "code",
   "source": "count_gate(10,10)",
   "id": "4d9f71b065cc6616",
   "outputs": [
    {
     "name": "stdout",
     "output_type": "stream",
     "text": [
      "0\n",
      "1\n",
      "2\n",
      "4\n"
     ]
    },
    {
     "data": {
      "text/plain": [
       "[945, 1273, 444, 560, 720, 240, 1050, 1350, 460, 5250, 6750, 2300]"
      ]
     },
     "execution_count": 10,
     "metadata": {},
     "output_type": "execute_result"
    }
   ],
   "execution_count": 10
  },
  {
   "cell_type": "code",
   "id": "41c1328e452a956e",
   "metadata": {
    "ExecuteTime": {
     "end_time": "2024-12-01T09:42:15.033554Z",
     "start_time": "2024-12-01T09:42:14.016040Z"
    }
   },
   "source": [
    "nqubits = 4\n",
    "J = 1/np.sqrt(2)\n",
    "hamiltonian = get_hamiltonian(nqubits, J)\n",
    "H_array = hamiltonian.to_matrix()\n",
    "eval, _ = np.linalg.eigh(H_array)\n",
    "# print(eval)\n",
    "emin = eval[0]\n",
    "emax = eval[-1]\n",
    "H_array = (H_array - emin * np.eye(2**nqubits)) / (emax - emin) ## scale H\n",
    "final_time = np.pi/2 #time\n",
    "time = final_time\n",
    "time_step = 3 #time_step\n",
    "initial_state = Statevector.from_label(\"0000\")\n",
    "#H = get_hamiltonian_y(5, 1/np.sqrt(2), True)\n",
    "projector = np.array([[0, -1.0j],\n",
    "                     [1.0j, 0]])\n",
    "H = Operator(np.kron(projector, H_array))\n",
    "H = SparsePauliOp.from_operator(H)\n",
    "projector2 = np.array([[1, 0],\n",
    "                     [0, 0]]) ## for expectation\n",
    "hamiltonian1 = np.kron(projector2, get_hamiltonian(4, 1/np.sqrt(2)).to_matrix())\n",
    "hamiltonian1 = Operator(hamiltonian1)\n",
    "hamiltonian1 = SparsePauliOp.from_operator(hamiltonian1)\n",
    "hamiltonian2 = np.kron(projector2, np.eye(2**nqubits))\n",
    "error_rate = 0\n",
    "order = 1\n",
    "step = 40\n",
    "## 1st order\n",
    "def construct_trotter_circuit(H, time, nqubits, order, time_step):\n",
    "    if order == 1:\n",
    "        formular = LieTrotter(reps=time_step)\n",
    "    else:\n",
    "        formular = SuzukiTrotter(order=order, reps=time_step)\n",
    "    trotter_step_first_order = PauliEvolutionGate(H, time, synthesis=formular)\n",
    "    circuit = QuantumCircuit(nqubits+1)\n",
    "    circuit.append(trotter_step_first_order, range(nqubits+1))\n",
    "    #circuit = circuit.decompose(reps=2)\n",
    "    return circuit\n",
    "\n",
    "def select_sim(error_rate):\n",
    "    noise_model = NoiseModel()\n",
    "    error = depolarizing_error(error_rate, 1)\n",
    "    noise_model.add_all_qubit_quantum_error(error, ['u1', 'u2', 'u3'])\n",
    "    error1 = depolarizing_error(error_rate*10, 2)\n",
    "    noise_model.add_all_qubit_quantum_error(error1,'cx')\n",
    "    sim_d = AerSimulator(noise_model=noise_model)\n",
    "    if error_rate==0:\n",
    "        simulator = AerSimulator()\n",
    "    else:\n",
    "        simulator = sim_d\n",
    "    return simulator\n",
    "\n",
    "def unitary_trotter(H, time, nqubits, order, time_step, error_rate, step):\n",
    "    simulator = select_sim(error_rate)\n",
    "    expectation_list = []\n",
    "    statevector = initial_state.data\n",
    "    for i in range(step):\n",
    "        qc = QuantumCircuit(nqubits+1)\n",
    "        qc.initialize(statevector, range(nqubits))\n",
    "        circuit_temp = construct_trotter_circuit(H, time, nqubits, order, time_step)\n",
    "        qc = qc.compose(circuit_temp, range(nqubits+1))\n",
    "        #qc = qc.decompose(reps=2)\n",
    "        qc.save_statevector()\n",
    "        circuit = transpile(qc, simulator)\n",
    "        result = simulator.run(circuit).result().data(0)['statevector']\n",
    "        new_state = result.data#[:2**nqubits]\n",
    "        # Print the statevector at each step for debugging\n",
    "        #print(f\"Step {i}: Statevector = {statevector}\")\n",
    "        expectation = (new_state.conj().T.dot(hamiltonian1.to_matrix())).dot(new_state)/(new_state.conj().T.dot(hamiltonian2).dot(new_state))\n",
    "        expectation_list.append(expectation)\n",
    "        # Print the expectation value at each step for debugging\n",
    "        #print(f\"Step {i}: Expectation = {expectation}\")\n",
    "        statevector = new_state[:2**nqubits]/np.linalg.norm(new_state[:2**nqubits])\n",
    "    return expectation_list\n",
    "\n",
    "expectation_1 = unitary_trotter(H, time, nqubits, order, time_step, error_rate, step)\n",
    "print(expectation_1)\n",
    "\n",
    "\n",
    "\n"
   ],
   "outputs": [
    {
     "name": "stdout",
     "output_type": "stream",
     "text": [
      "[(-0.06708079041848608-1.8957131776908529e-31j), (-0.7559843796453781+3.416208638822562e-31j), (-1.123353758612106-2.2497800339026958e-31j), (-1.367214093119157-1.1715084959759168e-30j), (-1.5766296580752137-2.6967810908791284e-31j), (-1.7796560014046963+2.0443733566576995e-30j), (-1.9784826803204363-1.495531052996703e-30j), (-2.167813104447966-5.573466125934315e-30j), (-2.3421544489624475+3.9024394701027326e-31j), (-2.49822668321896+4.575383850991272e-31j), (-2.635188555672128+1.227059502830168e-30j), (-2.7539840529518496-4.08352391828084e-30j), (-2.8565252586264345+3.481881190897066e-30j), (-2.94504451321487+3.3454918638579336e-30j), (-3.0216974504551266+4.2385848850203866e-30j), (-3.0883755918551588+5.984640553184702e-30j), (-3.1466542610474932+1.2071507759850639e-30j), (-3.197811618091543+3.992375800907206e-30j), (-3.242876167944916-1.8639314755646495e-29j), (-3.2826790911576635+5.4177815347647166e-30j), (-3.31790056288437-5.4544054452125746e-30j), (-3.349106575687106+3.276547046940759e-30j), (-3.3767764098066966+2.2487064130221893e-30j), (-3.401322339461959+9.773706729225935e-30j), (-3.423103475489267-1.300086239573643e-29j), (-3.4424354502045955+1.2069512395068819e-29j), (-3.4595972874300105-3.237434255027002e-30j), (-3.4748364317215565-5.6155588686923144e-30j), (-3.4883726013584604+4.803617556518915e-30j), (-3.500400895630444+1.0477546819363112e-29j), (-3.511094422229485+1.853038072138243e-29j), (-3.5206066011736934+6.432575669121785e-30j), (-3.529073232918947-4.913481295827892e-30j), (-3.5366143774998555-2.4198402022307976e-29j), (-3.543336068945014+1.4651926878975368e-30j), (-3.5493318778527847+7.857855582881278e-30j), (-3.5546843301678788+1.851395225901375e-29j), (-3.5594661888276145+2.4212535890444253e-29j), (-3.563741605197642-3.7021090941317185e-29j), (-3.5675671480300504+1.003297218247211e-29j)]\n"
     ]
    }
   ],
   "execution_count": 7
  },
  {
   "metadata": {
    "ExecuteTime": {
     "end_time": "2024-11-27T08:45:55.754888Z",
     "start_time": "2024-11-27T08:45:54.505197Z"
    }
   },
   "cell_type": "code",
   "source": [
    "order = 2\n",
    "expectation_2 = unitary_trotter(H, time, nqubits, order, time_step, error_rate, step)\n",
    "print(expectation_2)"
   ],
   "id": "a3a933c63e7b11c6",
   "outputs": [
    {
     "name": "stdout",
     "output_type": "stream",
     "text": [
      "[(-0.15549458140967556+2.5944581942898653e-33j), (-0.874199859446672-4.571565738374913e-31j), (-1.2919826948656326-5.7624435313320705e-31j), (-1.6006171544873806+1.1836677462213588e-30j), (-1.8836261433420494-1.7712609681062513e-30j), (-2.160715350436258-9.109051841434789e-31j), (-2.4253679248299305-2.7485909401198927e-30j), (-2.665808680256139-3.0491332910339432e-30j), (-2.8737299795711926-9.137189556762238e-30j), (-3.046427781029141+8.231075068521835e-31j), (-3.1857188703061503+1.0488338010336227e-29j), (-3.295924981066054+6.654271609644875e-30j), (-3.382165322976087-1.263763605925586e-29j), (-3.4493216329179877+1.1678137285931518e-29j), (-3.501577359497992-2.4270723085227195e-30j), (-3.5423114660455526-7.806501506496007e-30j), (-3.5741643593938095+5.7225299391378966e-30j), (-3.599164231992984-1.6600134269696637e-29j), (-3.6188580420140113-7.732395784855601e-30j), (-3.634424861733189-1.3003527354454814e-29j), (-3.6467661676992598-1.0081144656263783e-29j), (-3.6565747709089313-1.2679374842581234e-29j), (-3.6643863343342065-5.314310996778465e-31j), (-3.670617547985985+7.930274097252227e-30j), (-3.675594400046218+0j), (-3.6795732055752906-1.4793566631854185e-29j), (-3.6827563629022038+1.2139291197347068e-29j), (-3.685304263150939+4.3300361170772965e-30j), (-3.687344374303584-1.0658823359431282e-29j), (-3.68897823083715-2.4771829947470812e-29j), (-3.6902868545958154-2.0411139451713242e-29j), (-3.6913349881156936+1.3115236581868435e-29j), (-3.692174419880327-5.002125802010714e-29j), (-3.6928466088566245+4.1281729730327943e-29j), (-3.6933847640096564-3.835887679773047e-29j), (-3.693815497052047-6.312182227417188e-30j), (-3.6941601391782406-2.4282489396727573e-29j), (-3.694435792056289+2.572904916577895e-29j), (-3.694656167909236-3.011239434311256e-29j), (-3.6948322617400167+3.107562024802636e-29j)]\n"
     ]
    }
   ],
   "execution_count": 53
  },
  {
   "metadata": {
    "ExecuteTime": {
     "end_time": "2024-11-27T08:46:03.735161Z",
     "start_time": "2024-11-27T08:45:58.601524Z"
    }
   },
   "cell_type": "code",
   "source": [
    "order = 4\n",
    "expectation_4 = unitary_trotter(H, time, nqubits, order, time_step, error_rate, step)\n",
    "print(expectation_4)"
   ],
   "id": "c5c560ff0263d04e",
   "outputs": [
    {
     "name": "stdout",
     "output_type": "stream",
     "text": [
      "[(-0.15726323976811601+2.1280014912934477e-31j), (-0.8749593904605816+9.66175139715708e-31j), (-1.2924803134511935-2.4478963619196155e-30j), (-1.6011135057490344+6.584969573399928e-31j), (-1.8841479272429391-2.1953336664828224e-30j), (-2.1612101134236528+1.596196001032728e-31j), (-2.425792995735052-2.303483479235604e-30j), (-2.666148632724225-3.659227907403454e-30j), (-2.873987692976318-1.1734277603829761e-29j), (-3.046612487011038-1.0517320718061928e-29j), (-3.1858393402124774+0j), (-3.2959877904215262-7.281487538852479e-29j), (-3.3821755970052396-1.3143757859819577e-29j), (-3.4492842198031153-5.208593372703328e-29j), (-3.501497557906453-2.2636610050611096e-29j), (-3.542195204153916-2.57208288830378e-29j), (-3.5740180130934327+4.577539279843844e-29j), (-3.5989942940078805-2.5535190367256525e-29j), (-3.6186707871116677-5.4513411695477016e-30j), (-3.634226081344106+1.1092541014597401e-28j), (-3.646560996715537-4.1446115803512144e-29j), (-3.6563676012763837-5.071603611450809e-29j), (-3.6641807979042973+6.962335730921084e-29j), (-3.67041654838305-1.224098279103818e-28j), (-3.67540017527985+2.324849891451775e-29j), (-3.679387406880045-1.8562158347471317e-28j), (-3.682580139256555+1.464656957270502e-29j), (-3.685138344400787-1.2905672934701485e-28j), (-3.6871891485558055-5.526477234313027e-29j), (-3.6888338138000667+7.578823231691569e-29j), (-3.690153149932752+5.638769485023873e-29j), (-3.6912117387805687+1.495857278979634e-28j), (-3.6920612509484556-2.4086983114990236e-28j), (-3.6927430626570783-1.340162178749872e-28j), (-3.693290328490535+4.4691567779790107e-29j), (-3.693729628328149+1.2431013765119647e-28j), (-3.6940822791649643+9.712879645804472e-29j), (-3.6943653820137476+1.5341018462930364e-28j), (-3.6945926586254365-1.495496053479982e-28j), (-3.6947751209839454+1.4954766021064208e-28j)]\n"
     ]
    }
   ],
   "execution_count": 54
  },
  {
   "metadata": {
    "ExecuteTime": {
     "end_time": "2024-11-27T08:46:05.097638Z",
     "start_time": "2024-11-27T08:46:05.091696Z"
    }
   },
   "cell_type": "code",
   "source": "len(expectation_4)",
   "id": "46c3cff6baee83ca",
   "outputs": [
    {
     "data": {
      "text/plain": [
       "40"
      ]
     },
     "execution_count": 55,
     "metadata": {},
     "output_type": "execute_result"
    }
   ],
   "execution_count": 55
  },
  {
   "metadata": {},
   "cell_type": "markdown",
   "source": "## Exact matrix exponential outside circuits",
   "id": "1d6418914f75b78d"
  },
  {
   "metadata": {
    "ExecuteTime": {
     "end_time": "2024-12-29T06:55:24.938886Z",
     "start_time": "2024-12-29T06:55:24.932063Z"
    }
   },
   "cell_type": "code",
   "source": [
    "def num_exact(time, nqubits, error_rate, step):\n",
    "    projector = np.array([[0, -1.0j],\n",
    "                     [1.0j, 0]])\n",
    "    J = 1/np.sqrt(2)\n",
    "    hamiltonian = get_hamiltonian(nqubits, J)\n",
    "    H_array = hamiltonian.to_matrix()\n",
    "    eval, _ = np.linalg.eigh(H_array)\n",
    "# print(eval)\n",
    "    emin = eval[0]\n",
    "    emax = eval[-1]\n",
    "    H_array = (H_array - emin * np.eye(2**nqubits)) / (emax - emin)\n",
    "    initial_state = Statevector.from_label(\"0\"*nqubits)\n",
    "    expectation_exact = []\n",
    "    #simulator = select_sim(error_rate)\n",
    "    statevector = initial_state.data\n",
    "    density_matrix = np.outer(statevector, statevector.conj())\n",
    "    for i in range(step):\n",
    "        U = cosm(time * H_array)\n",
    "        rho = U.dot(density_matrix).dot(U.T.conj())\n",
    "        rho /= np.trace(rho)\n",
    "        # qc = QuantumCircuit(nqubits+1)\n",
    "        # qc.initialize(statevector, range(nqubits))\n",
    "        # qc.unitary(U, range(nqubits+1))\n",
    "        # qc.decompose(reps=2)\n",
    "        # qc.save_statevector()\n",
    "        # result = simulator.run(qc).result().data(0)['statevector']\n",
    "        # new_state = result.data#[:2**nqubits]\n",
    "        expectation = np.trace(rho.dot(hamiltonian.to_matrix()))#(new_state.conj().dot(hamiltonian1.to_matrix())).dot(new_state)/(new_state.conj().T.dot(hamiltonian2).dot(new_state))\n",
    "        expectation_exact.append(expectation)\n",
    "        density_matrix = rho\n",
    "        #statevector = new_state[:2**nqubits]/np.linalg.norm(new_state[:2**nqubits])\n",
    "    return expectation_exact"
   ],
   "id": "64061d0636e0460f",
   "outputs": [],
   "execution_count": 12
  },
  {
   "metadata": {
    "ExecuteTime": {
     "end_time": "2024-12-29T06:55:26.739273Z",
     "start_time": "2024-12-29T06:55:26.699243Z"
    }
   },
   "cell_type": "code",
   "source": "num_exact(np.pi/2, 4, 0, 40)",
   "id": "2b0037f25e2c9b99",
   "outputs": [
    {
     "data": {
      "text/plain": [
       "[(-0.1572607475401091+0j),\n",
       " (-0.8749572744784662+0j),\n",
       " (-1.292478454983243+0j),\n",
       " (-1.6011117167037436+0j),\n",
       " (-1.8841462228970873+0j),\n",
       " (-2.1612086115559217+0j),\n",
       " (-2.4257917971505307+0j),\n",
       " (-2.666147772451855+0j),\n",
       " (-2.873987143809993+0j),\n",
       " (-3.0466121863911653+0j),\n",
       " (-3.1858392172251655+0j),\n",
       " (-3.295987782528562+0j),\n",
       " (-3.3821756564172407+0j),\n",
       " (-3.4492843134085867+0j),\n",
       " (-3.5014976644674847+0j),\n",
       " (-3.5421953110014246+0j),\n",
       " (-3.574018113294421+0j),\n",
       " (-3.5989943842559833+0j),\n",
       " (-3.6186708662785936+0j),\n",
       " (-3.6342261495372314+0j),\n",
       " (-3.646561054689411+0j),\n",
       " (-3.65636765007834+0j),\n",
       " (-3.664180838669151+0j),\n",
       " (-3.6704165822200134+0j),\n",
       " (-3.675400203215073+0j),\n",
       " (-3.6793874298317917+0j),\n",
       " (-3.6825801580289426+0j),\n",
       " (-3.6851383596875618+0j),\n",
       " (-3.6871891609491163+0j),\n",
       " (-3.688833823801305+0j),\n",
       " (-3.6901531579638336+0j),\n",
       " (-3.6912117451947477+0j),\n",
       " (-3.692061256040254+0j),\n",
       " (-3.692743066671156+0j),\n",
       " (-3.69329033162946+0j),\n",
       " (-3.693729630759127+0j),\n",
       " (-3.694082281025608+0j),\n",
       " (-3.6943653834169874+0j),\n",
       " (-3.694592659663682+0j),\n",
       " (-3.694775121732591+0j)]"
      ]
     },
     "execution_count": 13,
     "metadata": {},
     "output_type": "execute_result"
    }
   ],
   "execution_count": 13
  },
  {
   "metadata": {},
   "cell_type": "code",
   "outputs": [],
   "execution_count": null,
   "source": "",
   "id": "f6030f5f0daf4c04"
  },
  {
   "metadata": {},
   "cell_type": "markdown",
   "source": "## With circuit",
   "id": "b205b57b2bd9ba14"
  },
  {
   "metadata": {
    "ExecuteTime": {
     "end_time": "2024-12-01T09:48:28.218735Z",
     "start_time": "2024-12-01T09:48:16.239454Z"
    }
   },
   "cell_type": "code",
   "source": [
    "def unitary_exact(time, nqubits, error_rate, step):\n",
    "    projector = np.array([[0, -1.0j],\n",
    "                     [1.0j, 0]])\n",
    "    J = 1/np.sqrt(2)\n",
    "    hamiltonian = get_hamiltonian(nqubits, J)\n",
    "    H_array = hamiltonian.to_matrix()\n",
    "    eval, _ = np.linalg.eigh(H_array)\n",
    "# print(eval)\n",
    "    emin = eval[0]\n",
    "    emax = eval[-1]\n",
    "    H_array = (H_array - emin * np.eye(2**nqubits)) / (emax - emin)\n",
    "    initial_state = Statevector.from_label(\"0\"*nqubits)\n",
    "    expectation_exact = []\n",
    "    simulator = select_sim(error_rate)\n",
    "    statevector = initial_state.data\n",
    "    for i in range(step):\n",
    "        U = expm(-1.0j * time * np.kron(projector, H_array))\n",
    "        qc = QuantumCircuit(nqubits+1)\n",
    "        qc.initialize(statevector, range(nqubits))\n",
    "        qc.unitary(U, range(nqubits+1))\n",
    "        qc.decompose(reps=2)\n",
    "        qc.save_statevector()\n",
    "        result = simulator.run(qc).result().data(0)['statevector']\n",
    "        new_state = result.data#[:2**nqubits]\n",
    "        expectation = (new_state.conj().dot(hamiltonian1.to_matrix())).dot(new_state)/(new_state.conj().T.dot(hamiltonian2).dot(new_state))\n",
    "        expectation_exact.append(expectation)\n",
    "        statevector = new_state[:2**nqubits]/np.linalg.norm(new_state[:2**nqubits])\n",
    "    return expectation_exact\n",
    "\n",
    "print(unitary_exact(np.pi/2, 4, 0, 40))"
   ],
   "id": "50aa8b17bb4ea62d",
   "outputs": [
    {
     "name": "stdout",
     "output_type": "stream",
     "text": [
      "[(-0.15726074754010827+0j), (-0.8749572744784663+0j), (-1.292478454983243+0j), (-1.6011117167037447+0j), (-1.8841462228970893+0j), (-2.1612086115559235+0j), (-2.4257917971505325+0j), (-2.666147772451858+0j), (-2.873987143809996+0j), (-3.0466121863911666+0j), (-3.185839217225168+0j), (-3.2959877825285644+0j), (-3.3821756564172425+0j), (-3.4492843134085884+0j), (-3.5014976644674873+0j), (-3.542195311001426+0j), (-3.574018113294423+0j), (-3.5989943842559846+0j), (-3.6186708662785954+0j), (-3.6342261495372314+0j), (-3.6465610546894114+0j), (-3.6563676500783404+0j), (-3.6641808386691506+0j), (-3.6704165822200148+0j), (-3.6754002032150734+0j), (-3.6793874298317917+0j), (-3.6825801580289426+0j), (-3.6851383596875618+0j), (-3.6871891609491168+0j), (-3.6888338238013065+0j), (-3.690153157963834+0j), (-3.691211745194748+0j), (-3.6920612560402537+0j), (-3.6927430666711554+0j), (-3.693290331629461+0j), (-3.693729630759126+0j), (-3.6940822810256075+0j), (-3.694365383416987+0j), (-3.6945926596636816+0j), (-3.6947751217325906+0j)]\n"
     ]
    }
   ],
   "execution_count": 9
  },
  {
   "metadata": {
    "ExecuteTime": {
     "end_time": "2024-11-27T08:45:42.592463Z",
     "start_time": "2024-11-27T08:45:29.129787Z"
    }
   },
   "cell_type": "code",
   "source": [
    "nqubits = 4\n",
    "final_time = np.pi/2 #time\n",
    "time = final_time\n",
    "time_step = 10 #time_step\n",
    "step = 40\n",
    "#H = get_hamiltonian_y(5, 1/np.sqrt(2), True)\n",
    "projector = np.array([[0, -1.0j],\n",
    "                     [1.0j, 0]])\n",
    "initial_state = Statevector.from_label(\"0000\")\n",
    "expectation_exact = []\n",
    "simulator = AerSimulator()\n",
    "statevector = initial_state.data\n",
    "for i in range(step):\n",
    "    U = expm(-1.0j * time * np.kron(projector, H_array))\n",
    "    qc = QuantumCircuit(nqubits+1)\n",
    "    qc.initialize(statevector, range(nqubits))\n",
    "    qc.unitary(U, range(nqubits+1))\n",
    "    qc.decompose(reps=2)\n",
    "    qc.save_statevector()\n",
    "    result = simulator.run(qc).result().data(0)['statevector']\n",
    "    new_state = result.data#[:2**nqubits]\n",
    "    expectation = (new_state.conj().dot(hamiltonian1.to_matrix())).dot(new_state)/(new_state.conj().T.dot(hamiltonian2).dot(new_state))\n",
    "    expectation_exact.append(expectation)\n",
    "    statevector = new_state[:2**nqubits]/np.linalg.norm(new_state[:2**nqubits])\n",
    "\n",
    "    print(expectation)\n",
    "\n",
    "\n",
    "\n",
    "\n"
   ],
   "id": "a3f323d383e10cea",
   "outputs": [
    {
     "name": "stdout",
     "output_type": "stream",
     "text": [
      "(-0.15726074754010827+0j)\n",
      "(-0.8749572744784663+0j)\n",
      "(-1.292478454983243+0j)\n",
      "(-1.6011117167037447+0j)\n",
      "(-1.8841462228970893+0j)\n",
      "(-2.1612086115559235+0j)\n",
      "(-2.4257917971505325+0j)\n",
      "(-2.666147772451858+0j)\n",
      "(-2.873987143809996+0j)\n",
      "(-3.0466121863911666+0j)\n",
      "(-3.185839217225168+0j)\n",
      "(-3.2959877825285644+0j)\n",
      "(-3.3821756564172425+0j)\n",
      "(-3.4492843134085884+0j)\n",
      "(-3.5014976644674873+0j)\n",
      "(-3.542195311001426+0j)\n",
      "(-3.574018113294423+0j)\n",
      "(-3.5989943842559846+0j)\n",
      "(-3.6186708662785954+0j)\n",
      "(-3.6342261495372314+0j)\n",
      "(-3.6465610546894114+0j)\n",
      "(-3.6563676500783404+0j)\n",
      "(-3.6641808386691506+0j)\n",
      "(-3.6704165822200148+0j)\n",
      "(-3.6754002032150734+0j)\n",
      "(-3.6793874298317917+0j)\n",
      "(-3.6825801580289426+0j)\n",
      "(-3.6851383596875618+0j)\n",
      "(-3.6871891609491168+0j)\n",
      "(-3.6888338238013065+0j)\n",
      "(-3.690153157963834+0j)\n",
      "(-3.691211745194748+0j)\n",
      "(-3.6920612560402537+0j)\n",
      "(-3.6927430666711554+0j)\n",
      "(-3.693290331629461+0j)\n",
      "(-3.693729630759126+0j)\n",
      "(-3.6940822810256075+0j)\n",
      "(-3.694365383416987+0j)\n",
      "(-3.6945926596636816+0j)\n",
      "(-3.6947751217325906+0j)\n"
     ]
    }
   ],
   "execution_count": 51
  },
  {
   "metadata": {
    "ExecuteTime": {
     "end_time": "2024-11-27T08:38:21.229042Z",
     "start_time": "2024-11-27T08:38:21.209947Z"
    }
   },
   "cell_type": "code",
   "source": "emin",
   "id": "e010dda420415197",
   "outputs": [
    {
     "data": {
      "text/plain": [
       "-3.69551813004515"
      ]
     },
     "execution_count": 36,
     "metadata": {},
     "output_type": "execute_result"
    }
   ],
   "execution_count": 36
  },
  {
   "metadata": {
    "ExecuteTime": {
     "end_time": "2024-11-27T08:46:25.921798Z",
     "start_time": "2024-11-27T08:46:25.904146Z"
    }
   },
   "cell_type": "code",
   "source": "np.abs(expectation_exact[-1]-emin)/np.abs(emin)",
   "id": "c0608cd1c411813f",
   "outputs": [
    {
     "data": {
      "text/plain": [
       "0.0002010566005666951"
      ]
     },
     "execution_count": 57,
     "metadata": {},
     "output_type": "execute_result"
    }
   ],
   "execution_count": 57
  },
  {
   "metadata": {
    "ExecuteTime": {
     "end_time": "2024-11-27T08:58:42.087439Z",
     "start_time": "2024-11-27T08:58:41.952038Z"
    }
   },
   "cell_type": "code",
   "source": [
    "fig, axes = plt.subplots()\n",
    "x = list(range(1, step+1))  # includes initial state\n",
    "axes.plot(\n",
    "    x, expectation_1, label=\"First order\", marker=\"x\", c=\"darkmagenta\", ls=\"-\", lw=0.8\n",
    ")\n",
    "axes.plot(\n",
    "    x, expectation_2, label=\"Second order\", marker=\"o\", c=\"limegreen\", ls=\"-\", lw=0.8\n",
    ")\n",
    "axes.plot(\n",
    "    x, expectation_4, label=\"Fourth order\", marker=\"v\", c=\"r\", ls=\"-\", lw=0.8\n",
    ")\n",
    "axes.plot(x, expectation_exact, c=\"k\", ls=\":\", label=\"Exact matrix exponential\")\n",
    "horizontal_line_value = emin\n",
    "axes.axhline(y=horizontal_line_value, color='r', linestyle='--', label='minimum eigenvalue')#f'y = {horizontal_line_value}')\n",
    "legend = fig.legend(\n",
    "    *axes.get_legend_handles_labels(),\n",
    "    bbox_to_anchor=(1.0, 0.5),\n",
    "    loc=\"center left\",\n",
    "    framealpha=0.5,\n",
    ")\n",
    "\n",
    "axes.set_xticks(np.arange(0, max(x) + 1, 5))\n",
    "axes.set_xlabel('Step')\n",
    "axes.set_ylabel('Energy')\n",
    "axes.set_title('Trotter step is 3')\n",
    "fig.tight_layout()"
   ],
   "id": "f89b6337fbcc4f50",
   "outputs": [
    {
     "data": {
      "text/plain": [
       "<Figure size 640x480 with 1 Axes>"
      ],
      "image/png": "[encoded data removed]"
     },
     "metadata": {},
     "output_type": "display_data"
    }
   ],
   "execution_count": 63
  },
  {
   "metadata": {},
   "cell_type": "markdown",
   "source": "8 qubits",
   "id": "d7e1389a7a1774c6"
  },
  {
   "metadata": {},
   "cell_type": "markdown",
   "source": "Nqubits=6 and use trotter to construct circuit and see whether it speeds up than qc.unitary(U)",
   "id": "d2b29f0f3caed418"
  },
  {
   "metadata": {
    "ExecuteTime": {
     "end_time": "2024-11-25T12:51:13.655864Z",
     "start_time": "2024-11-25T12:49:46.559105Z"
    }
   },
   "cell_type": "code",
   "source": [
    "nqubits = 8\n",
    "final_time = np.pi/2 #time\n",
    "time = final_time\n",
    "time_step = 10 #time_step\n",
    "step = 20\n",
    "#H = get_hamiltonian_y(5, 1/np.sqrt(2), True)\n",
    "projector = np.array([[0, -1.0j],\n",
    "                     [1.0j, 0]])\n",
    "initial_state = Statevector.from_label(\"00000000\")\n",
    "expectation_exact = []\n",
    "simulator = AerSimulator()\n",
    "statevector = initial_state.data\n",
    "for i in range(step):\n",
    "    U = expm(-1.0j * time * np.kron(projector, H_array))\n",
    "    qc = QuantumCircuit(nqubits+1)\n",
    "    qc.initialize(statevector, range(nqubits))\n",
    "    qc.unitary(U, range(nqubits+1))\n",
    "    qc.decompose(reps=2)\n",
    "    qc.save_statevector()\n",
    "    result = simulator.run(qc).result().data(0)['statevector']\n",
    "    new_state = result.data#[:2**nqubits]\n",
    "    expectation = (new_state.conj().dot(hamiltonian1.to_matrix())).dot(new_state)/(new_state.conj().T.dot(hamiltonian2).dot(new_state))\n",
    "    expectation_exact.append(expectation)\n",
    "    statevector = new_state[:2**nqubits]/np.linalg.norm(new_state[:2**nqubits])\n",
    "\n",
    "    print(expectation)"
   ],
   "id": "fed4d61af44bcd19",
   "outputs": [
    {
     "ename": "KeyboardInterrupt",
     "evalue": "",
     "output_type": "error",
     "traceback": [
      "\u001B[1;31m---------------------------------------------------------------------------\u001B[0m",
      "\u001B[1;31mKeyboardInterrupt\u001B[0m                         Traceback (most recent call last)",
      "Cell \u001B[1;32mIn[77], line 18\u001B[0m\n\u001B[0;32m     16\u001B[0m qc\u001B[38;5;241m.\u001B[39minitialize(statevector, \u001B[38;5;28mrange\u001B[39m(nqubits))\n\u001B[0;32m     17\u001B[0m qc\u001B[38;5;241m.\u001B[39munitary(U, \u001B[38;5;28mrange\u001B[39m(nqubits\u001B[38;5;241m+\u001B[39m\u001B[38;5;241m1\u001B[39m))\n\u001B[1;32m---> 18\u001B[0m qc\u001B[38;5;241m.\u001B[39mdecompose(reps\u001B[38;5;241m=\u001B[39m\u001B[38;5;241m2\u001B[39m)\n\u001B[0;32m     19\u001B[0m qc\u001B[38;5;241m.\u001B[39msave_statevector()\n\u001B[0;32m     20\u001B[0m result \u001B[38;5;241m=\u001B[39m simulator\u001B[38;5;241m.\u001B[39mrun(qc)\u001B[38;5;241m.\u001B[39mresult()\u001B[38;5;241m.\u001B[39mdata(\u001B[38;5;241m0\u001B[39m)[\u001B[38;5;124m'\u001B[39m\u001B[38;5;124mstatevector\u001B[39m\u001B[38;5;124m'\u001B[39m]\n",
      "File \u001B[1;32m~\\Anaconda3\\Lib\\site-packages\\qiskit\\circuit\\quantumcircuit.py:1651\u001B[0m, in \u001B[0;36mQuantumCircuit.decompose\u001B[1;34m(self, gates_to_decompose, reps)\u001B[0m\n\u001B[0;32m   1649\u001B[0m pass_ \u001B[38;5;241m=\u001B[39m Decompose(gates_to_decompose)\n\u001B[0;32m   1650\u001B[0m \u001B[38;5;28;01mfor\u001B[39;00m _ \u001B[38;5;129;01min\u001B[39;00m \u001B[38;5;28mrange\u001B[39m(reps):\n\u001B[1;32m-> 1651\u001B[0m     dag \u001B[38;5;241m=\u001B[39m pass_\u001B[38;5;241m.\u001B[39mrun(dag)\n\u001B[0;32m   1652\u001B[0m \u001B[38;5;66;03m# do not copy operations, this is done in the conversion with circuit_to_dag\u001B[39;00m\n\u001B[0;32m   1653\u001B[0m \u001B[38;5;28;01mreturn\u001B[39;00m dag_to_circuit(dag, copy_operations\u001B[38;5;241m=\u001B[39m\u001B[38;5;28;01mFalse\u001B[39;00m)\n",
      "File \u001B[1;32m~\\Anaconda3\\Lib\\site-packages\\qiskit\\transpiler\\passes\\basis\\decompose.py:51\u001B[0m, in \u001B[0;36mDecompose.run\u001B[1;34m(self, dag)\u001B[0m\n\u001B[0;32m     49\u001B[0m \u001B[38;5;28;01mfor\u001B[39;00m node \u001B[38;5;129;01min\u001B[39;00m dag\u001B[38;5;241m.\u001B[39mop_nodes():\n\u001B[0;32m     50\u001B[0m     \u001B[38;5;28;01mif\u001B[39;00m \u001B[38;5;28mself\u001B[39m\u001B[38;5;241m.\u001B[39m_should_decompose(node):\n\u001B[1;32m---> 51\u001B[0m         \u001B[38;5;28;01mif\u001B[39;00m \u001B[38;5;28mgetattr\u001B[39m(node\u001B[38;5;241m.\u001B[39mop, \u001B[38;5;124m\"\u001B[39m\u001B[38;5;124mdefinition\u001B[39m\u001B[38;5;124m\"\u001B[39m, \u001B[38;5;28;01mNone\u001B[39;00m) \u001B[38;5;129;01mis\u001B[39;00m \u001B[38;5;28;01mNone\u001B[39;00m:\n\u001B[0;32m     52\u001B[0m             \u001B[38;5;28;01mcontinue\u001B[39;00m\n\u001B[0;32m     53\u001B[0m         \u001B[38;5;66;03m# TODO: allow choosing among multiple decomposition rules\u001B[39;00m\n",
      "File \u001B[1;32m~\\Anaconda3\\Lib\\site-packages\\qiskit\\circuit\\instruction.py:303\u001B[0m, in \u001B[0;36mInstruction.definition\u001B[1;34m(self)\u001B[0m\n\u001B[0;32m    301\u001B[0m \u001B[38;5;250m\u001B[39m\u001B[38;5;124;03m\"\"\"Return definition in terms of other basic gates.\"\"\"\u001B[39;00m\n\u001B[0;32m    302\u001B[0m \u001B[38;5;28;01mif\u001B[39;00m \u001B[38;5;28mself\u001B[39m\u001B[38;5;241m.\u001B[39m_definition \u001B[38;5;129;01mis\u001B[39;00m \u001B[38;5;28;01mNone\u001B[39;00m:\n\u001B[1;32m--> 303\u001B[0m     \u001B[38;5;28mself\u001B[39m\u001B[38;5;241m.\u001B[39m_define()\n\u001B[0;32m    304\u001B[0m \u001B[38;5;28;01mreturn\u001B[39;00m \u001B[38;5;28mself\u001B[39m\u001B[38;5;241m.\u001B[39m_definition\n",
      "File \u001B[1;32m~\\Anaconda3\\Lib\\site-packages\\qiskit\\circuit\\library\\generalized_gates\\unitary.py:154\u001B[0m, in \u001B[0;36mUnitaryGate._define\u001B[1;34m(self)\u001B[0m\n\u001B[0;32m    149\u001B[0m \u001B[38;5;28;01melse\u001B[39;00m:\n\u001B[0;32m    150\u001B[0m     \u001B[38;5;28;01mfrom\u001B[39;00m \u001B[38;5;21;01mqiskit\u001B[39;00m\u001B[38;5;21;01m.\u001B[39;00m\u001B[38;5;21;01msynthesis\u001B[39;00m\u001B[38;5;21;01m.\u001B[39;00m\u001B[38;5;21;01munitary\u001B[39;00m\u001B[38;5;21;01m.\u001B[39;00m\u001B[38;5;21;01mqsd\u001B[39;00m \u001B[38;5;28;01mimport\u001B[39;00m (  \u001B[38;5;66;03m# pylint: disable=cyclic-import\u001B[39;00m\n\u001B[0;32m    151\u001B[0m         qs_decomposition,\n\u001B[0;32m    152\u001B[0m     )\n\u001B[1;32m--> 154\u001B[0m     \u001B[38;5;28mself\u001B[39m\u001B[38;5;241m.\u001B[39mdefinition \u001B[38;5;241m=\u001B[39m qs_decomposition(\u001B[38;5;28mself\u001B[39m\u001B[38;5;241m.\u001B[39mto_matrix())\n",
      "File \u001B[1;32m~\\Anaconda3\\Lib\\site-packages\\qiskit\\synthesis\\unitary\\qsd.py:146\u001B[0m, in \u001B[0;36mqs_decomposition\u001B[1;34m(mat, opt_a1, opt_a2, decomposer_1q, decomposer_2q, _depth)\u001B[0m\n\u001B[0;32m    143\u001B[0m     circ\u001B[38;5;241m.\u001B[39mappend(right_circ\u001B[38;5;241m.\u001B[39mto_instruction(), qr)\n\u001B[0;32m    145\u001B[0m \u001B[38;5;28;01mif\u001B[39;00m opt_a2 \u001B[38;5;129;01mand\u001B[39;00m _depth \u001B[38;5;241m==\u001B[39m \u001B[38;5;241m0\u001B[39m \u001B[38;5;129;01mand\u001B[39;00m dim \u001B[38;5;241m>\u001B[39m \u001B[38;5;241m4\u001B[39m:\n\u001B[1;32m--> 146\u001B[0m     \u001B[38;5;28;01mreturn\u001B[39;00m _apply_a2(circ)\n\u001B[0;32m    147\u001B[0m \u001B[38;5;28;01mreturn\u001B[39;00m circ\n",
      "File \u001B[1;32m~\\Anaconda3\\Lib\\site-packages\\qiskit\\synthesis\\unitary\\qsd.py:256\u001B[0m, in \u001B[0;36m_apply_a2\u001B[1;34m(circ)\u001B[0m\n\u001B[0;32m    253\u001B[0m \u001B[38;5;28;01mfrom\u001B[39;00m \u001B[38;5;21;01mqiskit\u001B[39;00m\u001B[38;5;21;01m.\u001B[39;00m\u001B[38;5;21;01mcircuit\u001B[39;00m\u001B[38;5;21;01m.\u001B[39;00m\u001B[38;5;21;01mlibrary\u001B[39;00m\u001B[38;5;21;01m.\u001B[39;00m\u001B[38;5;21;01mgeneralized_gates\u001B[39;00m\u001B[38;5;21;01m.\u001B[39;00m\u001B[38;5;21;01munitary\u001B[39;00m \u001B[38;5;28;01mimport\u001B[39;00m UnitaryGate\n\u001B[0;32m    255\u001B[0m decomposer \u001B[38;5;241m=\u001B[39m two_qubit_decompose\u001B[38;5;241m.\u001B[39mTwoQubitDecomposeUpToDiagonal()\n\u001B[1;32m--> 256\u001B[0m ccirc \u001B[38;5;241m=\u001B[39m transpile(circ, basis_gates\u001B[38;5;241m=\u001B[39m[\u001B[38;5;124m\"\u001B[39m\u001B[38;5;124mu\u001B[39m\u001B[38;5;124m\"\u001B[39m, \u001B[38;5;124m\"\u001B[39m\u001B[38;5;124mcx\u001B[39m\u001B[38;5;124m\"\u001B[39m, \u001B[38;5;124m\"\u001B[39m\u001B[38;5;124mqsd2q\u001B[39m\u001B[38;5;124m\"\u001B[39m], optimization_level\u001B[38;5;241m=\u001B[39m\u001B[38;5;241m0\u001B[39m)\n\u001B[0;32m    257\u001B[0m ind2q \u001B[38;5;241m=\u001B[39m []\n\u001B[0;32m    258\u001B[0m \u001B[38;5;66;03m# collect 2q instrs\u001B[39;00m\n",
      "File \u001B[1;32m~\\Anaconda3\\Lib\\site-packages\\qiskit\\compiler\\transpiler.py:425\u001B[0m, in \u001B[0;36mtranspile\u001B[1;34m(circuits, backend, basis_gates, inst_map, coupling_map, backend_properties, initial_layout, layout_method, routing_method, translation_method, scheduling_method, instruction_durations, dt, approximation_degree, timing_constraints, seed_transpiler, optimization_level, callback, output_name, unitary_synthesis_method, unitary_synthesis_plugin_config, target, hls_config, init_method, optimization_method, ignore_backend_supplied_default_methods, num_processes)\u001B[0m\n\u001B[0;32m    397\u001B[0m         instruction_durations \u001B[38;5;241m=\u001B[39m _parse_instruction_durations(\n\u001B[0;32m    398\u001B[0m             backend, instruction_durations, dt, circuits[\u001B[38;5;241m0\u001B[39m]\n\u001B[0;32m    399\u001B[0m         )\n\u001B[0;32m    401\u001B[0m pm \u001B[38;5;241m=\u001B[39m generate_preset_pass_manager(\n\u001B[0;32m    402\u001B[0m     optimization_level,\n\u001B[0;32m    403\u001B[0m     backend\u001B[38;5;241m=\u001B[39mbackend,\n\u001B[1;32m   (...)\u001B[0m\n\u001B[0;32m    423\u001B[0m     _skip_target\u001B[38;5;241m=\u001B[39m_skip_target,\n\u001B[0;32m    424\u001B[0m )\n\u001B[1;32m--> 425\u001B[0m out_circuits \u001B[38;5;241m=\u001B[39m pm\u001B[38;5;241m.\u001B[39mrun(circuits, callback\u001B[38;5;241m=\u001B[39mcallback)\n\u001B[0;32m    426\u001B[0m \u001B[38;5;28;01mfor\u001B[39;00m name, circ \u001B[38;5;129;01min\u001B[39;00m \u001B[38;5;28mzip\u001B[39m(output_name, out_circuits):\n\u001B[0;32m    427\u001B[0m     circ\u001B[38;5;241m.\u001B[39mname \u001B[38;5;241m=\u001B[39m name\n",
      "File \u001B[1;32m~\\Anaconda3\\Lib\\site-packages\\qiskit\\transpiler\\passmanager.py:397\u001B[0m, in \u001B[0;36mStagedPassManager.run\u001B[1;34m(self, circuits, output_name, callback, num_processes)\u001B[0m\n\u001B[0;32m    389\u001B[0m \u001B[38;5;28;01mdef\u001B[39;00m \u001B[38;5;21mrun\u001B[39m(\n\u001B[0;32m    390\u001B[0m     \u001B[38;5;28mself\u001B[39m,\n\u001B[0;32m    391\u001B[0m     circuits: _CircuitsT,\n\u001B[1;32m   (...)\u001B[0m\n\u001B[0;32m    394\u001B[0m     num_processes: \u001B[38;5;28mint\u001B[39m \u001B[38;5;241m=\u001B[39m \u001B[38;5;28;01mNone\u001B[39;00m,\n\u001B[0;32m    395\u001B[0m ) \u001B[38;5;241m-\u001B[39m\u001B[38;5;241m>\u001B[39m _CircuitsT:\n\u001B[0;32m    396\u001B[0m     \u001B[38;5;28mself\u001B[39m\u001B[38;5;241m.\u001B[39m_update_passmanager()\n\u001B[1;32m--> 397\u001B[0m     \u001B[38;5;28;01mreturn\u001B[39;00m \u001B[38;5;28msuper\u001B[39m()\u001B[38;5;241m.\u001B[39mrun(circuits, output_name, callback, num_processes\u001B[38;5;241m=\u001B[39mnum_processes)\n",
      "File \u001B[1;32m~\\Anaconda3\\Lib\\site-packages\\qiskit\\transpiler\\passmanager.py:420\u001B[0m, in \u001B[0;36m_replace_error.<locals>.wrapper\u001B[1;34m(*meth_args, **meth_kwargs)\u001B[0m\n\u001B[0;32m    417\u001B[0m \u001B[38;5;129m@wraps\u001B[39m(meth)\n\u001B[0;32m    418\u001B[0m \u001B[38;5;28;01mdef\u001B[39;00m \u001B[38;5;21mwrapper\u001B[39m(\u001B[38;5;241m*\u001B[39mmeth_args, \u001B[38;5;241m*\u001B[39m\u001B[38;5;241m*\u001B[39mmeth_kwargs):\n\u001B[0;32m    419\u001B[0m     \u001B[38;5;28;01mtry\u001B[39;00m:\n\u001B[1;32m--> 420\u001B[0m         \u001B[38;5;28;01mreturn\u001B[39;00m meth(\u001B[38;5;241m*\u001B[39mmeth_args, \u001B[38;5;241m*\u001B[39m\u001B[38;5;241m*\u001B[39mmeth_kwargs)\n\u001B[0;32m    421\u001B[0m     \u001B[38;5;28;01mexcept\u001B[39;00m PassManagerError \u001B[38;5;28;01mas\u001B[39;00m ex:\n\u001B[0;32m    422\u001B[0m         \u001B[38;5;28;01mraise\u001B[39;00m TranspilerError(ex\u001B[38;5;241m.\u001B[39mmessage) \u001B[38;5;28;01mfrom\u001B[39;00m \u001B[38;5;21;01mex\u001B[39;00m\n",
      "File \u001B[1;32m~\\Anaconda3\\Lib\\site-packages\\qiskit\\transpiler\\passmanager.py:182\u001B[0m, in \u001B[0;36mPassManager.run\u001B[1;34m(self, circuits, output_name, callback, num_processes)\u001B[0m\n\u001B[0;32m    179\u001B[0m \u001B[38;5;28;01mif\u001B[39;00m callback \u001B[38;5;129;01mis\u001B[39;00m \u001B[38;5;129;01mnot\u001B[39;00m \u001B[38;5;28;01mNone\u001B[39;00m:\n\u001B[0;32m    180\u001B[0m     callback \u001B[38;5;241m=\u001B[39m _legacy_style_callback(callback)\n\u001B[1;32m--> 182\u001B[0m \u001B[38;5;28;01mreturn\u001B[39;00m \u001B[38;5;28msuper\u001B[39m()\u001B[38;5;241m.\u001B[39mrun(\n\u001B[0;32m    183\u001B[0m     in_programs\u001B[38;5;241m=\u001B[39mcircuits,\n\u001B[0;32m    184\u001B[0m     callback\u001B[38;5;241m=\u001B[39mcallback,\n\u001B[0;32m    185\u001B[0m     output_name\u001B[38;5;241m=\u001B[39moutput_name,\n\u001B[0;32m    186\u001B[0m     num_processes\u001B[38;5;241m=\u001B[39mnum_processes,\n\u001B[0;32m    187\u001B[0m )\n",
      "File \u001B[1;32m~\\Anaconda3\\Lib\\site-packages\\qiskit\\passmanager\\passmanager.py:227\u001B[0m, in \u001B[0;36mBasePassManager.run\u001B[1;34m(self, in_programs, callback, num_processes, **kwargs)\u001B[0m\n\u001B[0;32m    224\u001B[0m     is_list \u001B[38;5;241m=\u001B[39m \u001B[38;5;28;01mFalse\u001B[39;00m\n\u001B[0;32m    226\u001B[0m \u001B[38;5;28;01mif\u001B[39;00m \u001B[38;5;28mlen\u001B[39m(in_programs) \u001B[38;5;241m==\u001B[39m \u001B[38;5;241m1\u001B[39m:\n\u001B[1;32m--> 227\u001B[0m     out_program \u001B[38;5;241m=\u001B[39m _run_workflow(\n\u001B[0;32m    228\u001B[0m         program\u001B[38;5;241m=\u001B[39min_programs[\u001B[38;5;241m0\u001B[39m],\n\u001B[0;32m    229\u001B[0m         pass_manager\u001B[38;5;241m=\u001B[39m\u001B[38;5;28mself\u001B[39m,\n\u001B[0;32m    230\u001B[0m         callback\u001B[38;5;241m=\u001B[39mcallback,\n\u001B[0;32m    231\u001B[0m         \u001B[38;5;241m*\u001B[39m\u001B[38;5;241m*\u001B[39mkwargs,\n\u001B[0;32m    232\u001B[0m     )\n\u001B[0;32m    233\u001B[0m     \u001B[38;5;28;01mif\u001B[39;00m is_list:\n\u001B[0;32m    234\u001B[0m         \u001B[38;5;28;01mreturn\u001B[39;00m [out_program]\n",
      "File \u001B[1;32m~\\Anaconda3\\Lib\\site-packages\\qiskit\\passmanager\\passmanager.py:286\u001B[0m, in \u001B[0;36m_run_workflow\u001B[1;34m(program, pass_manager, **kwargs)\u001B[0m\n\u001B[0;32m    283\u001B[0m flow_controller \u001B[38;5;241m=\u001B[39m pass_manager\u001B[38;5;241m.\u001B[39mto_flow_controller()\n\u001B[0;32m    284\u001B[0m initial_status \u001B[38;5;241m=\u001B[39m WorkflowStatus()\n\u001B[1;32m--> 286\u001B[0m passmanager_ir \u001B[38;5;241m=\u001B[39m pass_manager\u001B[38;5;241m.\u001B[39m_passmanager_frontend(\n\u001B[0;32m    287\u001B[0m     input_program\u001B[38;5;241m=\u001B[39mprogram,\n\u001B[0;32m    288\u001B[0m     \u001B[38;5;241m*\u001B[39m\u001B[38;5;241m*\u001B[39mkwargs,\n\u001B[0;32m    289\u001B[0m )\n\u001B[0;32m    290\u001B[0m passmanager_ir, _ \u001B[38;5;241m=\u001B[39m flow_controller\u001B[38;5;241m.\u001B[39mexecute(\n\u001B[0;32m    291\u001B[0m     passmanager_ir\u001B[38;5;241m=\u001B[39mpassmanager_ir,\n\u001B[0;32m    292\u001B[0m     state\u001B[38;5;241m=\u001B[39mPassManagerState(\n\u001B[1;32m   (...)\u001B[0m\n\u001B[0;32m    296\u001B[0m     callback\u001B[38;5;241m=\u001B[39mkwargs\u001B[38;5;241m.\u001B[39mget(\u001B[38;5;124m\"\u001B[39m\u001B[38;5;124mcallback\u001B[39m\u001B[38;5;124m\"\u001B[39m, \u001B[38;5;28;01mNone\u001B[39;00m),\n\u001B[0;32m    297\u001B[0m )\n\u001B[0;32m    298\u001B[0m out_program \u001B[38;5;241m=\u001B[39m pass_manager\u001B[38;5;241m.\u001B[39m_passmanager_backend(\n\u001B[0;32m    299\u001B[0m     passmanager_ir\u001B[38;5;241m=\u001B[39mpassmanager_ir,\n\u001B[0;32m    300\u001B[0m     in_program\u001B[38;5;241m=\u001B[39mprogram,\n\u001B[0;32m    301\u001B[0m     \u001B[38;5;241m*\u001B[39m\u001B[38;5;241m*\u001B[39mkwargs,\n\u001B[0;32m    302\u001B[0m )\n",
      "File \u001B[1;32m~\\Anaconda3\\Lib\\site-packages\\qiskit\\transpiler\\passmanager.py:62\u001B[0m, in \u001B[0;36mPassManager._passmanager_frontend\u001B[1;34m(self, input_program, **kwargs)\u001B[0m\n\u001B[0;32m     57\u001B[0m \u001B[38;5;28;01mdef\u001B[39;00m \u001B[38;5;21m_passmanager_frontend\u001B[39m(\n\u001B[0;32m     58\u001B[0m     \u001B[38;5;28mself\u001B[39m,\n\u001B[0;32m     59\u001B[0m     input_program: QuantumCircuit,\n\u001B[0;32m     60\u001B[0m     \u001B[38;5;241m*\u001B[39m\u001B[38;5;241m*\u001B[39mkwargs,\n\u001B[0;32m     61\u001B[0m ) \u001B[38;5;241m-\u001B[39m\u001B[38;5;241m>\u001B[39m DAGCircuit:\n\u001B[1;32m---> 62\u001B[0m     \u001B[38;5;28;01mreturn\u001B[39;00m circuit_to_dag(input_program, copy_operations\u001B[38;5;241m=\u001B[39m\u001B[38;5;28;01mTrue\u001B[39;00m)\n",
      "File \u001B[1;32m~\\Anaconda3\\Lib\\site-packages\\qiskit\\converters\\circuit_to_dag.py:91\u001B[0m, in \u001B[0;36mcircuit_to_dag\u001B[1;34m(circuit, copy_operations, qubit_order, clbit_order)\u001B[0m\n\u001B[0;32m     89\u001B[0m     op \u001B[38;5;241m=\u001B[39m instruction\u001B[38;5;241m.\u001B[39moperation\n\u001B[0;32m     90\u001B[0m     \u001B[38;5;28;01mif\u001B[39;00m copy_operations:\n\u001B[1;32m---> 91\u001B[0m         op \u001B[38;5;241m=\u001B[39m copy\u001B[38;5;241m.\u001B[39mdeepcopy(op)\n\u001B[0;32m     92\u001B[0m     dagcircuit\u001B[38;5;241m.\u001B[39mapply_operation_back(op, instruction\u001B[38;5;241m.\u001B[39mqubits, instruction\u001B[38;5;241m.\u001B[39mclbits, check\u001B[38;5;241m=\u001B[39m\u001B[38;5;28;01mFalse\u001B[39;00m)\n\u001B[0;32m     94\u001B[0m dagcircuit\u001B[38;5;241m.\u001B[39mduration \u001B[38;5;241m=\u001B[39m circuit\u001B[38;5;241m.\u001B[39mduration\n",
      "File \u001B[1;32m~\\Anaconda3\\Lib\\copy.py:153\u001B[0m, in \u001B[0;36mdeepcopy\u001B[1;34m(x, memo, _nil)\u001B[0m\n\u001B[0;32m    151\u001B[0m copier \u001B[38;5;241m=\u001B[39m \u001B[38;5;28mgetattr\u001B[39m(x, \u001B[38;5;124m\"\u001B[39m\u001B[38;5;124m__deepcopy__\u001B[39m\u001B[38;5;124m\"\u001B[39m, \u001B[38;5;28;01mNone\u001B[39;00m)\n\u001B[0;32m    152\u001B[0m \u001B[38;5;28;01mif\u001B[39;00m copier \u001B[38;5;129;01mis\u001B[39;00m \u001B[38;5;129;01mnot\u001B[39;00m \u001B[38;5;28;01mNone\u001B[39;00m:\n\u001B[1;32m--> 153\u001B[0m     y \u001B[38;5;241m=\u001B[39m copier(memo)\n\u001B[0;32m    154\u001B[0m \u001B[38;5;28;01melse\u001B[39;00m:\n\u001B[0;32m    155\u001B[0m     reductor \u001B[38;5;241m=\u001B[39m dispatch_table\u001B[38;5;241m.\u001B[39mget(\u001B[38;5;28mcls\u001B[39m)\n",
      "File \u001B[1;32m~\\Anaconda3\\Lib\\site-packages\\qiskit\\circuit\\instruction.py:520\u001B[0m, in \u001B[0;36mInstruction.__deepcopy__\u001B[1;34m(self, memo)\u001B[0m\n\u001B[0;32m    518\u001B[0m cpy\u001B[38;5;241m.\u001B[39m_params \u001B[38;5;241m=\u001B[39m copy\u001B[38;5;241m.\u001B[39mcopy(\u001B[38;5;28mself\u001B[39m\u001B[38;5;241m.\u001B[39m_params)\n\u001B[0;32m    519\u001B[0m \u001B[38;5;28;01mif\u001B[39;00m \u001B[38;5;28mself\u001B[39m\u001B[38;5;241m.\u001B[39m_definition:\n\u001B[1;32m--> 520\u001B[0m     cpy\u001B[38;5;241m.\u001B[39m_definition \u001B[38;5;241m=\u001B[39m copy\u001B[38;5;241m.\u001B[39mdeepcopy(\u001B[38;5;28mself\u001B[39m\u001B[38;5;241m.\u001B[39m_definition, memo)\n\u001B[0;32m    521\u001B[0m \u001B[38;5;28;01mreturn\u001B[39;00m cpy\n",
      "File \u001B[1;32m~\\Anaconda3\\Lib\\copy.py:153\u001B[0m, in \u001B[0;36mdeepcopy\u001B[1;34m(x, memo, _nil)\u001B[0m\n\u001B[0;32m    151\u001B[0m copier \u001B[38;5;241m=\u001B[39m \u001B[38;5;28mgetattr\u001B[39m(x, \u001B[38;5;124m\"\u001B[39m\u001B[38;5;124m__deepcopy__\u001B[39m\u001B[38;5;124m\"\u001B[39m, \u001B[38;5;28;01mNone\u001B[39;00m)\n\u001B[0;32m    152\u001B[0m \u001B[38;5;28;01mif\u001B[39;00m copier \u001B[38;5;129;01mis\u001B[39;00m \u001B[38;5;129;01mnot\u001B[39;00m \u001B[38;5;28;01mNone\u001B[39;00m:\n\u001B[1;32m--> 153\u001B[0m     y \u001B[38;5;241m=\u001B[39m copier(memo)\n\u001B[0;32m    154\u001B[0m \u001B[38;5;28;01melse\u001B[39;00m:\n\u001B[0;32m    155\u001B[0m     reductor \u001B[38;5;241m=\u001B[39m dispatch_table\u001B[38;5;241m.\u001B[39mget(\u001B[38;5;28mcls\u001B[39m)\n",
      "File \u001B[1;32m~\\Anaconda3\\Lib\\site-packages\\qiskit\\circuit\\quantumcircuit.py:511\u001B[0m, in \u001B[0;36mQuantumCircuit.__deepcopy__\u001B[1;34m(self, memo)\u001B[0m\n\u001B[0;32m    506\u001B[0m result\u001B[38;5;241m.\u001B[39m_data \u001B[38;5;241m=\u001B[39m \u001B[38;5;28mself\u001B[39m\u001B[38;5;241m.\u001B[39m_data\u001B[38;5;241m.\u001B[39mcopy()\n\u001B[0;32m    507\u001B[0m result\u001B[38;5;241m.\u001B[39m_data\u001B[38;5;241m.\u001B[39mreplace_bits(\n\u001B[0;32m    508\u001B[0m     qubits\u001B[38;5;241m=\u001B[39mcopy\u001B[38;5;241m.\u001B[39mdeepcopy(\u001B[38;5;28mself\u001B[39m\u001B[38;5;241m.\u001B[39m_data\u001B[38;5;241m.\u001B[39mqubits, memo),\n\u001B[0;32m    509\u001B[0m     clbits\u001B[38;5;241m=\u001B[39mcopy\u001B[38;5;241m.\u001B[39mdeepcopy(\u001B[38;5;28mself\u001B[39m\u001B[38;5;241m.\u001B[39m_data\u001B[38;5;241m.\u001B[39mclbits, memo),\n\u001B[0;32m    510\u001B[0m )\n\u001B[1;32m--> 511\u001B[0m result\u001B[38;5;241m.\u001B[39m_data\u001B[38;5;241m.\u001B[39mmap_ops(\u001B[38;5;28;01mlambda\u001B[39;00m op: copy\u001B[38;5;241m.\u001B[39mdeepcopy(op, memo))\n\u001B[0;32m    512\u001B[0m \u001B[38;5;28;01mreturn\u001B[39;00m result\n",
      "File \u001B[1;32m~\\Anaconda3\\Lib\\site-packages\\qiskit\\circuit\\quantumcircuit.py:511\u001B[0m, in \u001B[0;36mQuantumCircuit.__deepcopy__.<locals>.<lambda>\u001B[1;34m(op)\u001B[0m\n\u001B[0;32m    506\u001B[0m result\u001B[38;5;241m.\u001B[39m_data \u001B[38;5;241m=\u001B[39m \u001B[38;5;28mself\u001B[39m\u001B[38;5;241m.\u001B[39m_data\u001B[38;5;241m.\u001B[39mcopy()\n\u001B[0;32m    507\u001B[0m result\u001B[38;5;241m.\u001B[39m_data\u001B[38;5;241m.\u001B[39mreplace_bits(\n\u001B[0;32m    508\u001B[0m     qubits\u001B[38;5;241m=\u001B[39mcopy\u001B[38;5;241m.\u001B[39mdeepcopy(\u001B[38;5;28mself\u001B[39m\u001B[38;5;241m.\u001B[39m_data\u001B[38;5;241m.\u001B[39mqubits, memo),\n\u001B[0;32m    509\u001B[0m     clbits\u001B[38;5;241m=\u001B[39mcopy\u001B[38;5;241m.\u001B[39mdeepcopy(\u001B[38;5;28mself\u001B[39m\u001B[38;5;241m.\u001B[39m_data\u001B[38;5;241m.\u001B[39mclbits, memo),\n\u001B[0;32m    510\u001B[0m )\n\u001B[1;32m--> 511\u001B[0m result\u001B[38;5;241m.\u001B[39m_data\u001B[38;5;241m.\u001B[39mmap_ops(\u001B[38;5;28;01mlambda\u001B[39;00m op: copy\u001B[38;5;241m.\u001B[39mdeepcopy(op, memo))\n\u001B[0;32m    512\u001B[0m \u001B[38;5;28;01mreturn\u001B[39;00m result\n",
      "    \u001B[1;31m[... skipping similar frames: deepcopy at line 153 (1 times)]\u001B[0m\n",
      "File \u001B[1;32m~\\Anaconda3\\Lib\\site-packages\\qiskit\\circuit\\instruction.py:520\u001B[0m, in \u001B[0;36mInstruction.__deepcopy__\u001B[1;34m(self, memo)\u001B[0m\n\u001B[0;32m    518\u001B[0m cpy\u001B[38;5;241m.\u001B[39m_params \u001B[38;5;241m=\u001B[39m copy\u001B[38;5;241m.\u001B[39mcopy(\u001B[38;5;28mself\u001B[39m\u001B[38;5;241m.\u001B[39m_params)\n\u001B[0;32m    519\u001B[0m \u001B[38;5;28;01mif\u001B[39;00m \u001B[38;5;28mself\u001B[39m\u001B[38;5;241m.\u001B[39m_definition:\n\u001B[1;32m--> 520\u001B[0m     cpy\u001B[38;5;241m.\u001B[39m_definition \u001B[38;5;241m=\u001B[39m copy\u001B[38;5;241m.\u001B[39mdeepcopy(\u001B[38;5;28mself\u001B[39m\u001B[38;5;241m.\u001B[39m_definition, memo)\n\u001B[0;32m    521\u001B[0m \u001B[38;5;28;01mreturn\u001B[39;00m cpy\n",
      "    \u001B[1;31m[... skipping similar frames: deepcopy at line 153 (1 times)]\u001B[0m\n",
      "File \u001B[1;32m~\\Anaconda3\\Lib\\site-packages\\qiskit\\circuit\\quantumcircuit.py:511\u001B[0m, in \u001B[0;36mQuantumCircuit.__deepcopy__\u001B[1;34m(self, memo)\u001B[0m\n\u001B[0;32m    506\u001B[0m result\u001B[38;5;241m.\u001B[39m_data \u001B[38;5;241m=\u001B[39m \u001B[38;5;28mself\u001B[39m\u001B[38;5;241m.\u001B[39m_data\u001B[38;5;241m.\u001B[39mcopy()\n\u001B[0;32m    507\u001B[0m result\u001B[38;5;241m.\u001B[39m_data\u001B[38;5;241m.\u001B[39mreplace_bits(\n\u001B[0;32m    508\u001B[0m     qubits\u001B[38;5;241m=\u001B[39mcopy\u001B[38;5;241m.\u001B[39mdeepcopy(\u001B[38;5;28mself\u001B[39m\u001B[38;5;241m.\u001B[39m_data\u001B[38;5;241m.\u001B[39mqubits, memo),\n\u001B[0;32m    509\u001B[0m     clbits\u001B[38;5;241m=\u001B[39mcopy\u001B[38;5;241m.\u001B[39mdeepcopy(\u001B[38;5;28mself\u001B[39m\u001B[38;5;241m.\u001B[39m_data\u001B[38;5;241m.\u001B[39mclbits, memo),\n\u001B[0;32m    510\u001B[0m )\n\u001B[1;32m--> 511\u001B[0m result\u001B[38;5;241m.\u001B[39m_data\u001B[38;5;241m.\u001B[39mmap_ops(\u001B[38;5;28;01mlambda\u001B[39;00m op: copy\u001B[38;5;241m.\u001B[39mdeepcopy(op, memo))\n\u001B[0;32m    512\u001B[0m \u001B[38;5;28;01mreturn\u001B[39;00m result\n",
      "File \u001B[1;32m~\\Anaconda3\\Lib\\site-packages\\qiskit\\circuit\\quantumcircuit.py:511\u001B[0m, in \u001B[0;36mQuantumCircuit.__deepcopy__.<locals>.<lambda>\u001B[1;34m(op)\u001B[0m\n\u001B[0;32m    506\u001B[0m result\u001B[38;5;241m.\u001B[39m_data \u001B[38;5;241m=\u001B[39m \u001B[38;5;28mself\u001B[39m\u001B[38;5;241m.\u001B[39m_data\u001B[38;5;241m.\u001B[39mcopy()\n\u001B[0;32m    507\u001B[0m result\u001B[38;5;241m.\u001B[39m_data\u001B[38;5;241m.\u001B[39mreplace_bits(\n\u001B[0;32m    508\u001B[0m     qubits\u001B[38;5;241m=\u001B[39mcopy\u001B[38;5;241m.\u001B[39mdeepcopy(\u001B[38;5;28mself\u001B[39m\u001B[38;5;241m.\u001B[39m_data\u001B[38;5;241m.\u001B[39mqubits, memo),\n\u001B[0;32m    509\u001B[0m     clbits\u001B[38;5;241m=\u001B[39mcopy\u001B[38;5;241m.\u001B[39mdeepcopy(\u001B[38;5;28mself\u001B[39m\u001B[38;5;241m.\u001B[39m_data\u001B[38;5;241m.\u001B[39mclbits, memo),\n\u001B[0;32m    510\u001B[0m )\n\u001B[1;32m--> 511\u001B[0m result\u001B[38;5;241m.\u001B[39m_data\u001B[38;5;241m.\u001B[39mmap_ops(\u001B[38;5;28;01mlambda\u001B[39;00m op: copy\u001B[38;5;241m.\u001B[39mdeepcopy(op, memo))\n\u001B[0;32m    512\u001B[0m \u001B[38;5;28;01mreturn\u001B[39;00m result\n",
      "    \u001B[1;31m[... skipping similar frames: deepcopy at line 153 (20 times), Instruction.__deepcopy__ at line 520 (10 times), QuantumCircuit.__deepcopy__.<locals>.<lambda> at line 511 (9 times), QuantumCircuit.__deepcopy__ at line 511 (9 times)]\u001B[0m\n",
      "File \u001B[1;32m~\\Anaconda3\\Lib\\site-packages\\qiskit\\circuit\\quantumcircuit.py:511\u001B[0m, in \u001B[0;36mQuantumCircuit.__deepcopy__\u001B[1;34m(self, memo)\u001B[0m\n\u001B[0;32m    506\u001B[0m result\u001B[38;5;241m.\u001B[39m_data \u001B[38;5;241m=\u001B[39m \u001B[38;5;28mself\u001B[39m\u001B[38;5;241m.\u001B[39m_data\u001B[38;5;241m.\u001B[39mcopy()\n\u001B[0;32m    507\u001B[0m result\u001B[38;5;241m.\u001B[39m_data\u001B[38;5;241m.\u001B[39mreplace_bits(\n\u001B[0;32m    508\u001B[0m     qubits\u001B[38;5;241m=\u001B[39mcopy\u001B[38;5;241m.\u001B[39mdeepcopy(\u001B[38;5;28mself\u001B[39m\u001B[38;5;241m.\u001B[39m_data\u001B[38;5;241m.\u001B[39mqubits, memo),\n\u001B[0;32m    509\u001B[0m     clbits\u001B[38;5;241m=\u001B[39mcopy\u001B[38;5;241m.\u001B[39mdeepcopy(\u001B[38;5;28mself\u001B[39m\u001B[38;5;241m.\u001B[39m_data\u001B[38;5;241m.\u001B[39mclbits, memo),\n\u001B[0;32m    510\u001B[0m )\n\u001B[1;32m--> 511\u001B[0m result\u001B[38;5;241m.\u001B[39m_data\u001B[38;5;241m.\u001B[39mmap_ops(\u001B[38;5;28;01mlambda\u001B[39;00m op: copy\u001B[38;5;241m.\u001B[39mdeepcopy(op, memo))\n\u001B[0;32m    512\u001B[0m \u001B[38;5;28;01mreturn\u001B[39;00m result\n",
      "File \u001B[1;32m~\\Anaconda3\\Lib\\site-packages\\qiskit\\circuit\\quantumcircuit.py:511\u001B[0m, in \u001B[0;36mQuantumCircuit.__deepcopy__.<locals>.<lambda>\u001B[1;34m(op)\u001B[0m\n\u001B[0;32m    506\u001B[0m result\u001B[38;5;241m.\u001B[39m_data \u001B[38;5;241m=\u001B[39m \u001B[38;5;28mself\u001B[39m\u001B[38;5;241m.\u001B[39m_data\u001B[38;5;241m.\u001B[39mcopy()\n\u001B[0;32m    507\u001B[0m result\u001B[38;5;241m.\u001B[39m_data\u001B[38;5;241m.\u001B[39mreplace_bits(\n\u001B[0;32m    508\u001B[0m     qubits\u001B[38;5;241m=\u001B[39mcopy\u001B[38;5;241m.\u001B[39mdeepcopy(\u001B[38;5;28mself\u001B[39m\u001B[38;5;241m.\u001B[39m_data\u001B[38;5;241m.\u001B[39mqubits, memo),\n\u001B[0;32m    509\u001B[0m     clbits\u001B[38;5;241m=\u001B[39mcopy\u001B[38;5;241m.\u001B[39mdeepcopy(\u001B[38;5;28mself\u001B[39m\u001B[38;5;241m.\u001B[39m_data\u001B[38;5;241m.\u001B[39mclbits, memo),\n\u001B[0;32m    510\u001B[0m )\n\u001B[1;32m--> 511\u001B[0m result\u001B[38;5;241m.\u001B[39m_data\u001B[38;5;241m.\u001B[39mmap_ops(\u001B[38;5;28;01mlambda\u001B[39;00m op: copy\u001B[38;5;241m.\u001B[39mdeepcopy(op, memo))\n\u001B[0;32m    512\u001B[0m \u001B[38;5;28;01mreturn\u001B[39;00m result\n",
      "    \u001B[1;31m[... skipping similar frames: deepcopy at line 153 (1 times)]\u001B[0m\n",
      "File \u001B[1;32m~\\Anaconda3\\Lib\\site-packages\\qiskit\\circuit\\instruction.py:520\u001B[0m, in \u001B[0;36mInstruction.__deepcopy__\u001B[1;34m(self, memo)\u001B[0m\n\u001B[0;32m    518\u001B[0m cpy\u001B[38;5;241m.\u001B[39m_params \u001B[38;5;241m=\u001B[39m copy\u001B[38;5;241m.\u001B[39mcopy(\u001B[38;5;28mself\u001B[39m\u001B[38;5;241m.\u001B[39m_params)\n\u001B[0;32m    519\u001B[0m \u001B[38;5;28;01mif\u001B[39;00m \u001B[38;5;28mself\u001B[39m\u001B[38;5;241m.\u001B[39m_definition:\n\u001B[1;32m--> 520\u001B[0m     cpy\u001B[38;5;241m.\u001B[39m_definition \u001B[38;5;241m=\u001B[39m copy\u001B[38;5;241m.\u001B[39mdeepcopy(\u001B[38;5;28mself\u001B[39m\u001B[38;5;241m.\u001B[39m_definition, memo)\n\u001B[0;32m    521\u001B[0m \u001B[38;5;28;01mreturn\u001B[39;00m cpy\n",
      "File \u001B[1;32m~\\Anaconda3\\Lib\\copy.py:153\u001B[0m, in \u001B[0;36mdeepcopy\u001B[1;34m(x, memo, _nil)\u001B[0m\n\u001B[0;32m    151\u001B[0m copier \u001B[38;5;241m=\u001B[39m \u001B[38;5;28mgetattr\u001B[39m(x, \u001B[38;5;124m\"\u001B[39m\u001B[38;5;124m__deepcopy__\u001B[39m\u001B[38;5;124m\"\u001B[39m, \u001B[38;5;28;01mNone\u001B[39;00m)\n\u001B[0;32m    152\u001B[0m \u001B[38;5;28;01mif\u001B[39;00m copier \u001B[38;5;129;01mis\u001B[39;00m \u001B[38;5;129;01mnot\u001B[39;00m \u001B[38;5;28;01mNone\u001B[39;00m:\n\u001B[1;32m--> 153\u001B[0m     y \u001B[38;5;241m=\u001B[39m copier(memo)\n\u001B[0;32m    154\u001B[0m \u001B[38;5;28;01melse\u001B[39;00m:\n\u001B[0;32m    155\u001B[0m     reductor \u001B[38;5;241m=\u001B[39m dispatch_table\u001B[38;5;241m.\u001B[39mget(\u001B[38;5;28mcls\u001B[39m)\n",
      "File \u001B[1;32m~\\Anaconda3\\Lib\\site-packages\\qiskit\\circuit\\quantumcircuit.py:500\u001B[0m, in \u001B[0;36mQuantumCircuit.__deepcopy__\u001B[1;34m(self, memo)\u001B[0m\n\u001B[0;32m    498\u001B[0m result \u001B[38;5;241m=\u001B[39m \u001B[38;5;28mcls\u001B[39m\u001B[38;5;241m.\u001B[39m\u001B[38;5;21m__new__\u001B[39m(\u001B[38;5;28mcls\u001B[39m)\n\u001B[0;32m    499\u001B[0m \u001B[38;5;28;01mfor\u001B[39;00m k \u001B[38;5;129;01min\u001B[39;00m \u001B[38;5;28mself\u001B[39m\u001B[38;5;241m.\u001B[39m\u001B[38;5;18m__dict__\u001B[39m\u001B[38;5;241m.\u001B[39mkeys() \u001B[38;5;241m-\u001B[39m {\u001B[38;5;124m\"\u001B[39m\u001B[38;5;124m_data\u001B[39m\u001B[38;5;124m\"\u001B[39m, \u001B[38;5;124m\"\u001B[39m\u001B[38;5;124m_builder_api\u001B[39m\u001B[38;5;124m\"\u001B[39m}:\n\u001B[1;32m--> 500\u001B[0m     \u001B[38;5;28msetattr\u001B[39m(result, k, copy\u001B[38;5;241m.\u001B[39mdeepcopy(\u001B[38;5;28mself\u001B[39m\u001B[38;5;241m.\u001B[39m\u001B[38;5;18m__dict__\u001B[39m[k], memo))\n\u001B[0;32m    502\u001B[0m result\u001B[38;5;241m.\u001B[39m_builder_api \u001B[38;5;241m=\u001B[39m _OuterCircuitScopeInterface(result)\n\u001B[0;32m    504\u001B[0m \u001B[38;5;66;03m# Avoids pulling self._data into a Python list\u001B[39;00m\n\u001B[0;32m    505\u001B[0m \u001B[38;5;66;03m# like we would when pickling.\u001B[39;00m\n",
      "File \u001B[1;32m~\\Anaconda3\\Lib\\copy.py:146\u001B[0m, in \u001B[0;36mdeepcopy\u001B[1;34m(x, memo, _nil)\u001B[0m\n\u001B[0;32m    144\u001B[0m copier \u001B[38;5;241m=\u001B[39m _deepcopy_dispatch\u001B[38;5;241m.\u001B[39mget(\u001B[38;5;28mcls\u001B[39m)\n\u001B[0;32m    145\u001B[0m \u001B[38;5;28;01mif\u001B[39;00m copier \u001B[38;5;129;01mis\u001B[39;00m \u001B[38;5;129;01mnot\u001B[39;00m \u001B[38;5;28;01mNone\u001B[39;00m:\n\u001B[1;32m--> 146\u001B[0m     y \u001B[38;5;241m=\u001B[39m copier(x, memo)\n\u001B[0;32m    147\u001B[0m \u001B[38;5;28;01melse\u001B[39;00m:\n\u001B[0;32m    148\u001B[0m     \u001B[38;5;28;01mif\u001B[39;00m \u001B[38;5;28missubclass\u001B[39m(\u001B[38;5;28mcls\u001B[39m, \u001B[38;5;28mtype\u001B[39m):\n",
      "File \u001B[1;32m~\\Anaconda3\\Lib\\copy.py:231\u001B[0m, in \u001B[0;36m_deepcopy_dict\u001B[1;34m(x, memo, deepcopy)\u001B[0m\n\u001B[0;32m    229\u001B[0m memo[\u001B[38;5;28mid\u001B[39m(x)] \u001B[38;5;241m=\u001B[39m y\n\u001B[0;32m    230\u001B[0m \u001B[38;5;28;01mfor\u001B[39;00m key, value \u001B[38;5;129;01min\u001B[39;00m x\u001B[38;5;241m.\u001B[39mitems():\n\u001B[1;32m--> 231\u001B[0m     y[deepcopy(key, memo)] \u001B[38;5;241m=\u001B[39m deepcopy(value, memo)\n\u001B[0;32m    232\u001B[0m \u001B[38;5;28;01mreturn\u001B[39;00m y\n",
      "File \u001B[1;32m~\\Anaconda3\\Lib\\copy.py:172\u001B[0m, in \u001B[0;36mdeepcopy\u001B[1;34m(x, memo, _nil)\u001B[0m\n\u001B[0;32m    170\u001B[0m                 y \u001B[38;5;241m=\u001B[39m x\n\u001B[0;32m    171\u001B[0m             \u001B[38;5;28;01melse\u001B[39;00m:\n\u001B[1;32m--> 172\u001B[0m                 y \u001B[38;5;241m=\u001B[39m _reconstruct(x, memo, \u001B[38;5;241m*\u001B[39mrv)\n\u001B[0;32m    174\u001B[0m \u001B[38;5;66;03m# If is its own copy, don't memoize.\u001B[39;00m\n\u001B[0;32m    175\u001B[0m \u001B[38;5;28;01mif\u001B[39;00m y \u001B[38;5;129;01mis\u001B[39;00m \u001B[38;5;129;01mnot\u001B[39;00m x:\n",
      "File \u001B[1;32m~\\Anaconda3\\Lib\\copy.py:265\u001B[0m, in \u001B[0;36m_reconstruct\u001B[1;34m(x, memo, func, args, state, listiter, dictiter, deepcopy)\u001B[0m\n\u001B[0;32m    263\u001B[0m \u001B[38;5;28;01mif\u001B[39;00m deep \u001B[38;5;129;01mand\u001B[39;00m args:\n\u001B[0;32m    264\u001B[0m     args \u001B[38;5;241m=\u001B[39m (deepcopy(arg, memo) \u001B[38;5;28;01mfor\u001B[39;00m arg \u001B[38;5;129;01min\u001B[39;00m args)\n\u001B[1;32m--> 265\u001B[0m y \u001B[38;5;241m=\u001B[39m func(\u001B[38;5;241m*\u001B[39margs)\n\u001B[0;32m    266\u001B[0m \u001B[38;5;28;01mif\u001B[39;00m deep:\n\u001B[0;32m    267\u001B[0m     memo[\u001B[38;5;28mid\u001B[39m(x)] \u001B[38;5;241m=\u001B[39m y\n",
      "File \u001B[1;32m~\\Anaconda3\\Lib\\copy.py:264\u001B[0m, in \u001B[0;36m<genexpr>\u001B[1;34m(.0)\u001B[0m\n\u001B[0;32m    262\u001B[0m deep \u001B[38;5;241m=\u001B[39m memo \u001B[38;5;129;01mis\u001B[39;00m \u001B[38;5;129;01mnot\u001B[39;00m \u001B[38;5;28;01mNone\u001B[39;00m\n\u001B[0;32m    263\u001B[0m \u001B[38;5;28;01mif\u001B[39;00m deep \u001B[38;5;129;01mand\u001B[39;00m args:\n\u001B[1;32m--> 264\u001B[0m     args \u001B[38;5;241m=\u001B[39m (deepcopy(arg, memo) \u001B[38;5;28;01mfor\u001B[39;00m arg \u001B[38;5;129;01min\u001B[39;00m args)\n\u001B[0;32m    265\u001B[0m y \u001B[38;5;241m=\u001B[39m func(\u001B[38;5;241m*\u001B[39margs)\n\u001B[0;32m    266\u001B[0m \u001B[38;5;28;01mif\u001B[39;00m deep:\n",
      "File \u001B[1;32m~\\Anaconda3\\Lib\\copy.py:146\u001B[0m, in \u001B[0;36mdeepcopy\u001B[1;34m(x, memo, _nil)\u001B[0m\n\u001B[0;32m    144\u001B[0m copier \u001B[38;5;241m=\u001B[39m _deepcopy_dispatch\u001B[38;5;241m.\u001B[39mget(\u001B[38;5;28mcls\u001B[39m)\n\u001B[0;32m    145\u001B[0m \u001B[38;5;28;01mif\u001B[39;00m copier \u001B[38;5;129;01mis\u001B[39;00m \u001B[38;5;129;01mnot\u001B[39;00m \u001B[38;5;28;01mNone\u001B[39;00m:\n\u001B[1;32m--> 146\u001B[0m     y \u001B[38;5;241m=\u001B[39m copier(x, memo)\n\u001B[0;32m    147\u001B[0m \u001B[38;5;28;01melse\u001B[39;00m:\n\u001B[0;32m    148\u001B[0m     \u001B[38;5;28;01mif\u001B[39;00m \u001B[38;5;28missubclass\u001B[39m(\u001B[38;5;28mcls\u001B[39m, \u001B[38;5;28mtype\u001B[39m):\n",
      "File \u001B[1;32m~\\Anaconda3\\Lib\\copy.py:206\u001B[0m, in \u001B[0;36m_deepcopy_list\u001B[1;34m(x, memo, deepcopy)\u001B[0m\n\u001B[0;32m    204\u001B[0m append \u001B[38;5;241m=\u001B[39m y\u001B[38;5;241m.\u001B[39mappend\n\u001B[0;32m    205\u001B[0m \u001B[38;5;28;01mfor\u001B[39;00m a \u001B[38;5;129;01min\u001B[39;00m x:\n\u001B[1;32m--> 206\u001B[0m     append(deepcopy(a, memo))\n\u001B[0;32m    207\u001B[0m \u001B[38;5;28;01mreturn\u001B[39;00m y\n",
      "File \u001B[1;32m~\\Anaconda3\\Lib\\copy.py:137\u001B[0m, in \u001B[0;36mdeepcopy\u001B[1;34m(x, memo, _nil)\u001B[0m\n\u001B[0;32m    134\u001B[0m \u001B[38;5;28;01mif\u001B[39;00m memo \u001B[38;5;129;01mis\u001B[39;00m \u001B[38;5;28;01mNone\u001B[39;00m:\n\u001B[0;32m    135\u001B[0m     memo \u001B[38;5;241m=\u001B[39m {}\n\u001B[1;32m--> 137\u001B[0m d \u001B[38;5;241m=\u001B[39m \u001B[38;5;28mid\u001B[39m(x)\n\u001B[0;32m    138\u001B[0m y \u001B[38;5;241m=\u001B[39m memo\u001B[38;5;241m.\u001B[39mget(d, _nil)\n\u001B[0;32m    139\u001B[0m \u001B[38;5;28;01mif\u001B[39;00m y \u001B[38;5;129;01mis\u001B[39;00m \u001B[38;5;129;01mnot\u001B[39;00m _nil:\n",
      "\u001B[1;31mKeyboardInterrupt\u001B[0m: "
     ]
    }
   ],
   "execution_count": 77
  },
  {
   "metadata": {
    "ExecuteTime": {
     "end_time": "2024-12-05T12:45:38.192174Z",
     "start_time": "2024-12-05T12:45:38.167890Z"
    }
   },
   "cell_type": "code",
   "source": [
    "\n",
    "\n",
    "nqubits = 8\n",
    "J = 1/np.sqrt(2)\n",
    "hamiltonian = get_hamiltonian(nqubits, J)\n",
    "H_array = hamiltonian.to_matrix()\n",
    "eval, _ = np.linalg.eigh(H_array)\n",
    "# print(eval)\n",
    "emin = eval[0]\n",
    "emax = eval[-1]\n",
    "H_array = (H_array - emin * np.eye(2**nqubits)) / (emax - emin) ## scale H\n",
    "final_time = np.pi/2 #time\n",
    "time = final_time\n",
    "time_step = 10 #time_step\n",
    "initial_state = Statevector.from_label(\"0000\")\n",
    "#H = get_hamiltonian_y(5, 1/np.sqrt(2), True)\n",
    "projector = np.array([[0, -1.0j],\n",
    "                     [1.0j, 0]])\n",
    "H = Operator(np.kron(projector, H_array))\n",
    "H = SparsePauliOp.from_operator(H)\n",
    "projector2 = np.array([[1, 0],\n",
    "                     [0, 0]]) ## for expectation\n",
    "hamiltonian1 = get_hamiltonian_y(nqubits+1, J, True)\n",
    "#hamiltonian1 = Operator(hamiltonian1)\n",
    "#hamiltonian1 = SparsePauliOp.from_operator(hamiltonian1)\n",
    "hamiltonian2 = np.kron(projector2, np.eye(2**nqubits))\n",
    "error_rate = 0\n",
    "order = 1\n",
    "step = 20\n",
    "\n",
    "circ = QuantumCircuit(nqubits+1)\n",
    "U = expm(-1.0j * time * np.kron(projector, H_array))\n",
    "circ.unitary(U, range(nqubits+1))\n",
    "circ.save_statevector()\n",
    "simulator.run(qc).result()"
   ],
   "id": "bde036fb1c67882c",
   "outputs": [
    {
     "data": {
      "text/plain": [
       "Result(backend_name='aer_simulator', backend_version='0.13.3', qobj_id='', job_id='6fb5afa0-4f54-4139-9780-cba495e8f0b6', success=True, results=[ExperimentResult(shots=1024, success=True, meas_level=2, data=ExperimentResultData(statevector=Statevector([ 1.66883523e-01+0.j, -1.26455172e-01+0.j, -1.26455172e-01+0.j,\n",
       "             -1.19416557e-02+0.j, -1.26455172e-01+0.j, -1.50275560e-02+0.j,\n",
       "             -1.19416557e-02+0.j,  2.53688041e-03+0.j, -1.26455172e-01+0.j,\n",
       "             -1.19416557e-02+0.j, -1.50275560e-02+0.j,  2.53688041e-03+0.j,\n",
       "             -1.19416557e-02+0.j,  2.53688041e-03+0.j,  2.53688041e-03+0.j,\n",
       "              2.73740019e-04+0.j,  9.42335810e-01+0.j,  6.58790795e-02+0.j,\n",
       "              6.58790795e-02+0.j, -1.81134563e-02+0.j,  6.58790795e-02+0.j,\n",
       "             -1.50275560e-02+0.j, -1.81134563e-02+0.j, -2.07101193e-03+0.j,\n",
       "              6.58790795e-02+0.j, -1.81134563e-02+0.j, -1.50275560e-02+0.j,\n",
       "             -2.07101193e-03+0.j, -1.81134563e-02+0.j, -2.07101193e-03+0.j,\n",
       "             -2.07101193e-03+0.j,  4.14091845e-04+0.j],\n",
       "            dims=(2, 2, 2, 2, 2))), header=QobjExperimentHeader(creg_sizes=[], global_phase=0.0, memory_slots=0, n_qubits=5, name='circuit-166', qreg_sizes=[['q', 5]], metadata={}), status=DONE, seed_simulator=950956795, metadata={'batched_shots_optimization': False, 'required_memory_mb': 1, 'method': 'statevector', 'active_input_qubits': [0, 1, 2, 3, 4], 'device': 'CPU', 'remapped_qubits': False, 'num_qubits': 5, 'num_clbits': 0, 'time_taken': 0.0022221, 'input_qubit_map': [[0, 0], [1, 1], [2, 2], [3, 3], [4, 4]], 'max_memory_mb': 16226, 'measure_sampling': True, 'noise': 'ideal', 'parallel_shots': 1, 'parallel_state_update': 12, 'runtime_parameter_bind': False, 'num_bind_params': 1, 'fusion': {'enabled': True, 'threshold': 14, 'max_fused_qubits': 5, 'applied': False}, 'result_subtypes': {'statevector': 'single'}, 'result_types': {'statevector': 'save_statevector'}}, time_taken=0.0022221)], date=2024-12-05T20:45:38.187274, status=COMPLETED, header=None, metadata={'omp_enabled': True, 'parallel_experiments': 1, 'max_memory_mb': 16226, 'max_gpu_memory_mb': 0, 'time_taken_execute': 0.0030974, 'time_taken_parameter_binding': 0.0002761}, time_taken=0.008012056350708008)"
      ]
     },
     "execution_count": 14,
     "metadata": {},
     "output_type": "execute_result"
    }
   ],
   "execution_count": 14
  },
  {
   "metadata": {
    "ExecuteTime": {
     "end_time": "2024-12-01T09:21:09.078427Z",
     "start_time": "2024-12-01T09:21:09.057673Z"
    }
   },
   "cell_type": "code",
   "source": "\"0\"*4",
   "id": "81aca12d5768536f",
   "outputs": [
    {
     "data": {
      "text/plain": [
       "'0000'"
      ]
     },
     "execution_count": 2,
     "metadata": {},
     "output_type": "execute_result"
    }
   ],
   "execution_count": 2
  },
  {
   "metadata": {
    "ExecuteTime": {
     "end_time": "2024-12-05T12:31:05.690409Z",
     "start_time": "2024-12-05T12:31:05.673632Z"
    }
   },
   "cell_type": "code",
   "source": "",
   "id": "3248bd23d77d3bdc",
   "outputs": [
    {
     "data": {
      "text/plain": [
       "SparsePauliOp(['IZZY', 'ZZIY', 'ZIZY', 'IIXY', 'IXIY', 'XIIY'],\n",
       "              coeffs=[0.70710678+0.j, 0.70710678+0.j, 0.70710678+0.j, 0.70710678+0.j,\n",
       " 0.70710678+0.j, 0.70710678+0.j])"
      ]
     },
     "execution_count": 4,
     "metadata": {},
     "output_type": "execute_result"
    }
   ],
   "execution_count": 4
  },
  {
   "metadata": {
    "ExecuteTime": {
     "end_time": "2024-12-05T12:48:14.316451Z",
     "start_time": "2024-12-05T12:48:11.622476Z"
    }
   },
   "cell_type": "code",
   "source": [
    "def get_hamiltonian_y(nqubits, J, periodic):\n",
    "    nqubits = nqubits - 1\n",
    "    if periodic==False:\n",
    "        ZZ_tuples = [('YZZ', [nqubits, i, i+1], J) for i in range(0, nqubits-1)]\n",
    "        X_tuples = [(\"YX\", [nqubits, i], J) for i in range(0, nqubits)]\n",
    "        hamiltonian = SparsePauliOp.from_sparse_list([*ZZ_tuples, *X_tuples], num_qubits=nqubits+1)\n",
    "    else:\n",
    "        ZZ_tuples = [('YZZ', [nqubits, i, i+1], J) for i in range(0, nqubits-1)]\n",
    "        ZZ_tuples += [('YZZ', [nqubits, 0, nqubits-1], J)]\n",
    "        X_tuples = [(\"YX\", [nqubits, i], J) for i in range(0, nqubits)]\n",
    "        hamiltonian = SparsePauliOp.from_sparse_list([*ZZ_tuples, *X_tuples], num_qubits=nqubits+1)\n",
    "    return hamiltonian.simplify()\n",
    "\n",
    "get_hamiltonian_y(5, J,periodic=True)\n",
    "\n",
    "nqubits = 4\n",
    "J = 1/np.sqrt(2)\n",
    "hamiltonian = get_hamiltonian(nqubits, J)\n",
    "H_array = hamiltonian.to_matrix()\n",
    "eval, _ = np.linalg.eigh(H_array)\n",
    "# print(eval)\n",
    "emin = eval[0]\n",
    "emax = eval[-1]\n",
    "H_array = (H_array - emin * np.eye(2**nqubits)) / (emax - emin) ## scale H\n",
    "final_time = np.pi/2 #time\n",
    "time = final_time\n",
    "time_step = 3 #time_step\n",
    "initial_state = Statevector.from_label(\"0000\")\n",
    "#H = get_hamiltonian_y(5, 1/np.sqrt(2), True)\n",
    "projector = np.array([[0, -1.0j],\n",
    "                     [1.0j, 0]])\n",
    "H = Operator(np.kron(projector, H_array))\n",
    "H = SparsePauliOp.from_operator(H)\n",
    "projector2 = np.array([[1, 0],\n",
    "                     [0, 0]]) ## for expectation\n",
    "hamiltonian1 = get_hamiltonian_y(nqubits+1, J, True)\n",
    "#hamiltonian1 = Operator(hamiltonian1)\n",
    "#hamiltonian1 = SparsePauliOp.from_operator(hamiltonian1)\n",
    "hamiltonian2 = np.kron(projector2, np.eye(2**nqubits))\n",
    "error_rate = 0\n",
    "order = 1\n",
    "step = 40\n",
    "## 1st order\n",
    "def construct_trotter_circuit(H, time, nqubits, order, time_step):\n",
    "    if order == 1:\n",
    "        formular = LieTrotter(reps=time_step)\n",
    "    else:\n",
    "        formular = SuzukiTrotter(order=order, reps=time_step)\n",
    "    trotter_step_first_order = PauliEvolutionGate(H, time, synthesis=formular)\n",
    "    circuit = QuantumCircuit(nqubits+1)\n",
    "    circuit.append(trotter_step_first_order, range(nqubits+1))\n",
    "    #circuit = circuit.decompose(reps=2)\n",
    "    return circuit\n",
    "\n",
    "def select_sim(error_rate):\n",
    "    noise_model = NoiseModel()\n",
    "    error = depolarizing_error(error_rate, 1)\n",
    "    noise_model.add_all_qubit_quantum_error(error, ['u1', 'u2', 'u3'])\n",
    "    error1 = depolarizing_error(error_rate*10, 2)\n",
    "    noise_model.add_all_qubit_quantum_error(error1,'cx')\n",
    "    sim_d = AerSimulator(noise_model=noise_model)\n",
    "    if error_rate==0:\n",
    "        simulator = AerSimulator()\n",
    "    else:\n",
    "        simulator = sim_d\n",
    "    return simulator\n",
    "\n",
    "def unitary_trotter(H, time, nqubits, order, time_step, error_rate, step):\n",
    "    simulator = select_sim(error_rate)\n",
    "    expectation_list = []\n",
    "    statevector = initial_state.data\n",
    "    for i in range(step):\n",
    "        qc = QuantumCircuit(nqubits+1)\n",
    "        qc.initialize(statevector, range(nqubits))\n",
    "        circuit_temp = construct_trotter_circuit(H, time, nqubits, order, time_step)\n",
    "        qc = qc.compose(circuit_temp, range(nqubits+1))\n",
    "        #qc = qc.decompose(reps=2)\n",
    "        qc.save_statevector()\n",
    "        circuit = transpile(qc, simulator)\n",
    "        result = simulator.run(circuit).result().data(0)['statevector']\n",
    "        new_state = result.data#[:2**nqubits]\n",
    "        # Print the statevector at each step for debugging\n",
    "        #print(f\"Step {i}: Statevector = {statevector}\")\n",
    "        expectation = (new_state.conj().T.dot(hamiltonian1.to_matrix())).dot(new_state)/(new_state.conj().T.dot(hamiltonian2).dot(new_state))\n",
    "        expectation_list.append(expectation)\n",
    "        # Print the expectation value at each step for debugging\n",
    "        #print(f\"Step {i}: Expectation = {expectation}\")\n",
    "        statevector = new_state[:2**nqubits]/np.linalg.norm(new_state[:2**nqubits])\n",
    "    return expectation_list\n",
    "\n",
    "expectation_1 = unitary_trotter(H, time, nqubits, order, time_step, error_rate, step)\n",
    "print(expectation_1)\n",
    "\n"
   ],
   "id": "4f492762fffee4d6",
   "outputs": [
    {
     "name": "stdout",
     "output_type": "stream",
     "text": [
      "[(9.005404859831573e-15-1.4430475201454763e-15j), (1.4539650026662926e-16+5.522561042284922e-17j), (-6.826082564169909e-16+4.412845035598272e-17j), (-5.041989619490209e-16-8.009064361560561e-17j), (-1.3659113863509962e-15-3.7953819737446835e-17j), (-1.1342794641244755e-15+7.364493307713694e-45j), (-2.5276920295950606e-15-5.280870466907658e-17j), (-2.3168710507807344e-15+0j), (-2.0394778470853717e-15+4.9692765029036745e-17j), (-4.099512070213887e-16+1.9575461540708935e-44j), (-3.659557870011029e-15-4.7449761249593563e-17j), (-2.0256534675930724e-15+3.107851550273551e-17j), (-2.3277295373680273e-15+3.0626950847406875e-17j), (-7.621818712453491e-16+7.564674597316906e-17j), (-3.4955668209809397e-17+1.4978192490358968e-17j), (-1.2728831877999134e-15-2.227934496195914e-17j), (3.945586938674694e-16+2.2121843651172717e-17j), (-4.471060143095382e-16+4.397683457981116e-17j), (6.661399351374478e-16+7.291423654043902e-18j), (-2.5749349334301436e-15-2.1775800663316617e-17j), (-8.820087217798156e-16-1.446018552021311e-17j), (-2.854353288467738e-15-7.205203154132935e-18j), (-1.2363101709866987e-15-2.1550155836149077e-17j), (-4.578911504077902e-16+2.3148787726336885e-44j), (-5.590289332954613e-16-7.147299687613943e-18j), (8.894684938438006e-16-4.279427929339942e-17j), (-6.017669630372958e-16+3.559596607562507e-17j), (-5.384042616269549e-16-1.4215051312855753e-17j), (-2.5968616877419506e-15-7.097192401903716e-18j), (-1.3948004012295411e-15+3.544016426894615e-17j), (-1.4197507615351627e-15-2.1239720557861576e-17j), (-1.3592506251672616e-15-7.072691744748359e-18j), (-1.2955909483790692e-15+1.4132560040462117e-17j), (-3.8091462584471485e-15-2.1181732059868517e-17j), (-2.5120194467720082e-15-2.82220037576251e-17j), (-2.3074265247157907e-15+0j), (-2.129020284333113e-15+4.553981367887467e-44j), (-2.1801778925701544e-15+0j), (-2.3429198757518864e-15-2.81605185260347e-17j), (-7.839654351322817e-16-7.037254888662487e-18j)]\n"
     ]
    }
   ],
   "execution_count": 15
  },
  {
   "metadata": {
    "ExecuteTime": {
     "end_time": "2024-12-05T12:50:01.767289Z",
     "start_time": "2024-12-05T12:50:01.760015Z"
    }
   },
   "cell_type": "code",
   "source": "temp_matrix1 = get_hamiltonian_y(5, J,periodic=True).to_matrix()\n",
   "id": "6b1ebccf703d1573",
   "outputs": [
    {
     "data": {
      "text/plain": [
       "array([[0.+0.j, 0.+0.j, 0.+0.j, ..., 0.+0.j, 0.+0.j, 0.+0.j],\n",
       "       [0.+0.j, 0.+0.j, 0.+0.j, ..., 0.+0.j, 0.+0.j, 0.+0.j],\n",
       "       [0.+0.j, 0.+0.j, 0.+0.j, ..., 0.+0.j, 0.+0.j, 0.+0.j],\n",
       "       ...,\n",
       "       [0.+0.j, 0.+0.j, 0.+0.j, ..., 0.+0.j, 0.+0.j, 0.+0.j],\n",
       "       [0.+0.j, 0.+0.j, 0.+0.j, ..., 0.+0.j, 0.+0.j, 0.+0.j],\n",
       "       [0.+0.j, 0.+0.j, 0.+0.j, ..., 0.+0.j, 0.+0.j, 0.+0.j]])"
      ]
     },
     "execution_count": 16,
     "metadata": {},
     "output_type": "execute_result"
    }
   ],
   "execution_count": 16
  },
  {
   "metadata": {
    "ExecuteTime": {
     "end_time": "2024-12-05T12:51:36.506508Z",
     "start_time": "2024-12-05T12:51:36.487639Z"
    }
   },
   "cell_type": "code",
   "source": [
    "hamiltonian1 = np.kron(projector2, get_hamiltonian(8, 1/np.sqrt(2)).to_matrix())\n",
    "hamiltonian1 = Operator(hamiltonian1)\n",
    "hamiltonian1 = SparsePauliOp.from_operator(hamiltonian1)"
   ],
   "id": "9534c9a344a856d7",
   "outputs": [],
   "execution_count": 17
  },
  {
   "metadata": {
    "ExecuteTime": {
     "end_time": "2024-12-05T12:53:12.883862Z",
     "start_time": "2024-12-05T12:53:12.862209Z"
    }
   },
   "cell_type": "code",
   "source": [
    "def get_hamiltonian(nqubits):\n",
    "    J = 1 / np.sqrt(2)\n",
    "    ZZ_tuples = [('ZZ', [i, i + 1], J) for i in range(nqubits - 1)]\n",
    "    ZZ_tuples += [('ZZ', [nqubits - 1, 0], J)]\n",
    "    X_tuples = [(\"X\", [i], J) for i in range(nqubits)]\n",
    "    hamiltonian = SparsePauliOp.from_sparse_list([*ZZ_tuples, *X_tuples], num_qubits=nqubits)\n",
    "    return hamiltonian.simplify()\n",
    "\n",
    "\n",
    "def main():\n",
    "    H_array = get_hamiltonian(8).to_matrix()\n",
    "    operator = Operator(np.kron(np.array([[0, -1.0j],\n",
    "        [1.0j, 0]]),H_array))\n",
    "    print('before sparsepauliop', flush=True)\n",
    "    H = SparsePauliOp.from_operator(operator)\n",
    "    print('sprse pauliop done', flush=True)\n",
    "\n",
    "main()"
   ],
   "id": "5c7e72de976e834f",
   "outputs": [
    {
     "name": "stdout",
     "output_type": "stream",
     "text": [
      "before sparsepauliop\n",
      "sprse pauliop done\n"
     ]
    }
   ],
   "execution_count": 18
  },
  {
   "metadata": {
    "ExecuteTime": {
     "end_time": "2024-12-05T13:19:42.587979Z",
     "start_time": "2024-12-05T13:19:42.583469Z"
    }
   },
   "cell_type": "code",
   "source": [
    "import qiskit\n",
    "print(qiskit.__version__)"
   ],
   "id": "72a4133759428cb3",
   "outputs": [
    {
     "name": "stdout",
     "output_type": "stream",
     "text": [
      "1.0.0\n"
     ]
    }
   ],
   "execution_count": 22
  },
  {
   "metadata": {},
   "cell_type": "code",
   "outputs": [],
   "execution_count": null,
   "source": "",
   "id": "6cb369d3e25fa9f9"
  }
 ],
 "metadata": {
  "kernelspec": {
   "display_name": "Python 3 (ipykernel)",
   "language": "python",
   "name": "python3"
  },
  "language_info": {
   "codemirror_mode": {
    "name": "ipython",
    "version": 3
   },
   "file_extension": ".py",
   "mimetype": "text/x-python",
   "name": "python",
   "nbconvert_exporter": "python",
   "pygments_lexer": "ipython3",
   "version": "3.12.1"
  }
 },
 "nbformat": 4,
 "nbformat_minor": 5
}
