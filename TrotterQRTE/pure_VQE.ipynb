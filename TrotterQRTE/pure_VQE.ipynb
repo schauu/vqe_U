{
 "cells": [
  {
   "cell_type": "code",
   "id": "d8a1713a-afcf-4f13-b8ff-e6b9b694971d",
   "metadata": {
    "ExecuteTime": {
     "end_time": "2025-01-11T12:53:32.216638Z",
     "start_time": "2025-01-11T12:53:32.212677Z"
    }
   },
   "source": [
    "import numpy as np\n",
    "import scipy\n",
    "from qiskit import QuantumCircuit, transpile\n",
    "from qiskit.circuit import ParameterVector\n",
    "from qiskit.quantum_info.operators import Operator\n",
    "from qiskit.quantum_info import SparsePauliOp, Statevector, state_fidelity, Operator\n",
    "from qiskit_aer import AerSimulator\n",
    "from qiskit_aer.primitives import EstimatorV2, SamplerV2\n",
    "from qiskit_aer.noise import NoiseModel, depolarizing_error\n",
    "from qiskit.primitives import Estimator, Sampler\n",
    "from qiskit.primitives import StatevectorSampler, StatevectorEstimator\n",
    "from scipy.optimize import minimize\n",
    "import matplotlib.pyplot as plt\n",
    "from scipy.linalg import expm, cosm\n",
    "import warnings\n",
    "import time"
   ],
   "outputs": [],
   "execution_count": 54
  },
  {
   "cell_type": "code",
   "id": "d160fbc82536a412",
   "metadata": {
    "ExecuteTime": {
     "end_time": "2025-01-11T12:43:07.988509Z",
     "start_time": "2025-01-11T12:43:07.984508Z"
    }
   },
   "source": [
    "import qiskit\n",
    "print(qiskit.__version__)"
   ],
   "outputs": [
    {
     "name": "stdout",
     "output_type": "stream",
     "text": [
      "1.3.1\n"
     ]
    }
   ],
   "execution_count": 43
  },
  {
   "cell_type": "code",
   "id": "eee440eee558268d",
   "metadata": {
    "ExecuteTime": {
     "end_time": "2025-01-11T12:43:08.886070Z",
     "start_time": "2025-01-11T12:43:08.882833Z"
    }
   },
   "source": [
    "import qiskit_aer\n",
    "print(qiskit_aer.__version__)"
   ],
   "outputs": [
    {
     "name": "stdout",
     "output_type": "stream",
     "text": [
      "0.15.1\n"
     ]
    }
   ],
   "execution_count": 44
  },
  {
   "cell_type": "code",
   "id": "308feb0a-63ff-4935-b27f-f90b2633e8fb",
   "metadata": {
    "ExecuteTime": {
     "end_time": "2025-01-11T12:43:09.803657Z",
     "start_time": "2025-01-11T12:43:09.791659Z"
    }
   },
   "source": [
    "def get_hamiltonian(nqubits):\n",
    "    J=1/np.sqrt(2)\n",
    "    ZZ_tuples = [('ZZ', [i, i+1], J) for i in range(nqubits-1)]\n",
    "    ZZ_tuples += [('ZZ', [nqubits-1, 0], J)]\n",
    "    X_tuples = [(\"X\", [i], J) for i in range(nqubits)]\n",
    "    hamiltonian = SparsePauliOp.from_sparse_list([*ZZ_tuples, *X_tuples], num_qubits=nqubits)\n",
    "    return hamiltonian.simplify()\n",
    "    \n",
    "def ansatz_hamiltonian(nqubits, depth, params):\n",
    "    circuit = QuantumCircuit(nqubits)\n",
    "    t = 0\n",
    "    for i in range(nqubits):\n",
    "        circuit.h(i)\n",
    "    for idepth in range(depth):\n",
    "        for i in range(nqubits):\n",
    "            if i < (nqubits - 1):\n",
    "                j = i + 1\n",
    "            else:\n",
    "                j = 0\n",
    "            circuit.rzz(params[t], i, j)\n",
    "            t += 1\n",
    "        circuit.barrier()\n",
    "        for i in range(nqubits):\n",
    "            if i < (nqubits - 1):\n",
    "                j = i + 1\n",
    "            else:\n",
    "                j = 0    \n",
    "            circuit.rx(params[t], i)\n",
    "            t += 1\n",
    "    return circuit    \n",
    "    \n",
    "def ansatz_hea(nqubits, depth, params):\n",
    "    circuit = QuantumCircuit(nqubits)\n",
    "    t = 0\n",
    "    for idepth in range(depth):\n",
    "        for i in range(nqubits):\n",
    "            circuit.ry(params[t], i)\n",
    "            t += 1\n",
    "        circuit.barrier()\n",
    "        for i in range(nqubits-1):\n",
    "            circuit.cx(i, i+1)\n",
    "    return circuit    \n",
    "   \n",
    "def cost_function1(params, nqubits, depth, error_rate):\n",
    "    hamiltonian =  get_hamiltonian(nqubits)\n",
    "    circuit =  ansatz_hamiltonian(nqubits, depth,params)\n",
    "    circuit = circuit.decompose()\n",
    "    noise_model = NoiseModel()\n",
    "    error = depolarizing_error(error_rate, 1)\n",
    "    noise_model.add_all_qubit_quantum_error(error, ['u1', 'u2', 'u3'])\n",
    "    error1 = depolarizing_error(error_rate*10, 2)\n",
    "    noise_model.add_all_qubit_quantum_error(error1,'cx')\n",
    "    sim_d = AerSimulator(noise_model=noise_model)\n",
    "    circuit.save_statevector() \n",
    "    if error_rate == 0:\n",
    "        simulator = AerSimulator()\n",
    "    else:\n",
    "        simulator = sim_d\n",
    "        circuit = transpile(circuit, sim_d)\n",
    "        #noise_result = sim_d.run(circ_noise, shots=1).result()\n",
    "    result = simulator.run(circuit).result()\n",
    "    u=result.data(0)['statevector'].data\n",
    "    expectation = (u.conj().dot(hamiltonian.to_matrix())).dot(u)\n",
    "    return expectation.real\n",
    "    \n",
    "def cost_function2(nqubits, error_rate, params):\n",
    "    hamiltonian =  get_hamiltonian(nqubits)\n",
    "    circuit =  ansatz_hea(nqubits, depth,params)\n",
    "    circuit = circuit.decompose()\n",
    "    noise_model = NoiseModel()\n",
    "    error = depolarizing_error(error_rate, 1)\n",
    "    noise_model.add_all_qubit_quantum_error(error, ['u1', 'u2', 'u3'])\n",
    "    error1 = depolarizing_error(error_rate*10, 2)\n",
    "    noise_model.add_all_qubit_quantum_error(error1,['cx'])\n",
    "    sim_d = AerSimulator(noise_model=noise_model)\n",
    "    circuit.save_statevector()\n",
    "    if error_rate == 0:\n",
    "        simulator = AerSimulator()\n",
    "    else:\n",
    "        simulator = sim_d\n",
    "        circuit = transpile(circuit, sim_d)\n",
    "        #noise_result = sim_d.run(circ_noise, shots=1).result()\n",
    "    result = simulator.run(circuit).result()\n",
    "    u=result.data(0)['statevector'].data\n",
    "    expectation = (u.conj().dot(hamiltonian.to_matrix())).dot(u)\n",
    "    return expectation.real\n",
    "\n",
    "\n",
    "    # print(\n",
    "    #     f\"{intermediate_result.fun}\"\n",
    "    #     )\n",
    "    #with open('intermediate_values_hva.txt', 'a') as file:\n",
    "     #   file.write(f'Intermediate values: {intermediate_result.fun}\\n')\n",
    "    \n"
   ],
   "outputs": [],
   "execution_count": 45
  },
  {
   "metadata": {},
   "cell_type": "code",
   "outputs": [],
   "execution_count": null,
   "source": [
    "def ansatz_hea(nqubits, depth, params):\n",
    "    circuit = QuantumCircuit(nqubits)\n",
    "    t = 0\n",
    "    for idepth in range(depth):\n",
    "        for i in range(nqubits):\n",
    "            circuit.ry(params[t], i)\n",
    "            t += 1\n",
    "        circuit.barrier()\n",
    "        for i in range(nqubits-1):\n",
    "            circuit.cx(i, i+1)\n",
    "    return circuit"
   ],
   "id": "3908b0872a801b0"
  },
  {
   "metadata": {
    "ExecuteTime": {
     "end_time": "2025-01-11T08:12:48.248191Z",
     "start_time": "2025-01-11T08:12:48.146243Z"
    }
   },
   "cell_type": "code",
   "source": [
    "nqubits = 4\n",
    "depth = 2\n",
    "np.random.seed(42)  # Example seed\n",
    "J = 1/np.sqrt(2)\n",
    "error_rate = 0\n",
    "parameter = ParameterVector('θ', 10)\n",
    "circuit= ansatz_hea(nqubits, depth,parameter)\n",
    "circuit.draw('mpl')"
   ],
   "id": "493dbb2ae5c35bff",
   "outputs": [
    {
     "data": {
      "text/plain": [
       "<Figure size 956.385x367.889 with 1 Axes>"
      ],
      "image/png": "[encoded data removed]"
     },
     "execution_count": 10,
     "metadata": {},
     "output_type": "execute_result"
    }
   ],
   "execution_count": 10
  },
  {
   "cell_type": "code",
   "id": "8e69d852-67a9-47aa-8263-3674f77cfad4",
   "metadata": {
    "ExecuteTime": {
     "end_time": "2025-01-11T08:15:53.770078Z",
     "start_time": "2025-01-11T08:15:51.851955Z"
    }
   },
   "source": [
    "np.random.seed(42)  # Example seed\n",
    "nqubits = 4\n",
    "J = 1/np.sqrt(2)\n",
    "depth = 2\n",
    "error_rate = 0\n",
    "parameter = np.array(np.random.random(2*nqubits*depth))\n",
    "#ansatz_hamiltonian(nqubits, depth, parameter).draw('mpl')\n",
    "result_intermediate = []\n",
    "def callback(intermediate_result):\n",
    "    result_intermediate.append(intermediate_result.fun)\n",
    "estimate_val_hva = minimize(cost_function1, parameter, args=(nqubits, depth, error_rate), method=\"BFGS\", tol=1e-5, options={'disp': False}, callback=callback)"
   ],
   "outputs": [],
   "execution_count": 11
  },
  {
   "metadata": {
    "ExecuteTime": {
     "end_time": "2025-01-11T08:16:06.967147Z",
     "start_time": "2025-01-11T08:16:06.958834Z"
    }
   },
   "cell_type": "code",
   "source": "estimate_val_hva",
   "id": "faab9078c469fd40",
   "outputs": [
    {
     "data": {
      "text/plain": [
       "  message: Optimization terminated successfully.\n",
       "  success: True\n",
       "   status: 0\n",
       "      fun: -3.695518130034755\n",
       "        x: [-2.859e-01  1.246e+00 ...  8.907e-01  1.403e+00]\n",
       "      nit: 25\n",
       "      jac: [ 5.305e-06  2.235e-06 ...  1.341e-06  2.384e-07]\n",
       " hess_inv: [[ 1.133e+00 -6.420e-01 ...  9.044e-01  3.895e-01]\n",
       "            [-6.420e-01  3.580e+00 ... -1.997e+00 -1.594e+00]\n",
       "            ...\n",
       "            [ 9.044e-01 -1.997e+00 ...  3.811e+00  1.567e+00]\n",
       "            [ 3.895e-01 -1.594e+00 ...  1.567e+00  2.139e+00]]\n",
       "     nfev: 493\n",
       "     njev: 29"
      ]
     },
     "execution_count": 12,
     "metadata": {},
     "output_type": "execute_result"
    }
   ],
   "execution_count": 12
  },
  {
   "metadata": {
    "ExecuteTime": {
     "end_time": "2025-01-11T08:20:06.081860Z",
     "start_time": "2025-01-11T08:20:00.880276Z"
    }
   },
   "cell_type": "code",
   "source": [
    "np.random.seed(42)  # Example seed\n",
    "nqubits = 4\n",
    "J = 1/np.sqrt(2)\n",
    "depth = 2\n",
    "error_rate = 0\n",
    "parameter = np.array(np.random.random(2*nqubits*depth))\n",
    "#ansatz_hamiltonian(nqubits, depth, parameter).draw('mpl')\n",
    "result_intermediate1 = []\n",
    "def callback(intermediate_result):\n",
    "    result_intermediate1.append(intermediate_result.fun)\n",
    "estimate_val_hva = minimize(cost_function1, parameter, args=(nqubits, depth, error_rate), method=\"CG\", tol=1e-5, options={'disp': False}, callback=callback)\n",
    "estimate_val_hva"
   ],
   "id": "91354870f47d7faf",
   "outputs": [
    {
     "data": {
      "text/plain": [
       " message: Optimization terminated successfully.\n",
       " success: True\n",
       "  status: 0\n",
       "     fun: -3.6955181299045385\n",
       "       x: [-2.114e-01  1.319e+00 ...  4.851e-01  1.445e+00]\n",
       "     nit: 50\n",
       "     jac: [-6.735e-06 -1.311e-06 ... -1.401e-06  3.636e-06]\n",
       "    nfev: 1394\n",
       "    njev: 82"
      ]
     },
     "execution_count": 13,
     "metadata": {},
     "output_type": "execute_result"
    }
   ],
   "execution_count": 13
  },
  {
   "cell_type": "code",
   "id": "d648cbaf6640cf06",
   "metadata": {
    "ExecuteTime": {
     "end_time": "2025-01-07T07:48:57.339080Z",
     "start_time": "2025-01-07T07:48:57.334005Z"
    }
   },
   "source": [
    "print(result_intermediate)"
   ],
   "outputs": [
    {
     "name": "stdout",
     "output_type": "stream",
     "text": [
      "[np.float64(-1.1465461334971725), np.float64(-2.602898278610668), np.float64(-2.848093975370957), np.float64(-3.206002232409881), np.float64(-3.31999428128968), np.float64(-3.438404415746435), np.float64(-3.5373624012173117), np.float64(-3.605473013743551), np.float64(-3.6484026250500903), np.float64(-3.6620230123786675), np.float64(-3.670442766652141), np.float64(-3.6765937053290374), np.float64(-3.6807427907197283), np.float64(-3.686548613996737), np.float64(-3.6930313139650974), np.float64(-3.694791996751512), np.float64(-3.6951775058462046), np.float64(-3.6953272833346285), np.float64(-3.6954448672760325), np.float64(-3.6954921878987657), np.float64(-3.695513648805893), np.float64(-3.6955179670561376), np.float64(-3.6955181144982534), np.float64(-3.695518129747107), np.float64(-3.695518130034755)]\n"
     ]
    }
   ],
   "execution_count": 64
  },
  {
   "cell_type": "code",
   "id": "c06d716caf5475be",
   "metadata": {
    "ExecuteTime": {
     "end_time": "2025-01-07T07:51:18.245012Z",
     "start_time": "2025-01-07T07:49:55.260866Z"
    }
   },
   "source": [
    "np.random.seed(42)  # Example seed\n",
    "nqubits = 4\n",
    "J = 1/np.sqrt(2)\n",
    "depth = 2\n",
    "error_rate = 1e-4\n",
    "parameter = np.array(np.random.random(2*nqubits*depth))\n",
    "#ansatz_hamiltonian(nqubits, depth, parameter).draw('mpl')\n",
    "result_intermediate1 = []\n",
    "def callback(intermediate_result):\n",
    "    result_intermediate1.append(intermediate_result.fun)\n",
    "estimate_val_hva = minimize(cost_function1, parameter, args=(nqubits, depth, error_rate), method=\"BFGS\", tol=1e-5, options={'disp': False}, callback=callback)"
   ],
   "outputs": [],
   "execution_count": 65
  },
  {
   "cell_type": "code",
   "id": "d9f5df002f0cce37",
   "metadata": {
    "ExecuteTime": {
     "end_time": "2025-01-07T07:51:24.306121Z",
     "start_time": "2025-01-07T07:51:24.301046Z"
    }
   },
   "source": [
    "result_intermediate1"
   ],
   "outputs": [
    {
     "data": {
      "text/plain": [
       "[np.float64(-1.1465461621634314),\n",
       " np.float64(-2.602898276593142),\n",
       " np.float64(-2.848094060515354),\n",
       " np.float64(-3.2060022979506138),\n",
       " np.float64(-3.3199941658900305),\n",
       " np.float64(-3.438404472171051),\n",
       " np.float64(-3.5373623435434385),\n",
       " np.float64(-3.6054728874222026),\n",
       " np.float64(-3.632678366048568),\n",
       " np.float64(-3.6635702535070798),\n",
       " np.float64(-3.6642590682684126),\n",
       " np.float64(-3.670386005103789),\n",
       " np.float64(-3.678949805863375),\n",
       " np.float64(-3.6800208045869933),\n",
       " np.float64(-3.6820260574651407),\n",
       " np.float64(-3.6856125345085355),\n",
       " np.float64(-3.691098413042091),\n",
       " np.float64(-3.6940286116271603),\n",
       " np.float64(-3.694801413201913),\n",
       " np.float64(-3.695227738776236),\n",
       " np.float64(-3.695407895335026),\n",
       " np.float64(-3.695454921375082),\n",
       " np.float64(-3.6955110109933997),\n",
       " np.float64(-3.6955175477458178),\n",
       " np.float64(-3.6955180240630607),\n",
       " np.float64(-3.695518093295617),\n",
       " np.float64(-3.6955181287356718),\n",
       " np.float64(-3.6955181297871107),\n",
       " np.float64(-3.695518130044625)]"
      ]
     },
     "execution_count": 66,
     "metadata": {},
     "output_type": "execute_result"
    }
   ],
   "execution_count": 66
  },
  {
   "cell_type": "code",
   "id": "dae1369c0be8059c",
   "metadata": {
    "ExecuteTime": {
     "end_time": "2025-01-07T07:54:36.520128Z",
     "start_time": "2025-01-07T07:53:51.098134Z"
    }
   },
   "source": [
    "np.random.seed(42)  # Example seed\n",
    "nqubits = 4\n",
    "J = 1/np.sqrt(2)\n",
    "depth = 2\n",
    "error_rate = 1e-3\n",
    "parameter = np.array(np.random.random(2*nqubits*depth))\n",
    "#ansatz_hamiltonian(nqubits, depth, parameter).draw('mpl')\n",
    "result_intermediate2 = []\n",
    "def callback(intermediate_result):\n",
    "    result_intermediate2.append(intermediate_result.fun)\n",
    "estimate_val_hva = minimize(cost_function1, parameter, args=(nqubits, depth, error_rate), method=\"BFGS\", tol=1e-5, options={'disp': False}, callback=callback)"
   ],
   "outputs": [],
   "execution_count": 70
  },
  {
   "cell_type": "code",
   "id": "2107705c206cfb6f",
   "metadata": {
    "ExecuteTime": {
     "end_time": "2025-01-07T07:56:06.690320Z",
     "start_time": "2025-01-07T07:56:06.684770Z"
    }
   },
   "source": [
    "result_intermediate2"
   ],
   "outputs": [
    {
     "data": {
      "text/plain": [
       "[]"
      ]
     },
     "execution_count": 71,
     "metadata": {},
     "output_type": "execute_result"
    }
   ],
   "execution_count": 71
  },
  {
   "metadata": {
    "ExecuteTime": {
     "end_time": "2025-01-07T07:57:10.589849Z",
     "start_time": "2025-01-07T07:57:10.583804Z"
    }
   },
   "cell_type": "code",
   "source": "estimate_val_hva",
   "id": "fa78c2ea32488552",
   "outputs": [
    {
     "data": {
      "text/plain": [
       "  message: Desired error not necessarily achieved due to precision loss.\n",
       "  success: False\n",
       "   status: 2\n",
       "      fun: 1.3282640485102446\n",
       "        x: [ 3.745e-01  9.507e-01 ...  1.818e-01  1.834e-01]\n",
       "      nit: 0\n",
       "      jac: [-4.064e-01 -1.008e+00 ... -5.767e+07 -3.018e-02]\n",
       " hess_inv: [[1 0 ... 0 0]\n",
       "            [0 1 ... 0 0]\n",
       "            ...\n",
       "            [0 0 ... 1 0]\n",
       "            [0 0 ... 0 1]]\n",
       "     nfev: 403\n",
       "     njev: 23"
      ]
     },
     "execution_count": 73,
     "metadata": {},
     "output_type": "execute_result"
    }
   ],
   "execution_count": 73
  },
  {
   "metadata": {
    "ExecuteTime": {
     "end_time": "2025-01-07T07:58:17.978006Z",
     "start_time": "2025-01-07T07:57:23.602663Z"
    }
   },
   "cell_type": "code",
   "source": [
    "np.random.seed(42)  # Example seed\n",
    "nqubits = 4\n",
    "J = 1/np.sqrt(2)\n",
    "depth = 2\n",
    "error_rate = 1e-2\n",
    "parameter = np.array(np.random.random(2*nqubits*depth))\n",
    "#ansatz_hamiltonian(nqubits, depth, parameter).draw('mpl')\n",
    "result_intermediate3 = []\n",
    "def callback(intermediate_result):\n",
    "    result_intermediate3.append(intermediate_result.fun)\n",
    "estimate_val_hva = minimize(cost_function1, parameter, args=(nqubits, depth, error_rate), method=\"BFGS\", tol=1e-5, options={'disp': False}, callback=callback)\n",
    "result_intermediate3"
   ],
   "id": "f0b439d9f28b6684",
   "outputs": [
    {
     "data": {
      "text/plain": [
       "[np.float64(-0.6014272442084743)]"
      ]
     },
     "execution_count": 74,
     "metadata": {},
     "output_type": "execute_result"
    }
   ],
   "execution_count": 74
  },
  {
   "cell_type": "code",
   "id": "6142daff65f36896",
   "metadata": {
    "ExecuteTime": {
     "end_time": "2025-01-11T08:24:50.086457Z",
     "start_time": "2025-01-11T08:24:50.000343Z"
    }
   },
   "source": [
    "x = np.linspace(0, 200)  # 11个点\n",
    "y = result_intermediate  # 只有6个点\n",
    "y1 = result_intermediate1\n",
    "#y1 = result_intermediate1\n",
    "#y2 = result_intermediate2\n",
    "#y3 = result_intermediate3\n",
    "# 创建figure和axes对象\n",
    "fig, ax = plt.subplots()\n",
    "# 使用axes对象绘制数据，不指定x值，默认使用索引\n",
    "ax.plot(y, label='BFGS', marker=\"x\", c=\"darkmagenta\", ls=\"-\")\n",
    "ax.plot(y1, label='CG', marker='o', linestyle='-')\n",
    "#ax.plot(y2, label='1e-3 error_rate', marker=\"v\", c=\"r\", ls=\"-\")\n",
    "#ax.plot(y3, label='1e-2 error_rate', marker=\"v\", c=\"r\", ls=\"-\")\n",
    "legend = fig.legend(\n",
    "            *ax.get_legend_handles_labels(),\n",
    "            bbox_to_anchor=(1.0, 0.5),\n",
    "            loc=\"center left\",\n",
    "            framealpha=0.5,\n",
    "        )\n",
    "# 设置x轴刻度为索引值\n",
    "ax.set_xlim(0, 30)\n",
    "ax.set_xticks(np.arange(0, 30, 5))\n",
    "# 添加标题和标签\n",
    "ax.set_title('VQE calculation comparison between BFGS and CG')\n",
    "ax.set_xlabel('itration Steps')\n",
    "ax.set_ylabel('Expectation')\n",
    "# 显示网格\n",
    "ax.grid(False)\n",
    "# 展示图形\n",
    "plt.show()"
   ],
   "outputs": [
    {
     "data": {
      "text/plain": [
       "<Figure size 640x480 with 1 Axes>"
      ],
      "image/png": "[encoded data removed]"
     },
     "metadata": {},
     "output_type": "display_data"
    }
   ],
   "execution_count": 18
  },
  {
   "metadata": {
    "ExecuteTime": {
     "end_time": "2025-01-11T08:23:25.009853Z",
     "start_time": "2025-01-11T08:23:24.931321Z"
    }
   },
   "cell_type": "code",
   "source": [
    "x = np.linspace(0, 200)  # 11个点\n",
    "y = result_intermediate  # 只有6个点\n",
    "#y1 = result_intermediate1\n",
    "fig, ax = plt.subplots()\n",
    "# 使用axes对象绘制数据，不指定x值，默认使用索引\n",
    "ax.plot(y, label='BFGS', marker=\"x\", c=\"darkmagenta\", ls=\"-\")\n",
    "#ax.plot(y1, label='CG', marker='o', linestyle='-')\n",
    "#ax.plot(y2, label='1e-3 error_rate', marker=\"v\", c=\"r\", ls=\"-\")\n",
    "#ax.plot(y3, label='1e-2 error_rate', marker=\"v\", c=\"r\", ls=\"-\")\n",
    "legend = fig.legend(\n",
    "            *ax.get_legend_handles_labels(),\n",
    "            bbox_to_anchor=(1.0, 0.5),\n",
    "            loc=\"center left\",\n",
    "            framealpha=0.5,\n",
    "        )\n",
    "# 设置x轴刻度为索引值\n",
    "ax.set_xlim(0, 30)\n",
    "ax.set_xticks(np.arange(0, 30, 5))\n",
    "# 添加标题和标签\n",
    "ax.set_title('VQE calculation by BFGS')\n",
    "ax.set_xlabel('itration Steps')\n",
    "ax.set_ylabel('Expectation')\n",
    "# 显示网格\n",
    "ax.grid(False)\n",
    "# 展示图形\n",
    "plt.show()"
   ],
   "id": "df9fb9032106fce3",
   "outputs": [
    {
     "data": {
      "text/plain": [
       "<Figure size 640x480 with 1 Axes>"
      ],
      "image/png": "[encoded data removed]"
     },
     "metadata": {},
     "output_type": "display_data"
    }
   ],
   "execution_count": 16
  },
  {
   "metadata": {
    "ExecuteTime": {
     "end_time": "2025-01-11T08:24:07.240191Z",
     "start_time": "2025-01-11T08:24:07.164291Z"
    }
   },
   "cell_type": "code",
   "source": [
    "plt.show()\n",
    "x = np.linspace(0, 200)  # 11个点\n",
    "#y = result_intermediate  # 只有6个点\n",
    "y1 = result_intermediate1\n",
    "fig, ax = plt.subplots()\n",
    "# 使用axes对象绘制数据，不指定x值，默认使用索引\n",
    "#ax.plot(y, label='BFGS', marker=\"x\", c=\"darkmagenta\", ls=\"-\")\n",
    "ax.plot(y1, label='CG', marker='o', linestyle='-')\n",
    "#ax.plot(y2, label='1e-3 error_rate', marker=\"v\", c=\"r\", ls=\"-\")\n",
    "#ax.plot(y3, label='1e-2 error_rate', marker=\"v\", c=\"r\", ls=\"-\")\n",
    "legend = fig.legend(\n",
    "    *ax.get_legend_handles_labels(),\n",
    "    bbox_to_anchor=(1.0, 0.5),\n",
    "    loc=\"center left\",\n",
    "    framealpha=0.5,\n",
    ")\n",
    "# 设置x轴刻度为索引值\n",
    "ax.set_xlim(0, 30)\n",
    "ax.set_xticks(np.arange(0, 30, 5))\n",
    "# 添加标题和标签\n",
    "ax.set_title('VQE calculation by CG')\n",
    "ax.set_xlabel('itration Steps')\n",
    "ax.set_ylabel('Expectation')\n",
    "# 显示网格\n",
    "ax.grid(False)\n",
    "# 展示图形\n",
    "plt.show()"
   ],
   "id": "2505eb9d7b49d4a0",
   "outputs": [
    {
     "data": {
      "text/plain": [
       "<Figure size 640x480 with 1 Axes>"
      ],
      "image/png": "[encoded data removed]"
     },
     "metadata": {},
     "output_type": "display_data"
    }
   ],
   "execution_count": 17
  },
  {
   "cell_type": "code",
   "execution_count": 4,
   "id": "12e517f4-6517-4b6c-91da-db3a256475ff",
   "metadata": {
    "ExecuteTime": {
     "end_time": "2024-11-28T04:03:03.172002Z",
     "start_time": "2024-11-28T03:50:05.891683Z"
    }
   },
   "outputs": [
    {
     "name": "stdout",
     "output_type": "stream",
     "text": [
      "-0.9905692515755558\n",
      "-3.6197504290283975\n",
      "-5.200674462326649\n",
      "-5.973694170876433\n",
      "-6.011125328238565\n",
      "-6.347514519410105\n",
      "-6.756220529313845\n",
      "-6.9150283700816875\n",
      "-6.93209174945375\n",
      "-6.945294317568429\n",
      "-6.958535528042241\n",
      "-6.966055393102237\n",
      "-6.970821826033266\n",
      "-6.97531837172391\n",
      "-6.9775770916858875\n",
      "-6.980717970380259\n",
      "-6.983519372032209\n",
      "-6.986681305105318\n",
      "-6.990423603041158\n",
      "-6.9954091900981705\n",
      "-6.999147885046877\n",
      "-7.003520467299889\n",
      "-7.006908773007503\n",
      "-7.009629013600507\n",
      "-7.011544702427889\n",
      "-7.01366159904866\n",
      "-7.014932747393546\n",
      "-7.015467683365535\n",
      "-7.016038988299014\n",
      "-7.0164419375691285\n",
      "-7.016843042784033\n",
      "-7.017424253421718\n",
      "-7.017925930832738\n",
      "-7.018493377536426\n",
      "-7.019231900294368\n",
      "-7.01999845541088\n",
      "-7.020849673780115\n",
      "-7.0219459083253355\n",
      "-7.022238022148327\n",
      "-7.022687161847659\n",
      "-7.023391966763172\n",
      "-7.024295235604455\n",
      "-7.02491681760316\n",
      "-7.025614461390854\n",
      "-7.026706022912716\n",
      "-7.027682511193494\n",
      "-7.028522788024732\n",
      "-7.029924586544922\n",
      "-7.03194503714421\n",
      "-7.033451931164286\n",
      "-7.0355117385197135\n",
      "-7.038346622332135\n",
      "-7.0396492417490375\n",
      "-7.041310426852915\n",
      "-7.042109783986799\n",
      "-7.04323596460425\n",
      "-7.04475813520247\n",
      "-7.0458746295698536\n",
      "-7.047123911143455\n",
      "-7.048426515173285\n",
      "-7.04958046353803\n",
      "-7.0503068093173935\n",
      "-7.0511432761114765\n",
      "-7.052000196977993\n",
      "-7.052695097015215\n",
      "-7.053877840165215\n",
      "-7.055792585140898\n",
      "-7.058027436311687\n",
      "-7.061102544918828\n",
      "-7.064666542748528\n",
      "-7.066156245477779\n",
      "-7.068165965556063\n",
      "-7.069197086724949\n",
      "-7.069983565552288\n",
      "-7.070976205081371\n",
      "-7.0717387917026295\n",
      "-7.072452348860724\n",
      "-7.0731136522574385\n",
      "-7.073637814382536\n",
      "-7.073848302515269\n",
      "-7.0740746313073455\n",
      "-7.074452003360069\n",
      "-7.075049081232506\n",
      "-7.07569696081435\n",
      "-7.0761330262023545\n",
      "-7.076575794608495\n",
      "-7.07686852565821\n",
      "-7.077178086910118\n",
      "-7.077615937914903\n",
      "-7.077893892343465\n",
      "-7.078049083195758\n",
      "-7.078320510221925\n",
      "-7.07878225131781\n",
      "-7.079430681123476\n",
      "-7.079821947946751\n",
      "-7.079988385413565\n",
      "-7.080236842311216\n",
      "-7.080518955244439\n",
      "-7.080743113020709\n",
      "-7.08110604031173\n",
      "-7.0817168523481175\n",
      "-7.082601254520586\n",
      "-7.083198844333675\n",
      "-7.083715335537791\n",
      "-7.08446825891209\n",
      "-7.085215521504114\n",
      "-7.0856822956803445\n",
      "-7.085974175641682\n",
      "-7.086073045979102\n",
      "-7.086228100691904\n",
      "-7.086399390098249\n",
      "-7.0865288822842265\n",
      "-7.086637529313458\n",
      "-7.086792316104812\n",
      "-7.086944024740518\n",
      "-7.0870719813607455\n",
      "-7.08723244068497\n",
      "-7.0873888345780145\n",
      "-7.087449694909909\n",
      "-7.087499222507643\n",
      "-7.087540797683744\n",
      "-7.087565648695338\n",
      "-7.087596494100615\n",
      "-7.087649927015358\n",
      "-7.087742099573846\n",
      "-7.08789060524009\n",
      "-7.088066746793621\n",
      "-7.088158042829262\n",
      "-7.08824125870353\n",
      "-7.088305210342523\n",
      "-7.088393453889276\n",
      "-7.088524985125871\n",
      "-7.088725339199638\n",
      "-7.088974463714236\n",
      "-7.089065213787842\n",
      "-7.089208949858042\n",
      "-7.089372686477219\n",
      "-7.089468450402371\n",
      "-7.089540141309455\n",
      "-7.089650482889707\n",
      "-7.089748537861366\n",
      "-7.089786602182188\n",
      "-7.0898208619827185\n",
      "-7.089849454025958\n",
      "-7.089883342775498\n",
      "-7.089921896932061\n",
      "-7.08995634980401\n",
      "-7.08998593118214\n",
      "-7.090015431309984\n",
      "-7.0900515260258725\n",
      "-7.090108085657921\n",
      "-7.090194694056483\n",
      "-7.0903080570230035\n",
      "-7.090407811427434\n",
      "-7.0904496745457\n",
      "-7.090481363800035\n",
      "-7.090507884055647\n",
      "-7.090535794575651\n",
      "-7.090570595821305\n",
      "-7.090597977212768\n",
      "-7.090635652064606\n",
      "-7.090658175270127\n",
      "-7.09067419318581\n",
      "-7.090694827563332\n",
      "-7.0907233079456855\n",
      "-7.090763270744063\n",
      "-7.090820625412912\n",
      "-7.090900592535812\n",
      "-7.091014158467587\n",
      "-7.091191004074345\n",
      "-7.091439380043884\n",
      "-7.09180145919971\n",
      "-7.092210744656178\n",
      "-7.092686438867917\n",
      "-7.09301863887927\n",
      "-7.093373483811658\n",
      "-7.093722787730146\n",
      "-7.0938809894742905\n",
      "-7.0939661693419\n",
      "-7.0940200941246925\n",
      "-7.094065509382198\n",
      "-7.0941229504568595\n",
      "-7.094170271872032\n",
      "-7.094213903891903\n",
      "-7.094273909468015\n",
      "-7.094355410846425\n",
      "-7.094461263805346\n",
      "-7.094569755581536\n",
      "-7.094655405498685\n",
      "-7.094711913305033\n",
      "-7.094742174059185\n",
      "-7.094776045099014\n",
      "-7.094812168068688\n",
      "-7.0948536042357055\n",
      "-7.094890357441124\n",
      "-7.094912347921126\n",
      "-7.094929739058087\n",
      "-7.094943280920994\n",
      "-7.0949602389990085\n",
      "-7.094981848063987\n",
      "-7.095005699771618\n",
      "-7.095023841301624\n",
      "-7.0950362688142645\n",
      "-7.095047268952603\n",
      "-7.095061195406343\n",
      "-7.095080930555762\n",
      "-7.095101177795547\n",
      "-7.095129594654761\n",
      "-7.095174153963553\n",
      "-7.09524195399191\n",
      "-7.095324620574774\n",
      "-7.095384855519413\n",
      "-7.095437049694408\n",
      "-7.095467334249957\n",
      "-7.095485574039271\n",
      "-7.095497165289882\n",
      "-7.095513160559898\n",
      "-7.095527196724876\n",
      "-7.095541677943012\n",
      "-7.095563989469587\n",
      "-7.095597098241111\n",
      "-7.095635547279226\n",
      "-7.095664036470495\n",
      "-7.095694967449003\n",
      "-7.09573853577231\n",
      "-7.095784868642607\n",
      "-7.095815712214975\n",
      "-7.095844286615617\n",
      "-7.095871645445078\n",
      "-7.095894941004535\n",
      "-7.095918910718094\n",
      "-7.0959522182042924\n",
      "-7.095993366848912\n",
      "-7.096043650528592\n",
      "-7.096096568502433\n",
      "-7.0961544852319145\n",
      "-7.096214122878635\n",
      "-7.096256310388798\n",
      "-7.096283723041502\n",
      "-7.096311020974708\n",
      "-7.0963472327856865\n",
      "-7.0963918514269935\n",
      "-7.0964236841438355\n",
      "-7.096459653997373\n",
      "-7.096511218603425\n",
      "-7.096547790162858\n",
      "-7.096609393484055\n",
      "-7.096702938649324\n",
      "-7.096836680936374\n",
      "-7.0969759963100705\n",
      "-7.09705705998892\n",
      "-7.097131821398451\n",
      "-7.097211073790473\n",
      "-7.097273960825975\n",
      "-7.09734732055089\n",
      "-7.0973903876996385\n",
      "-7.097453130055646\n",
      "-7.097523472378247\n",
      "-7.09759094037814\n",
      "-7.0976589180857745\n",
      "-7.097696805978515\n",
      "-7.0977422933511995\n",
      "-7.097765356905086\n",
      "-7.097786849947526\n",
      "-7.097809255567531\n",
      "-7.097832133125939\n",
      "-7.097842952046241\n",
      "-7.09784923015823\n",
      "-7.0978582284616785\n",
      "-7.097872109747645\n",
      "-7.097892637389422\n",
      "-7.0979170862736956\n",
      "-7.097929842998639\n",
      "-7.097951241140221\n",
      "-7.097986529281027\n",
      "-7.098042783769017\n",
      "-7.0980765519565665\n",
      "-7.098120070590181\n",
      "-7.098148808675839\n",
      "-7.098190918115006\n",
      "-7.098220665446389\n",
      "-7.098233717402521\n",
      "-7.098249717207745\n",
      "-7.098258366602672\n",
      "-7.098264610069932\n",
      "-7.098268490820621\n",
      "-7.0982720298011355\n",
      "-7.0982748565901055\n",
      "-7.098278949523641\n",
      "-7.098284721097971\n",
      "-7.098291601298704\n",
      "-7.098296699154457\n",
      "-7.098300573186408\n",
      "-7.098303342134252\n",
      "-7.098305902279618\n",
      "-7.098308886038871\n",
      "-7.098310708287184\n",
      "-7.098312916960777\n",
      "-7.098315287797378\n",
      "-7.0983181462049005\n",
      "-7.098322476416669\n",
      "-7.098327933878012\n",
      "-7.098331375703591\n",
      "-7.098334310956497\n",
      "-7.098337403784694\n",
      "-7.098340339906563\n",
      "-7.098342447026939\n",
      "-7.098344416373656\n",
      "-7.098347010243531\n",
      "-7.098350204075828\n",
      "-7.098352455103699\n",
      "-7.098354449648263\n",
      "-7.098356509662322\n",
      "-7.0983587225454325\n",
      "-7.098360143167852\n",
      "-7.098360911926462\n",
      "-7.098361465990214\n",
      "-7.0983620381147325\n",
      "-7.098362655886929\n",
      "-7.098363327361447\n",
      "-7.098364113913769\n",
      "-7.098365175198431\n",
      "-7.09836670834688\n",
      "-7.0983688111197445\n",
      "-7.098371345375827\n",
      "-7.0983738544468675\n",
      "-7.098375944575739\n",
      "-7.0983778108354265\n",
      "-7.098379532001762\n",
      "-7.098381365164303\n",
      "-7.098382713581611\n",
      "-7.098383444139262\n",
      "-7.098383766613905\n",
      "-7.098383977665355\n",
      "-7.098384202957529\n",
      "-7.098384401210736\n",
      "-7.098384559960238\n",
      "-7.098384689261332\n",
      "-7.098384828472986\n",
      "-7.098385021948969\n",
      "-7.098385324853815\n",
      "-7.098385791374286\n",
      "-7.098386465258761\n",
      "-7.0983872041806\n",
      "-7.098387985799858\n",
      "-7.098388637797364\n",
      "-7.098389252930456\n",
      "-7.09838981065038\n",
      "-7.098390398882235\n",
      "-7.098391208951655\n",
      "-7.098392359604393\n",
      "-7.098393761970842\n",
      "-7.098394595163847\n",
      "-7.098394767293577\n",
      "-7.098394806649001\n",
      "-7.098394863435808\n",
      "-7.098394959397333\n",
      "-7.098395130645058\n",
      "-7.0983954423390605\n",
      "-7.098396007886095\n",
      "-7.098397017803407\n",
      "-7.09839874424974\n",
      "-7.098401464966837\n",
      "-7.098405475286686\n",
      "-7.0984111334470334\n",
      "-7.098417587567979\n",
      "-7.0984202763149\n",
      "-7.098424243996922\n",
      "-7.098427880354122\n",
      "-7.0984310040591465\n",
      "-7.0984315877266075\n",
      "-7.098432664767426\n",
      "-7.098434637907522\n",
      "-7.098438020668221\n",
      "-7.098442988631096\n",
      "-7.098448028187183\n",
      "-7.098451490251969\n",
      "-7.098453204881532\n",
      "-7.098455774484936\n",
      "-7.0984588882937505\n",
      "-7.098461725684251\n",
      "-7.098464027647601\n",
      "-7.09846525623946\n",
      "-7.098467056436138\n",
      "-7.098469449255488\n",
      "-7.098471589739323\n",
      "-7.098474123728461\n",
      "-7.098477025854907\n",
      "-7.09847809673912\n",
      "-7.098479655846456\n",
      "-7.098480415411539\n",
      "-7.098481498422155\n",
      "-7.098482369378508\n",
      "-7.098483083855998\n",
      "-7.098484090205553\n",
      "-7.098484643335007\n",
      "-7.098485455481644\n",
      "-7.098486725139753\n",
      "-7.098488416580759\n",
      "-7.0984893279972345\n",
      "-7.09849066452744\n",
      "-7.098492148605669\n",
      "-7.098492830560948\n",
      "-7.098493808920067\n",
      "-7.098494536585214\n",
      "-7.09849528101106\n",
      "-7.098496253061333\n",
      "-7.098496791682147\n",
      "-7.098497657995745\n",
      "-7.098498834233806\n",
      "-7.098500074965762\n",
      "-7.0985011647586855\n",
      "-7.098501905942462\n",
      "-7.098502361742242\n",
      "-7.0985030760184555\n",
      "-7.098504121374184\n",
      "-7.098505249794202\n",
      "-7.098505965177263\n",
      "-7.0985070289235175\n",
      "-7.098508434075442\n",
      "-7.098509507554462\n",
      "-7.0985105569158415\n",
      "-7.09851201937738\n",
      "-7.098513374240625\n",
      "-7.09851482978437\n",
      "-7.0985160780938905\n",
      "-7.098518217800169\n",
      "-7.0985218330046305\n",
      "-7.098526923281706\n",
      "-7.09852871888033\n",
      "-7.0985310967839625\n",
      "-7.098533830043944\n",
      "-7.098537302840359\n",
      "-7.098540509940819\n",
      "-7.098543858538758\n",
      "-7.098547679155034\n",
      "-7.098550923954267\n",
      "-7.098552806726566\n",
      "-7.098555839081691\n",
      "-7.098560725482267\n",
      "-7.098568164906287\n",
      "-7.098577180650232\n",
      "-7.098585352508625\n",
      "-7.098599441267793\n",
      "-7.098623451984284\n",
      "-7.098658563007291\n",
      "-7.098689725871166\n",
      "-7.098709905518366\n",
      "-7.098733378370234\n",
      "-7.098764507248462\n",
      "-7.09880125164417\n",
      "-7.098858245661216\n",
      "-7.098900489688519\n",
      "-7.098962090271538\n",
      "-7.0990525329247625\n",
      "-7.0991933058604495\n",
      "-7.099363311237411\n",
      "-7.099458767724128\n",
      "-7.099572256661375\n",
      "-7.099726493939911\n",
      "-7.099814797020654\n",
      "-7.099935022969636\n",
      "-7.100090343879371\n",
      "-7.100207097819428\n",
      "-7.100378895479646\n",
      "-7.100556841446686\n",
      "-7.1005869577715535\n",
      "-7.100640833810413\n",
      "-7.100738288330874\n",
      "-7.100898759205138\n",
      "-7.101059737416987\n",
      "-7.101189715148348\n",
      "-7.10133233588482\n",
      "-7.101521044412209\n",
      "-7.101804458059309\n",
      "-7.101943061671436\n",
      "-7.102140842182463\n",
      "-7.1023256693230845\n",
      "-7.102439127858623\n",
      "-7.102557730432069\n",
      "-7.1026580253852645\n",
      "-7.102774747030812\n",
      "-7.102896819006374\n",
      "-7.103023018379807\n",
      "-7.103156020997726\n",
      "-7.103274998205407\n",
      "-7.103368939042202\n",
      "-7.103459598208106\n",
      "-7.103524616621883\n",
      "-7.103603390742499\n",
      "-7.1037086224356365\n",
      "-7.103796296734377\n",
      "-7.103849481631652\n",
      "-7.103888775468634\n",
      "-7.103909406402597\n",
      "-7.103932916826303\n",
      "-7.103970543214123\n",
      "-7.104023719603434\n",
      "-7.10405984508475\n",
      "-7.1041150895315806\n",
      "-7.104191628015091\n",
      "-7.10426090913849\n",
      "-7.10432637825385\n",
      "-7.104388056137468\n",
      "-7.10447523534166\n",
      "-7.104564824640367\n",
      "-7.104635932898956\n",
      "-7.10470227517871\n",
      "-7.104729816230002\n",
      "-7.1047736219668085\n",
      "-7.104843370866102\n",
      "-7.104938191037127\n",
      "-7.1050138619459355\n",
      "-7.105076605470996\n",
      "-7.10512196782432\n",
      "-7.105152246457047\n",
      "-7.105194189625694\n",
      "-7.105260358302643\n",
      "-7.1053367626613735\n",
      "-7.1053655112044405\n",
      "-7.1054023552671\n",
      "-7.1054503375988\n",
      "-7.105504260648739\n",
      "-7.105566031505163\n",
      "-7.105595235826801\n",
      "-7.105641845498388\n",
      "-7.105711272117743\n",
      "-7.1057736671795855\n",
      "-7.105812548984623\n",
      "-7.10584210154987\n",
      "-7.105878258292284\n",
      "-7.105895728535898\n",
      "-7.105918334741644\n",
      "-7.10594776296033\n",
      "-7.105987440260203\n",
      "-7.106024178985119\n",
      "-7.106059486693823\n",
      "-7.10609922235419\n",
      "-7.106133580532257\n",
      "-7.106148759940132\n",
      "-7.10615888226195\n",
      "-7.106173497284605\n",
      "-7.106193091093132\n",
      "-7.1062120116874485\n",
      "-7.106226853788938\n",
      "-7.106243068818315\n",
      "-7.106267996082334\n",
      "-7.106306633197049\n",
      "-7.106351683501945\n",
      "-7.106375782626237\n",
      "-7.106401964617813\n",
      "-7.106418306644255\n",
      "-7.106433631064566\n",
      "-7.106448933883354\n",
      "-7.10646777669441\n",
      "-7.106478988815722\n",
      "-7.106495376157868\n",
      "-7.1065146579216645\n",
      "-7.106530506195339\n",
      "-7.106547746039956\n",
      "-7.106563229939981\n",
      "-7.10657668764131\n",
      "-7.106593923740684\n",
      "-7.106611054212369\n",
      "-7.106622748508973\n",
      "-7.106628238661083\n",
      "-7.106632809042625\n",
      "-7.106637979087809\n",
      "-7.10664408875858\n",
      "-7.106652242701055\n",
      "-7.1066631959343365\n",
      "-7.1066771379519444\n",
      "-7.106695664612669\n",
      "-7.106723885508621\n",
      "-7.106764697449235\n",
      "-7.1068256067453115\n",
      "-7.106918532774392\n",
      "-7.107020393692049\n",
      "-7.10708599295616\n",
      "-7.1071434050420415\n",
      "-7.107224543358486\n",
      "-7.107269403084073\n",
      "-7.107335098118252\n",
      "-7.1074052131443\n",
      "-7.107516273478938\n",
      "-7.107641362698229\n",
      "-7.107729946512577\n",
      "-7.107773543184335\n",
      "-7.1078238536507\n",
      "-7.107866312458039\n",
      "-7.107895507960555\n",
      "-7.107923972269324\n",
      "-7.107956818178023\n",
      "-7.107977877492347\n",
      "-7.108000779334449\n",
      "-7.108006867679263\n",
      "-7.108017592331347\n",
      "-7.108035246342628\n",
      "-7.108058237329543\n",
      "-7.1080742655915\n",
      "-7.108084874813075\n",
      "-7.108100011350623\n",
      "-7.108121729859857\n",
      "-7.108143920734436\n",
      "-7.108165775556873\n",
      "-7.108199387008604\n",
      "-7.108236469271442\n",
      "-7.108250407971323\n",
      "-7.108275012751416\n",
      "-7.108314576725664\n",
      "-7.108353043859488\n",
      "-7.108374542572598\n",
      "-7.108396300667709\n",
      "-7.1084209686618305\n",
      "-7.108445477539958\n",
      "-7.108480196351017\n",
      "-7.108499383685093\n",
      "-7.108530576174054\n",
      "-7.108576682655718\n",
      "-7.1086294395321925\n",
      "-7.1086753654265005\n",
      "-7.108711113788992\n",
      "-7.108723271854717\n",
      "-7.108742994161926\n",
      "-7.1087628210209175\n",
      "-7.108770314283376\n",
      "-7.108779092504691\n",
      "-7.108785557322967\n",
      "-7.108793537344405\n",
      "-7.108803734318731\n",
      "-7.10880938968042\n",
      "-7.108812786765411\n",
      "-7.10881446848206\n",
      "-7.108815403715194\n",
      "-7.1088161889712165\n",
      "-7.108816755476251\n",
      "-7.108817301417914\n",
      "-7.108818164896528\n",
      "-7.108819562478599\n",
      "-7.1088217011231185\n",
      "-7.10882440414392\n",
      "-7.108827549639592\n",
      "-7.108832577117253\n",
      "-7.108840535297705\n",
      "-7.108851049607447\n",
      "-7.108857546731284\n",
      "-7.108862876436177\n",
      "-7.108867010297396\n",
      "-7.108873525667887\n",
      "-7.108883931614429\n",
      "-7.108896923801364\n",
      "-7.108908780467638\n",
      "-7.108914233320146\n",
      "-7.108917102763153\n",
      "-7.10891850182737\n",
      "-7.108920573937991\n",
      "-7.1089235401217685\n",
      "-7.10892612139913\n",
      "-7.108928996931974\n",
      "-7.108933524439991\n",
      "-7.108940245118834\n",
      "-7.1089468821468405\n",
      "-7.108951308289398\n",
      "-7.108953707347668\n",
      "-7.108955156062104\n",
      "-7.108956868750978\n",
      "-7.108959363868114\n",
      "-7.108962616257754\n",
      "-7.108967568772593\n",
      "-7.108975236371368\n",
      "-7.108987043472809\n",
      "-7.109004005546577\n",
      "-7.109021135562035\n",
      "-7.109032802157022\n",
      "-7.109039294475644\n",
      "-7.109043104353249\n",
      "-7.1090450195249995\n",
      "-7.109046654572547\n",
      "-7.109049139533507\n",
      "-7.109053057913981\n",
      "-7.109059389380746\n",
      "-7.109069529681865\n",
      "-7.109084827126223\n",
      "-7.109103339499775\n",
      "-7.1091224840161145\n",
      "-7.109130748135252\n",
      "-7.109142572381241\n",
      "-7.109154266455842\n",
      "-7.109167239029042\n",
      "-7.109177327091179\n",
      "-7.109185115010229\n",
      "-7.10918930210991\n",
      "-7.109194060928153\n",
      "-7.109195837263973\n",
      "-7.109197982820625\n",
      "-7.109199472600328\n",
      "-7.109200355897898\n",
      "-7.109201129582935\n",
      "-7.109201608795426\n",
      "-7.109202262586557\n",
      "-7.109202913554212\n",
      "-7.1092034757192275\n",
      "-7.109204059197262\n",
      "-7.1092044026835355\n",
      "-7.109204857115701\n",
      "-7.109205620562506\n",
      "-7.109206856980893\n",
      "-7.109208751427143\n",
      "-7.109211561024304\n",
      "-7.109215124282181\n",
      "-7.109219001239563\n",
      "-7.109223024996454\n",
      "-7.109226553024501\n",
      "-7.109230830366709\n",
      "-7.109236831290547\n",
      "-7.109241805715429\n",
      "-7.109245261989135\n",
      "-7.109247908710161\n",
      "-7.109250601812981\n",
      "-7.109252556219596\n",
      "-7.1092539464864295\n",
      "-7.10925531170054\n",
      "-7.10925629986868\n",
      "-7.1092570955442245\n",
      "-7.10925822347381\n",
      "-7.10925996468382\n",
      "-7.1092628454530855\n",
      "-7.109267736274158\n",
      "-7.109275966020365\n",
      "-7.109288297748888\n",
      "-7.109300638598612\n",
      "-7.109309060491803\n",
      "-7.109322529242651\n",
      "-7.109342671538289\n",
      "-7.1093691871149245\n",
      "-7.109387770116485\n",
      "-7.109407274043814\n",
      "-7.109413558733445\n",
      "-7.109422961423953\n",
      "-7.109437635505165\n",
      "-7.109453602986379\n",
      "-7.109462890196299\n",
      "-7.10947492548852\n",
      "-7.10948753312385\n",
      "-7.109502864865341\n",
      "-7.10950545528736\n",
      "-7.109510342898373\n",
      "-7.109519163092732\n",
      "-7.109529691438299\n",
      "-7.109532423758422\n",
      "-7.109536919510227\n",
      "-7.109543272468598\n",
      "-7.109550147728117\n",
      "-7.109556189453636\n",
      "-7.109565106665921\n",
      "-7.109577731740453\n",
      "-7.109587170625795\n",
      "-7.109598690070088\n",
      "-7.109611165767808\n",
      "-7.109620717765207\n",
      "-7.109629351983693\n",
      "-7.109632014607294\n",
      "-7.1096359113125605\n",
      "-7.109640871432361\n",
      "-7.1096423734117655\n",
      "-7.109644870307299\n",
      "-7.109648427006373\n",
      "-7.109652006551641\n",
      "-7.109655574116784\n",
      "-7.109661059950571\n",
      "-7.109665994107928\n",
      "-7.109667662704273\n",
      "-7.1096706457397625\n",
      "-7.10967562853641\n",
      "-7.109680308188405\n",
      "-7.109684212428057\n",
      "-7.109688894695649\n",
      "-7.109695418114522\n",
      "-7.109698874092084\n",
      "-7.109700828193274\n",
      "-7.109702584436748\n",
      "-7.109704495350154\n",
      "-7.109705989381741\n",
      "-7.1097080665213\n",
      "-7.109709987766586\n",
      "-7.109711768512701\n",
      "-7.10971368567278\n",
      "-7.109714810417405\n",
      "-7.109715879472088\n",
      "-7.109716649614679\n",
      "-7.109717398487742\n",
      "-7.109718263836745\n",
      "-7.109719157659854\n",
      "-7.109719854121689\n",
      "-7.109720679684737\n",
      "-7.109721051671372\n",
      "-7.109721372723367\n",
      "-7.1097217665493835\n",
      "-7.1097221528881205\n",
      "-7.109722594025537\n",
      "-7.109723083506506\n",
      "-7.109723460548733\n",
      "-7.109723818313285\n",
      "-7.109724303719568\n",
      "-7.10972483651888\n",
      "-7.109725490938804\n",
      "-7.109725998824349\n",
      "-7.109726475393373\n",
      "-7.109726880855973\n",
      "-7.109727207193518\n",
      "-7.109727436473727\n",
      "-7.109727606021876\n",
      "-7.109727687768807\n",
      "-7.109727724133529\n",
      "-7.109727747840703\n",
      "-7.109727772425789\n",
      "-7.109727802027874\n",
      "-7.109727827958819\n",
      "-7.109727842874715\n",
      "-7.109727847107313\n",
      "-7.109727849601166\n",
      "-7.109727852937836\n",
      "-7.109727856693012\n",
      "-7.109727862452731\n",
      "-7.109727870901851\n",
      "-7.109727882286743\n",
      "-7.109727899591474\n",
      "-7.109727920256645\n",
      "-7.109727937622308\n",
      "-7.109727957926566\n",
      "-7.109727966924047\n",
      "-7.10972797509041\n",
      "-7.10972797874829\n",
      "-7.109727984833163\n",
      "-7.109727994427825\n",
      "-7.109728009793952\n",
      "-7.109728031188875\n",
      "-7.109728052339067\n",
      "-7.109728074792397\n",
      "-7.109728089324995\n",
      "-7.109728098305011\n",
      "-7.109728104599831\n",
      "-7.109728109485724\n",
      "-7.10972811655632\n",
      "-7.109728128297888\n",
      "-7.109728148960994\n",
      "-7.109728186379494\n",
      "-7.109728254829786\n",
      "-7.109728372962545\n",
      "-7.109728575220796\n",
      "-7.109728906710946\n",
      "-7.1097294181411215\n",
      "-7.109730091149969\n",
      "-7.109730792030798\n",
      "-7.10973115020995\n",
      "-7.109731430661008\n",
      "-7.109731508882266\n",
      "-7.109731615710171\n",
      "-7.109731655507621\n",
      "-7.109731671260279\n",
      "-7.1097316815047895\n",
      "-7.109731687338158\n",
      "-7.10973169066593\n",
      "-7.109731691642354\n",
      "-7.1097316921291185\n"
     ]
    }
   ],
   "source": [
    "np.random.seed(42)  # Example seed\n",
    "nqubits = 8\n",
    "J = 1/np.sqrt(2)\n",
    "depth = 3\n",
    "error_rate = 0\n",
    "parameter = np.array(np.random.random(2*nqubits*depth))\n",
    "#ansatz_hamiltonian(nqubits, depth, parameter).draw('mpl')\n",
    "estimate_val_hva = minimize(cost_function1, parameter, args=(nqubits, depth, error_rate), method=\"BFGS\", tol=1e-5, options={'disp': False}, callback=callback)#, args=(nqubits, error_rate)"
   ]
  },
  {
   "cell_type": "code",
   "execution_count": 5,
   "id": "05213f2b-4b26-481d-a6cc-ded2a62107fd",
   "metadata": {
    "ExecuteTime": {
     "end_time": "2024-11-28T05:47:49.362706Z",
     "start_time": "2024-11-28T05:47:49.322387Z"
    }
   },
   "outputs": [
    {
     "name": "stdout",
     "output_type": "stream",
     "text": [
      "-7.2490195708231004\n"
     ]
    }
   ],
   "source": [
    "hamiltonian = get_hamiltonian(8)\n",
    "H_array = hamiltonian.to_matrix()\n",
    "eval, _ = np.linalg.eigh(H_array)\n",
    "# print(eval)\n",
    "emin = eval[0]\n",
    "emax = eval[-1]\n",
    "print(emin)"
   ]
  },
  {
   "cell_type": "code",
   "execution_count": 71,
   "id": "66f7e5d8-db2a-49b9-9744-9fbf60662e55",
   "metadata": {},
   "outputs": [
    {
     "name": "stdout",
     "output_type": "stream",
     "text": [
      "-7.249019570823107\n"
     ]
    }
   ],
   "source": [
    "hamiltonian = get_hamiltonian(8)\n",
    "H_array = hamiltonian.to_matrix()\n",
    "eval, _ = np.linalg.eigh(H_array)\n",
    "# print(eval)\n",
    "emin = eval[0]\n",
    "emax = eval[-1]\n",
    "print(emin)"
   ]
  },
  {
   "cell_type": "markdown",
   "id": "740295b6167238d2",
   "metadata": {},
   "source": [
    "TO BE DONE"
   ]
  },
  {
   "cell_type": "code",
   "execution_count": 5,
   "id": "2255d773149bd39c",
   "metadata": {
    "ExecuteTime": {
     "end_time": "2024-12-01T07:58:41.439645Z",
     "start_time": "2024-12-01T07:58:41.412797Z"
    }
   },
   "outputs": [
    {
     "name": "stdout",
     "output_type": "stream",
     "text": [
      "[76, 107, 48]\n"
     ]
    }
   ],
   "source": [
    "nqubits = 8\n",
    "depth = 3\n",
    "parameter = np.array(np.random.random(2*nqubits*depth))\n",
    "circuit = ansatz_hamiltonian(nqubits, depth, parameter)\n",
    "circuit = circuit.decompose(reps=2)\n",
    "count = []\n",
    "count.append(circuit.depth()) #depth, total gate, nonlocal gates\n",
    "count.append(len(circuit))\n",
    "count.append(circuit.num_nonlocal_gates())\n",
    "print(count)"
   ]
  },
  {
   "cell_type": "code",
   "execution_count": 68,
   "id": "824eaccea7c56755",
   "metadata": {
    "ExecuteTime": {
     "end_time": "2024-12-20T08:28:20.081787Z",
     "start_time": "2024-12-20T08:28:20.077276Z"
    }
   },
   "outputs": [
    {
     "name": "stdout",
     "output_type": "stream",
     "text": [
      "3.00e-04\n"
     ]
    }
   ],
   "source": [
    "a = 0.0003\n",
    "print(f\"{a:.2e}\")"
   ]
  },
  {
   "cell_type": "code",
   "execution_count": null,
   "id": "6854847350ee09f8",
   "metadata": {},
   "outputs": [],
   "source": [
    "\n",
    "start_time = time.time()"
   ]
  },
  {
   "cell_type": "code",
   "id": "1f9b1146c196dddd",
   "metadata": {
    "ExecuteTime": {
     "end_time": "2024-12-29T08:36:57.785597Z",
     "start_time": "2024-12-29T08:36:57.767684Z"
    }
   },
   "source": [
    "## Sampler\n",
    "# 1. A quantum circuit for preparing the quantum state |000> + i |111>\n",
    "qc_example = QuantumCircuit(3)\n",
    "qc_example.h(0)          # generate superpostion\n",
    "qc_example.p(np.pi/2,0)  # add quantum phase\n",
    "qc_example.cx(0,1)       # 0th-qubit-Controlled-NOT gate on 1st qubit\n",
    "qc_example.cx(0,2)       # 0th-qubit-Controlled-NOT gate on 2nd qubit\n",
    "operator = SparsePauliOp.from_list([(\"XXY\", 1), (\"XYX\", 1), (\"YXX\", 1), (\"YYY\", -1)])\n",
    "# 2. Add the classical output in the form of measurement of all qubits\n",
    "qc_measured = qc_example.measure_all(inplace=False)\n",
    "# 3. Execute using the Sampler primitive\n",
    "sampler = StatevectorSampler()\n",
    "job = sampler.run([qc_measured], shots=1000)\n",
    "result = job.result()\n",
    "print(f\" > Counts: {result[0].data.meas.get_counts()}\")"
   ],
   "outputs": [
    {
     "name": "stdout",
     "output_type": "stream",
     "text": [
      " > Counts: {'000': 496, '111': 504}\n"
     ]
    }
   ],
   "execution_count": 8
  },
  {
   "cell_type": "code",
   "id": "6e71eee854439b5f",
   "metadata": {
    "ExecuteTime": {
     "end_time": "2024-12-29T08:36:59.263641Z",
     "start_time": "2024-12-29T08:36:59.259633Z"
    }
   },
   "source": [
    "import qiskit\n",
    "print(qiskit.__version__)"
   ],
   "outputs": [
    {
     "name": "stdout",
     "output_type": "stream",
     "text": [
      "1.3.1\n"
     ]
    }
   ],
   "execution_count": 9
  },
  {
   "cell_type": "code",
   "id": "f03f4ce055f76650",
   "metadata": {
    "ExecuteTime": {
     "end_time": "2024-12-29T08:37:00.390709Z",
     "start_time": "2024-12-29T08:37:00.378386Z"
    }
   },
   "source": [
    "## Estimator\n",
    "estimator = StatevectorEstimator()\n",
    "job = estimator.run([(qc_example, operator)], precision=1e-3)\n",
    "result = job.result()\n",
    "print(f\" > Expectation values: {result[0].data.evs}\")"
   ],
   "outputs": [
    {
     "name": "stdout",
     "output_type": "stream",
     "text": [
      " > Expectation values: 4.000392893466742\n"
     ]
    }
   ],
   "execution_count": 10
  },
  {
   "cell_type": "code",
   "id": "4c07bb6a0f6263ce",
   "metadata": {
    "ExecuteTime": {
     "end_time": "2024-12-29T08:37:34.705933Z",
     "start_time": "2024-12-29T08:37:34.699727Z"
    }
   },
   "source": [
    "## Estimator\n",
    "estimator = Estimator()\n",
    "job = estimator.run(qc_example, operator, precision=1e-3)\n",
    "result = job.result()\n",
    "result.values\n",
    "#print(f\" > Expectation values: {result[0].data.evs}\")"
   ],
   "outputs": [
    {
     "name": "stderr",
     "output_type": "stream",
     "text": [
      "C:\\Users\\schauue\\AppData\\Local\\Temp\\ipykernel_45308\\316892537.py:2: DeprecationWarning: The class ``qiskit.primitives.estimator.Estimator`` is deprecated as of qiskit 1.2. It will be removed no earlier than 3 months after the release date. All implementations of the `BaseEstimatorV1` interface have been deprecated in favor of their V2 counterparts. The V2 alternative for the `Estimator` class is `StatevectorEstimator`.\n",
      "  estimator = Estimator()\n"
     ]
    },
    {
     "data": {
      "text/plain": [
       "array([4.])"
      ]
     },
     "execution_count": 13,
     "metadata": {},
     "output_type": "execute_result"
    }
   ],
   "execution_count": 13
  },
  {
   "cell_type": "code",
   "id": "2d2bf698fac2e66e",
   "metadata": {
    "ExecuteTime": {
     "end_time": "2024-12-29T08:37:38.685667Z",
     "start_time": "2024-12-29T08:37:38.678042Z"
    }
   },
   "source": [
    "hamiltonian = operator\n",
    "min(np.linalg.eigvalsh(hamiltonian.to_matrix()))"
   ],
   "outputs": [
    {
     "data": {
      "text/plain": [
       "np.float64(-4.0)"
      ]
     },
     "execution_count": 14,
     "metadata": {},
     "output_type": "execute_result"
    }
   ],
   "execution_count": 14
  },
  {
   "cell_type": "code",
   "execution_count": 117,
   "id": "fc488ca538d6e3b8",
   "metadata": {
    "ExecuteTime": {
     "end_time": "2024-12-26T10:17:51.221136Z",
     "start_time": "2024-12-26T10:17:51.083882Z"
    }
   },
   "outputs": [
    {
     "data": {
      "image/png": "[encoded data removed]",
      "text/plain": [
       "<Figure size 758.234x284.278 with 1 Axes>"
      ]
     },
     "execution_count": 117,
     "metadata": {},
     "output_type": "execute_result"
    }
   ],
   "source": [
    "qc_transpiled = transpile(qc_example, basis_gates = ['cz', 'sx', 'rz'], coupling_map =[[0, 1], [1, 2]] , optimization_level=3)\n",
    "qc_transpiled.draw('mpl')"
   ]
  },
  {
   "cell_type": "code",
   "execution_count": 119,
   "id": "6ea957e4e5b3567d",
   "metadata": {
    "ExecuteTime": {
     "end_time": "2024-12-28T08:25:30.940146Z",
     "start_time": "2024-12-28T08:25:29.990785Z"
    }
   },
   "outputs": [
    {
     "data": {
      "image/png": "[encoded data removed]",
      "text/plain": [
       "<Figure size 287.496x284.278 with 1 Axes>"
      ]
     },
     "execution_count": 119,
     "metadata": {},
     "output_type": "execute_result"
    }
   ],
   "source": [
    "from qiskit.circuit.library import QAOAAnsatz\n",
    "from qiskit.quantum_info import SparsePauliOp\n",
    "\n",
    "operator = SparsePauliOp.from_list([(\"XXY\", 1), (\"XYX\", 1), (\"YXX\", 1), (\"YYY\", -1)])\n",
    "circuit = QAOAAnsatz(operator, reps=2)\n",
    "circuit.draw('mpl')"
   ]
  },
  {
   "cell_type": "code",
   "execution_count": null,
   "id": "d62da36bfaa8ced8",
   "metadata": {},
   "outputs": [],
   "source": []
  },
  {
   "metadata": {},
   "cell_type": "markdown",
   "source": "## Use AerSimulator from qiskit",
   "id": "505ce62273222e6b"
  },
  {
   "metadata": {
    "ExecuteTime": {
     "end_time": "2025-01-11T11:49:28.283316Z",
     "start_time": "2025-01-11T11:48:51.760726Z"
    }
   },
   "cell_type": "code",
   "source": [
    "np.random.seed(42)  # Example seed\n",
    "nqubits = 4\n",
    "J = 1/np.sqrt(2)\n",
    "depth = 2\n",
    "error_rate = 1e-3\n",
    "parameter = np.array(np.random.random(2*nqubits*depth))\n",
    "#ansatz_hamiltonian(nqubits, depth, parameter).draw('mpl')\n",
    "result_intermediate1 = []\n",
    "def callback(intermediate_result):\n",
    "    result_intermediate1.append(intermediate_result.fun)\n",
    "estimate_val_hva1 = minimize(cost_function1, parameter, args=(nqubits, depth, error_rate), method=\"BFGS\", tol=1e-5, options={'disp': False}, callback=callback)\n",
    "estimate_val_hva1"
   ],
   "id": "8b05bfc6de7f200d",
   "outputs": [
    {
     "data": {
      "text/plain": [
       "  message: Desired error not necessarily achieved due to precision loss.\n",
       "  success: False\n",
       "   status: 2\n",
       "      fun: 0.8255944695241553\n",
       "        x: [ 3.745e-01  9.507e-01 ...  1.818e-01  1.834e-01]\n",
       "      nit: 1\n",
       "      jac: [ 3.373e+07  3.373e+07 ...  3.373e+07  3.373e+07]\n",
       " hess_inv: [[ 8.991e-01 -8.590e-02 ... -8.590e-02 -8.590e-02]\n",
       "            [-8.590e-02  1.000e+00 ... -1.932e-09 -3.203e-09]\n",
       "            ...\n",
       "            [-8.590e-02 -1.932e-09 ...  1.000e+00  1.084e-09]\n",
       "            [-8.590e-02 -3.203e-09 ...  1.084e-09  1.000e+00]]\n",
       "     nfev: 352\n",
       "     njev: 20"
      ]
     },
     "execution_count": 25,
     "metadata": {},
     "output_type": "execute_result"
    }
   ],
   "execution_count": 25
  },
  {
   "metadata": {
    "ExecuteTime": {
     "end_time": "2025-01-11T11:54:56.476494Z",
     "start_time": "2025-01-11T11:54:07.441156Z"
    }
   },
   "cell_type": "code",
   "source": [
    "np.random.seed(42)  # Example seed\n",
    "nqubits = 4\n",
    "J = 1/np.sqrt(2)\n",
    "depth = 2\n",
    "error_rate = 1e-3\n",
    "parameter = np.array(np.random.random(2*nqubits*depth))\n",
    "#ansatz_hamiltonian(nqubits, depth, parameter).draw('mpl')\n",
    "result_intermediate1 = []\n",
    "def callback(intermediate_result):\n",
    "    result_intermediate1.append(intermediate_result.fun)\n",
    "estimate_val_hva1 = minimize(cost_function1, parameter, args=(nqubits, depth, error_rate), method=\"CG\", tol=1e-5, options={'disp': False}, callback=callback)\n",
    "estimate_val_hva1"
   ],
   "id": "3b7374f03ef70b2a",
   "outputs": [
    {
     "data": {
      "text/plain": [
       " message: Desired error not necessarily achieved due to precision loss.\n",
       " success: False\n",
       "  status: 2\n",
       "     fun: 0.2909692467521529\n",
       "       x: [ 3.745e-01  9.507e-01 ...  1.818e-01  1.834e-01]\n",
       "     nit: 2\n",
       "     jac: [-1.111e+07  6.961e+07 ...  6.961e+07  6.961e+07]\n",
       "    nfev: 476\n",
       "    njev: 27"
      ]
     },
     "execution_count": 30,
     "metadata": {},
     "output_type": "execute_result"
    }
   ],
   "execution_count": 30
  },
  {
   "metadata": {
    "ExecuteTime": {
     "end_time": "2025-01-11T12:24:06.455894Z",
     "start_time": "2025-01-11T12:18:34.171163Z"
    }
   },
   "cell_type": "code",
   "source": [
    "np.random.seed(42)  # Example seed\n",
    "nqubits = 4\n",
    "J = 1/np.sqrt(2)\n",
    "depth = 2\n",
    "error_rate = 1e-3\n",
    "parameter = np.array(np.random.random(2*nqubits*depth))\n",
    "#ansatz_hamiltonian(nqubits, depth, parameter).draw('mpl')\n",
    "result_intermediate1 = []\n",
    "def callback(intermediate_result):\n",
    "    result_intermediate1.append(intermediate_result.fun)\n",
    "estimate_val_hva1 = minimize(cost_function1, parameter, args=(nqubits, depth, error_rate), method=\"Nelder-Mead\", tol=1e-5, options={'disp': False}, callback=callback)\n",
    "estimate_val_hva1"
   ],
   "id": "1ec238598a2e08bf",
   "outputs": [
    {
     "data": {
      "text/plain": [
       "       message: Maximum number of function evaluations has been exceeded.\n",
       "       success: False\n",
       "        status: 1\n",
       "           fun: -1.2304078702441865\n",
       "             x: [ 3.787e-01  9.697e-01 ...  1.807e-01  1.851e-01]\n",
       "           nit: 661\n",
       "          nfev: 3200\n",
       " final_simplex: (array([[ 3.787e-01,  9.697e-01, ...,  1.807e-01,\n",
       "                         1.851e-01],\n",
       "                       [ 3.787e-01,  9.697e-01, ...,  1.807e-01,\n",
       "                         1.851e-01],\n",
       "                       ...,\n",
       "                       [ 3.787e-01,  9.697e-01, ...,  1.807e-01,\n",
       "                         1.851e-01],\n",
       "                       [ 3.787e-01,  9.697e-01, ...,  1.807e-01,\n",
       "                         1.851e-01]], shape=(17, 16)), array([-1.230e+00, -3.322e-01, ...,  1.239e+00,  1.239e+00],\n",
       "                      shape=(17,)))"
      ]
     },
     "execution_count": 35,
     "metadata": {},
     "output_type": "execute_result"
    }
   ],
   "execution_count": 35
  },
  {
   "metadata": {
    "ExecuteTime": {
     "end_time": "2025-01-11T11:35:00.662901Z",
     "start_time": "2025-01-11T11:34:04.838567Z"
    }
   },
   "cell_type": "code",
   "source": [
    "np.random.seed(42)  # Example seed\n",
    "nqubits = 4\n",
    "J = 1/np.sqrt(2)\n",
    "depth = 2\n",
    "error_rate = 1e-2\n",
    "parameter = np.array(np.random.random(2*nqubits*depth))\n",
    "#ansatz_hamiltonian(nqubits, depth, parameter).draw('mpl')\n",
    "result_intermediate2 = []\n",
    "def callback(intermediate_result):\n",
    "    result_intermediate2.append(intermediate_result.fun)\n",
    "estimate_val_hva2 = minimize(cost_function1, parameter, args=(nqubits, depth, error_rate), method=\"BFGS\", tol=1e-5, options={'disp': False}, callback=callback)\n",
    "estimate_val_hva2"
   ],
   "id": "48a9fedf915e0e62",
   "outputs": [
    {
     "data": {
      "text/plain": [
       "  message: Desired error not necessarily achieved due to precision loss.\n",
       "  success: False\n",
       "   status: 2\n",
       "      fun: -0.4791756183231318\n",
       "        x: [ 3.745e-01  9.507e-01 ...  1.818e-01  1.834e-01]\n",
       "      nit: 4\n",
       "      jac: [-2.521e+07 -4.699e+07 ...  8.324e+07  1.214e+08]\n",
       " hess_inv: [[ 1.108e+01 -1.115e+00 ... -4.679e+00 -1.118e+00]\n",
       "            [-1.115e+00  7.996e-01 ...  6.845e-01  3.297e-01]\n",
       "            ...\n",
       "            [-4.679e+00  6.845e-01 ...  3.001e+00  3.912e-01]\n",
       "            [-1.118e+00  3.297e-01 ...  3.912e-01  9.042e-01]]\n",
       "     nfev: 523\n",
       "     njev: 30"
      ]
     },
     "execution_count": 20,
     "metadata": {},
     "output_type": "execute_result"
    }
   ],
   "execution_count": 20
  },
  {
   "metadata": {},
   "cell_type": "code",
   "outputs": [],
   "execution_count": null,
   "source": "",
   "id": "a4f500eda2a4e6f3"
  },
  {
   "cell_type": "markdown",
   "id": "cfacb03f7dc8f249",
   "metadata": {},
   "source": "### Use estimator from qiskit_aer"
  },
  {
   "cell_type": "code",
   "id": "686e726fe73854e3",
   "metadata": {
    "ExecuteTime": {
     "end_time": "2025-01-11T12:43:28.864799Z",
     "start_time": "2025-01-11T12:43:28.859799Z"
    }
   },
   "source": [
    "def cost_function(params, nqubits, depth, error_rate):\n",
    "    hamiltonian =  get_hamiltonian(nqubits)\n",
    "    circuit =  ansatz_hamiltonian(nqubits, depth,params)\n",
    "    circuit = circuit.decompose()\n",
    "    noise_model = NoiseModel()\n",
    "    error = depolarizing_error(error_rate, 1)\n",
    "    noise_model.add_all_qubit_quantum_error(error, ['u1', 'u2', 'u3'])\n",
    "    error1 = depolarizing_error(error_rate*10, 2)\n",
    "    noise_model.add_all_qubit_quantum_error(error1,'cx')\n",
    "    #circuit.save_statevector()\n",
    "    if error_rate == 0:\n",
    "        estimator = EstimatorV2()\n",
    "        #print('error rate is 0')\n",
    "    else:\n",
    "        #print('error rate is ' + str(error_rate))\n",
    "        estimator = EstimatorV2(options=dict(backend_options=dict(noise_model=noise_model)))\n",
    "        #circuit = transpile(circuit, sim_d)\n",
    "        #noise_result = sim_d.run(circ_noise, shots=1).result()\n",
    "    result =estimator.run([(circuit, hamiltonian)]).result()\n",
    "    expectation=result[0].data.evs\n",
    "    return expectation.real"
   ],
   "outputs": [],
   "execution_count": 46
  },
  {
   "cell_type": "code",
   "id": "bc161c688ceb25f9",
   "metadata": {
    "ExecuteTime": {
     "end_time": "2025-01-11T12:43:30.776640Z",
     "start_time": "2025-01-11T12:43:30.764535Z"
    }
   },
   "source": [
    "np.random.seed(42)  # Example seed\n",
    "nqubits = 4\n",
    "J = 1/np.sqrt(2)\n",
    "depth = 2\n",
    "error_rate = 0\n",
    "parameter = np.array(np.random.random(2*nqubits*depth))\n",
    "expectation = cost_function(parameter, nqubits, depth, error_rate)\n",
    "expectation"
   ],
   "outputs": [
    {
     "data": {
      "text/plain": [
       "array(1.32826405)"
      ]
     },
     "execution_count": 47,
     "metadata": {},
     "output_type": "execute_result"
    }
   ],
   "execution_count": 47
  },
  {
   "cell_type": "code",
   "id": "5daa64b30c95aacd",
   "metadata": {
    "ExecuteTime": {
     "end_time": "2025-01-11T12:43:32.241011Z",
     "start_time": "2025-01-11T12:43:32.222012Z"
    }
   },
   "source": [
    "np.random.seed(42)  # Example seed\n",
    "nqubits = 4\n",
    "J = 1/np.sqrt(2)\n",
    "depth = 2\n",
    "error_rate = 1e-3\n",
    "parameter = np.array(np.random.random(2*nqubits*depth))\n",
    "expectation = cost_function(parameter, nqubits, depth, error_rate)\n",
    "expectation"
   ],
   "outputs": [
    {
     "data": {
      "text/plain": [
       "array(1.21942165)"
      ]
     },
     "execution_count": 48,
     "metadata": {},
     "output_type": "execute_result"
    }
   ],
   "execution_count": 48
  },
  {
   "cell_type": "code",
   "id": "4d053fa24422f4b",
   "metadata": {
    "ExecuteTime": {
     "end_time": "2025-01-11T12:43:36.952345Z",
     "start_time": "2025-01-11T12:43:33.942874Z"
    }
   },
   "source": [
    "np.random.seed(42)  # Example seed\n",
    "nqubits = 4\n",
    "J = 1/np.sqrt(2)\n",
    "depth = 2\n",
    "error_rate = 0\n",
    "parameter = np.array(np.random.random(2*nqubits*depth))\n",
    "#ansatz_hamiltonian(nqubits, depth, parameter).draw('mpl')\n",
    "result_intermediate = []\n",
    "def callback(intermediate_result):\n",
    "    result_intermediate.append(intermediate_result.fun)\n",
    "estimate_val_hva = minimize(cost_function, parameter, args=(nqubits, depth, error_rate), method=\"BFGS\", tol=1e-5, options={'disp': False}, callback=callback)\n",
    "result_intermediate"
   ],
   "outputs": [
    {
     "data": {
      "text/plain": [
       "[-1.146546132116061,\n",
       " -2.6028982372512375,\n",
       " -2.8480938565785943,\n",
       " -3.2060020690785107,\n",
       " -3.3199942708126375,\n",
       " -3.4384043636342216,\n",
       " -3.537362372341709,\n",
       " -3.6054730441231895,\n",
       " -3.6484027209174577,\n",
       " -3.662023081540118,\n",
       " -3.670442736465896,\n",
       " -3.676593660765858,\n",
       " -3.6807427454988653,\n",
       " -3.686548537845189,\n",
       " -3.69303122725566,\n",
       " -3.6947919802622278,\n",
       " -3.695177500516187,\n",
       " -3.6953272807143134,\n",
       " -3.6954448697713076,\n",
       " -3.69549218687719,\n",
       " -3.6955136487462426,\n",
       " -3.695517966962232,\n",
       " -3.695518114522142,\n",
       " -3.695518129754621,\n",
       " -3.6955181300347575]"
      ]
     },
     "execution_count": 49,
     "metadata": {},
     "output_type": "execute_result"
    }
   ],
   "execution_count": 49
  },
  {
   "cell_type": "code",
   "id": "fde7b264a43ba209",
   "metadata": {
    "ExecuteTime": {
     "end_time": "2025-01-11T12:46:59.934982Z",
     "start_time": "2025-01-11T12:46:37.153343Z"
    }
   },
   "source": [
    "np.random.seed(42)  # Example seed\n",
    "nqubits = 4\n",
    "J = 1/np.sqrt(2)\n",
    "depth = 2\n",
    "error_rate = 1e-3\n",
    "parameter = np.array(np.random.random(2*nqubits*depth))\n",
    "#ansatz_hamiltonian(nqubits, depth, parameter).draw('mpl')\n",
    "result_intermediate1 = []\n",
    "def callback(intermediate_result):\n",
    "    result_intermediate1.append(intermediate_result.fun)\n",
    "estimate_val_hva = minimize(cost_function, parameter, args=(nqubits, depth, error_rate), method=\"BFGS\", tol=1e-5, options={'disp': False}, callback=callback)\n",
    "estimate_val_hva"
   ],
   "outputs": [
    {
     "data": {
      "text/plain": [
       "  message: Optimization terminated successfully.\n",
       "  success: True\n",
       "   status: 0\n",
       "      fun: -3.359729826752132\n",
       "        x: [-7.238e-01  7.296e-01 ... -5.392e-01 -1.362e+00]\n",
       "      nit: 167\n",
       "      jac: [ 1.013e-06  2.295e-06 ... -3.636e-06 -3.189e-06]\n",
       " hess_inv: [[ 4.279e+00 -4.772e+00 ... -6.773e+00  5.910e+00]\n",
       "            [-4.772e+00  9.178e+00 ...  1.302e+01 -8.965e+00]\n",
       "            ...\n",
       "            [-6.773e+00  1.302e+01 ...  3.003e+01 -1.407e+01]\n",
       "            [ 5.910e+00 -8.965e+00 ... -1.407e+01  1.185e+01]]\n",
       "     nfev: 3060\n",
       "     njev: 180"
      ]
     },
     "execution_count": 51,
     "metadata": {},
     "output_type": "execute_result"
    }
   ],
   "execution_count": 51
  },
  {
   "cell_type": "code",
   "id": "27e3bb3a1c23a5ea",
   "metadata": {
    "ExecuteTime": {
     "end_time": "2024-12-30T08:24:05.720857Z",
     "start_time": "2024-12-30T08:23:37.350094Z"
    }
   },
   "source": [
    "np.random.seed(42)  # Example seed\n",
    "nqubits = 4\n",
    "J = 1/np.sqrt(2)\n",
    "depth = 2\n",
    "error_rate = 1e-4\n",
    "parameter = np.array(np.random.random(2*nqubits*depth))\n",
    "#ansatz_hamiltonian(nqubits, depth, parameter).draw('mpl')\n",
    "result_intermediate2 = []\n",
    "def callback(intermediate_result):\n",
    "    result_intermediate2.append(intermediate_result.fun)\n",
    "estimate_val_hva = minimize(cost_function, parameter, args=(nqubits, depth, error_rate), method=\"BFGS\", tol=1e-5, options={'disp': False}, callback=callback)\n",
    "result_intermediate2"
   ],
   "outputs": [
    {
     "data": {
      "text/plain": [
       "[-1.1327336346553483,\n",
       " -2.573693251145439,\n",
       " -2.8268634973436604,\n",
       " -3.1862136373965844,\n",
       " -3.2858784353000847,\n",
       " -3.4041102239161303,\n",
       " -3.492750366533888,\n",
       " -3.5542639875867055,\n",
       " -3.5931666227636025,\n",
       " -3.6108328799941214,\n",
       " -3.6278525226539227,\n",
       " -3.634479225017325,\n",
       " -3.63877002341861,\n",
       " -3.6454104507345546,\n",
       " -3.65041175355045,\n",
       " -3.6530895817734876,\n",
       " -3.6538353642526946,\n",
       " -3.6540714007737414,\n",
       " -3.654196374589492,\n",
       " -3.654336282504428,\n",
       " -3.6543745248461215,\n",
       " -3.6543936359179003,\n",
       " -3.654398721412571,\n",
       " -3.654407107842274,\n",
       " -3.6544221910420602,\n",
       " -3.654450068229094,\n",
       " -3.654499772069532,\n",
       " -3.6545541809469215,\n",
       " -3.6546093246864477,\n",
       " -3.6546994170443257,\n",
       " -3.6547984622870437,\n",
       " -3.654814493600868,\n",
       " -3.6548427656683122,\n",
       " -3.654891689114158,\n",
       " -3.6549684788058565,\n",
       " -3.6550574205325432,\n",
       " -3.6550798614412185,\n",
       " -3.655118899653179,\n",
       " -3.6551794895569567,\n",
       " -3.655266340546341,\n",
       " -3.6553063796612233,\n",
       " -3.655364747612473,\n",
       " -3.655441063176196,\n",
       " -3.655552687011101,\n",
       " -3.6556170705094675,\n",
       " -3.6557173618011936,\n",
       " -3.655859896115016,\n",
       " -3.656019461646859,\n",
       " -3.656058545965919,\n",
       " -3.656123434051577,\n",
       " -3.6562224566166495,\n",
       " -3.656329802139947,\n",
       " -3.6564442012868033,\n",
       " -3.656609830154259,\n",
       " -3.656889658661954,\n",
       " -3.6572577972232256,\n",
       " -3.657339497110801,\n",
       " -3.6574257338727456,\n",
       " -3.6574966245588394,\n",
       " -3.6575925052957956,\n",
       " -3.65767454805735,\n",
       " -3.657704822448116,\n",
       " -3.6577535158804895,\n",
       " -3.6578107633089205,\n",
       " -3.657833205451314,\n",
       " -3.657861530893516,\n",
       " -3.6578866229909903,\n",
       " -3.6579226641624785,\n",
       " -3.657946355786086,\n",
       " -3.6579710167725197,\n",
       " -3.6580133349519093,\n",
       " -3.6580788781650986,\n",
       " -3.6581766637679496,\n",
       " -3.6582650879428384,\n",
       " -3.6583642093035516,\n",
       " -3.6584136501315676,\n",
       " -3.6584832369220965,\n",
       " -3.6585464674056922,\n",
       " -3.6586030655980766,\n",
       " -3.6586289545593944,\n",
       " -3.658664645159355,\n",
       " -3.6586834203760037,\n",
       " -3.6587038274699304,\n",
       " -3.658711835088348,\n",
       " -3.6587142346747763,\n",
       " -3.6587179263028453,\n",
       " -3.658722957200276,\n",
       " -3.658731411786158,\n",
       " -3.6587466310336016,\n",
       " -3.6587744163238916,\n",
       " -3.6588226570040034,\n",
       " -3.65887109598879,\n",
       " -3.6589514353968156,\n",
       " -3.6589954984554254,\n",
       " -3.659069262446855,\n",
       " -3.6591487726412386,\n",
       " -3.6591654737591175,\n",
       " -3.6591930960997168,\n",
       " -3.6592398159414516,\n",
       " -3.659316642498106,\n",
       " -3.659435134531076,\n",
       " -3.6595312768520607,\n",
       " -3.659578583707283,\n",
       " -3.659619926937153,\n",
       " -3.6596606141128034,\n",
       " -3.6596679428609376,\n",
       " -3.659673488908121,\n",
       " -3.6596788989963973,\n",
       " -3.659686469519463,\n",
       " -3.6596910434892598,\n",
       " -3.6596953423707874,\n",
       " -3.6597010040407234,\n",
       " -3.6597062053872738,\n",
       " -3.6597130706303505,\n",
       " -3.659723168939429,\n",
       " -3.6597398929310407,\n",
       " -3.659761830455514,\n",
       " -3.659767796068994,\n",
       " -3.6597763037507223,\n",
       " -3.6597811991068863,\n",
       " -3.6597834822455853,\n",
       " -3.6597860728839713,\n",
       " -3.6597899815093715,\n",
       " -3.659792807185523,\n",
       " -3.659794218498654,\n",
       " -3.6597946387174956,\n",
       " -3.659794922634499,\n",
       " -3.6597953930144858,\n",
       " -3.6597961273683977,\n",
       " -3.6597972726217822,\n",
       " -3.6597991813454303,\n",
       " -3.6598024169240757,\n",
       " -3.6598074229179893,\n",
       " -3.6598140472939407,\n",
       " -3.659819780621905,\n",
       " -3.6598213430233093,\n",
       " -3.65982181987596,\n",
       " -3.6598220643367454,\n",
       " -3.6598221150728576,\n",
       " -3.6598221479992654,\n",
       " -3.659822162144798,\n",
       " -3.6598221657346386,\n",
       " -3.6598221691314565,\n",
       " -3.6598221751205164,\n",
       " -3.6598221859723274,\n",
       " -3.6598222054444887,\n",
       " -3.659822239693933,\n",
       " -3.659822296979678,\n",
       " -3.659822383898746,\n",
       " -3.6598224902066647,\n",
       " -3.6598226486419825,\n",
       " -3.659822879231804,\n",
       " -3.6598232235685,\n",
       " -3.6598238069337827,\n",
       " -3.6598246991597394,\n",
       " -3.6598257769092273,\n",
       " -3.6598274458760462,\n",
       " -3.6598295122895608,\n",
       " -3.6598304602866953,\n",
       " -3.6598320187260227,\n",
       " -3.65983291851776,\n",
       " -3.6598342121176213,\n",
       " -3.659836141071479,\n",
       " -3.659837918668471,\n",
       " -3.659840095094404,\n",
       " -3.6598424487578622,\n",
       " -3.6598438183664883,\n",
       " -3.6598455318918877,\n",
       " -3.6598465412378056,\n",
       " -3.6598481589500476,\n",
       " -3.6598501719308354,\n",
       " -3.659850839920096,\n",
       " -3.6598520258731786,\n",
       " -3.6598527422568337,\n",
       " -3.659853293893785,\n",
       " -3.659853663115586,\n",
       " -3.6598540003681688,\n",
       " -3.6598544849248325,\n",
       " -3.6598551248369056,\n",
       " -3.6598556937699063,\n",
       " -3.6598560512321896,\n",
       " -3.6598561906850877,\n",
       " -3.659856372620061,\n",
       " -3.6598565566619534,\n",
       " -3.6598567074112114,\n",
       " -3.6598568752625082,\n",
       " -3.6598569430650407,\n",
       " -3.6598570459362345,\n",
       " -3.659857134124186,\n",
       " -3.6598572550450568,\n",
       " -3.6598573917069794,\n",
       " -3.659857527103774,\n",
       " -3.6598577039031595,\n",
       " -3.6598578307167613,\n",
       " -3.659857978475589,\n",
       " -3.659858141696739,\n",
       " -3.6598583780135487,\n",
       " -3.6598587202591366,\n",
       " -3.659858924059002,\n",
       " -3.659859156866423,\n",
       " -3.6598592660964115,\n",
       " -3.6598593272869504,\n",
       " -3.6598593752267625,\n",
       " -3.659859409647623,\n",
       " -3.659859430262747,\n",
       " -3.6598594576129435,\n",
       " -3.6598594938676388,\n",
       " -3.659859550952013,\n",
       " -3.659859622376422,\n",
       " -3.659859673485618,\n",
       " -3.6598597508271213,\n",
       " -3.659859826061421,\n",
       " -3.6598598965971862,\n",
       " -3.6598599590314413,\n",
       " -3.65985995989473,\n",
       " -3.6598599613732112,\n",
       " -3.6598599632170936]"
      ]
     },
     "execution_count": 43,
     "metadata": {},
     "output_type": "execute_result"
    }
   ],
   "execution_count": 43
  },
  {
   "metadata": {
    "ExecuteTime": {
     "end_time": "2025-01-11T12:48:11.694104Z",
     "start_time": "2025-01-11T12:48:01.139575Z"
    }
   },
   "cell_type": "code",
   "source": [
    "np.random.seed(42)  # Example seed\n",
    "nqubits = 4\n",
    "J = 1/np.sqrt(2)\n",
    "depth = 2\n",
    "error_rate = 1e-2\n",
    "parameter = np.array(np.random.random(2*nqubits*depth))\n",
    "#ansatz_hamiltonian(nqubits, depth, parameter).draw('mpl')\n",
    "result_intermediate3 = []\n",
    "def callback(intermediate_result):\n",
    "    result_intermediate3.append(intermediate_result.fun)\n",
    "estimate_val_hva = minimize(cost_function, parameter, args=(nqubits, depth, error_rate), method=\"BFGS\", tol=1e-5, options={'disp': False}, callback=callback)\n",
    "result_intermediate3"
   ],
   "id": "f30f75e2b2c4cc7a",
   "outputs": [
    {
     "data": {
      "text/plain": [
       "[-0.29384615084282417,\n",
       " -0.7570092690545605,\n",
       " -0.9536697021568348,\n",
       " -1.0862885593052243,\n",
       " -1.1023758911424142,\n",
       " -1.110610754713142,\n",
       " -1.1264770808910556,\n",
       " -1.1540714006378234,\n",
       " -1.1708574199707147,\n",
       " -1.185536170640128,\n",
       " -1.2105597503955434,\n",
       " -1.239483358508678,\n",
       " -1.2620526812137451,\n",
       " -1.2992903963371212,\n",
       " -1.3384534479394279,\n",
       " -1.3635003834776391,\n",
       " -1.3831766433506165,\n",
       " -1.4030590134874836,\n",
       " -1.4145550155301723,\n",
       " -1.4204545082020026,\n",
       " -1.4223153426234205,\n",
       " -1.4231159410854248,\n",
       " -1.4233990384482456,\n",
       " -1.4236439192149175,\n",
       " -1.4238062338045077,\n",
       " -1.424002541972481,\n",
       " -1.4243336518700498,\n",
       " -1.4249177564914492,\n",
       " -1.4258760539713922,\n",
       " -1.4263437728720176,\n",
       " -1.4269421042114399,\n",
       " -1.4274245874655145,\n",
       " -1.4279272025156753,\n",
       " -1.4282641911489047,\n",
       " -1.4284956493542071,\n",
       " -1.4286163274686339,\n",
       " -1.428821760510303,\n",
       " -1.429162656989834,\n",
       " -1.4297112234171863,\n",
       " -1.4305619388221693,\n",
       " -1.4317403396699246,\n",
       " -1.4328671442736973,\n",
       " -1.4338837770413755,\n",
       " -1.4345374174729906,\n",
       " -1.4351232137112722,\n",
       " -1.4353959372269691,\n",
       " -1.435784002743712,\n",
       " -1.4360699347362456,\n",
       " -1.4362150505328257,\n",
       " -1.4362808552541524,\n",
       " -1.4363125531915695,\n",
       " -1.4363319934652299,\n",
       " -1.4363384913037813,\n",
       " -1.436342751468878,\n",
       " -1.4363496212766367,\n",
       " -1.4363604735918538,\n",
       " -1.436374367961676,\n",
       " -1.4363824296786833,\n",
       " -1.436387865289438,\n",
       " -1.4363913244145288,\n",
       " -1.4363947753903223,\n",
       " -1.43639655014667,\n",
       " -1.4363970705244813,\n",
       " -1.4363972641338845,\n",
       " -1.4363975692543043,\n",
       " -1.4363980580574545,\n",
       " -1.4363987543159251,\n",
       " -1.43639915901265,\n",
       " -1.4363992655952416,\n",
       " -1.4363992801878502,\n",
       " -1.4363992874232827,\n",
       " -1.4363992998134079,\n",
       " -1.4363993199724592,\n",
       " -1.4363993437657396,\n",
       " -1.4363993503167862,\n",
       " -1.436399352261719]"
      ]
     },
     "execution_count": 52,
     "metadata": {},
     "output_type": "execute_result"
    }
   ],
   "execution_count": 52
  },
  {
   "metadata": {
    "ExecuteTime": {
     "end_time": "2025-01-11T12:48:27.571867Z",
     "start_time": "2025-01-11T12:48:27.566865Z"
    }
   },
   "cell_type": "code",
   "source": "estimate_val_hva",
   "id": "11702337c86b7ca8",
   "outputs": [
    {
     "data": {
      "text/plain": [
       "  message: Optimization terminated successfully.\n",
       "  success: True\n",
       "   status: 0\n",
       "      fun: -1.436399352261719\n",
       "        x: [ 3.190e-01  2.780e+00 ...  6.254e-01  1.144e+00]\n",
       "      nit: 76\n",
       "      jac: [-8.643e-07 -4.470e-07 ... -5.662e-07 -1.252e-06]\n",
       " hess_inv: [[ 4.115e+00 -1.597e+00 ...  1.320e+00  3.050e+00]\n",
       "            [-1.597e+00  3.744e+00 ...  2.215e+00 -1.958e+00]\n",
       "            ...\n",
       "            [ 1.320e+00  2.215e+00 ...  1.849e+01 -6.583e+00]\n",
       "            [ 3.050e+00 -1.958e+00 ... -6.583e+00  1.663e+01]]\n",
       "     nfev: 1343\n",
       "     njev: 79"
      ]
     },
     "execution_count": 53,
     "metadata": {},
     "output_type": "execute_result"
    }
   ],
   "execution_count": 53
  },
  {
   "metadata": {
    "ExecuteTime": {
     "end_time": "2024-12-30T08:24:41.848813Z",
     "start_time": "2024-12-30T08:24:41.843853Z"
    }
   },
   "cell_type": "code",
   "source": "len(result_intermediate2)",
   "id": "b2e06bac312b853e",
   "outputs": [
    {
     "data": {
      "text/plain": [
       "217"
      ]
     },
     "execution_count": 44,
     "metadata": {},
     "output_type": "execute_result"
    }
   ],
   "execution_count": 44
  },
  {
   "metadata": {
    "ExecuteTime": {
     "end_time": "2025-01-01T06:51:13.682570Z",
     "start_time": "2025-01-01T06:51:13.605290Z"
    }
   },
   "cell_type": "code",
   "source": [
    "hamiltonian = get_hamiltonian(4)\n",
    "H_array = hamiltonian.to_matrix()\n",
    "eval, _ = np.linalg.eigh(H_array)\n",
    "# print(eval)\n",
    "emin = eval[0]\n",
    "emin"
   ],
   "id": "69393a918164eab1",
   "outputs": [
    {
     "data": {
      "text/plain": [
       "np.float64(-3.6955181300451487)"
      ]
     },
     "execution_count": 46,
     "metadata": {},
     "output_type": "execute_result"
    }
   ],
   "execution_count": 46
  },
  {
   "metadata": {
    "ExecuteTime": {
     "end_time": "2025-01-07T08:01:45.663042Z",
     "start_time": "2025-01-07T08:01:45.558163Z"
    }
   },
   "cell_type": "code",
   "source": [
    "x = np.linspace(0, 250)  # 11个点\n",
    "y = result_intermediate  # 只有6个点\n",
    "y1 = result_intermediate1\n",
    "y2 = result_intermediate2\n",
    "y3 = result_intermediate3\n",
    "horizontal_line_value = emin\n",
    "# 创建figure和axes对象\n",
    "fig, ax = plt.subplots()\n",
    "# 使用axes对象绘制数据，不指定x值，默认使用索引\n",
    "ax.plot(y, label='0 error_rate', marker=\"x\", c=\"darkmagenta\", ls=\"-\")\n",
    "ax.plot(y1, label='1e-3 error_rate', marker='o', linestyle='-')\n",
    "ax.plot(y2, label='1e-4 error_rate', marker=\"v\", c=\"r\", ls=\"-\")\n",
    "ax.plot(y3, label='1e-2 error_rate', marker=\"v\", c=\"g\", ls=\"-\")\n",
    "ax.axhline(y=horizontal_line_value, color='r', linestyle='--', label='minimum eigenvalue')\n",
    "legend = fig.legend(\n",
    "            *ax.get_legend_handles_labels(),\n",
    "            bbox_to_anchor=(1.0, 0.5),\n",
    "            loc=\"center left\",\n",
    "            framealpha=0.5,\n",
    "        )\n",
    "# 设置x轴刻度为索引值\n",
    "ax.set_xlim(0, 30)\n",
    "ax.set_xticks(np.arange(0, 30, 5))\n",
    "# 添加标题和标签\n",
    "ax.set_title('pure VQE')\n",
    "ax.set_xlabel('Steps')\n",
    "ax.set_ylabel('Expectation')\n",
    "# 显示网格\n",
    "ax.grid(False)\n",
    "# 展示图形\n",
    "plt.show()"
   ],
   "id": "a5968ac2b14d925e",
   "outputs": [
    {
     "data": {
      "text/plain": [
       "<Figure size 640x480 with 1 Axes>"
      ],
      "image/png": "[encoded data removed]"
     },
     "metadata": {},
     "output_type": "display_data"
    }
   ],
   "execution_count": 79
  },
  {
   "metadata": {
    "ExecuteTime": {
     "end_time": "2025-01-01T07:01:15.698032Z",
     "start_time": "2025-01-01T07:01:15.693031Z"
    }
   },
   "cell_type": "code",
   "source": "abs(emin-result_intermediate1[-1])/abs(emin)*100",
   "id": "fb9565c972c7f906",
   "outputs": [
    {
     "data": {
      "text/plain": [
       "np.float64(9.086366010844452)"
      ]
     },
     "execution_count": 51,
     "metadata": {},
     "output_type": "execute_result"
    }
   ],
   "execution_count": 51
  },
  {
   "metadata": {},
   "cell_type": "code",
   "outputs": [],
   "execution_count": null,
   "source": "",
   "id": "7e49e39f9263f2e9"
  },
  {
   "metadata": {},
   "cell_type": "markdown",
   "source": "## test",
   "id": "1b02529b7fc4b159"
  },
  {
   "metadata": {
    "ExecuteTime": {
     "end_time": "2025-01-03T08:07:00.812787Z",
     "start_time": "2025-01-03T08:06:32.033665Z"
    }
   },
   "cell_type": "code",
   "source": [
    "def cost_function1(params, nqubits, depth, error_rate):\n",
    "    hamiltonian =  get_hamiltonian(nqubits)\n",
    "    circuit =  ansatz_hamiltonian(nqubits, depth,params)\n",
    "    circuit = circuit.decompose()\n",
    "    noise_model = NoiseModel()\n",
    "    error = depolarizing_error(error_rate, 1)\n",
    "    noise_model.add_all_qubit_quantum_error(error, ['u1', 'u2', 'u3'])\n",
    "    error1 = depolarizing_error(error_rate*10, 2)\n",
    "    noise_model.add_all_qubit_quantum_error(error1,'cx')\n",
    "    #circuit.save_statevector()\n",
    "    if error_rate == 0:\n",
    "        estimator = EstimatorV2()\n",
    "        #print('error rate is 0')\n",
    "    else:\n",
    "        #print('error rate is ' + str(error_rate))\n",
    "        estimator = EstimatorV2(options=dict(backend_options=dict(noise_model=noise_model)))\n",
    "        #circuit = transpile(circuit, sim_d)\n",
    "        #noise_result = sim_d.run(circ_noise, shots=1).result()\n",
    "    result =estimator.run([(circuit, hamiltonian)]).result()\n",
    "    expectation=result[0].data.evs\n",
    "    return expectation.real\n",
    "np.random.seed(42)  # Example seed\n",
    "nqubits = 4\n",
    "J = 1/np.sqrt(2)\n",
    "depth = 2\n",
    "error_rate = 1e-4\n",
    "parameter = np.array(np.random.random(2*nqubits*depth))\n",
    "#ansatz_hamiltonian(nqubits, depth, parameter).draw('mpl')\n",
    "result_intermediate2temp = []\n",
    "def callback(intermediate_result):\n",
    "    result_intermediate2temp.append(intermediate_result.fun)\n",
    "estimate_val_hva = minimize(cost_function1, parameter, args=(nqubits, depth, error_rate), method=\"BFGS\", tol=1e-5, options={'disp': False}, callback=callback)\n",
    "result_intermediate2temp"
   ],
   "id": "e77159663ad5fd2e",
   "outputs": [
    {
     "data": {
      "text/plain": [
       "[-1.1327336346553483,\n",
       " -2.573693251145439,\n",
       " -2.8268634973436604,\n",
       " -3.1862136373965844,\n",
       " -3.2858784353000847,\n",
       " -3.4041102239161303,\n",
       " -3.492750366533888,\n",
       " -3.5542639875867055,\n",
       " -3.5931666227636025,\n",
       " -3.6108328799941214,\n",
       " -3.6278525226539227,\n",
       " -3.634479225017325,\n",
       " -3.63877002341861,\n",
       " -3.6454104507345546,\n",
       " -3.65041175355045,\n",
       " -3.6530895817734876,\n",
       " -3.6538353642526946,\n",
       " -3.6540714007737414,\n",
       " -3.654196374589492,\n",
       " -3.654336282504428,\n",
       " -3.6543745248461215,\n",
       " -3.6543936359179003,\n",
       " -3.654398721412571,\n",
       " -3.654407107842274,\n",
       " -3.6544221910420602,\n",
       " -3.654450068229094,\n",
       " -3.654499772069532,\n",
       " -3.6545541809469215,\n",
       " -3.6546093246864477,\n",
       " -3.6546994170443257,\n",
       " -3.6547984622870437,\n",
       " -3.654814493600868,\n",
       " -3.6548427656683122,\n",
       " -3.654891689114158,\n",
       " -3.6549684788058565,\n",
       " -3.6550574205325432,\n",
       " -3.6550798614412185,\n",
       " -3.655118899653179,\n",
       " -3.6551794895569567,\n",
       " -3.655266340546341,\n",
       " -3.6553063796612233,\n",
       " -3.655364747612473,\n",
       " -3.655441063176196,\n",
       " -3.655552687011101,\n",
       " -3.6556170705094675,\n",
       " -3.6557173618011936,\n",
       " -3.655859896115016,\n",
       " -3.656019461646859,\n",
       " -3.656058545965919,\n",
       " -3.656123434051577,\n",
       " -3.6562224566166495,\n",
       " -3.656329802139947,\n",
       " -3.6564442012868033,\n",
       " -3.656609830154259,\n",
       " -3.656889658661954,\n",
       " -3.6572577972232256,\n",
       " -3.657339497110801,\n",
       " -3.6574257338727456,\n",
       " -3.6574966245588394,\n",
       " -3.6575925052957956,\n",
       " -3.65767454805735,\n",
       " -3.657704822448116,\n",
       " -3.6577535158804895,\n",
       " -3.6578107633089205,\n",
       " -3.657833205451314,\n",
       " -3.657861530893516,\n",
       " -3.6578866229909903,\n",
       " -3.6579226641624785,\n",
       " -3.657946355786086,\n",
       " -3.6579710167725197,\n",
       " -3.6580133349519093,\n",
       " -3.6580788781650986,\n",
       " -3.6581766637679496,\n",
       " -3.6582650879428384,\n",
       " -3.6583642093035516,\n",
       " -3.6584136501315676,\n",
       " -3.6584832369220965,\n",
       " -3.6585464674056922,\n",
       " -3.6586030655980766,\n",
       " -3.6586289545593944,\n",
       " -3.658664645159355,\n",
       " -3.6586834203760037,\n",
       " -3.6587038274699304,\n",
       " -3.658711835088348,\n",
       " -3.6587142346747763,\n",
       " -3.6587179263028453,\n",
       " -3.658722957200276,\n",
       " -3.658731411786158,\n",
       " -3.6587466310336016,\n",
       " -3.6587744163238916,\n",
       " -3.6588226570040034,\n",
       " -3.65887109598879,\n",
       " -3.6589514353968156,\n",
       " -3.6589954984554254,\n",
       " -3.659069262446855,\n",
       " -3.6591487726412386,\n",
       " -3.6591654737591175,\n",
       " -3.6591930960997168,\n",
       " -3.6592398159414516,\n",
       " -3.659316642498106,\n",
       " -3.659435134531076,\n",
       " -3.6595312768520607,\n",
       " -3.659578583707283,\n",
       " -3.659619926937153,\n",
       " -3.6596606141128034,\n",
       " -3.6596679428609376,\n",
       " -3.659673488908121,\n",
       " -3.6596788989963973,\n",
       " -3.659686469519463,\n",
       " -3.6596910434892598,\n",
       " -3.6596953423707874,\n",
       " -3.6597010040407234,\n",
       " -3.6597062053872738,\n",
       " -3.6597130706303505,\n",
       " -3.659723168939429,\n",
       " -3.6597398929310407,\n",
       " -3.659761830455514,\n",
       " -3.659767796068994,\n",
       " -3.6597763037507223,\n",
       " -3.6597811991068863,\n",
       " -3.6597834822455853,\n",
       " -3.6597860728839713,\n",
       " -3.6597899815093715,\n",
       " -3.659792807185523,\n",
       " -3.659794218498654,\n",
       " -3.6597946387174956,\n",
       " -3.659794922634499,\n",
       " -3.6597953930144858,\n",
       " -3.6597961273683977,\n",
       " -3.6597972726217822,\n",
       " -3.6597991813454303,\n",
       " -3.6598024169240757,\n",
       " -3.6598074229179893,\n",
       " -3.6598140472939407,\n",
       " -3.659819780621905,\n",
       " -3.6598213430233093,\n",
       " -3.65982181987596,\n",
       " -3.6598220643367454,\n",
       " -3.6598221150728576,\n",
       " -3.6598221479992654,\n",
       " -3.659822162144798,\n",
       " -3.6598221657346386,\n",
       " -3.6598221691314565,\n",
       " -3.6598221751205164,\n",
       " -3.6598221859723274,\n",
       " -3.6598222054444887,\n",
       " -3.659822239693933,\n",
       " -3.659822296979678,\n",
       " -3.659822383898746,\n",
       " -3.6598224902066647,\n",
       " -3.6598226486419825,\n",
       " -3.659822879231804,\n",
       " -3.6598232235685,\n",
       " -3.6598238069337827,\n",
       " -3.6598246991597394,\n",
       " -3.6598257769092273,\n",
       " -3.6598274458760462,\n",
       " -3.6598295122895608,\n",
       " -3.6598304602866953,\n",
       " -3.6598320187260227,\n",
       " -3.65983291851776,\n",
       " -3.6598342121176213,\n",
       " -3.659836141071479,\n",
       " -3.659837918668471,\n",
       " -3.659840095094404,\n",
       " -3.6598424487578622,\n",
       " -3.6598438183664883,\n",
       " -3.6598455318918877,\n",
       " -3.6598465412378056,\n",
       " -3.6598481589500476,\n",
       " -3.6598501719308354,\n",
       " -3.659850839920096,\n",
       " -3.6598520258731786,\n",
       " -3.6598527422568337,\n",
       " -3.659853293893785,\n",
       " -3.659853663115586,\n",
       " -3.6598540003681688,\n",
       " -3.6598544849248325,\n",
       " -3.6598551248369056,\n",
       " -3.6598556937699063,\n",
       " -3.6598560512321896,\n",
       " -3.6598561906850877,\n",
       " -3.659856372620061,\n",
       " -3.6598565566619534,\n",
       " -3.6598567074112114,\n",
       " -3.6598568752625082,\n",
       " -3.6598569430650407,\n",
       " -3.6598570459362345,\n",
       " -3.659857134124186,\n",
       " -3.6598572550450568,\n",
       " -3.6598573917069794,\n",
       " -3.659857527103774,\n",
       " -3.6598577039031595,\n",
       " -3.6598578307167613,\n",
       " -3.659857978475589,\n",
       " -3.659858141696739,\n",
       " -3.6598583780135487,\n",
       " -3.6598587202591366,\n",
       " -3.659858924059002,\n",
       " -3.659859156866423,\n",
       " -3.6598592660964115,\n",
       " -3.6598593272869504,\n",
       " -3.6598593752267625,\n",
       " -3.659859409647623,\n",
       " -3.659859430262747,\n",
       " -3.6598594576129435,\n",
       " -3.6598594938676388,\n",
       " -3.659859550952013,\n",
       " -3.659859622376422,\n",
       " -3.659859673485618,\n",
       " -3.6598597508271213,\n",
       " -3.659859826061421,\n",
       " -3.6598598965971862,\n",
       " -3.6598599590314413,\n",
       " -3.65985995989473,\n",
       " -3.6598599613732112,\n",
       " -3.6598599632170936]"
      ]
     },
     "execution_count": 52,
     "metadata": {},
     "output_type": "execute_result"
    }
   ],
   "execution_count": 52
  },
  {
   "metadata": {},
   "cell_type": "code",
   "outputs": [],
   "execution_count": null,
   "source": "",
   "id": "eb94f1c10e84c988"
  },
  {
   "metadata": {},
   "cell_type": "markdown",
   "source": "## qiskit_aer with EstimatorV2",
   "id": "407072a6e76c175a"
  },
  {
   "metadata": {
    "ExecuteTime": {
     "end_time": "2025-01-11T12:58:48.161298Z",
     "start_time": "2025-01-11T12:58:48.105328Z"
    }
   },
   "cell_type": "code",
   "source": [
    "np.random.seed(42)  # Example seed\n",
    "nqubits = 4\n",
    "J = 1/np.sqrt(2)\n",
    "depth = 2\n",
    "error_rate = 1e-4\n",
    "params = np.array(np.random.random(2*nqubits*depth))\n",
    "hamiltonian =  get_hamiltonian(nqubits)\n",
    "circuit =  ansatz_hea(nqubits, depth, params)\n",
    "circuit = circuit.decompose()\n",
    "noise_model = NoiseModel()\n",
    "error = depolarizing_error(error_rate, 1)\n",
    "noise_model.add_all_qubit_quantum_error(error, ['u1', 'u2', 'u3'])\n",
    "error1 = depolarizing_error(error_rate*10, 2)\n",
    "noise_model.add_all_qubit_quantum_error(error1,['cx'])\n",
    "sim_d = AerSimulator(noise_model=noise_model)\n",
    "circuit.save_statevector()\n",
    "circuit.measure_all()\n",
    "sampler = SamplerV2(options=dict(backend_options=dict(noise_model=noise_model)))\n",
    "result = sampler.run([circuit]).result()\n",
    "result[0].data.meas.get_counts()"
   ],
   "id": "aa1b884a43c46d24",
   "outputs": [
    {
     "data": {
      "text/plain": [
       "{'0000': 321,\n",
       " '1000': 292,\n",
       " '1010': 187,\n",
       " '0101': 50,\n",
       " '0100': 91,\n",
       " '1110': 24,\n",
       " '0110': 17,\n",
       " '0111': 12,\n",
       " '1111': 18,\n",
       " '0001': 8,\n",
       " '0010': 1,\n",
       " '1001': 2,\n",
       " '1011': 1}"
      ]
     },
     "execution_count": 61,
     "metadata": {},
     "output_type": "execute_result"
    }
   ],
   "execution_count": 61
  },
  {
   "metadata": {
    "ExecuteTime": {
     "end_time": "2025-01-11T13:00:51.244666Z",
     "start_time": "2025-01-11T13:00:51.227668Z"
    }
   },
   "cell_type": "code",
   "source": [
    "np.random.seed(42)  # Example seed\n",
    "nqubits = 4\n",
    "J = 1/np.sqrt(2)\n",
    "depth = 2\n",
    "error_rate = 0\n",
    "params = np.array(np.random.random(2*nqubits*depth))\n",
    "hamiltonian =  get_hamiltonian(nqubits)\n",
    "circuit =  ansatz_hea(nqubits, depth, params)\n",
    "circuit = circuit.decompose()\n",
    "noise_model = NoiseModel()\n",
    "error = depolarizing_error(error_rate, 1)\n",
    "noise_model.add_all_qubit_quantum_error(error, ['u1', 'u2', 'u3'])\n",
    "error1 = depolarizing_error(error_rate*10, 2)\n",
    "noise_model.add_all_qubit_quantum_error(error1,['cx'])\n",
    "sim_d = AerSimulator(noise_model=noise_model)\n",
    "circuit.save_statevector()\n",
    "circuit.measure_all()\n",
    "sampler = SamplerV2(options=dict(backend_options=dict(noise_model=noise_model)))\n",
    "result = sampler.run([circuit]).result()\n",
    "result[0].data.meas.get_counts()"
   ],
   "id": "7b882f5babc47e9b",
   "outputs": [
    {
     "data": {
      "text/plain": [
       "{'1000': 250,\n",
       " '0000': 386,\n",
       " '0101': 35,\n",
       " '1010': 194,\n",
       " '0100': 98,\n",
       " '1110': 24,\n",
       " '0110': 14,\n",
       " '1001': 1,\n",
       " '1111': 8,\n",
       " '0001': 4,\n",
       " '0111': 4,\n",
       " '0010': 4,\n",
       " '1100': 1,\n",
       " '1011': 1}"
      ]
     },
     "execution_count": 92,
     "metadata": {},
     "output_type": "execute_result"
    }
   ],
   "execution_count": 92
  },
  {
   "metadata": {},
   "cell_type": "code",
   "outputs": [],
   "execution_count": null,
   "source": "a",
   "id": "432decd3e4585932"
  }
 ],
 "metadata": {
  "kernelspec": {
   "display_name": "vqe_U",
   "language": "python",
   "name": "vqe_u"
  },
  "language_info": {
   "codemirror_mode": {
    "name": "ipython",
    "version": 3
   },
   "file_extension": ".py",
   "mimetype": "text/x-python",
   "name": "python",
   "nbconvert_exporter": "python",
   "pygments_lexer": "ipython3",
   "version": "3.12.1"
  }
 },
 "nbformat": 4,
 "nbformat_minor": 5
}
