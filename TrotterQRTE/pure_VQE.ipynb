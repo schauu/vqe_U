{
 "cells": [
  {
   "cell_type": "code",
   "execution_count": 1,
   "id": "d8a1713a-afcf-4f13-b8ff-e6b9b694971d",
   "metadata": {
    "ExecuteTime": {
     "end_time": "2025-01-11T12:53:32.216638Z",
     "start_time": "2025-01-11T12:53:32.212677Z"
    }
   },
   "outputs": [],
   "source": [
    "import numpy as np\n",
    "import scipy\n",
    "from qiskit import QuantumCircuit, transpile\n",
    "from qiskit.circuit import ParameterVector\n",
    "from qiskit.quantum_info.operators import Operator\n",
    "from qiskit.quantum_info import SparsePauliOp, Statevector, state_fidelity, Operator\n",
    "from qiskit_aer import AerSimulator\n",
    "from qiskit_aer.primitives import EstimatorV2, SamplerV2\n",
    "from qiskit_aer.noise import NoiseModel, depolarizing_error\n",
    "from qiskit.primitives import Estimator, Sampler\n",
    "from qiskit.primitives import StatevectorSampler, StatevectorEstimator\n",
    "from scipy.optimize import minimize\n",
    "import matplotlib.pyplot as plt\n",
    "from scipy.linalg import expm, cosm\n",
    "import warnings\n",
    "import time"
   ]
  },
  {
   "cell_type": "code",
   "execution_count": 43,
   "id": "d160fbc82536a412",
   "metadata": {
    "ExecuteTime": {
     "end_time": "2025-01-11T12:43:07.988509Z",
     "start_time": "2025-01-11T12:43:07.984508Z"
    }
   },
   "outputs": [
    {
     "name": "stdout",
     "output_type": "stream",
     "text": [
      "1.3.1\n"
     ]
    }
   ],
   "source": [
    "import qiskit\n",
    "print(qiskit.__version__)"
   ]
  },
  {
   "cell_type": "code",
   "execution_count": 44,
   "id": "eee440eee558268d",
   "metadata": {
    "ExecuteTime": {
     "end_time": "2025-01-11T12:43:08.886070Z",
     "start_time": "2025-01-11T12:43:08.882833Z"
    }
   },
   "outputs": [
    {
     "name": "stdout",
     "output_type": "stream",
     "text": [
      "0.15.1\n"
     ]
    }
   ],
   "source": [
    "import qiskit_aer\n",
    "print(qiskit_aer.__version__)"
   ]
  },
  {
   "cell_type": "code",
   "execution_count": 18,
   "id": "308feb0a-63ff-4935-b27f-f90b2633e8fb",
   "metadata": {
    "ExecuteTime": {
     "end_time": "2025-01-11T12:43:09.803657Z",
     "start_time": "2025-01-11T12:43:09.791659Z"
    }
   },
   "outputs": [],
   "source": [
    "def get_hamiltonian(nqubits):\n",
    "    J=1/np.sqrt(2)\n",
    "    ZZ_tuples = [('ZZ', [i, i+1], J) for i in range(nqubits-1)]\n",
    "    ZZ_tuples += [('ZZ', [nqubits-1, 0], J)]\n",
    "    X_tuples = [(\"X\", [i], J) for i in range(nqubits)]\n",
    "    hamiltonian = SparsePauliOp.from_sparse_list([*ZZ_tuples, *X_tuples], num_qubits=nqubits)\n",
    "    return hamiltonian.simplify()\n",
    "    \n",
    "def ansatz_hamiltonian(nqubits, depth, params):\n",
    "    circuit = QuantumCircuit(nqubits)\n",
    "    t = 0\n",
    "    for i in range(nqubits):\n",
    "        circuit.h(i)\n",
    "    for idepth in range(depth):\n",
    "        for i in range(nqubits):\n",
    "            if i < (nqubits - 1):\n",
    "                j = i + 1\n",
    "            else:\n",
    "                j = 0\n",
    "            circuit.rzz(params[t], i, j)\n",
    "            t += 1\n",
    "        circuit.barrier()\n",
    "        for i in range(nqubits):\n",
    "            if i < (nqubits - 1):\n",
    "                j = i + 1\n",
    "            else:\n",
    "                j = 0    \n",
    "            circuit.rx(params[t], i)\n",
    "            t += 1\n",
    "    return circuit    \n",
    "    \n",
    "def ansatz_hea(nqubits, depth, params):\n",
    "    circuit = QuantumCircuit(nqubits)\n",
    "    t = 0\n",
    "    for idepth in range(depth):\n",
    "        for i in range(nqubits):\n",
    "            circuit.ry(params[t], i)\n",
    "            t += 1\n",
    "        circuit.barrier()\n",
    "        for i in range(nqubits-1):\n",
    "            circuit.cx(i, i+1)\n",
    "    return circuit    \n",
    "   \n",
    "def cost_function1(params, nqubits, depth, error_rate):\n",
    "    hamiltonian =  get_hamiltonian(nqubits)\n",
    "    circuit =  ansatz_hamiltonian(nqubits, depth,params)\n",
    "    circuit = circuit.decompose()\n",
    "    noise_model = NoiseModel()\n",
    "    error = depolarizing_error(error_rate, 1)\n",
    "    noise_model.add_all_qubit_quantum_error(error, ['u1', 'u2', 'u3'])\n",
    "    error1 = depolarizing_error(error_rate*10, 2)\n",
    "    noise_model.add_all_qubit_quantum_error(error1,'cx')\n",
    "    sim_d = AerSimulator(noise_model=noise_model)\n",
    "    circuit.save_statevector() \n",
    "    if error_rate == 0:\n",
    "        simulator = AerSimulator()\n",
    "    else:\n",
    "        simulator = sim_d\n",
    "        circuit = transpile(circuit, sim_d)\n",
    "        #noise_result = sim_d.run(circ_noise, shots=1).result()\n",
    "    result = simulator.run(circuit).result()\n",
    "    u=result.data(0)['statevector'].data\n",
    "    expectation = (u.conj().dot(hamiltonian.to_matrix())).dot(u)\n",
    "    return expectation.real\n",
    "    \n",
    "def cost_function2(params, nqubits, depth, error_rate):\n",
    "    hamiltonian =  get_hamiltonian(nqubits)\n",
    "    circuit =  ansatz_hea(nqubits, depth,params)\n",
    "    circuit = circuit.decompose()\n",
    "    noise_model = NoiseModel()\n",
    "    error = depolarizing_error(error_rate, 1)\n",
    "    noise_model.add_all_qubit_quantum_error(error, ['u1', 'u2', 'u3'])\n",
    "    error1 = depolarizing_error(error_rate*10, 2)\n",
    "    noise_model.add_all_qubit_quantum_error(error1,['cx'])\n",
    "    sim_d = AerSimulator(noise_model=noise_model)\n",
    "    circuit.save_statevector()\n",
    "    if error_rate == 0:\n",
    "        simulator = AerSimulator()\n",
    "    else:\n",
    "        simulator = sim_d\n",
    "        circuit = transpile(circuit, sim_d)\n",
    "        #noise_result = sim_d.run(circ_noise, shots=1).result()\n",
    "    result = simulator.run(circuit).result()\n",
    "    u=result.data(0)['statevector'].data\n",
    "    expectation = (u.conj().dot(hamiltonian.to_matrix())).dot(u)\n",
    "    return expectation.real\n",
    "\n",
    "\n",
    "    # print(\n",
    "    #     f\"{intermediate_result.fun}\"\n",
    "    #     )\n",
    "    #with open('intermediate_values_hva.txt', 'a') as file:\n",
    "     #   file.write(f'Intermediate values: {intermediate_result.fun}\\n')\n",
    "    \n"
   ]
  },
  {
   "cell_type": "code",
   "execution_count": 3,
   "id": "3908b0872a801b0",
   "metadata": {},
   "outputs": [],
   "source": [
    "def ansatz_hea(nqubits, depth, params):\n",
    "    circuit = QuantumCircuit(nqubits)\n",
    "    t = 0\n",
    "    for idepth in range(depth):\n",
    "        for i in range(nqubits):\n",
    "            circuit.ry(params[t], i)\n",
    "            t += 1\n",
    "        circuit.barrier()\n",
    "        for i in range(nqubits-1):\n",
    "            circuit.cx(i, i+1)\n",
    "    return circuit"
   ]
  },
  {
   "cell_type": "code",
   "execution_count": 5,
   "id": "493dbb2ae5c35bff",
   "metadata": {
    "ExecuteTime": {
     "end_time": "2025-01-11T08:12:48.248191Z",
     "start_time": "2025-01-11T08:12:48.146243Z"
    }
   },
   "outputs": [
    {
     "data": {
      "image/png": "[encoded data removed]",
      "text/plain": [
       "<Figure size 1374.44x367.889 with 1 Axes>"
      ]
     },
     "execution_count": 5,
     "metadata": {},
     "output_type": "execute_result"
    }
   ],
   "source": [
    "nqubits = 4\n",
    "depth = 3\n",
    "np.random.seed(42)  # Example seed\n",
    "J = 1/np.sqrt(2)\n",
    "error_rate = 0\n",
    "parameter = ParameterVector('θ', 20)\n",
    "circuit= ansatz_hea(nqubits, depth,parameter)\n",
    "circuit.draw('mpl')"
   ]
  },
  {
   "cell_type": "code",
   "execution_count": 17,
   "id": "8e69d852-67a9-47aa-8263-3674f77cfad4",
   "metadata": {
    "ExecuteTime": {
     "end_time": "2025-01-11T08:15:53.770078Z",
     "start_time": "2025-01-11T08:15:51.851955Z"
    }
   },
   "outputs": [],
   "source": [
    "np.random.seed(42)  # Example seed\n",
    "nqubits = 4\n",
    "J = 1/np.sqrt(2)\n",
    "depth = 2\n",
    "error_rate = 0\n",
    "parameter = np.array(np.random.random(2*nqubits*depth))\n",
    "#ansatz_hamiltonian(nqubits, depth, parameter).draw('mpl')\n",
    "result_intermediate = []\n",
    "def callback(intermediate_result):\n",
    "    result_intermediate.append(intermediate_result.fun)\n",
    "estimate_val_hva = minimize(cost_function1, parameter, args=(nqubits, depth, error_rate), method=\"BFGS\", tol=1e-5, options={'disp': False}, callback=callback)"
   ]
  },
  {
   "cell_type": "code",
   "execution_count": 15,
   "id": "faab9078c469fd40",
   "metadata": {
    "ExecuteTime": {
     "end_time": "2025-01-11T08:16:06.967147Z",
     "start_time": "2025-01-11T08:16:06.958834Z"
    }
   },
   "outputs": [
    {
     "data": {
      "text/plain": [
       "  message: Optimization terminated successfully.\n",
       "  success: True\n",
       "   status: 0\n",
       "      fun: -3.695518130034755\n",
       "        x: [-2.859e-01  1.246e+00 ...  8.907e-01  1.403e+00]\n",
       "      nit: 25\n",
       "      jac: [ 5.305e-06  2.235e-06 ...  1.341e-06  2.384e-07]\n",
       " hess_inv: [[ 1.133e+00 -6.420e-01 ...  9.044e-01  3.895e-01]\n",
       "            [-6.420e-01  3.580e+00 ... -1.997e+00 -1.594e+00]\n",
       "            ...\n",
       "            [ 9.044e-01 -1.997e+00 ...  3.811e+00  1.567e+00]\n",
       "            [ 3.895e-01 -1.594e+00 ...  1.567e+00  2.139e+00]]\n",
       "     nfev: 493\n",
       "     njev: 29"
      ]
     },
     "execution_count": 15,
     "metadata": {},
     "output_type": "execute_result"
    }
   ],
   "source": [
    "estimate_val_hva"
   ]
  },
  {
   "cell_type": "code",
   "execution_count": 13,
   "id": "91354870f47d7faf",
   "metadata": {
    "ExecuteTime": {
     "end_time": "2025-01-11T08:20:06.081860Z",
     "start_time": "2025-01-11T08:20:00.880276Z"
    }
   },
   "outputs": [
    {
     "data": {
      "text/plain": [
       " message: Optimization terminated successfully.\n",
       " success: True\n",
       "  status: 0\n",
       "     fun: -3.6955181299045385\n",
       "       x: [-2.114e-01  1.319e+00 ...  4.851e-01  1.445e+00]\n",
       "     nit: 50\n",
       "     jac: [-6.735e-06 -1.311e-06 ... -1.401e-06  3.636e-06]\n",
       "    nfev: 1394\n",
       "    njev: 82"
      ]
     },
     "execution_count": 13,
     "metadata": {},
     "output_type": "execute_result"
    }
   ],
   "source": [
    "np.random.seed(42)  # Example seed\n",
    "nqubits = 4\n",
    "J = 1/np.sqrt(2)\n",
    "depth = 2\n",
    "error_rate = 0\n",
    "parameter = np.array(np.random.random(2*nqubits*depth))\n",
    "#ansatz_hamiltonian(nqubits, depth, parameter).draw('mpl')\n",
    "result_intermediate1 = []\n",
    "def callback(intermediate_result):\n",
    "    result_intermediate1.append(intermediate_result.fun)\n",
    "estimate_val_hva = minimize(cost_function1, parameter, args=(nqubits, depth, error_rate), method=\"CG\", tol=1e-5, options={'disp': False}, callback=callback)\n",
    "estimate_val_hva"
   ]
  },
  {
   "cell_type": "code",
   "execution_count": 64,
   "id": "d648cbaf6640cf06",
   "metadata": {
    "ExecuteTime": {
     "end_time": "2025-01-07T07:48:57.339080Z",
     "start_time": "2025-01-07T07:48:57.334005Z"
    }
   },
   "outputs": [
    {
     "name": "stdout",
     "output_type": "stream",
     "text": [
      "[np.float64(-1.1465461334971725), np.float64(-2.602898278610668), np.float64(-2.848093975370957), np.float64(-3.206002232409881), np.float64(-3.31999428128968), np.float64(-3.438404415746435), np.float64(-3.5373624012173117), np.float64(-3.605473013743551), np.float64(-3.6484026250500903), np.float64(-3.6620230123786675), np.float64(-3.670442766652141), np.float64(-3.6765937053290374), np.float64(-3.6807427907197283), np.float64(-3.686548613996737), np.float64(-3.6930313139650974), np.float64(-3.694791996751512), np.float64(-3.6951775058462046), np.float64(-3.6953272833346285), np.float64(-3.6954448672760325), np.float64(-3.6954921878987657), np.float64(-3.695513648805893), np.float64(-3.6955179670561376), np.float64(-3.6955181144982534), np.float64(-3.695518129747107), np.float64(-3.695518130034755)]\n"
     ]
    }
   ],
   "source": [
    "print(result_intermediate)"
   ]
  },
  {
   "cell_type": "code",
   "execution_count": 65,
   "id": "c06d716caf5475be",
   "metadata": {
    "ExecuteTime": {
     "end_time": "2025-01-07T07:51:18.245012Z",
     "start_time": "2025-01-07T07:49:55.260866Z"
    }
   },
   "outputs": [],
   "source": [
    "np.random.seed(42)  # Example seed\n",
    "nqubits = 4\n",
    "J = 1/np.sqrt(2)\n",
    "depth = 2\n",
    "error_rate = 1e-4\n",
    "parameter = np.array(np.random.random(2*nqubits*depth))\n",
    "#ansatz_hamiltonian(nqubits, depth, parameter).draw('mpl')\n",
    "result_intermediate1 = []\n",
    "def callback(intermediate_result):\n",
    "    result_intermediate1.append(intermediate_result.fun)\n",
    "estimate_val_hva = minimize(cost_function1, parameter, args=(nqubits, depth, error_rate), method=\"BFGS\", tol=1e-5, options={'disp': False}, callback=callback)"
   ]
  },
  {
   "cell_type": "code",
   "execution_count": 66,
   "id": "d9f5df002f0cce37",
   "metadata": {
    "ExecuteTime": {
     "end_time": "2025-01-07T07:51:24.306121Z",
     "start_time": "2025-01-07T07:51:24.301046Z"
    }
   },
   "outputs": [
    {
     "data": {
      "text/plain": [
       "[np.float64(-1.1465461621634314),\n",
       " np.float64(-2.602898276593142),\n",
       " np.float64(-2.848094060515354),\n",
       " np.float64(-3.2060022979506138),\n",
       " np.float64(-3.3199941658900305),\n",
       " np.float64(-3.438404472171051),\n",
       " np.float64(-3.5373623435434385),\n",
       " np.float64(-3.6054728874222026),\n",
       " np.float64(-3.632678366048568),\n",
       " np.float64(-3.6635702535070798),\n",
       " np.float64(-3.6642590682684126),\n",
       " np.float64(-3.670386005103789),\n",
       " np.float64(-3.678949805863375),\n",
       " np.float64(-3.6800208045869933),\n",
       " np.float64(-3.6820260574651407),\n",
       " np.float64(-3.6856125345085355),\n",
       " np.float64(-3.691098413042091),\n",
       " np.float64(-3.6940286116271603),\n",
       " np.float64(-3.694801413201913),\n",
       " np.float64(-3.695227738776236),\n",
       " np.float64(-3.695407895335026),\n",
       " np.float64(-3.695454921375082),\n",
       " np.float64(-3.6955110109933997),\n",
       " np.float64(-3.6955175477458178),\n",
       " np.float64(-3.6955180240630607),\n",
       " np.float64(-3.695518093295617),\n",
       " np.float64(-3.6955181287356718),\n",
       " np.float64(-3.6955181297871107),\n",
       " np.float64(-3.695518130044625)]"
      ]
     },
     "execution_count": 66,
     "metadata": {},
     "output_type": "execute_result"
    }
   ],
   "source": [
    "result_intermediate1"
   ]
  },
  {
   "cell_type": "code",
   "execution_count": 70,
   "id": "dae1369c0be8059c",
   "metadata": {
    "ExecuteTime": {
     "end_time": "2025-01-07T07:54:36.520128Z",
     "start_time": "2025-01-07T07:53:51.098134Z"
    }
   },
   "outputs": [],
   "source": [
    "np.random.seed(42)  # Example seed\n",
    "nqubits = 4\n",
    "J = 1/np.sqrt(2)\n",
    "depth = 2\n",
    "error_rate = 1e-3\n",
    "parameter = np.array(np.random.random(2*nqubits*depth))\n",
    "#ansatz_hamiltonian(nqubits, depth, parameter).draw('mpl')\n",
    "result_intermediate2 = []\n",
    "def callback(intermediate_result):\n",
    "    result_intermediate2.append(intermediate_result.fun)\n",
    "estimate_val_hva = minimize(cost_function1, parameter, args=(nqubits, depth, error_rate), method=\"BFGS\", tol=1e-5, options={'disp': False}, callback=callback)"
   ]
  },
  {
   "cell_type": "code",
   "execution_count": 71,
   "id": "2107705c206cfb6f",
   "metadata": {
    "ExecuteTime": {
     "end_time": "2025-01-07T07:56:06.690320Z",
     "start_time": "2025-01-07T07:56:06.684770Z"
    }
   },
   "outputs": [
    {
     "data": {
      "text/plain": [
       "[]"
      ]
     },
     "execution_count": 71,
     "metadata": {},
     "output_type": "execute_result"
    }
   ],
   "source": [
    "result_intermediate2"
   ]
  },
  {
   "cell_type": "code",
   "execution_count": 73,
   "id": "fa78c2ea32488552",
   "metadata": {
    "ExecuteTime": {
     "end_time": "2025-01-07T07:57:10.589849Z",
     "start_time": "2025-01-07T07:57:10.583804Z"
    }
   },
   "outputs": [
    {
     "data": {
      "text/plain": [
       "  message: Desired error not necessarily achieved due to precision loss.\n",
       "  success: False\n",
       "   status: 2\n",
       "      fun: 1.3282640485102446\n",
       "        x: [ 3.745e-01  9.507e-01 ...  1.818e-01  1.834e-01]\n",
       "      nit: 0\n",
       "      jac: [-4.064e-01 -1.008e+00 ... -5.767e+07 -3.018e-02]\n",
       " hess_inv: [[1 0 ... 0 0]\n",
       "            [0 1 ... 0 0]\n",
       "            ...\n",
       "            [0 0 ... 1 0]\n",
       "            [0 0 ... 0 1]]\n",
       "     nfev: 403\n",
       "     njev: 23"
      ]
     },
     "execution_count": 73,
     "metadata": {},
     "output_type": "execute_result"
    }
   ],
   "source": [
    "estimate_val_hva"
   ]
  },
  {
   "cell_type": "code",
   "execution_count": 74,
   "id": "f0b439d9f28b6684",
   "metadata": {
    "ExecuteTime": {
     "end_time": "2025-01-07T07:58:17.978006Z",
     "start_time": "2025-01-07T07:57:23.602663Z"
    }
   },
   "outputs": [
    {
     "data": {
      "text/plain": [
       "[np.float64(-0.6014272442084743)]"
      ]
     },
     "execution_count": 74,
     "metadata": {},
     "output_type": "execute_result"
    }
   ],
   "source": [
    "np.random.seed(42)  # Example seed\n",
    "nqubits = 4\n",
    "J = 1/np.sqrt(2)\n",
    "depth = 2\n",
    "error_rate = 1e-2\n",
    "parameter = np.array(np.random.random(2*nqubits*depth))\n",
    "#ansatz_hamiltonian(nqubits, depth, parameter).draw('mpl')\n",
    "result_intermediate3 = []\n",
    "def callback(intermediate_result):\n",
    "    result_intermediate3.append(intermediate_result.fun)\n",
    "estimate_val_hva = minimize(cost_function1, parameter, args=(nqubits, depth, error_rate), method=\"BFGS\", tol=1e-5, options={'disp': False}, callback=callback)\n",
    "result_intermediate3"
   ]
  },
  {
   "cell_type": "code",
   "execution_count": 18,
   "id": "6142daff65f36896",
   "metadata": {
    "ExecuteTime": {
     "end_time": "2025-01-11T08:24:50.086457Z",
     "start_time": "2025-01-11T08:24:50.000343Z"
    }
   },
   "outputs": [
    {
     "data": {
      "image/png": "[encoded data removed]",
      "text/plain": [
       "<Figure size 640x480 with 1 Axes>"
      ]
     },
     "metadata": {},
     "output_type": "display_data"
    }
   ],
   "source": [
    "x = np.linspace(0, 200)  # 11个点\n",
    "y = result_intermediate  # 只有6个点\n",
    "y1 = result_intermediate1\n",
    "#y1 = result_intermediate1\n",
    "#y2 = result_intermediate2\n",
    "#y3 = result_intermediate3\n",
    "# 创建figure和axes对象\n",
    "fig, ax = plt.subplots()\n",
    "# 使用axes对象绘制数据，不指定x值，默认使用索引\n",
    "ax.plot(y, label='BFGS', marker=\"x\", c=\"darkmagenta\", ls=\"-\")\n",
    "ax.plot(y1, label='CG', marker='o', linestyle='-')\n",
    "#ax.plot(y2, label='1e-3 error_rate', marker=\"v\", c=\"r\", ls=\"-\")\n",
    "#ax.plot(y3, label='1e-2 error_rate', marker=\"v\", c=\"r\", ls=\"-\")\n",
    "legend = fig.legend(\n",
    "            *ax.get_legend_handles_labels(),\n",
    "            bbox_to_anchor=(1.0, 0.5),\n",
    "            loc=\"center left\",\n",
    "            framealpha=0.5,\n",
    "        )\n",
    "# 设置x轴刻度为索引值\n",
    "ax.set_xlim(0, 30)\n",
    "ax.set_xticks(np.arange(0, 30, 5))\n",
    "# 添加标题和标签\n",
    "ax.set_title('VQE calculation comparison between BFGS and CG')\n",
    "ax.set_xlabel('itration Steps')\n",
    "ax.set_ylabel('Expectation')\n",
    "# 显示网格\n",
    "ax.grid(False)\n",
    "# 展示图形\n",
    "plt.show()"
   ]
  },
  {
   "cell_type": "code",
   "execution_count": 16,
   "id": "df9fb9032106fce3",
   "metadata": {
    "ExecuteTime": {
     "end_time": "2025-01-11T08:23:25.009853Z",
     "start_time": "2025-01-11T08:23:24.931321Z"
    }
   },
   "outputs": [
    {
     "data": {
      "image/png": "[encoded data removed]",
      "text/plain": [
       "<Figure size 640x480 with 1 Axes>"
      ]
     },
     "metadata": {},
     "output_type": "display_data"
    }
   ],
   "source": [
    "x = np.linspace(0, 200)  # 11个点\n",
    "y = result_intermediate  # 只有6个点\n",
    "#y1 = result_intermediate1\n",
    "fig, ax = plt.subplots()\n",
    "# 使用axes对象绘制数据，不指定x值，默认使用索引\n",
    "ax.plot(y, label='BFGS', marker=\"x\", c=\"darkmagenta\", ls=\"-\")\n",
    "#ax.plot(y1, label='CG', marker='o', linestyle='-')\n",
    "#ax.plot(y2, label='1e-3 error_rate', marker=\"v\", c=\"r\", ls=\"-\")\n",
    "#ax.plot(y3, label='1e-2 error_rate', marker=\"v\", c=\"r\", ls=\"-\")\n",
    "legend = fig.legend(\n",
    "            *ax.get_legend_handles_labels(),\n",
    "            bbox_to_anchor=(1.0, 0.5),\n",
    "            loc=\"center left\",\n",
    "            framealpha=0.5,\n",
    "        )\n",
    "# 设置x轴刻度为索引值\n",
    "ax.set_xlim(0, 30)\n",
    "ax.set_xticks(np.arange(0, 30, 5))\n",
    "# 添加标题和标签\n",
    "ax.set_title('VQE calculation by BFGS')\n",
    "ax.set_xlabel('itration Steps')\n",
    "ax.set_ylabel('Expectation')\n",
    "# 显示网格\n",
    "ax.grid(False)\n",
    "# 展示图形\n",
    "plt.show()"
   ]
  },
  {
   "cell_type": "code",
   "execution_count": 17,
   "id": "2505eb9d7b49d4a0",
   "metadata": {
    "ExecuteTime": {
     "end_time": "2025-01-11T08:24:07.240191Z",
     "start_time": "2025-01-11T08:24:07.164291Z"
    }
   },
   "outputs": [
    {
     "data": {
      "image/png": "[encoded data removed]",
      "text/plain": [
       "<Figure size 640x480 with 1 Axes>"
      ]
     },
     "metadata": {},
     "output_type": "display_data"
    }
   ],
   "source": [
    "plt.show()\n",
    "x = np.linspace(0, 200)  # 11个点\n",
    "#y = result_intermediate  # 只有6个点\n",
    "y1 = result_intermediate1\n",
    "fig, ax = plt.subplots()\n",
    "# 使用axes对象绘制数据，不指定x值，默认使用索引\n",
    "#ax.plot(y, label='BFGS', marker=\"x\", c=\"darkmagenta\", ls=\"-\")\n",
    "ax.plot(y1, label='CG', marker='o', linestyle='-')\n",
    "#ax.plot(y2, label='1e-3 error_rate', marker=\"v\", c=\"r\", ls=\"-\")\n",
    "#ax.plot(y3, label='1e-2 error_rate', marker=\"v\", c=\"r\", ls=\"-\")\n",
    "legend = fig.legend(\n",
    "    *ax.get_legend_handles_labels(),\n",
    "    bbox_to_anchor=(1.0, 0.5),\n",
    "    loc=\"center left\",\n",
    "    framealpha=0.5,\n",
    ")\n",
    "# 设置x轴刻度为索引值\n",
    "ax.set_xlim(0, 30)\n",
    "ax.set_xticks(np.arange(0, 30, 5))\n",
    "# 添加标题和标签\n",
    "ax.set_title('VQE calculation by CG')\n",
    "ax.set_xlabel('itration Steps')\n",
    "ax.set_ylabel('Expectation')\n",
    "# 显示网格\n",
    "ax.grid(False)\n",
    "# 展示图形\n",
    "plt.show()"
   ]
  },
  {
   "cell_type": "code",
   "execution_count": 10,
   "id": "a4615eb9-178d-41e8-b224-4732d6bd0380",
   "metadata": {},
   "outputs": [
    {
     "data": {
      "text/plain": [
       "SparsePauliOp(['IIZZ', 'IZZI', 'ZZII', 'ZIIZ', 'IIIX', 'IIXI', 'IXII', 'XIII'],\n",
       "              coeffs=[0.70710678+0.j, 0.70710678+0.j, 0.70710678+0.j, 0.70710678+0.j,\n",
       " 0.70710678+0.j, 0.70710678+0.j, 0.70710678+0.j, 0.70710678+0.j])"
      ]
     },
     "execution_count": 10,
     "metadata": {},
     "output_type": "execute_result"
    }
   ],
   "source": [
    "get_hamiltonian(4)"
   ]
  },
  {
   "cell_type": "code",
   "execution_count": 20,
   "id": "22fd6614-3a1b-43c9-9ea1-c45da9e6f2fc",
   "metadata": {},
   "outputs": [
    {
     "data": {
      "text/plain": [
       "np.float64(-3.695518130028156)"
      ]
     },
     "execution_count": 20,
     "metadata": {},
     "output_type": "execute_result"
    }
   ],
   "source": [
    "np.random.seed(42)  # Example seed\n",
    "\n",
    "nqubits = 4\n",
    "J = 1/np.sqrt(2)\n",
    "depth = 3\n",
    "error_rate = 0\n",
    "parameter = np.array(np.random.random(4*depth))\n",
    "#ansatz_hamiltonian(nqubits, depth, parameter).draw('mpl')\n",
    "result_intermediate = []\n",
    "#def callback(intermediate_result):\n",
    "#    result_intermediate.append(intermediate_result.fun)\n",
    "estimate_val_hva = minimize(cost_function2, parameter, args=(nqubits, depth, error_rate), method=\"BFGS\", tol=1e-5, options={'disp': False})#, callback=callback)\n",
    "estimate_val_hva.fun"
   ]
  },
  {
   "cell_type": "code",
   "execution_count": 28,
   "id": "565efed4-313f-4acc-bd1c-561bba6c163e",
   "metadata": {},
   "outputs": [
    {
     "name": "stdout",
     "output_type": "stream",
     "text": [
      "Optimization terminated successfully.\n",
      "         Current function value: -3.695518\n",
      "         Iterations: 31\n",
      "         Function evaluations: 429\n",
      "         Gradient evaluations: 33\n",
      "  message: Optimization terminated successfully.\n",
      "  success: True\n",
      "   status: 0\n",
      "      fun: -3.695518130042751\n",
      "        x: [ 9.735e-01  1.571e+00  1.135e+00  1.434e+00  5.310e+00\n",
      "             7.080e-01  8.275e-01  6.125e-01  1.571e+00  1.664e+00\n",
      "             1.715e+00  1.856e+00]\n",
      "      nit: 31\n",
      "      jac: [ 3.874e-07  1.490e-07 -1.490e-07  1.192e-07  3.576e-07\n",
      "             1.192e-07  1.043e-06  8.941e-08  3.874e-07  2.384e-07\n",
      "            -1.162e-06  8.941e-08]\n",
      " hess_inv: [[ 1.023e+00  5.003e-01 ...  5.078e-01 -5.120e-01]\n",
      "            [ 5.003e-01  3.974e+00 ... -1.266e-01  1.663e-01]\n",
      "            ...\n",
      "            [ 5.078e-01 -1.266e-01 ...  2.685e+00 -1.859e+00]\n",
      "            [-5.120e-01  1.663e-01 ... -1.859e+00  2.656e+00]]\n",
      "     nfev: 429\n",
      "     njev: 33\n",
      "31\n"
     ]
    }
   ],
   "source": [
    "def cost_function(params, nqubits, depth, error_rate):\n",
    "    J = 1/np.sqrt(2)\n",
    "    hamiltonian =  get_hamiltonian(nqubits)\n",
    "    circuit =  ansatz_hea(nqubits, depth,params)\n",
    "    circuit = circuit.decompose()\n",
    "    noise_model = NoiseModel()\n",
    "    error = depolarizing_error(error_rate, 1)\n",
    "    noise_model.add_all_qubit_quantum_error(error, ['u1', 'u2', 'u3'])\n",
    "    error1 = depolarizing_error(error_rate*10, 2)\n",
    "    noise_model.add_all_qubit_quantum_error(error1,'cx')\n",
    "    #circuit.save_statevector()\n",
    "    if error_rate == 0:\n",
    "        estimator = EstimatorV2()\n",
    "        #print('error rate is 0')\n",
    "    else:\n",
    "        #print('error rate is ' + str(error_rate))\n",
    "        estimator = EstimatorV2(options=dict(backend_options=dict(noise_model=noise_model)))\n",
    "        #circuit = transpile(circuit, sim_d)\n",
    "        #noise_result = sim_d.run(circ_noise, shots=1).result()\n",
    "    result =estimator.run([(circuit, hamiltonian)]).result()\n",
    "    expectation=result[0].data.evs\n",
    "    return expectation.real\n",
    "\n",
    "def vqe(nqubits, depth, error_rate):\n",
    "    #vqe_nparams = depth * 2 * nqubits  ## hva\n",
    "    vqe_nparams = depth * nqubits ## hea\n",
    "    vqe_params = np.random.random(vqe_nparams)\n",
    "    result_intermediate = []\n",
    "    def callback(intermediate_result):\n",
    "        result_intermediate.append(intermediate_result.fun)\n",
    "    estimate_val = scipy.optimize.minimize(cost_function, vqe_params, args=(nqubits, depth, error_rate), method=\"BFGS\",\n",
    "                                        tol=1e-5,\n",
    "                                        options={'disp': True}, callback=callback)\n",
    "    print(estimate_val)\n",
    "    return result_intermediate\n",
    "\n",
    "print(len(vqe(4,3,0)))"
   ]
  },
  {
   "cell_type": "code",
   "execution_count": 5,
   "id": "2255d773149bd39c",
   "metadata": {
    "ExecuteTime": {
     "end_time": "2024-12-01T07:58:41.439645Z",
     "start_time": "2024-12-01T07:58:41.412797Z"
    }
   },
   "outputs": [
    {
     "name": "stdout",
     "output_type": "stream",
     "text": [
      "[76, 107, 48]\n"
     ]
    }
   ],
   "source": [
    "nqubits = 8\n",
    "depth = 3\n",
    "parameter = np.array(np.random.random(2*nqubits*depth))\n",
    "circuit = ansatz_hamiltonian(nqubits, depth, parameter)\n",
    "circuit = circuit.decompose(reps=2)\n",
    "count = []\n",
    "count.append(circuit.depth()) #depth, total gate, nonlocal gates\n",
    "count.append(len(circuit))\n",
    "count.append(circuit.num_nonlocal_gates())\n",
    "print(count)"
   ]
  },
  {
   "cell_type": "code",
   "execution_count": 68,
   "id": "824eaccea7c56755",
   "metadata": {
    "ExecuteTime": {
     "end_time": "2024-12-20T08:28:20.081787Z",
     "start_time": "2024-12-20T08:28:20.077276Z"
    }
   },
   "outputs": [
    {
     "name": "stdout",
     "output_type": "stream",
     "text": [
      "3.00e-04\n"
     ]
    }
   ],
   "source": [
    "a = 0.0003\n",
    "print(f\"{a:.2e}\")"
   ]
  },
  {
   "cell_type": "code",
   "execution_count": null,
   "id": "6854847350ee09f8",
   "metadata": {},
   "outputs": [],
   "source": [
    "\n",
    "start_time = time.time()"
   ]
  },
  {
   "cell_type": "code",
   "execution_count": 8,
   "id": "1f9b1146c196dddd",
   "metadata": {
    "ExecuteTime": {
     "end_time": "2024-12-29T08:36:57.785597Z",
     "start_time": "2024-12-29T08:36:57.767684Z"
    }
   },
   "outputs": [
    {
     "name": "stdout",
     "output_type": "stream",
     "text": [
      " > Counts: {'000': 496, '111': 504}\n"
     ]
    }
   ],
   "source": [
    "## Sampler\n",
    "# 1. A quantum circuit for preparing the quantum state |000> + i |111>\n",
    "qc_example = QuantumCircuit(3)\n",
    "qc_example.h(0)          # generate superpostion\n",
    "qc_example.p(np.pi/2,0)  # add quantum phase\n",
    "qc_example.cx(0,1)       # 0th-qubit-Controlled-NOT gate on 1st qubit\n",
    "qc_example.cx(0,2)       # 0th-qubit-Controlled-NOT gate on 2nd qubit\n",
    "operator = SparsePauliOp.from_list([(\"XXY\", 1), (\"XYX\", 1), (\"YXX\", 1), (\"YYY\", -1)])\n",
    "# 2. Add the classical output in the form of measurement of all qubits\n",
    "qc_measured = qc_example.measure_all(inplace=False)\n",
    "# 3. Execute using the Sampler primitive\n",
    "sampler = StatevectorSampler()\n",
    "job = sampler.run([qc_measured], shots=1000)\n",
    "result = job.result()\n",
    "print(f\" > Counts: {result[0].data.meas.get_counts()}\")"
   ]
  },
  {
   "cell_type": "code",
   "execution_count": 9,
   "id": "6e71eee854439b5f",
   "metadata": {
    "ExecuteTime": {
     "end_time": "2024-12-29T08:36:59.263641Z",
     "start_time": "2024-12-29T08:36:59.259633Z"
    }
   },
   "outputs": [
    {
     "name": "stdout",
     "output_type": "stream",
     "text": [
      "1.3.1\n"
     ]
    }
   ],
   "source": [
    "import qiskit\n",
    "print(qiskit.__version__)"
   ]
  },
  {
   "cell_type": "code",
   "execution_count": 10,
   "id": "f03f4ce055f76650",
   "metadata": {
    "ExecuteTime": {
     "end_time": "2024-12-29T08:37:00.390709Z",
     "start_time": "2024-12-29T08:37:00.378386Z"
    }
   },
   "outputs": [
    {
     "name": "stdout",
     "output_type": "stream",
     "text": [
      " > Expectation values: 4.000392893466742\n"
     ]
    }
   ],
   "source": [
    "## Estimator\n",
    "estimator = StatevectorEstimator()\n",
    "job = estimator.run([(qc_example, operator)], precision=1e-3)\n",
    "result = job.result()\n",
    "print(f\" > Expectation values: {result[0].data.evs}\")"
   ]
  },
  {
   "cell_type": "code",
   "execution_count": 13,
   "id": "4c07bb6a0f6263ce",
   "metadata": {
    "ExecuteTime": {
     "end_time": "2024-12-29T08:37:34.705933Z",
     "start_time": "2024-12-29T08:37:34.699727Z"
    }
   },
   "outputs": [
    {
     "name": "stderr",
     "output_type": "stream",
     "text": [
      "C:\\Users\\schauue\\AppData\\Local\\Temp\\ipykernel_45308\\316892537.py:2: DeprecationWarning: The class ``qiskit.primitives.estimator.Estimator`` is deprecated as of qiskit 1.2. It will be removed no earlier than 3 months after the release date. All implementations of the `BaseEstimatorV1` interface have been deprecated in favor of their V2 counterparts. The V2 alternative for the `Estimator` class is `StatevectorEstimator`.\n",
      "  estimator = Estimator()\n"
     ]
    },
    {
     "data": {
      "text/plain": [
       "array([4.])"
      ]
     },
     "execution_count": 13,
     "metadata": {},
     "output_type": "execute_result"
    }
   ],
   "source": [
    "## Estimator\n",
    "estimator = Estimator()\n",
    "job = estimator.run(qc_example, operator, precision=1e-3)\n",
    "result = job.result()\n",
    "result.values\n",
    "#print(f\" > Expectation values: {result[0].data.evs}\")"
   ]
  },
  {
   "cell_type": "code",
   "execution_count": 14,
   "id": "2d2bf698fac2e66e",
   "metadata": {
    "ExecuteTime": {
     "end_time": "2024-12-29T08:37:38.685667Z",
     "start_time": "2024-12-29T08:37:38.678042Z"
    }
   },
   "outputs": [
    {
     "data": {
      "text/plain": [
       "np.float64(-4.0)"
      ]
     },
     "execution_count": 14,
     "metadata": {},
     "output_type": "execute_result"
    }
   ],
   "source": [
    "hamiltonian = operator\n",
    "min(np.linalg.eigvalsh(hamiltonian.to_matrix()))"
   ]
  },
  {
   "cell_type": "code",
   "execution_count": 117,
   "id": "fc488ca538d6e3b8",
   "metadata": {
    "ExecuteTime": {
     "end_time": "2024-12-26T10:17:51.221136Z",
     "start_time": "2024-12-26T10:17:51.083882Z"
    }
   },
   "outputs": [
    {
     "data": {
      "image/png": "[encoded data removed]",
      "text/plain": [
       "<Figure size 758.234x284.278 with 1 Axes>"
      ]
     },
     "execution_count": 117,
     "metadata": {},
     "output_type": "execute_result"
    }
   ],
   "source": [
    "qc_transpiled = transpile(qc_example, basis_gates = ['cz', 'sx', 'rz'], coupling_map =[[0, 1], [1, 2]] , optimization_level=3)\n",
    "qc_transpiled.draw('mpl')"
   ]
  },
  {
   "cell_type": "code",
   "execution_count": 119,
   "id": "6ea957e4e5b3567d",
   "metadata": {
    "ExecuteTime": {
     "end_time": "2024-12-28T08:25:30.940146Z",
     "start_time": "2024-12-28T08:25:29.990785Z"
    }
   },
   "outputs": [
    {
     "data": {
      "image/png": "[encoded data removed]",
      "text/plain": [
       "<Figure size 287.496x284.278 with 1 Axes>"
      ]
     },
     "execution_count": 119,
     "metadata": {},
     "output_type": "execute_result"
    }
   ],
   "source": [
    "from qiskit.circuit.library import QAOAAnsatz\n",
    "from qiskit.quantum_info import SparsePauliOp\n",
    "\n",
    "operator = SparsePauliOp.from_list([(\"XXY\", 1), (\"XYX\", 1), (\"YXX\", 1), (\"YYY\", -1)])\n",
    "circuit = QAOAAnsatz(operator, reps=2)\n",
    "circuit.draw('mpl')"
   ]
  },
  {
   "cell_type": "code",
   "execution_count": null,
   "id": "d62da36bfaa8ced8",
   "metadata": {},
   "outputs": [],
   "source": []
  },
  {
   "cell_type": "markdown",
   "id": "505ce62273222e6b",
   "metadata": {},
   "source": [
    "## Use AerSimulator from qiskit"
   ]
  },
  {
   "cell_type": "code",
   "execution_count": 25,
   "id": "8b05bfc6de7f200d",
   "metadata": {
    "ExecuteTime": {
     "end_time": "2025-01-11T11:49:28.283316Z",
     "start_time": "2025-01-11T11:48:51.760726Z"
    }
   },
   "outputs": [
    {
     "data": {
      "text/plain": [
       "  message: Desired error not necessarily achieved due to precision loss.\n",
       "  success: False\n",
       "   status: 2\n",
       "      fun: 0.8255944695241553\n",
       "        x: [ 3.745e-01  9.507e-01 ...  1.818e-01  1.834e-01]\n",
       "      nit: 1\n",
       "      jac: [ 3.373e+07  3.373e+07 ...  3.373e+07  3.373e+07]\n",
       " hess_inv: [[ 8.991e-01 -8.590e-02 ... -8.590e-02 -8.590e-02]\n",
       "            [-8.590e-02  1.000e+00 ... -1.932e-09 -3.203e-09]\n",
       "            ...\n",
       "            [-8.590e-02 -1.932e-09 ...  1.000e+00  1.084e-09]\n",
       "            [-8.590e-02 -3.203e-09 ...  1.084e-09  1.000e+00]]\n",
       "     nfev: 352\n",
       "     njev: 20"
      ]
     },
     "execution_count": 25,
     "metadata": {},
     "output_type": "execute_result"
    }
   ],
   "source": [
    "np.random.seed(42)  # Example seed\n",
    "nqubits = 4\n",
    "J = 1/np.sqrt(2)\n",
    "depth = 2\n",
    "error_rate = 1e-3\n",
    "parameter = np.array(np.random.random(2*nqubits*depth))\n",
    "#ansatz_hamiltonian(nqubits, depth, parameter).draw('mpl')\n",
    "result_intermediate1 = []\n",
    "def callback(intermediate_result):\n",
    "    result_intermediate1.append(intermediate_result.fun)\n",
    "estimate_val_hva1 = minimize(cost_function1, parameter, args=(nqubits, depth, error_rate), method=\"BFGS\", tol=1e-5, options={'disp': False}, callback=callback)\n",
    "estimate_val_hva1"
   ]
  },
  {
   "cell_type": "code",
   "execution_count": 30,
   "id": "3b7374f03ef70b2a",
   "metadata": {
    "ExecuteTime": {
     "end_time": "2025-01-11T11:54:56.476494Z",
     "start_time": "2025-01-11T11:54:07.441156Z"
    }
   },
   "outputs": [
    {
     "data": {
      "text/plain": [
       " message: Desired error not necessarily achieved due to precision loss.\n",
       " success: False\n",
       "  status: 2\n",
       "     fun: 0.2909692467521529\n",
       "       x: [ 3.745e-01  9.507e-01 ...  1.818e-01  1.834e-01]\n",
       "     nit: 2\n",
       "     jac: [-1.111e+07  6.961e+07 ...  6.961e+07  6.961e+07]\n",
       "    nfev: 476\n",
       "    njev: 27"
      ]
     },
     "execution_count": 30,
     "metadata": {},
     "output_type": "execute_result"
    }
   ],
   "source": [
    "np.random.seed(42)  # Example seed\n",
    "nqubits = 4\n",
    "J = 1/np.sqrt(2)\n",
    "depth = 2\n",
    "error_rate = 1e-3\n",
    "parameter = np.array(np.random.random(2*nqubits*depth))\n",
    "#ansatz_hamiltonian(nqubits, depth, parameter).draw('mpl')\n",
    "result_intermediate1 = []\n",
    "def callback(intermediate_result):\n",
    "    result_intermediate1.append(intermediate_result.fun)\n",
    "estimate_val_hva1 = minimize(cost_function1, parameter, args=(nqubits, depth, error_rate), method=\"CG\", tol=1e-5, options={'disp': False}, callback=callback)\n",
    "estimate_val_hva1"
   ]
  },
  {
   "cell_type": "code",
   "execution_count": 35,
   "id": "1ec238598a2e08bf",
   "metadata": {
    "ExecuteTime": {
     "end_time": "2025-01-11T12:24:06.455894Z",
     "start_time": "2025-01-11T12:18:34.171163Z"
    }
   },
   "outputs": [
    {
     "data": {
      "text/plain": [
       "       message: Maximum number of function evaluations has been exceeded.\n",
       "       success: False\n",
       "        status: 1\n",
       "           fun: -1.2304078702441865\n",
       "             x: [ 3.787e-01  9.697e-01 ...  1.807e-01  1.851e-01]\n",
       "           nit: 661\n",
       "          nfev: 3200\n",
       " final_simplex: (array([[ 3.787e-01,  9.697e-01, ...,  1.807e-01,\n",
       "                         1.851e-01],\n",
       "                       [ 3.787e-01,  9.697e-01, ...,  1.807e-01,\n",
       "                         1.851e-01],\n",
       "                       ...,\n",
       "                       [ 3.787e-01,  9.697e-01, ...,  1.807e-01,\n",
       "                         1.851e-01],\n",
       "                       [ 3.787e-01,  9.697e-01, ...,  1.807e-01,\n",
       "                         1.851e-01]], shape=(17, 16)), array([-1.230e+00, -3.322e-01, ...,  1.239e+00,  1.239e+00],\n",
       "                      shape=(17,)))"
      ]
     },
     "execution_count": 35,
     "metadata": {},
     "output_type": "execute_result"
    }
   ],
   "source": [
    "np.random.seed(42)  # Example seed\n",
    "nqubits = 4\n",
    "J = 1/np.sqrt(2)\n",
    "depth = 2\n",
    "error_rate = 1e-3\n",
    "parameter = np.array(np.random.random(2*nqubits*depth))\n",
    "#ansatz_hamiltonian(nqubits, depth, parameter).draw('mpl')\n",
    "result_intermediate1 = []\n",
    "def callback(intermediate_result):\n",
    "    result_intermediate1.append(intermediate_result.fun)\n",
    "estimate_val_hva1 = minimize(cost_function1, parameter, args=(nqubits, depth, error_rate), method=\"Nelder-Mead\", tol=1e-5, options={'disp': False}, callback=callback)\n",
    "estimate_val_hva1"
   ]
  },
  {
   "cell_type": "code",
   "execution_count": 20,
   "id": "48a9fedf915e0e62",
   "metadata": {
    "ExecuteTime": {
     "end_time": "2025-01-11T11:35:00.662901Z",
     "start_time": "2025-01-11T11:34:04.838567Z"
    }
   },
   "outputs": [
    {
     "data": {
      "text/plain": [
       "  message: Desired error not necessarily achieved due to precision loss.\n",
       "  success: False\n",
       "   status: 2\n",
       "      fun: -0.4791756183231318\n",
       "        x: [ 3.745e-01  9.507e-01 ...  1.818e-01  1.834e-01]\n",
       "      nit: 4\n",
       "      jac: [-2.521e+07 -4.699e+07 ...  8.324e+07  1.214e+08]\n",
       " hess_inv: [[ 1.108e+01 -1.115e+00 ... -4.679e+00 -1.118e+00]\n",
       "            [-1.115e+00  7.996e-01 ...  6.845e-01  3.297e-01]\n",
       "            ...\n",
       "            [-4.679e+00  6.845e-01 ...  3.001e+00  3.912e-01]\n",
       "            [-1.118e+00  3.297e-01 ...  3.912e-01  9.042e-01]]\n",
       "     nfev: 523\n",
       "     njev: 30"
      ]
     },
     "execution_count": 20,
     "metadata": {},
     "output_type": "execute_result"
    }
   ],
   "source": [
    "np.random.seed(42)  # Example seed\n",
    "nqubits = 4\n",
    "J = 1/np.sqrt(2)\n",
    "depth = 2\n",
    "error_rate = 1e-2\n",
    "parameter = np.array(np.random.random(2*nqubits*depth))\n",
    "#ansatz_hamiltonian(nqubits, depth, parameter).draw('mpl')\n",
    "result_intermediate2 = []\n",
    "def callback(intermediate_result):\n",
    "    result_intermediate2.append(intermediate_result.fun)\n",
    "estimate_val_hva2 = minimize(cost_function1, parameter, args=(nqubits, depth, error_rate), method=\"BFGS\", tol=1e-5, options={'disp': False}, callback=callback)\n",
    "estimate_val_hva2"
   ]
  },
  {
   "cell_type": "code",
   "execution_count": null,
   "id": "a4f500eda2a4e6f3",
   "metadata": {},
   "outputs": [],
   "source": []
  },
  {
   "cell_type": "markdown",
   "id": "cfacb03f7dc8f249",
   "metadata": {},
   "source": [
    "### Use estimator from qiskit_aer"
   ]
  },
  {
   "cell_type": "code",
   "execution_count": 46,
   "id": "686e726fe73854e3",
   "metadata": {
    "ExecuteTime": {
     "end_time": "2025-01-11T12:43:28.864799Z",
     "start_time": "2025-01-11T12:43:28.859799Z"
    }
   },
   "outputs": [],
   "source": [
    "def cost_function(params, nqubits, depth, error_rate):\n",
    "    hamiltonian =  get_hamiltonian(nqubits)\n",
    "    circuit =  ansatz_hamiltonian(nqubits, depth,params)\n",
    "    circuit = circuit.decompose()\n",
    "    noise_model = NoiseModel()\n",
    "    error = depolarizing_error(error_rate, 1)\n",
    "    noise_model.add_all_qubit_quantum_error(error, ['u1', 'u2', 'u3'])\n",
    "    error1 = depolarizing_error(error_rate*10, 2)\n",
    "    noise_model.add_all_qubit_quantum_error(error1,'cx')\n",
    "    #circuit.save_statevector()\n",
    "    if error_rate == 0:\n",
    "        estimator = EstimatorV2()\n",
    "        #print('error rate is 0')\n",
    "    else:\n",
    "        #print('error rate is ' + str(error_rate))\n",
    "        estimator = EstimatorV2(options=dict(backend_options=dict(noise_model=noise_model)))\n",
    "        #circuit = transpile(circuit, sim_d)\n",
    "        #noise_result = sim_d.run(circ_noise, shots=1).result()\n",
    "    result =estimator.run([(circuit, hamiltonian)]).result()\n",
    "    expectation=result[0].data.evs\n",
    "    return expectation.real"
   ]
  },
  {
   "cell_type": "code",
   "execution_count": 47,
   "id": "bc161c688ceb25f9",
   "metadata": {
    "ExecuteTime": {
     "end_time": "2025-01-11T12:43:30.776640Z",
     "start_time": "2025-01-11T12:43:30.764535Z"
    }
   },
   "outputs": [
    {
     "data": {
      "text/plain": [
       "array(1.32826405)"
      ]
     },
     "execution_count": 47,
     "metadata": {},
     "output_type": "execute_result"
    }
   ],
   "source": [
    "np.random.seed(42)  # Example seed\n",
    "nqubits = 4\n",
    "J = 1/np.sqrt(2)\n",
    "depth = 2\n",
    "error_rate = 0\n",
    "parameter = np.array(np.random.random(2*nqubits*depth))\n",
    "expectation = cost_function(parameter, nqubits, depth, error_rate)\n",
    "expectation"
   ]
  },
  {
   "cell_type": "code",
   "execution_count": 48,
   "id": "5daa64b30c95aacd",
   "metadata": {
    "ExecuteTime": {
     "end_time": "2025-01-11T12:43:32.241011Z",
     "start_time": "2025-01-11T12:43:32.222012Z"
    }
   },
   "outputs": [
    {
     "data": {
      "text/plain": [
       "array(1.21942165)"
      ]
     },
     "execution_count": 48,
     "metadata": {},
     "output_type": "execute_result"
    }
   ],
   "source": [
    "np.random.seed(42)  # Example seed\n",
    "nqubits = 4\n",
    "J = 1/np.sqrt(2)\n",
    "depth = 2\n",
    "error_rate = 1e-3\n",
    "parameter = np.array(np.random.random(2*nqubits*depth))\n",
    "expectation = cost_function(parameter, nqubits, depth, error_rate)\n",
    "expectation"
   ]
  },
  {
   "cell_type": "code",
   "execution_count": 49,
   "id": "4d053fa24422f4b",
   "metadata": {
    "ExecuteTime": {
     "end_time": "2025-01-11T12:43:36.952345Z",
     "start_time": "2025-01-11T12:43:33.942874Z"
    }
   },
   "outputs": [
    {
     "data": {
      "text/plain": [
       "[-1.146546132116061,\n",
       " -2.6028982372512375,\n",
       " -2.8480938565785943,\n",
       " -3.2060020690785107,\n",
       " -3.3199942708126375,\n",
       " -3.4384043636342216,\n",
       " -3.537362372341709,\n",
       " -3.6054730441231895,\n",
       " -3.6484027209174577,\n",
       " -3.662023081540118,\n",
       " -3.670442736465896,\n",
       " -3.676593660765858,\n",
       " -3.6807427454988653,\n",
       " -3.686548537845189,\n",
       " -3.69303122725566,\n",
       " -3.6947919802622278,\n",
       " -3.695177500516187,\n",
       " -3.6953272807143134,\n",
       " -3.6954448697713076,\n",
       " -3.69549218687719,\n",
       " -3.6955136487462426,\n",
       " -3.695517966962232,\n",
       " -3.695518114522142,\n",
       " -3.695518129754621,\n",
       " -3.6955181300347575]"
      ]
     },
     "execution_count": 49,
     "metadata": {},
     "output_type": "execute_result"
    }
   ],
   "source": [
    "np.random.seed(42)  # Example seed\n",
    "nqubits = 4\n",
    "J = 1/np.sqrt(2)\n",
    "depth = 2\n",
    "error_rate = 0\n",
    "parameter = np.array(np.random.random(2*nqubits*depth))\n",
    "#ansatz_hamiltonian(nqubits, depth, parameter).draw('mpl')\n",
    "result_intermediate = []\n",
    "def callback(intermediate_result):\n",
    "    result_intermediate.append(intermediate_result.fun)\n",
    "estimate_val_hva = minimize(cost_function, parameter, args=(nqubits, depth, error_rate), method=\"BFGS\", tol=1e-5, options={'disp': False}, callback=callback)\n",
    "result_intermediate"
   ]
  },
  {
   "cell_type": "code",
   "execution_count": 51,
   "id": "fde7b264a43ba209",
   "metadata": {
    "ExecuteTime": {
     "end_time": "2025-01-11T12:46:59.934982Z",
     "start_time": "2025-01-11T12:46:37.153343Z"
    }
   },
   "outputs": [
    {
     "data": {
      "text/plain": [
       "  message: Optimization terminated successfully.\n",
       "  success: True\n",
       "   status: 0\n",
       "      fun: -3.359729826752132\n",
       "        x: [-7.238e-01  7.296e-01 ... -5.392e-01 -1.362e+00]\n",
       "      nit: 167\n",
       "      jac: [ 1.013e-06  2.295e-06 ... -3.636e-06 -3.189e-06]\n",
       " hess_inv: [[ 4.279e+00 -4.772e+00 ... -6.773e+00  5.910e+00]\n",
       "            [-4.772e+00  9.178e+00 ...  1.302e+01 -8.965e+00]\n",
       "            ...\n",
       "            [-6.773e+00  1.302e+01 ...  3.003e+01 -1.407e+01]\n",
       "            [ 5.910e+00 -8.965e+00 ... -1.407e+01  1.185e+01]]\n",
       "     nfev: 3060\n",
       "     njev: 180"
      ]
     },
     "execution_count": 51,
     "metadata": {},
     "output_type": "execute_result"
    }
   ],
   "source": [
    "np.random.seed(42)  # Example seed\n",
    "nqubits = 4\n",
    "J = 1/np.sqrt(2)\n",
    "depth = 2\n",
    "error_rate = 1e-3\n",
    "parameter = np.array(np.random.random(2*nqubits*depth))\n",
    "#ansatz_hamiltonian(nqubits, depth, parameter).draw('mpl')\n",
    "result_intermediate1 = []\n",
    "def callback(intermediate_result):\n",
    "    result_intermediate1.append(intermediate_result.fun)\n",
    "estimate_val_hva = minimize(cost_function, parameter, args=(nqubits, depth, error_rate), method=\"BFGS\", tol=1e-5, options={'disp': False}, callback=callback)\n",
    "estimate_val_hva"
   ]
  },
  {
   "cell_type": "code",
   "execution_count": 43,
   "id": "27e3bb3a1c23a5ea",
   "metadata": {
    "ExecuteTime": {
     "end_time": "2024-12-30T08:24:05.720857Z",
     "start_time": "2024-12-30T08:23:37.350094Z"
    }
   },
   "outputs": [
    {
     "data": {
      "text/plain": [
       "[-1.1327336346553483,\n",
       " -2.573693251145439,\n",
       " -2.8268634973436604,\n",
       " -3.1862136373965844,\n",
       " -3.2858784353000847,\n",
       " -3.4041102239161303,\n",
       " -3.492750366533888,\n",
       " -3.5542639875867055,\n",
       " -3.5931666227636025,\n",
       " -3.6108328799941214,\n",
       " -3.6278525226539227,\n",
       " -3.634479225017325,\n",
       " -3.63877002341861,\n",
       " -3.6454104507345546,\n",
       " -3.65041175355045,\n",
       " -3.6530895817734876,\n",
       " -3.6538353642526946,\n",
       " -3.6540714007737414,\n",
       " -3.654196374589492,\n",
       " -3.654336282504428,\n",
       " -3.6543745248461215,\n",
       " -3.6543936359179003,\n",
       " -3.654398721412571,\n",
       " -3.654407107842274,\n",
       " -3.6544221910420602,\n",
       " -3.654450068229094,\n",
       " -3.654499772069532,\n",
       " -3.6545541809469215,\n",
       " -3.6546093246864477,\n",
       " -3.6546994170443257,\n",
       " -3.6547984622870437,\n",
       " -3.654814493600868,\n",
       " -3.6548427656683122,\n",
       " -3.654891689114158,\n",
       " -3.6549684788058565,\n",
       " -3.6550574205325432,\n",
       " -3.6550798614412185,\n",
       " -3.655118899653179,\n",
       " -3.6551794895569567,\n",
       " -3.655266340546341,\n",
       " -3.6553063796612233,\n",
       " -3.655364747612473,\n",
       " -3.655441063176196,\n",
       " -3.655552687011101,\n",
       " -3.6556170705094675,\n",
       " -3.6557173618011936,\n",
       " -3.655859896115016,\n",
       " -3.656019461646859,\n",
       " -3.656058545965919,\n",
       " -3.656123434051577,\n",
       " -3.6562224566166495,\n",
       " -3.656329802139947,\n",
       " -3.6564442012868033,\n",
       " -3.656609830154259,\n",
       " -3.656889658661954,\n",
       " -3.6572577972232256,\n",
       " -3.657339497110801,\n",
       " -3.6574257338727456,\n",
       " -3.6574966245588394,\n",
       " -3.6575925052957956,\n",
       " -3.65767454805735,\n",
       " -3.657704822448116,\n",
       " -3.6577535158804895,\n",
       " -3.6578107633089205,\n",
       " -3.657833205451314,\n",
       " -3.657861530893516,\n",
       " -3.6578866229909903,\n",
       " -3.6579226641624785,\n",
       " -3.657946355786086,\n",
       " -3.6579710167725197,\n",
       " -3.6580133349519093,\n",
       " -3.6580788781650986,\n",
       " -3.6581766637679496,\n",
       " -3.6582650879428384,\n",
       " -3.6583642093035516,\n",
       " -3.6584136501315676,\n",
       " -3.6584832369220965,\n",
       " -3.6585464674056922,\n",
       " -3.6586030655980766,\n",
       " -3.6586289545593944,\n",
       " -3.658664645159355,\n",
       " -3.6586834203760037,\n",
       " -3.6587038274699304,\n",
       " -3.658711835088348,\n",
       " -3.6587142346747763,\n",
       " -3.6587179263028453,\n",
       " -3.658722957200276,\n",
       " -3.658731411786158,\n",
       " -3.6587466310336016,\n",
       " -3.6587744163238916,\n",
       " -3.6588226570040034,\n",
       " -3.65887109598879,\n",
       " -3.6589514353968156,\n",
       " -3.6589954984554254,\n",
       " -3.659069262446855,\n",
       " -3.6591487726412386,\n",
       " -3.6591654737591175,\n",
       " -3.6591930960997168,\n",
       " -3.6592398159414516,\n",
       " -3.659316642498106,\n",
       " -3.659435134531076,\n",
       " -3.6595312768520607,\n",
       " -3.659578583707283,\n",
       " -3.659619926937153,\n",
       " -3.6596606141128034,\n",
       " -3.6596679428609376,\n",
       " -3.659673488908121,\n",
       " -3.6596788989963973,\n",
       " -3.659686469519463,\n",
       " -3.6596910434892598,\n",
       " -3.6596953423707874,\n",
       " -3.6597010040407234,\n",
       " -3.6597062053872738,\n",
       " -3.6597130706303505,\n",
       " -3.659723168939429,\n",
       " -3.6597398929310407,\n",
       " -3.659761830455514,\n",
       " -3.659767796068994,\n",
       " -3.6597763037507223,\n",
       " -3.6597811991068863,\n",
       " -3.6597834822455853,\n",
       " -3.6597860728839713,\n",
       " -3.6597899815093715,\n",
       " -3.659792807185523,\n",
       " -3.659794218498654,\n",
       " -3.6597946387174956,\n",
       " -3.659794922634499,\n",
       " -3.6597953930144858,\n",
       " -3.6597961273683977,\n",
       " -3.6597972726217822,\n",
       " -3.6597991813454303,\n",
       " -3.6598024169240757,\n",
       " -3.6598074229179893,\n",
       " -3.6598140472939407,\n",
       " -3.659819780621905,\n",
       " -3.6598213430233093,\n",
       " -3.65982181987596,\n",
       " -3.6598220643367454,\n",
       " -3.6598221150728576,\n",
       " -3.6598221479992654,\n",
       " -3.659822162144798,\n",
       " -3.6598221657346386,\n",
       " -3.6598221691314565,\n",
       " -3.6598221751205164,\n",
       " -3.6598221859723274,\n",
       " -3.6598222054444887,\n",
       " -3.659822239693933,\n",
       " -3.659822296979678,\n",
       " -3.659822383898746,\n",
       " -3.6598224902066647,\n",
       " -3.6598226486419825,\n",
       " -3.659822879231804,\n",
       " -3.6598232235685,\n",
       " -3.6598238069337827,\n",
       " -3.6598246991597394,\n",
       " -3.6598257769092273,\n",
       " -3.6598274458760462,\n",
       " -3.6598295122895608,\n",
       " -3.6598304602866953,\n",
       " -3.6598320187260227,\n",
       " -3.65983291851776,\n",
       " -3.6598342121176213,\n",
       " -3.659836141071479,\n",
       " -3.659837918668471,\n",
       " -3.659840095094404,\n",
       " -3.6598424487578622,\n",
       " -3.6598438183664883,\n",
       " -3.6598455318918877,\n",
       " -3.6598465412378056,\n",
       " -3.6598481589500476,\n",
       " -3.6598501719308354,\n",
       " -3.659850839920096,\n",
       " -3.6598520258731786,\n",
       " -3.6598527422568337,\n",
       " -3.659853293893785,\n",
       " -3.659853663115586,\n",
       " -3.6598540003681688,\n",
       " -3.6598544849248325,\n",
       " -3.6598551248369056,\n",
       " -3.6598556937699063,\n",
       " -3.6598560512321896,\n",
       " -3.6598561906850877,\n",
       " -3.659856372620061,\n",
       " -3.6598565566619534,\n",
       " -3.6598567074112114,\n",
       " -3.6598568752625082,\n",
       " -3.6598569430650407,\n",
       " -3.6598570459362345,\n",
       " -3.659857134124186,\n",
       " -3.6598572550450568,\n",
       " -3.6598573917069794,\n",
       " -3.659857527103774,\n",
       " -3.6598577039031595,\n",
       " -3.6598578307167613,\n",
       " -3.659857978475589,\n",
       " -3.659858141696739,\n",
       " -3.6598583780135487,\n",
       " -3.6598587202591366,\n",
       " -3.659858924059002,\n",
       " -3.659859156866423,\n",
       " -3.6598592660964115,\n",
       " -3.6598593272869504,\n",
       " -3.6598593752267625,\n",
       " -3.659859409647623,\n",
       " -3.659859430262747,\n",
       " -3.6598594576129435,\n",
       " -3.6598594938676388,\n",
       " -3.659859550952013,\n",
       " -3.659859622376422,\n",
       " -3.659859673485618,\n",
       " -3.6598597508271213,\n",
       " -3.659859826061421,\n",
       " -3.6598598965971862,\n",
       " -3.6598599590314413,\n",
       " -3.65985995989473,\n",
       " -3.6598599613732112,\n",
       " -3.6598599632170936]"
      ]
     },
     "execution_count": 43,
     "metadata": {},
     "output_type": "execute_result"
    }
   ],
   "source": [
    "np.random.seed(42)  # Example seed\n",
    "nqubits = 4\n",
    "J = 1/np.sqrt(2)\n",
    "depth = 2\n",
    "error_rate = 1e-4\n",
    "parameter = np.array(np.random.random(2*nqubits*depth))\n",
    "#ansatz_hamiltonian(nqubits, depth, parameter).draw('mpl')\n",
    "result_intermediate2 = []\n",
    "def callback(intermediate_result):\n",
    "    result_intermediate2.append(intermediate_result.fun)\n",
    "estimate_val_hva = minimize(cost_function, parameter, args=(nqubits, depth, error_rate), method=\"BFGS\", tol=1e-5, options={'disp': False}, callback=callback)\n",
    "result_intermediate2"
   ]
  },
  {
   "cell_type": "code",
   "execution_count": 52,
   "id": "f30f75e2b2c4cc7a",
   "metadata": {
    "ExecuteTime": {
     "end_time": "2025-01-11T12:48:11.694104Z",
     "start_time": "2025-01-11T12:48:01.139575Z"
    }
   },
   "outputs": [
    {
     "data": {
      "text/plain": [
       "[-0.29384615084282417,\n",
       " -0.7570092690545605,\n",
       " -0.9536697021568348,\n",
       " -1.0862885593052243,\n",
       " -1.1023758911424142,\n",
       " -1.110610754713142,\n",
       " -1.1264770808910556,\n",
       " -1.1540714006378234,\n",
       " -1.1708574199707147,\n",
       " -1.185536170640128,\n",
       " -1.2105597503955434,\n",
       " -1.239483358508678,\n",
       " -1.2620526812137451,\n",
       " -1.2992903963371212,\n",
       " -1.3384534479394279,\n",
       " -1.3635003834776391,\n",
       " -1.3831766433506165,\n",
       " -1.4030590134874836,\n",
       " -1.4145550155301723,\n",
       " -1.4204545082020026,\n",
       " -1.4223153426234205,\n",
       " -1.4231159410854248,\n",
       " -1.4233990384482456,\n",
       " -1.4236439192149175,\n",
       " -1.4238062338045077,\n",
       " -1.424002541972481,\n",
       " -1.4243336518700498,\n",
       " -1.4249177564914492,\n",
       " -1.4258760539713922,\n",
       " -1.4263437728720176,\n",
       " -1.4269421042114399,\n",
       " -1.4274245874655145,\n",
       " -1.4279272025156753,\n",
       " -1.4282641911489047,\n",
       " -1.4284956493542071,\n",
       " -1.4286163274686339,\n",
       " -1.428821760510303,\n",
       " -1.429162656989834,\n",
       " -1.4297112234171863,\n",
       " -1.4305619388221693,\n",
       " -1.4317403396699246,\n",
       " -1.4328671442736973,\n",
       " -1.4338837770413755,\n",
       " -1.4345374174729906,\n",
       " -1.4351232137112722,\n",
       " -1.4353959372269691,\n",
       " -1.435784002743712,\n",
       " -1.4360699347362456,\n",
       " -1.4362150505328257,\n",
       " -1.4362808552541524,\n",
       " -1.4363125531915695,\n",
       " -1.4363319934652299,\n",
       " -1.4363384913037813,\n",
       " -1.436342751468878,\n",
       " -1.4363496212766367,\n",
       " -1.4363604735918538,\n",
       " -1.436374367961676,\n",
       " -1.4363824296786833,\n",
       " -1.436387865289438,\n",
       " -1.4363913244145288,\n",
       " -1.4363947753903223,\n",
       " -1.43639655014667,\n",
       " -1.4363970705244813,\n",
       " -1.4363972641338845,\n",
       " -1.4363975692543043,\n",
       " -1.4363980580574545,\n",
       " -1.4363987543159251,\n",
       " -1.43639915901265,\n",
       " -1.4363992655952416,\n",
       " -1.4363992801878502,\n",
       " -1.4363992874232827,\n",
       " -1.4363992998134079,\n",
       " -1.4363993199724592,\n",
       " -1.4363993437657396,\n",
       " -1.4363993503167862,\n",
       " -1.436399352261719]"
      ]
     },
     "execution_count": 52,
     "metadata": {},
     "output_type": "execute_result"
    }
   ],
   "source": [
    "np.random.seed(42)  # Example seed\n",
    "nqubits = 4\n",
    "J = 1/np.sqrt(2)\n",
    "depth = 2\n",
    "error_rate = 1e-2\n",
    "parameter = np.array(np.random.random(2*nqubits*depth))\n",
    "#ansatz_hamiltonian(nqubits, depth, parameter).draw('mpl')\n",
    "result_intermediate3 = []\n",
    "def callback(intermediate_result):\n",
    "    result_intermediate3.append(intermediate_result.fun)\n",
    "estimate_val_hva = minimize(cost_function, parameter, args=(nqubits, depth, error_rate), method=\"BFGS\", tol=1e-5, options={'disp': False}, callback=callback)\n",
    "result_intermediate3"
   ]
  },
  {
   "cell_type": "code",
   "execution_count": 53,
   "id": "11702337c86b7ca8",
   "metadata": {
    "ExecuteTime": {
     "end_time": "2025-01-11T12:48:27.571867Z",
     "start_time": "2025-01-11T12:48:27.566865Z"
    }
   },
   "outputs": [
    {
     "data": {
      "text/plain": [
       "  message: Optimization terminated successfully.\n",
       "  success: True\n",
       "   status: 0\n",
       "      fun: -1.436399352261719\n",
       "        x: [ 3.190e-01  2.780e+00 ...  6.254e-01  1.144e+00]\n",
       "      nit: 76\n",
       "      jac: [-8.643e-07 -4.470e-07 ... -5.662e-07 -1.252e-06]\n",
       " hess_inv: [[ 4.115e+00 -1.597e+00 ...  1.320e+00  3.050e+00]\n",
       "            [-1.597e+00  3.744e+00 ...  2.215e+00 -1.958e+00]\n",
       "            ...\n",
       "            [ 1.320e+00  2.215e+00 ...  1.849e+01 -6.583e+00]\n",
       "            [ 3.050e+00 -1.958e+00 ... -6.583e+00  1.663e+01]]\n",
       "     nfev: 1343\n",
       "     njev: 79"
      ]
     },
     "execution_count": 53,
     "metadata": {},
     "output_type": "execute_result"
    }
   ],
   "source": [
    "estimate_val_hva"
   ]
  },
  {
   "cell_type": "code",
   "execution_count": 44,
   "id": "b2e06bac312b853e",
   "metadata": {
    "ExecuteTime": {
     "end_time": "2024-12-30T08:24:41.848813Z",
     "start_time": "2024-12-30T08:24:41.843853Z"
    }
   },
   "outputs": [
    {
     "data": {
      "text/plain": [
       "217"
      ]
     },
     "execution_count": 44,
     "metadata": {},
     "output_type": "execute_result"
    }
   ],
   "source": [
    "len(result_intermediate2)"
   ]
  },
  {
   "cell_type": "code",
   "execution_count": 46,
   "id": "69393a918164eab1",
   "metadata": {
    "ExecuteTime": {
     "end_time": "2025-01-01T06:51:13.682570Z",
     "start_time": "2025-01-01T06:51:13.605290Z"
    }
   },
   "outputs": [
    {
     "data": {
      "text/plain": [
       "np.float64(-3.6955181300451487)"
      ]
     },
     "execution_count": 46,
     "metadata": {},
     "output_type": "execute_result"
    }
   ],
   "source": [
    "hamiltonian = get_hamiltonian(4)\n",
    "H_array = hamiltonian.to_matrix()\n",
    "eval, _ = np.linalg.eigh(H_array)\n",
    "# print(eval)\n",
    "emin = eval[0]\n",
    "emin"
   ]
  },
  {
   "cell_type": "code",
   "execution_count": 79,
   "id": "a5968ac2b14d925e",
   "metadata": {
    "ExecuteTime": {
     "end_time": "2025-01-07T08:01:45.663042Z",
     "start_time": "2025-01-07T08:01:45.558163Z"
    }
   },
   "outputs": [
    {
     "data": {
      "image/png": "[encoded data removed]",
      "text/plain": [
       "<Figure size 640x480 with 1 Axes>"
      ]
     },
     "metadata": {},
     "output_type": "display_data"
    }
   ],
   "source": [
    "x = np.linspace(0, 250)  # 11个点\n",
    "y = result_intermediate  # 只有6个点\n",
    "y1 = result_intermediate1\n",
    "y2 = result_intermediate2\n",
    "y3 = result_intermediate3\n",
    "horizontal_line_value = emin\n",
    "# 创建figure和axes对象\n",
    "fig, ax = plt.subplots()\n",
    "# 使用axes对象绘制数据，不指定x值，默认使用索引\n",
    "ax.plot(y, label='0 error_rate', marker=\"x\", c=\"darkmagenta\", ls=\"-\")\n",
    "ax.plot(y1, label='1e-3 error_rate', marker='o', linestyle='-')\n",
    "ax.plot(y2, label='1e-4 error_rate', marker=\"v\", c=\"r\", ls=\"-\")\n",
    "ax.plot(y3, label='1e-2 error_rate', marker=\"v\", c=\"g\", ls=\"-\")\n",
    "ax.axhline(y=horizontal_line_value, color='r', linestyle='--', label='minimum eigenvalue')\n",
    "legend = fig.legend(\n",
    "            *ax.get_legend_handles_labels(),\n",
    "            bbox_to_anchor=(1.0, 0.5),\n",
    "            loc=\"center left\",\n",
    "            framealpha=0.5,\n",
    "        )\n",
    "# 设置x轴刻度为索引值\n",
    "ax.set_xlim(0, 30)\n",
    "ax.set_xticks(np.arange(0, 30, 5))\n",
    "# 添加标题和标签\n",
    "ax.set_title('pure VQE')\n",
    "ax.set_xlabel('Steps')\n",
    "ax.set_ylabel('Expectation')\n",
    "# 显示网格\n",
    "ax.grid(False)\n",
    "# 展示图形\n",
    "plt.show()"
   ]
  },
  {
   "cell_type": "code",
   "execution_count": 51,
   "id": "fb9565c972c7f906",
   "metadata": {
    "ExecuteTime": {
     "end_time": "2025-01-01T07:01:15.698032Z",
     "start_time": "2025-01-01T07:01:15.693031Z"
    }
   },
   "outputs": [
    {
     "data": {
      "text/plain": [
       "np.float64(9.086366010844452)"
      ]
     },
     "execution_count": 51,
     "metadata": {},
     "output_type": "execute_result"
    }
   ],
   "source": [
    "abs(emin-result_intermediate1[-1])/abs(emin)*100"
   ]
  },
  {
   "cell_type": "code",
   "execution_count": null,
   "id": "7e49e39f9263f2e9",
   "metadata": {},
   "outputs": [],
   "source": []
  },
  {
   "cell_type": "markdown",
   "id": "1b02529b7fc4b159",
   "metadata": {},
   "source": [
    "## test"
   ]
  },
  {
   "cell_type": "code",
   "execution_count": 52,
   "id": "e77159663ad5fd2e",
   "metadata": {
    "ExecuteTime": {
     "end_time": "2025-01-03T08:07:00.812787Z",
     "start_time": "2025-01-03T08:06:32.033665Z"
    }
   },
   "outputs": [
    {
     "data": {
      "text/plain": [
       "[-1.1327336346553483,\n",
       " -2.573693251145439,\n",
       " -2.8268634973436604,\n",
       " -3.1862136373965844,\n",
       " -3.2858784353000847,\n",
       " -3.4041102239161303,\n",
       " -3.492750366533888,\n",
       " -3.5542639875867055,\n",
       " -3.5931666227636025,\n",
       " -3.6108328799941214,\n",
       " -3.6278525226539227,\n",
       " -3.634479225017325,\n",
       " -3.63877002341861,\n",
       " -3.6454104507345546,\n",
       " -3.65041175355045,\n",
       " -3.6530895817734876,\n",
       " -3.6538353642526946,\n",
       " -3.6540714007737414,\n",
       " -3.654196374589492,\n",
       " -3.654336282504428,\n",
       " -3.6543745248461215,\n",
       " -3.6543936359179003,\n",
       " -3.654398721412571,\n",
       " -3.654407107842274,\n",
       " -3.6544221910420602,\n",
       " -3.654450068229094,\n",
       " -3.654499772069532,\n",
       " -3.6545541809469215,\n",
       " -3.6546093246864477,\n",
       " -3.6546994170443257,\n",
       " -3.6547984622870437,\n",
       " -3.654814493600868,\n",
       " -3.6548427656683122,\n",
       " -3.654891689114158,\n",
       " -3.6549684788058565,\n",
       " -3.6550574205325432,\n",
       " -3.6550798614412185,\n",
       " -3.655118899653179,\n",
       " -3.6551794895569567,\n",
       " -3.655266340546341,\n",
       " -3.6553063796612233,\n",
       " -3.655364747612473,\n",
       " -3.655441063176196,\n",
       " -3.655552687011101,\n",
       " -3.6556170705094675,\n",
       " -3.6557173618011936,\n",
       " -3.655859896115016,\n",
       " -3.656019461646859,\n",
       " -3.656058545965919,\n",
       " -3.656123434051577,\n",
       " -3.6562224566166495,\n",
       " -3.656329802139947,\n",
       " -3.6564442012868033,\n",
       " -3.656609830154259,\n",
       " -3.656889658661954,\n",
       " -3.6572577972232256,\n",
       " -3.657339497110801,\n",
       " -3.6574257338727456,\n",
       " -3.6574966245588394,\n",
       " -3.6575925052957956,\n",
       " -3.65767454805735,\n",
       " -3.657704822448116,\n",
       " -3.6577535158804895,\n",
       " -3.6578107633089205,\n",
       " -3.657833205451314,\n",
       " -3.657861530893516,\n",
       " -3.6578866229909903,\n",
       " -3.6579226641624785,\n",
       " -3.657946355786086,\n",
       " -3.6579710167725197,\n",
       " -3.6580133349519093,\n",
       " -3.6580788781650986,\n",
       " -3.6581766637679496,\n",
       " -3.6582650879428384,\n",
       " -3.6583642093035516,\n",
       " -3.6584136501315676,\n",
       " -3.6584832369220965,\n",
       " -3.6585464674056922,\n",
       " -3.6586030655980766,\n",
       " -3.6586289545593944,\n",
       " -3.658664645159355,\n",
       " -3.6586834203760037,\n",
       " -3.6587038274699304,\n",
       " -3.658711835088348,\n",
       " -3.6587142346747763,\n",
       " -3.6587179263028453,\n",
       " -3.658722957200276,\n",
       " -3.658731411786158,\n",
       " -3.6587466310336016,\n",
       " -3.6587744163238916,\n",
       " -3.6588226570040034,\n",
       " -3.65887109598879,\n",
       " -3.6589514353968156,\n",
       " -3.6589954984554254,\n",
       " -3.659069262446855,\n",
       " -3.6591487726412386,\n",
       " -3.6591654737591175,\n",
       " -3.6591930960997168,\n",
       " -3.6592398159414516,\n",
       " -3.659316642498106,\n",
       " -3.659435134531076,\n",
       " -3.6595312768520607,\n",
       " -3.659578583707283,\n",
       " -3.659619926937153,\n",
       " -3.6596606141128034,\n",
       " -3.6596679428609376,\n",
       " -3.659673488908121,\n",
       " -3.6596788989963973,\n",
       " -3.659686469519463,\n",
       " -3.6596910434892598,\n",
       " -3.6596953423707874,\n",
       " -3.6597010040407234,\n",
       " -3.6597062053872738,\n",
       " -3.6597130706303505,\n",
       " -3.659723168939429,\n",
       " -3.6597398929310407,\n",
       " -3.659761830455514,\n",
       " -3.659767796068994,\n",
       " -3.6597763037507223,\n",
       " -3.6597811991068863,\n",
       " -3.6597834822455853,\n",
       " -3.6597860728839713,\n",
       " -3.6597899815093715,\n",
       " -3.659792807185523,\n",
       " -3.659794218498654,\n",
       " -3.6597946387174956,\n",
       " -3.659794922634499,\n",
       " -3.6597953930144858,\n",
       " -3.6597961273683977,\n",
       " -3.6597972726217822,\n",
       " -3.6597991813454303,\n",
       " -3.6598024169240757,\n",
       " -3.6598074229179893,\n",
       " -3.6598140472939407,\n",
       " -3.659819780621905,\n",
       " -3.6598213430233093,\n",
       " -3.65982181987596,\n",
       " -3.6598220643367454,\n",
       " -3.6598221150728576,\n",
       " -3.6598221479992654,\n",
       " -3.659822162144798,\n",
       " -3.6598221657346386,\n",
       " -3.6598221691314565,\n",
       " -3.6598221751205164,\n",
       " -3.6598221859723274,\n",
       " -3.6598222054444887,\n",
       " -3.659822239693933,\n",
       " -3.659822296979678,\n",
       " -3.659822383898746,\n",
       " -3.6598224902066647,\n",
       " -3.6598226486419825,\n",
       " -3.659822879231804,\n",
       " -3.6598232235685,\n",
       " -3.6598238069337827,\n",
       " -3.6598246991597394,\n",
       " -3.6598257769092273,\n",
       " -3.6598274458760462,\n",
       " -3.6598295122895608,\n",
       " -3.6598304602866953,\n",
       " -3.6598320187260227,\n",
       " -3.65983291851776,\n",
       " -3.6598342121176213,\n",
       " -3.659836141071479,\n",
       " -3.659837918668471,\n",
       " -3.659840095094404,\n",
       " -3.6598424487578622,\n",
       " -3.6598438183664883,\n",
       " -3.6598455318918877,\n",
       " -3.6598465412378056,\n",
       " -3.6598481589500476,\n",
       " -3.6598501719308354,\n",
       " -3.659850839920096,\n",
       " -3.6598520258731786,\n",
       " -3.6598527422568337,\n",
       " -3.659853293893785,\n",
       " -3.659853663115586,\n",
       " -3.6598540003681688,\n",
       " -3.6598544849248325,\n",
       " -3.6598551248369056,\n",
       " -3.6598556937699063,\n",
       " -3.6598560512321896,\n",
       " -3.6598561906850877,\n",
       " -3.659856372620061,\n",
       " -3.6598565566619534,\n",
       " -3.6598567074112114,\n",
       " -3.6598568752625082,\n",
       " -3.6598569430650407,\n",
       " -3.6598570459362345,\n",
       " -3.659857134124186,\n",
       " -3.6598572550450568,\n",
       " -3.6598573917069794,\n",
       " -3.659857527103774,\n",
       " -3.6598577039031595,\n",
       " -3.6598578307167613,\n",
       " -3.659857978475589,\n",
       " -3.659858141696739,\n",
       " -3.6598583780135487,\n",
       " -3.6598587202591366,\n",
       " -3.659858924059002,\n",
       " -3.659859156866423,\n",
       " -3.6598592660964115,\n",
       " -3.6598593272869504,\n",
       " -3.6598593752267625,\n",
       " -3.659859409647623,\n",
       " -3.659859430262747,\n",
       " -3.6598594576129435,\n",
       " -3.6598594938676388,\n",
       " -3.659859550952013,\n",
       " -3.659859622376422,\n",
       " -3.659859673485618,\n",
       " -3.6598597508271213,\n",
       " -3.659859826061421,\n",
       " -3.6598598965971862,\n",
       " -3.6598599590314413,\n",
       " -3.65985995989473,\n",
       " -3.6598599613732112,\n",
       " -3.6598599632170936]"
      ]
     },
     "execution_count": 52,
     "metadata": {},
     "output_type": "execute_result"
    }
   ],
   "source": [
    "def cost_function1(params, nqubits, depth, error_rate):\n",
    "    hamiltonian =  get_hamiltonian(nqubits)\n",
    "    circuit =  ansatz_hamiltonian(nqubits, depth,params)\n",
    "    circuit = circuit.decompose()\n",
    "    noise_model = NoiseModel()\n",
    "    error = depolarizing_error(error_rate, 1)\n",
    "    noise_model.add_all_qubit_quantum_error(error, ['u1', 'u2', 'u3'])\n",
    "    error1 = depolarizing_error(error_rate*10, 2)\n",
    "    noise_model.add_all_qubit_quantum_error(error1,'cx')\n",
    "    #circuit.save_statevector()\n",
    "    if error_rate == 0:\n",
    "        estimator = EstimatorV2()\n",
    "        #print('error rate is 0')\n",
    "    else:\n",
    "        #print('error rate is ' + str(error_rate))\n",
    "        estimator = EstimatorV2(options=dict(backend_options=dict(noise_model=noise_model)))\n",
    "        #circuit = transpile(circuit, sim_d)\n",
    "        #noise_result = sim_d.run(circ_noise, shots=1).result()\n",
    "    result =estimator.run([(circuit, hamiltonian)]).result()\n",
    "    expectation=result[0].data.evs\n",
    "    return expectation.real\n",
    "np.random.seed(42)  # Example seed\n",
    "nqubits = 4\n",
    "J = 1/np.sqrt(2)\n",
    "depth = 2\n",
    "error_rate = 1e-4\n",
    "parameter = np.array(np.random.random(2*nqubits*depth))\n",
    "#ansatz_hamiltonian(nqubits, depth, parameter).draw('mpl')\n",
    "result_intermediate2temp = []\n",
    "def callback(intermediate_result):\n",
    "    result_intermediate2temp.append(intermediate_result.fun)\n",
    "estimate_val_hva = minimize(cost_function1, parameter, args=(nqubits, depth, error_rate), method=\"BFGS\", tol=1e-5, options={'disp': False}, callback=callback)\n",
    "result_intermediate2temp"
   ]
  },
  {
   "cell_type": "code",
   "execution_count": null,
   "id": "eb94f1c10e84c988",
   "metadata": {},
   "outputs": [],
   "source": []
  },
  {
   "cell_type": "markdown",
   "id": "407072a6e76c175a",
   "metadata": {},
   "source": [
    "## qiskit_aer with EstimatorV2"
   ]
  },
  {
   "cell_type": "code",
   "execution_count": 61,
   "id": "aa1b884a43c46d24",
   "metadata": {
    "ExecuteTime": {
     "end_time": "2025-01-11T12:58:48.161298Z",
     "start_time": "2025-01-11T12:58:48.105328Z"
    }
   },
   "outputs": [
    {
     "data": {
      "text/plain": [
       "{'0000': 321,\n",
       " '1000': 292,\n",
       " '1010': 187,\n",
       " '0101': 50,\n",
       " '0100': 91,\n",
       " '1110': 24,\n",
       " '0110': 17,\n",
       " '0111': 12,\n",
       " '1111': 18,\n",
       " '0001': 8,\n",
       " '0010': 1,\n",
       " '1001': 2,\n",
       " '1011': 1}"
      ]
     },
     "execution_count": 61,
     "metadata": {},
     "output_type": "execute_result"
    }
   ],
   "source": [
    "np.random.seed(42)  # Example seed\n",
    "nqubits = 4\n",
    "J = 1/np.sqrt(2)\n",
    "depth = 2\n",
    "error_rate = 1e-4\n",
    "params = np.array(np.random.random(2*nqubits*depth))\n",
    "hamiltonian =  get_hamiltonian(nqubits)\n",
    "circuit =  ansatz_hea(nqubits, depth, params)\n",
    "circuit = circuit.decompose()\n",
    "noise_model = NoiseModel()\n",
    "error = depolarizing_error(error_rate, 1)\n",
    "noise_model.add_all_qubit_quantum_error(error, ['u1', 'u2', 'u3'])\n",
    "error1 = depolarizing_error(error_rate*10, 2)\n",
    "noise_model.add_all_qubit_quantum_error(error1,['cx'])\n",
    "sim_d = AerSimulator(noise_model=noise_model)\n",
    "circuit.save_statevector()\n",
    "circuit.measure_all()\n",
    "sampler = SamplerV2(options=dict(backend_options=dict(noise_model=noise_model)))\n",
    "result = sampler.run([circuit]).result()\n",
    "result[0].data.meas.get_counts()"
   ]
  },
  {
   "cell_type": "code",
   "execution_count": 92,
   "id": "7b882f5babc47e9b",
   "metadata": {
    "ExecuteTime": {
     "end_time": "2025-01-11T13:00:51.244666Z",
     "start_time": "2025-01-11T13:00:51.227668Z"
    }
   },
   "outputs": [
    {
     "data": {
      "text/plain": [
       "{'1000': 250,\n",
       " '0000': 386,\n",
       " '0101': 35,\n",
       " '1010': 194,\n",
       " '0100': 98,\n",
       " '1110': 24,\n",
       " '0110': 14,\n",
       " '1001': 1,\n",
       " '1111': 8,\n",
       " '0001': 4,\n",
       " '0111': 4,\n",
       " '0010': 4,\n",
       " '1100': 1,\n",
       " '1011': 1}"
      ]
     },
     "execution_count": 92,
     "metadata": {},
     "output_type": "execute_result"
    }
   ],
   "source": [
    "np.random.seed(42)  # Example seed\n",
    "nqubits = 4\n",
    "J = 1/np.sqrt(2)\n",
    "depth = 2\n",
    "error_rate = 0\n",
    "params = np.array(np.random.random(2*nqubits*depth))\n",
    "hamiltonian =  get_hamiltonian(nqubits)\n",
    "circuit =  ansatz_hea(nqubits, depth, params)\n",
    "circuit = circuit.decompose()\n",
    "noise_model = NoiseModel()\n",
    "error = depolarizing_error(error_rate, 1)\n",
    "noise_model.add_all_qubit_quantum_error(error, ['u1', 'u2', 'u3'])\n",
    "error1 = depolarizing_error(error_rate*10, 2)\n",
    "noise_model.add_all_qubit_quantum_error(error1,['cx'])\n",
    "sim_d = AerSimulator(noise_model=noise_model)\n",
    "circuit.save_statevector()\n",
    "circuit.measure_all()\n",
    "sampler = SamplerV2(options=dict(backend_options=dict(noise_model=noise_model)))\n",
    "result = sampler.run([circuit]).result()\n",
    "result[0].data.meas.get_counts()"
   ]
  },
  {
   "cell_type": "code",
   "execution_count": null,
   "id": "432decd3e4585932",
   "metadata": {},
   "outputs": [],
   "source": [
    "a"
   ]
  }
 ],
 "metadata": {
  "kernelspec": {
   "display_name": "vqe_U",
   "language": "python",
   "name": "vqe_u"
  },
  "language_info": {
   "codemirror_mode": {
    "name": "ipython",
    "version": 3
   },
   "file_extension": ".py",
   "mimetype": "text/x-python",
   "name": "python",
   "nbconvert_exporter": "python",
   "pygments_lexer": "ipython3",
   "version": "3.12.1"
  }
 },
 "nbformat": 4,
 "nbformat_minor": 5
}
