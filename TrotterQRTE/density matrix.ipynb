{
 "cells": [
  {
   "cell_type": "code",
   "id": "initial_id",
   "metadata": {
    "collapsed": true,
    "ExecuteTime": {
     "end_time": "2025-01-03T09:05:38.096131Z",
     "start_time": "2025-01-03T09:05:37.910196Z"
    }
   },
   "source": "import numpy as np",
   "outputs": [],
   "execution_count": 1
  },
  {
   "metadata": {
    "ExecuteTime": {
     "end_time": "2025-01-03T09:06:34.606607Z",
     "start_time": "2025-01-03T09:06:34.597744Z"
    }
   },
   "cell_type": "code",
   "source": [
    "tem_state_000 = np.array([[1],\n",
    "                       [0],\n",
    "                       [0],\n",
    "                       [0],\n",
    "                         [0],\n",
    "                         [0],\n",
    "                         [0],\n",
    "                         [0]])\n",
    "tem_state_111 = np.array([[0],\n",
    "                       [0],\n",
    "                       [0],\n",
    "                          [0],\n",
    "                          [0],\n",
    "                          [0],\n",
    "                          [0],\n",
    "                       [1]])\n",
    "temp_rho = 1/2*np.outer(tem_state_000,tem_state_000)+1/2*np.outer(tem_state_111,tem_state_111)\n",
    "np.trace(temp_rho)"
   ],
   "id": "60d6040b0f8fa3cf",
   "outputs": [
    {
     "data": {
      "text/plain": [
       "1.0"
      ]
     },
     "execution_count": 2,
     "metadata": {},
     "output_type": "execute_result"
    }
   ],
   "execution_count": 2
  },
  {
   "metadata": {
    "ExecuteTime": {
     "end_time": "2025-01-03T09:07:10.362742Z",
     "start_time": "2025-01-03T09:07:10.357363Z"
    }
   },
   "cell_type": "code",
   "source": "temp_rho.shape",
   "id": "29806c74b3aaa55",
   "outputs": [
    {
     "data": {
      "text/plain": [
       "(8, 8)"
      ]
     },
     "execution_count": 3,
     "metadata": {},
     "output_type": "execute_result"
    }
   ],
   "execution_count": 3
  },
  {
   "metadata": {
    "ExecuteTime": {
     "end_time": "2025-01-03T09:07:21.283747Z",
     "start_time": "2025-01-03T09:07:21.277582Z"
    }
   },
   "cell_type": "code",
   "source": [
    "n1, n2, n=4, 2, 8\n",
    "rho_tensor=temp_rho.reshape([n1, n2, n1, n2])\n",
    "rho_a = np.trace(rho_tensor, axis1=1, axis2=3) #rho_a\n",
    "rho_a"
   ],
   "id": "4fec46e12c2c02b2",
   "outputs": [
    {
     "data": {
      "text/plain": [
       "array([[0.5, 0. , 0. , 0. ],\n",
       "       [0. , 0. , 0. , 0. ],\n",
       "       [0. , 0. , 0. , 0. ],\n",
       "       [0. , 0. , 0. , 0.5]])"
      ]
     },
     "execution_count": 4,
     "metadata": {},
     "output_type": "execute_result"
    }
   ],
   "execution_count": 4
  },
  {
   "metadata": {
    "ExecuteTime": {
     "end_time": "2025-01-03T09:07:30.597840Z",
     "start_time": "2025-01-03T09:07:30.592840Z"
    }
   },
   "cell_type": "code",
   "source": "rho_a.shape",
   "id": "9383490e24d52832",
   "outputs": [
    {
     "data": {
      "text/plain": [
       "(4, 4)"
      ]
     },
     "execution_count": 5,
     "metadata": {},
     "output_type": "execute_result"
    }
   ],
   "execution_count": 5
  },
  {
   "metadata": {
    "ExecuteTime": {
     "end_time": "2025-01-03T09:09:08.926807Z",
     "start_time": "2025-01-03T09:09:08.871571Z"
    }
   },
   "cell_type": "code",
   "source": "np.trace(rho_a.dot(rho_a))",
   "id": "1b27fa314f5085b3",
   "outputs": [
    {
     "data": {
      "text/plain": [
       "0.5"
      ]
     },
     "execution_count": 6,
     "metadata": {},
     "output_type": "execute_result"
    }
   ],
   "execution_count": 6
  },
  {
   "metadata": {},
   "cell_type": "code",
   "outputs": [],
   "execution_count": null,
   "source": "",
   "id": "8c60228f4feabfa1"
  }
 ],
 "metadata": {
  "kernelspec": {
   "display_name": "Python 3",
   "language": "python",
   "name": "python3"
  },
  "language_info": {
   "codemirror_mode": {
    "name": "ipython",
    "version": 2
   },
   "file_extension": ".py",
   "mimetype": "text/x-python",
   "name": "python",
   "nbconvert_exporter": "python",
   "pygments_lexer": "ipython2",
   "version": "2.7.6"
  }
 },
 "nbformat": 4,
 "nbformat_minor": 5
}
